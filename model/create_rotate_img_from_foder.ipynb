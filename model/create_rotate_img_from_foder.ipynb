{
 "cells": [
  {
   "cell_type": "code",
   "execution_count": null,
   "metadata": {},
   "outputs": [],
   "source": [
    "import PIL, os\n",
    "from PIL import Image\n",
    "import random \n",
    "\n",
    "\n",
    "img_path_rotate = img_path[:5] \n",
    "# It is your img_path list  \n",
    "\n",
    "image_label_array = train_label_array[:5] \n",
    "# It is label of above img_path\n",
    "\n",
    "nums = 40 \n",
    "# It should small than imgs*degree range  \n",
    "# ex:get 3 img and degree_range is [-5,5] ,should small than 3*(5-(-5)) = 30 \n",
    "\n",
    "save_rotate_img_dir = '/root/notebooks/0858611-2/tooth_xray/model/700_700/image_generate'\n",
    "#save_img_path\n",
    "save_csv_path = '/root/notebooks/0858611-2/tooth_xray/model/700_700/image_generate/output.csv'\n",
    "#save_csv_path it contain rotate_img_path & label\n",
    "ratate_range = [-10,10] \n",
    "# means -10 drgree to 10 degree\n",
    "\n",
    "def rotate_save_img(origin_img,label,save_dir,save_csv_path,degree,count):\n",
    "    img = Image.open(origin_img)\n",
    "    result_name = origin_img.split('/')[-1][:-4]\n",
    "    rotate_image_name = save_dir+'/'+result_name+'_'+'rotate'+'_'+str(degree)+ '.png'\n",
    "    if os.path.exists(rotate_image_name) == True:\n",
    "        return count\n",
    "    else:\n",
    "        img.rotate(degree).save(rotate_image_name)\n",
    "        with open(save_csv_path, 'a') as csvfile:\n",
    "            writer = csv.writer(csvfile)\n",
    "            writer.writerow([rotate_image_name,label])\n",
    "        count += 1\n",
    "        return count\n",
    "\n",
    "def create_ratate_images(image_path_list,image_label_array,nums,save_dir,save_csv_path,ratate_range=[0,1]):\n",
    "    if len(image_path_list)*(ratate_range[1]-ratate_range[0]) < nums:\n",
    "        print('You have too few image with all rotate degree')\n",
    "        return\n",
    "    ratate_img_path_list = []\n",
    "    rotate_image_label_array =[]\n",
    "    count = 0\n",
    "    while count < nums:\n",
    "        for origin_img,label in zip(image_path_list,image_label_array):\n",
    "            if count < nums:\n",
    "                degree = random.randrange(ratate_range[0],ratate_range[1])\n",
    "                count = rotate_save_img(origin_img,label,save_dir,save_csv_path,degree,count)\n",
    "            else:\n",
    "                return ratate_img_path_list,rotate_image_label_array\n",
    "    return ratate_img_path_list,rotate_image_label_array\n",
    "\n",
    "if os.path.exists(save_csv_path) == True:\n",
    "    print('csv is exist')\n",
    "else:\n",
    "    with open(save_csv_path, 'a') as csvfile:\n",
    "        writer = csv.writer(csvfile)\n",
    "        writer.writerow(['Image_path','label'])\n",
    "        \n",
    "create_ratate_images(img_path_ratate,image_label_array,nums,save_rotate_img_dir,save_csv_path,[0,10])"
   ]
  },
  {
   "cell_type": "code",
   "execution_count": null,
   "metadata": {},
   "outputs": [],
   "source": []
  }
 ],
 "metadata": {
  "kernelspec": {
   "display_name": "Python 3",
   "language": "python",
   "name": "python3"
  },
  "language_info": {
   "codemirror_mode": {
    "name": "ipython",
    "version": 3
   },
   "file_extension": ".py",
   "mimetype": "text/x-python",
   "name": "python",
   "nbconvert_exporter": "python",
   "pygments_lexer": "ipython3",
   "version": "3.6.7"
  },
  "widgets": {
   "application/vnd.jupyter.widget-state+json": {
    "state": {},
    "version_major": 2,
    "version_minor": 0
   }
  }
 },
 "nbformat": 4,
 "nbformat_minor": 4
}
