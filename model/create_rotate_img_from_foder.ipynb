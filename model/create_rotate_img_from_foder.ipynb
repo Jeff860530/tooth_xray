{
 "cells": [
  {
   "cell_type": "code",
   "execution_count": 1,
   "metadata": {},
   "outputs": [],
   "source": [
    "import json \n",
    "json_dir = '/root/notebooks/0858611-2/tooth_xray/model/700_700/mapping.json'\n",
    "with open(json_dir) as json_file:\n",
    "    json_data = json.load(json_file)"
   ]
  },
  {
   "cell_type": "code",
   "execution_count": 2,
   "metadata": {},
   "outputs": [],
   "source": [
    "def get_level(mean):\n",
    "    if mean>=0 and mean<=2:\n",
    "        return 'normal'\n",
    "    elif mean>=3 and mean<=4:\n",
    "        return 'medium'\n",
    "    elif mean>4:\n",
    "        return 'serious'\n",
    "    else:\n",
    "        return 'over_range'"
   ]
  },
  {
   "cell_type": "code",
   "execution_count": 3,
   "metadata": {},
   "outputs": [],
   "source": [
    "from statistics import mean\n",
    "import pandas as pd\n",
    "img_path = []\n",
    "img_cal = []\n",
    "img_cal_mean = []\n",
    "img_cal_level = []\n",
    "\n",
    "for key in json_data:\n",
    "    try:\n",
    "        new_path = key.replace(\"Dataset/Images\", \"/root/notebooks/0858611-2/tooth_xray/model/700_700/Images\")\n",
    "        max_cal = int(max(json_data[key]))\n",
    "        img_cal_level.append(get_level(max_cal))\n",
    "        img_cal_mean.append(str(max_cal))\n",
    "        img_path.append(new_path)\n",
    "        img_cal.append(json_data[key])\n",
    "    except:\n",
    "        #print(key,json_data[key])\n",
    "        pass"
   ]
  },
  {
   "cell_type": "code",
   "execution_count": 4,
   "metadata": {},
   "outputs": [
    {
     "name": "stdout",
     "output_type": "stream",
     "text": [
      "1493\n",
      "1493\n",
      "1493\n",
      "1493\n",
      "802\n",
      "456\n",
      "223\n"
     ]
    }
   ],
   "source": [
    "print(len(img_path))\n",
    "print(len(img_cal))\n",
    "print(len(img_cal_mean))\n",
    "print(len(img_cal_level))\n",
    "print(img_cal_level.count('normal'))\n",
    "print(img_cal_level.count('medium'))\n",
    "print(img_cal_level.count('serious'))"
   ]
  },
  {
   "cell_type": "code",
   "execution_count": 5,
   "metadata": {},
   "outputs": [
    {
     "name": "stdout",
     "output_type": "stream",
     "text": [
      "                                          image_path img_cal img_cal_mean  \\\n",
      "0  /root/notebooks/0858611-2/tooth_xray/model/700...  [5, 3]            5   \n",
      "1  /root/notebooks/0858611-2/tooth_xray/model/700...  [3, 4]            4   \n",
      "2  /root/notebooks/0858611-2/tooth_xray/model/700...  [7, 9]            9   \n",
      "3  /root/notebooks/0858611-2/tooth_xray/model/700...  [4, 5]            5   \n",
      "4  /root/notebooks/0858611-2/tooth_xray/model/700...  [4, 3]            4   \n",
      "\n",
      "  img_cal_level  \n",
      "0       serious  \n",
      "1        medium  \n",
      "2       serious  \n",
      "3       serious  \n",
      "4        medium  \n"
     ]
    }
   ],
   "source": [
    "import pandas as pd\n",
    "\n",
    "dict = {\"image_path\": img_path,  \n",
    "        \"img_cal\": img_cal,\n",
    "        \"img_cal_mean\":img_cal_mean,\n",
    "        \"img_cal_level\":img_cal_level\n",
    "       }\n",
    "\n",
    "tooth_dataframe = pd.DataFrame(dict)\n",
    "print(tooth_dataframe.head())"
   ]
  },
  {
   "cell_type": "code",
   "execution_count": 6,
   "metadata": {},
   "outputs": [],
   "source": [
    "tooth_dataframe = tooth_dataframe[tooth_dataframe.img_cal_level != 'over_range']\n",
    "\n",
    "normal_dataframe = tooth_dataframe[tooth_dataframe.img_cal_level == 'normal']\n",
    "medium_dataframe = tooth_dataframe[tooth_dataframe.img_cal_level == 'medium']\n",
    "serious_dataframe = tooth_dataframe[tooth_dataframe.img_cal_level == 'serious']"
   ]
  },
  {
   "cell_type": "code",
   "execution_count": 9,
   "metadata": {},
   "outputs": [
    {
     "name": "stdout",
     "output_type": "stream",
     "text": [
      "1481\n",
      "1481\n"
     ]
    }
   ],
   "source": [
    "import numpy as np\n",
    "\n",
    "def label_list_to_num(train_label):\n",
    "    label_array = []\n",
    "    for symptom in train_label:\n",
    "        if symptom == 'normal':\n",
    "            label_array.append(0)\n",
    "        if symptom == 'medium':\n",
    "            label_array.append(1)\n",
    "        if symptom == 'serious':\n",
    "            label_array.append(2)\n",
    "    return np.array(label_array)\n",
    "\n",
    "data_path_list = tooth_dataframe.image_path\n",
    "data_label_array = label_list_to_num(tooth_dataframe.img_cal_level)\n",
    "\n",
    "all_img_path = data_path_list\n",
    "all_img_label = data_label_array\n",
    "print(len(all_img_path))\n",
    "print(len(all_img_label))"
   ]
  },
  {
   "cell_type": "code",
   "execution_count": 32,
   "metadata": {},
   "outputs": [],
   "source": [
    "#create tain data\n",
    "train_data_path = all_img_path[:1200] \n",
    "train_data_label = all_img_label[:1200]\n",
    "\n",
    "\n",
    "img_path_rotate = train_data_path\n",
    "image_label_array = train_data_label\n",
    "nums = 24000\n",
    "save_rotate_img_dir = '/root/notebooks/0858611-2/tooth_xray/model/700_700/image_generate_all_rotate/train'\n",
    "save_csv_path = '/root/notebooks/0858611-2/tooth_xray/model/700_700/image_generate_all_rotate/train_label.csv'"
   ]
  },
  {
   "cell_type": "code",
   "execution_count": 39,
   "metadata": {},
   "outputs": [],
   "source": [
    "#create test data\n",
    "test_data_path = all_img_path[1200:] \n",
    "test_data_label = all_img_label[1200:]\n",
    "\n",
    "\n",
    "img_path_rotate = test_data_path\n",
    "image_label_array = test_data_label\n",
    "nums = 5620\n",
    "save_rotate_img_dir = '/root/notebooks/0858611-2/tooth_xray/model/700_700/image_generate_all_rotate/test'\n",
    "save_csv_path = '/root/notebooks/0858611-2/tooth_xray/model/700_700/image_generate_all_rotate/test_label.csv'"
   ]
  },
  {
   "cell_type": "code",
   "execution_count": null,
   "metadata": {},
   "outputs": [],
   "source": []
  },
  {
   "cell_type": "code",
   "execution_count": 40,
   "metadata": {},
   "outputs": [
    {
     "name": "stdout",
     "output_type": "stream",
     "text": [
      "csv is exist\n"
     ]
    },
    {
     "data": {
      "text/plain": [
       "([], [])"
      ]
     },
     "execution_count": 40,
     "metadata": {},
     "output_type": "execute_result"
    }
   ],
   "source": [
    "import PIL, os\n",
    "from PIL import Image\n",
    "import random \n",
    "import csv\n",
    "\n",
    "# img_path_rotate = img_path[:5] \n",
    "# # It is your img_path list  \n",
    "\n",
    "# image_label_array = train_label_array[:5] \n",
    "# # It is label of above img_path\n",
    "\n",
    "# nums = 5\n",
    "# # It should small than imgs*degree range  \n",
    "# # ex:get 3 img and degree_range is [-5,5] ,should small than 3*(5-(-5)) = 30 \n",
    "\n",
    "# save_rotate_img_dir = '/root/notebooks/0858611-2/tooth_xray/model/700_700/image_generate_all_rotate'\n",
    "# #save_img_path\n",
    "# save_csv_path = '/root/notebooks/0858611-2/tooth_xray/model/700_700/image_generate_all_rotate/train_label.csv'\n",
    "# #save_csv_path it contain rotate_img_path & label\n",
    "\n",
    "\n",
    "ratate_range = [-10,10] \n",
    "# means -10 drgree to 10 degree\n",
    "\n",
    "def rotate_save_img(origin_img,rotate_image_name,label,save_dir,save_csv_path,degree,count):\n",
    "    img = Image.open(origin_img)\n",
    "    img.rotate(degree).save(rotate_image_name)\n",
    "    with open(save_csv_path, 'a') as csvfile:\n",
    "        writer = csv.writer(csvfile)\n",
    "        writer.writerow([rotate_image_name,label])\n",
    "    count += 1\n",
    "    return count\n",
    "\n",
    "def create_ratate_images(image_path_list,image_label_array,nums,save_dir,save_csv_path,ratate_range=[0,1]):\n",
    "    if len(image_path_list)*(ratate_range[1]-ratate_range[0]) < nums:\n",
    "        print('You have too few image with all rotate degree')\n",
    "        print('nums max is {}'.format(len(image_path_list)*(ratate_range[1]-ratate_range[0])))\n",
    "        return\n",
    "    ratate_img_path_list = []\n",
    "    rotate_image_label_array =[]\n",
    "    count = 0\n",
    "    while count < nums:\n",
    "        for origin_img,label in zip(image_path_list,image_label_array):\n",
    "            if count < nums:\n",
    "                degree = random.randrange(ratate_range[0],ratate_range[1])\n",
    "                result_name = origin_img.split('/')[-1][:-4]\n",
    "                rotate_image_name = save_dir+'/'+result_name+'_'+'rotate'+'_'+str(degree)+ '.png'\n",
    "                while os.path.exists(rotate_image_name):\n",
    "                    degree = random.randrange(ratate_range[0],ratate_range[1])\n",
    "                    rotate_image_name = save_dir+'/'+result_name+'_'+'rotate'+'_'+str(degree)+ '.png'\n",
    "                count = rotate_save_img(origin_img,rotate_image_name,label,save_dir,save_csv_path,degree,count)\n",
    "            else:\n",
    "                return ratate_img_path_list,rotate_image_label_array\n",
    "    return ratate_img_path_list,rotate_image_label_array\n",
    "\n",
    "if os.path.exists(save_csv_path) == True:\n",
    "    print('csv is exist')\n",
    "else:\n",
    "    with open(save_csv_path, 'w', newline='') as csvfile:\n",
    "        writer = csv.writer(csvfile)\n",
    "        writer.writerow(['Image_path','label'])\n",
    "        \n",
    "create_ratate_images(img_path_rotate,image_label_array,nums,save_rotate_img_dir,save_csv_path,[-10,10])"
   ]
  },
  {
   "cell_type": "code",
   "execution_count": null,
   "metadata": {},
   "outputs": [],
   "source": []
  },
  {
   "cell_type": "code",
   "execution_count": null,
   "metadata": {},
   "outputs": [],
   "source": []
  }
 ],
 "metadata": {
  "kernelspec": {
   "display_name": "Python 3",
   "language": "python",
   "name": "python3"
  },
  "language_info": {
   "codemirror_mode": {
    "name": "ipython",
    "version": 3
   },
   "file_extension": ".py",
   "mimetype": "text/x-python",
   "name": "python",
   "nbconvert_exporter": "python",
   "pygments_lexer": "ipython3",
   "version": "3.6.7"
  },
  "widgets": {
   "application/vnd.jupyter.widget-state+json": {
    "state": {},
    "version_major": 2,
    "version_minor": 0
   }
  }
 },
 "nbformat": 4,
 "nbformat_minor": 4
}
