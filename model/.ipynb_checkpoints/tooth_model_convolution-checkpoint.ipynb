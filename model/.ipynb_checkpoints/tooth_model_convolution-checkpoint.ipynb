{
 "cells": [
  {
   "cell_type": "code",
   "execution_count": 1,
   "metadata": {},
   "outputs": [
    {
     "name": "stdout",
     "output_type": "stream",
     "text": [
      "Num GPUs Available:  2\n"
     ]
    }
   ],
   "source": [
    "import tensorflow as tf\n",
    "print(\"Num GPUs Available: \", len(tf.config.experimental.list_physical_devices('GPU')))"
   ]
  },
  {
   "cell_type": "code",
   "execution_count": 2,
   "metadata": {},
   "outputs": [],
   "source": [
    "import json \n",
    "json_dir = '/root/notebooks/0858611-2/tooth_xray/model/all_tooth_data_set/mapping.json'\n",
    "with open(json_dir) as json_file:\n",
    "    json_data = json.load(json_file)\n",
    "    "
   ]
  },
  {
   "cell_type": "code",
   "execution_count": 3,
   "metadata": {},
   "outputs": [],
   "source": [
    "def get_level(mean):\n",
    "    if mean>=0 and mean<=3:\n",
    "        return 'normal'\n",
    "    elif mean>=4 and mean<=6:\n",
    "        return 'medium'\n",
    "    elif mean>6:\n",
    "        return 'serious'\n",
    "    else:\n",
    "        return 'over_range'"
   ]
  },
  {
   "cell_type": "code",
   "execution_count": 4,
   "metadata": {},
   "outputs": [
    {
     "name": "stdout",
     "output_type": "stream",
     "text": [
      "Dataset/Images/037621_12_.png None\n",
      "Dataset/Images/037621_13_.png None\n",
      "Dataset/Images/037621_26_.png None\n",
      "Dataset/Images/037621_25_.png None\n",
      "Dataset/Images/039462_14_.png None\n",
      "Dataset/Images/039462_22_.png None\n",
      "Dataset/Images/039462_21_.png None\n"
     ]
    }
   ],
   "source": [
    "from statistics import mean\n",
    "import pandas as pd\n",
    "img_path = []\n",
    "img_cal = []\n",
    "img_cal_mean = []\n",
    "img_cal_level = []\n",
    "\n",
    "def get_level(mean):\n",
    "    if mean>=0 and mean<=3:\n",
    "        return 'normal'\n",
    "    elif mean>=4 and mean<=6:\n",
    "        return 'medium'\n",
    "    elif mean>6:\n",
    "        return 'serious'\n",
    "    else:\n",
    "        return 'over_range'\n",
    "    \n",
    "for key in json_data:\n",
    "    try:\n",
    "        new_path = key.replace(\"Dataset/Images\", \"/root/notebooks/0858611-2/tooth_xray/model/all_tooth_data_set/Images\")\n",
    "        mean_cal = int(mean(json_data[key]))\n",
    "        img_cal_level.append(get_level(mean_cal))\n",
    "        img_cal_mean.append(str(mean_cal))\n",
    "        img_path.append(new_path)\n",
    "        img_cal.append(json_data[key])\n",
    "    except:\n",
    "        print(key,json_data[key])\n",
    "        pass\n",
    "    "
   ]
  },
  {
   "cell_type": "code",
   "execution_count": 5,
   "metadata": {},
   "outputs": [
    {
     "name": "stdout",
     "output_type": "stream",
     "text": [
      "1506\n",
      "1506\n",
      "1506\n",
      "1506\n",
      "929\n",
      "183\n",
      "42\n"
     ]
    }
   ],
   "source": [
    "print(len(img_path))\n",
    "print(len(img_cal))\n",
    "print(len(img_cal_mean))\n",
    "print(len(img_cal_level))\n",
    "print(img_cal_level.count('normal'))\n",
    "print(img_cal_level.count('medium'))\n",
    "print(img_cal_level.count('serious'))"
   ]
  },
  {
   "cell_type": "code",
   "execution_count": 6,
   "metadata": {},
   "outputs": [
    {
     "name": "stdout",
     "output_type": "stream",
     "text": [
      "                                          image_path img_cal img_cal_mean  \\\n",
      "0  /root/notebooks/0858611-2/tooth_xray/model/all...  [5, 3]            4   \n",
      "1  /root/notebooks/0858611-2/tooth_xray/model/all...  [3, 4]            3   \n",
      "2  /root/notebooks/0858611-2/tooth_xray/model/all...  [7, 9]            8   \n",
      "3  /root/notebooks/0858611-2/tooth_xray/model/all...  [4, 5]            4   \n",
      "4  /root/notebooks/0858611-2/tooth_xray/model/all...  [4, 3]            3   \n",
      "\n",
      "  img_cal_level  \n",
      "0        medium  \n",
      "1        normal  \n",
      "2       serious  \n",
      "3        medium  \n",
      "4        normal  \n"
     ]
    }
   ],
   "source": [
    "import pandas as pd\n",
    "\n",
    "dict = {\"image_path\": img_path,  \n",
    "        \"img_cal\": img_cal,\n",
    "        \"img_cal_mean\":img_cal_mean,\n",
    "        \"img_cal_level\":img_cal_level\n",
    "       }\n",
    "\n",
    "tooth_dataframe = pd.DataFrame(dict)\n",
    "print(tooth_dataframe.head())"
   ]
  },
  {
   "cell_type": "code",
   "execution_count": 7,
   "metadata": {},
   "outputs": [
    {
     "name": "stdout",
     "output_type": "stream",
     "text": [
      "                                          image_path img_cal img_cal_mean  \\\n",
      "0  /root/notebooks/0858611-2/tooth_xray/model/all...  [5, 3]            4   \n",
      "1  /root/notebooks/0858611-2/tooth_xray/model/all...  [3, 4]            3   \n",
      "2  /root/notebooks/0858611-2/tooth_xray/model/all...  [7, 9]            8   \n",
      "3  /root/notebooks/0858611-2/tooth_xray/model/all...  [4, 5]            4   \n",
      "4  /root/notebooks/0858611-2/tooth_xray/model/all...  [4, 3]            3   \n",
      "\n",
      "  img_cal_level  \n",
      "0        medium  \n",
      "1        normal  \n",
      "2       serious  \n",
      "3        medium  \n",
      "4        normal  \n"
     ]
    }
   ],
   "source": [
    "tooth_dataframe = tooth_dataframe[tooth_dataframe.img_cal_level != 'over_range']\n",
    "\n",
    "normal_dataframe = tooth_dataframe[tooth_dataframe.img_cal_level == 'normal']\n",
    "medium_dataframe = tooth_dataframe[tooth_dataframe.img_cal_level == 'medium']\n",
    "serious_dataframe = tooth_dataframe[tooth_dataframe.img_cal_level == 'serious']\n",
    "print(tooth_dataframe[:5])"
   ]
  },
  {
   "cell_type": "code",
   "execution_count": 8,
   "metadata": {},
   "outputs": [
    {
     "name": "stdout",
     "output_type": "stream",
     "text": [
      "(1154, 256, 256, 3)\n",
      "(1154,)\n"
     ]
    }
   ],
   "source": [
    "#img to array and resize \n",
    "import cv2\n",
    "import numpy as np\n",
    "\n",
    "def imgpath_list_to_array_list(imgpath_list,imgsize=(256,256)):\n",
    "    array_list = []\n",
    "    for img_path in imgpath_list:\n",
    "        img = cv2.imread(img_path)\n",
    "        img = cv2.resize(img,imgsize)\n",
    "        #img = (img-127.5)/127.5\n",
    "        array_list.append(img)\n",
    "    return np.array(array_list)\n",
    "\n",
    "def label_list_to_num(train_label):\n",
    "    label_array = []\n",
    "    for symptom in train_label:\n",
    "        if symptom == 'normal':\n",
    "            label_array.append(0)\n",
    "        if symptom == 'medium':\n",
    "            label_array.append(1)\n",
    "        if symptom == 'serious':\n",
    "            label_array.append(2)\n",
    "    return np.array(label_array)\n",
    "\n",
    "train_data_array = imgpath_list_to_array_list(tooth_dataframe.image_path)\n",
    "train_label_array = label_list_to_num(tooth_dataframe.img_cal_level)\n",
    "\n",
    "normal_data_array = imgpath_list_to_array_list(normal_dataframe.image_path)\n",
    "normal_label_array = label_list_to_num(normal_dataframe.img_cal_level)\n",
    "medium_data_array = imgpath_list_to_array_list(medium_dataframe.image_path)\n",
    "medium_label_array= label_list_to_num(medium_dataframe.img_cal_level)\n",
    "serious_data_array = imgpath_list_to_array_list(serious_dataframe.image_path)\n",
    "serious_label_array = label_list_to_num(serious_dataframe.img_cal_level)\n",
    "\n",
    "\n",
    "print(train_data_array.shape)\n",
    "print(train_label_array.shape)"
   ]
  },
  {
   "cell_type": "code",
   "execution_count": 9,
   "metadata": {},
   "outputs": [],
   "source": [
    "# for i in range(100):\n",
    "#     maxtest = normal_data_array[i].reshape(256*256*3,1)\n",
    "#     print(max(maxtest))\n",
    "#     print(min(maxtest))"
   ]
  },
  {
   "cell_type": "code",
   "execution_count": 10,
   "metadata": {},
   "outputs": [
    {
     "name": "stdout",
     "output_type": "stream",
     "text": [
      "Model: \"sequential\"\n",
      "_________________________________________________________________\n",
      "Layer (type)                 Output Shape              Param #   \n",
      "=================================================================\n",
      "conv2d (Conv2D)              (None, 254, 254, 32)      896       \n",
      "_________________________________________________________________\n",
      "max_pooling2d (MaxPooling2D) (None, 127, 127, 32)      0         \n",
      "_________________________________________________________________\n",
      "conv2d_1 (Conv2D)            (None, 125, 125, 64)      18496     \n",
      "_________________________________________________________________\n",
      "max_pooling2d_1 (MaxPooling2 (None, 62, 62, 64)        0         \n",
      "_________________________________________________________________\n",
      "conv2d_2 (Conv2D)            (None, 60, 60, 128)       73856     \n",
      "_________________________________________________________________\n",
      "max_pooling2d_2 (MaxPooling2 (None, 30, 30, 128)       0         \n",
      "_________________________________________________________________\n",
      "flatten (Flatten)            (None, 115200)            0         \n",
      "_________________________________________________________________\n",
      "dense (Dense)                (None, 2048)              235931648 \n",
      "_________________________________________________________________\n",
      "dropout (Dropout)            (None, 2048)              0         \n",
      "_________________________________________________________________\n",
      "dense_1 (Dense)              (None, 512)               1049088   \n",
      "_________________________________________________________________\n",
      "dropout_1 (Dropout)          (None, 512)               0         \n",
      "_________________________________________________________________\n",
      "dense_2 (Dense)              (None, 64)                32832     \n",
      "_________________________________________________________________\n",
      "dense_3 (Dense)              (None, 3)                 195       \n",
      "=================================================================\n",
      "Total params: 237,107,011\n",
      "Trainable params: 237,107,011\n",
      "Non-trainable params: 0\n",
      "_________________________________________________________________\n"
     ]
    }
   ],
   "source": [
    "import tensorflow as tf\n",
    "\n",
    "from tensorflow.keras import datasets, layers, models\n",
    "import matplotlib.pyplot as plt\n",
    "\n",
    "model1 = models.Sequential()\n",
    "model1.add(layers.Conv2D(32, (3, 3), activation='relu', input_shape=(256,256, 3)))\n",
    "model1.add(layers.MaxPooling2D((2, 2)))\n",
    "model1.add(layers.Conv2D(64, (3, 3), activation='relu'))\n",
    "model1.add(layers.MaxPooling2D((2, 2)))\n",
    "model1.add(layers.Conv2D(128, (3, 3), activation='relu'))\n",
    "model1.add(layers.MaxPooling2D((2, 2)))\n",
    "model1.add(layers.Flatten())\n",
    "model1.add(layers.Dense(2048, activation='relu'))\n",
    "model1.add(layers.Dropout(0.3))\n",
    "model1.add(layers.Dense(512, activation='relu'))\n",
    "model1.add(layers.Dropout(0.3))\n",
    "model1.add(layers.Dense(64, activation='relu'))\n",
    "model1.add(layers.Dense(3))\n",
    "model1.summary()"
   ]
  },
  {
   "cell_type": "code",
   "execution_count": 11,
   "metadata": {},
   "outputs": [],
   "source": [
    "model1.compile(optimizer='adam',\n",
    "              loss=tf.keras.losses.SparseCategoricalCrossentropy(from_logits=True),\n",
    "              metrics=['accuracy'])"
   ]
  },
  {
   "cell_type": "code",
   "execution_count": 12,
   "metadata": {},
   "outputs": [
    {
     "name": "stdout",
     "output_type": "stream",
     "text": [
      "Train on 1000 samples, validate on 154 samples\n",
      "Epoch 1/30\n",
      "1000/1000 [==============================] - 6s 6ms/sample - loss: 60.9896 - accuracy: 0.7150 - val_loss: 0.7786 - val_accuracy: 0.7922\n",
      "Epoch 2/30\n",
      "1000/1000 [==============================] - 1s 1ms/sample - loss: 0.6560 - accuracy: 0.8060 - val_loss: 0.7164 - val_accuracy: 0.7922\n",
      "Epoch 3/30\n",
      "1000/1000 [==============================] - 1s 1ms/sample - loss: 0.5540 - accuracy: 0.8080 - val_loss: 0.7055 - val_accuracy: 0.7922\n",
      "Epoch 4/30\n",
      "1000/1000 [==============================] - 1s 1ms/sample - loss: 0.4435 - accuracy: 0.8190 - val_loss: 0.6957 - val_accuracy: 0.7857\n",
      "Epoch 5/30\n",
      "1000/1000 [==============================] - 1s 1ms/sample - loss: 0.3218 - accuracy: 0.8520 - val_loss: 0.8187 - val_accuracy: 0.7013\n",
      "Epoch 6/30\n",
      "1000/1000 [==============================] - 1s 1ms/sample - loss: 0.2584 - accuracy: 0.8990 - val_loss: 0.9540 - val_accuracy: 0.7403\n",
      "Epoch 7/30\n",
      "1000/1000 [==============================] - 1s 1ms/sample - loss: 0.1984 - accuracy: 0.9230 - val_loss: 1.2325 - val_accuracy: 0.7727\n",
      "Epoch 8/30\n",
      "1000/1000 [==============================] - 1s 1ms/sample - loss: 0.1613 - accuracy: 0.9420 - val_loss: 1.3094 - val_accuracy: 0.7078\n",
      "Epoch 9/30\n",
      "1000/1000 [==============================] - 1s 1ms/sample - loss: 0.1255 - accuracy: 0.9590 - val_loss: 1.4299 - val_accuracy: 0.6883\n",
      "Epoch 10/30\n",
      "1000/1000 [==============================] - 1s 1ms/sample - loss: 0.2194 - accuracy: 0.9430 - val_loss: 1.4026 - val_accuracy: 0.7338\n",
      "Epoch 11/30\n",
      "1000/1000 [==============================] - 1s 1ms/sample - loss: 0.1505 - accuracy: 0.9520 - val_loss: 1.3157 - val_accuracy: 0.7143\n",
      "Epoch 12/30\n",
      "1000/1000 [==============================] - 1s 1ms/sample - loss: 0.1459 - accuracy: 0.9550 - val_loss: 1.5785 - val_accuracy: 0.7208\n",
      "Epoch 13/30\n",
      "1000/1000 [==============================] - 1s 1ms/sample - loss: 0.1111 - accuracy: 0.9610 - val_loss: 2.3118 - val_accuracy: 0.7468\n",
      "Epoch 14/30\n",
      "1000/1000 [==============================] - 1s 1ms/sample - loss: 0.1622 - accuracy: 0.9550 - val_loss: 1.6457 - val_accuracy: 0.7468\n",
      "Epoch 15/30\n",
      "1000/1000 [==============================] - 1s 1ms/sample - loss: 0.0851 - accuracy: 0.9680 - val_loss: 2.1222 - val_accuracy: 0.7013\n",
      "Epoch 16/30\n",
      "1000/1000 [==============================] - 1s 1ms/sample - loss: 0.0517 - accuracy: 0.9800 - val_loss: 2.3896 - val_accuracy: 0.6883\n",
      "Epoch 17/30\n",
      "1000/1000 [==============================] - 1s 1ms/sample - loss: 0.0469 - accuracy: 0.9820 - val_loss: 2.8872 - val_accuracy: 0.7078\n",
      "Epoch 18/30\n",
      "1000/1000 [==============================] - 1s 1ms/sample - loss: 0.0321 - accuracy: 0.9880 - val_loss: 3.1906 - val_accuracy: 0.7013\n",
      "Epoch 19/30\n",
      "1000/1000 [==============================] - 1s 1ms/sample - loss: 0.0783 - accuracy: 0.9800 - val_loss: 2.8418 - val_accuracy: 0.7013\n",
      "Epoch 20/30\n",
      "1000/1000 [==============================] - 1s 1ms/sample - loss: 0.0777 - accuracy: 0.9780 - val_loss: 2.9059 - val_accuracy: 0.7143\n",
      "Epoch 21/30\n",
      "1000/1000 [==============================] - 2s 2ms/sample - loss: 0.0481 - accuracy: 0.9850 - val_loss: 2.6736 - val_accuracy: 0.7273\n",
      "Epoch 22/30\n",
      "1000/1000 [==============================] - 1s 1ms/sample - loss: 0.0714 - accuracy: 0.9730 - val_loss: 2.5378 - val_accuracy: 0.7013\n",
      "Epoch 23/30\n",
      "1000/1000 [==============================] - 2s 2ms/sample - loss: 0.0527 - accuracy: 0.9770 - val_loss: 2.5615 - val_accuracy: 0.7078\n",
      "Epoch 24/30\n",
      "1000/1000 [==============================] - 2s 2ms/sample - loss: 0.0761 - accuracy: 0.9760 - val_loss: 1.8798 - val_accuracy: 0.6818\n",
      "Epoch 25/30\n",
      "1000/1000 [==============================] - 1s 1ms/sample - loss: 0.0435 - accuracy: 0.9830 - val_loss: 2.9339 - val_accuracy: 0.7468\n",
      "Epoch 26/30\n",
      "1000/1000 [==============================] - 1s 1ms/sample - loss: 0.0543 - accuracy: 0.9790 - val_loss: 2.8248 - val_accuracy: 0.6883\n",
      "Epoch 27/30\n",
      "1000/1000 [==============================] - 1s 1ms/sample - loss: 0.0876 - accuracy: 0.9710 - val_loss: 3.7948 - val_accuracy: 0.7078\n",
      "Epoch 28/30\n",
      "1000/1000 [==============================] - 1s 1ms/sample - loss: 0.1957 - accuracy: 0.9540 - val_loss: 1.4644 - val_accuracy: 0.7273\n",
      "Epoch 29/30\n",
      "1000/1000 [==============================] - 1s 1ms/sample - loss: 0.0753 - accuracy: 0.9740 - val_loss: 1.8105 - val_accuracy: 0.7208\n",
      "Epoch 30/30\n",
      "1000/1000 [==============================] - 1s 1ms/sample - loss: 0.0472 - accuracy: 0.9800 - val_loss: 1.9638 - val_accuracy: 0.7338\n"
     ]
    }
   ],
   "source": [
    "history = model1.fit(train_data_array[:1000], train_label_array[:1000], epochs=30, \n",
    "                    validation_data=(train_data_array[1000:], train_label_array[1000:]),shuffle=True)"
   ]
  },
  {
   "cell_type": "code",
   "execution_count": 13,
   "metadata": {},
   "outputs": [
    {
     "name": "stdout",
     "output_type": "stream",
     "text": [
      "154/1 - 0s - loss: 1.3766 - accuracy: 0.7338\n"
     ]
    },
    {
     "data": {
      "image/png": "[encoded data removed]",
      "text/plain": [
       "<Figure size 432x288 with 1 Axes>"
      ]
     },
     "metadata": {
      "needs_background": "light"
     },
     "output_type": "display_data"
    }
   ],
   "source": [
    "plt.plot(history.history['accuracy'], label='accuracy')\n",
    "plt.plot(history.history['val_accuracy'], label = 'val_accuracy')\n",
    "plt.xlabel('Epoch')\n",
    "plt.ylabel('Accuracy')\n",
    "plt.ylim([0.5, 1])\n",
    "plt.legend(loc='lower right')\n",
    "\n",
    "test_loss, test_acc = model1.evaluate(train_data_array[1000:],  train_label_array[1000:], verbose=2)"
   ]
  },
  {
   "cell_type": "code",
   "execution_count": 14,
   "metadata": {},
   "outputs": [
    {
     "name": "stdout",
     "output_type": "stream",
     "text": [
      "154/1 - 0s - loss: 1.3766 - accuracy: 0.7338\n"
     ]
    },
    {
     "data": {
      "text/plain": [
       "[1.963831105789581, 0.73376626]"
      ]
     },
     "execution_count": 14,
     "metadata": {},
     "output_type": "execute_result"
    }
   ],
   "source": [
    "model1.evaluate(train_data_array[1000:],  train_label_array[1000:], verbose=2)"
   ]
  },
  {
   "cell_type": "code",
   "execution_count": 52,
   "metadata": {},
   "outputs": [
    {
     "name": "stdout",
     "output_type": "stream",
     "text": [
      "following is recall rate\n",
      "\n",
      "# Evaluate on normal_data\n",
      "929/1 - 1s - loss: 0.0423 - accuracy: 0.9806\n",
      "\n",
      "# Evaluate on medium_data\n",
      "183/1 - 0s - loss: 2.3933 - accuracy: 0.8907\n",
      "\n",
      "# Evaluate on serious_data\n",
      "42/1 - 0s - loss: 7.7602 - accuracy: 0.6429\n"
     ]
    },
    {
     "data": {
      "text/plain": [
       "[3.5007848739624023, 0.64285713]"
      ]
     },
     "execution_count": 52,
     "metadata": {},
     "output_type": "execute_result"
    }
   ],
   "source": [
    "print('following is recall rate')\n",
    "print('\\n# Evaluate on normal_data')\n",
    "model1.evaluate(normal_data_array,normal_label_array, verbose=2)\n",
    "\n",
    "print('\\n# Evaluate on medium_data')\n",
    "model1.evaluate(medium_data_array,medium_label_array, verbose=2)\n",
    "\n",
    "print('\\n# Evaluate on serious_data')\n",
    "model1.evaluate(serious_data_array,serious_label_array, verbose=2)"
   ]
  },
  {
   "cell_type": "code",
   "execution_count": 17,
   "metadata": {},
   "outputs": [],
   "source": [
    "#recall rate \n",
    "\n",
    "    "
   ]
  },
  {
   "cell_type": "code",
   "execution_count": 18,
   "metadata": {},
   "outputs": [],
   "source": [
    "model_predict =[]\n",
    "for img in train_data_array:\n",
    "    reshape = img.reshape(1,256,256,3)\n",
    "    image = tf.cast(reshape, tf.float32)\n",
    "    model_predict.append(np.argmax(model1.predict(image)))"
   ]
  },
  {
   "cell_type": "code",
   "execution_count": 58,
   "metadata": {},
   "outputs": [],
   "source": [
    "def recall_rate(model_predict_array,test_label_array):\n",
    "    target_set = set(train_label_array)\n",
    "    correct = []\n",
    "    for index,actually_label in enumerate(test_label_array):\n",
    "        if model_predict_array[index] == actually_label:\n",
    "            correct.append(actually_label)\n",
    "            \n",
    "    for target in target_set:\n",
    "        print('The target {} recall rate is {} %'.format(target,correct.count(target)/list(test_label_array).count(target))) \n",
    "        print('The target {} training accuracy is {} %'.format(target,correct.count(target)/list(model_predict_array).count(target)))"
   ]
  },
  {
   "cell_type": "code",
   "execution_count": 59,
   "metadata": {},
   "outputs": [
    {
     "name": "stdout",
     "output_type": "stream",
     "text": [
      "The target 0 recall rate is 0.9806243272335845 %\n",
      "The target 0 training accuracy is 0.965042372881356 %\n",
      "The target 1 recall rate is 0.8907103825136612 %\n",
      "The target 1 training accuracy is 0.8907103825136612 %\n",
      "The target 2 recall rate is 0.6428571428571429 %\n",
      "The target 2 training accuracy is 1.0 %\n"
     ]
    }
   ],
   "source": [
    "recall_rate(model_predict,train_label_array)"
   ]
  },
  {
   "cell_type": "code",
   "execution_count": null,
   "metadata": {},
   "outputs": [],
   "source": []
  }
 ],
 "metadata": {
  "kernelspec": {
   "display_name": "Python 3",
   "language": "python",
   "name": "python3"
  },
  "language_info": {
   "codemirror_mode": {
    "name": "ipython",
    "version": 3
   },
   "file_extension": ".py",
   "mimetype": "text/x-python",
   "name": "python",
   "nbconvert_exporter": "python",
   "pygments_lexer": "ipython3",
   "version": "3.6.7"
  },
  "widgets": {
   "application/vnd.jupyter.widget-state+json": {
    "state": {},
    "version_major": 2,
    "version_minor": 0
   }
  }
 },
 "nbformat": 4,
 "nbformat_minor": 4
}
