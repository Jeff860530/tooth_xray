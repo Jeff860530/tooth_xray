{
 "cells": [
  {
   "cell_type": "code",
   "execution_count": 5,
   "metadata": {},
   "outputs": [
    {
     "name": "stdout",
     "output_type": "stream",
     "text": [
      "cuda:2\n"
     ]
    }
   ],
   "source": [
    "import torch\n",
    "device = torch.device(\"cuda:2\")\n",
    "print(device)"
   ]
  },
  {
   "cell_type": "code",
   "execution_count": 16,
   "metadata": {},
   "outputs": [
    {
     "name": "stdout",
     "output_type": "stream",
     "text": [
      "<class 'str_iterator'>\n"
     ]
    },
    {
     "data": {
      "text/plain": [
       "'c'"
      ]
     },
     "execution_count": 16,
     "metadata": {},
     "output_type": "execute_result"
    }
   ],
   "source": [
    "a = iter('abcd')\n",
    "print(type(a))\n",
    "next(a)\n",
    "next(a)\n",
    "next(a)"
   ]
  },
  {
   "cell_type": "code",
   "execution_count": 43,
   "metadata": {},
   "outputs": [
    {
     "name": "stdout",
     "output_type": "stream",
     "text": [
      "['12_LR.png', '10_LR.png', '14_LR.png', '11_L.png', '14_LR1.png', '15_LR.png', '13_LR.png', '13_LR1.png', '12_L.png', '11_LR.png', '19_LR.png', '2_LR.png', '15_LR1.png', '15_R.png', '20_LR.png', '2_LR1.png', '22_L.png', '23_LR.png', '23_LR1.png', '31_LR.png', '28_R.png', '28_R1.png', '3_LR.png', '4_LR.png', '29_L.png', '27_LR1.png', '5_LR.png', '3_LR1.png', '4_LR1.png', '7_LR.png', '6_LR.png', '6_LR1.png', '7_LR1.png', '8_LR.png', '27_LR.png', '.ipynb_checkpoints']\n"
     ]
    }
   ],
   "source": [
    "import csv\n",
    "import os\n",
    "import random\n",
    "# 開啟輸出的 CSV 檔案\n",
    "img_dir = '/root/notebooks/0858611-2/dental/model/tooth_data/'\n",
    "img_file_list = [img for img in os.listdir(img_dir) ]\n",
    "with open('/root/notebooks/0858611-2/dental/model/data.csv', 'w', newline='') as csvfile:\n",
    "    # 建立 CSV 檔寫入器\n",
    "    writer = csv.writer(csvfile)\n",
    "    seqcal = ['1','2','3']\n",
    "    seqsymptom = ['E','M','H']\n",
    "    # 寫入一列資料\n",
    "    writer.writerow(['Image Index', 'CAL', 'symptom'])\n",
    "    for index,img in enumerate(img_file_list):\n",
    "        cal = random.choice(seqcal)\n",
    "        symptom = random.choice(seqsymptom)\n",
    "        writer.writerow([img ,cal,symptom ])"
   ]
  },
  {
   "cell_type": "code",
   "execution_count": null,
   "metadata": {},
   "outputs": [],
   "source": []
  }
 ],
 "metadata": {
  "kernelspec": {
   "display_name": "Python 3",
   "language": "python",
   "name": "python3"
  },
  "language_info": {
   "codemirror_mode": {
    "name": "ipython",
    "version": 3
   },
   "file_extension": ".py",
   "mimetype": "text/x-python",
   "name": "python",
   "nbconvert_exporter": "python",
   "pygments_lexer": "ipython3",
   "version": "3.6.7"
  },
  "widgets": {
   "application/vnd.jupyter.widget-state+json": {
    "state": {},
    "version_major": 2,
    "version_minor": 0
   }
  }
 },
 "nbformat": 4,
 "nbformat_minor": 4
}
