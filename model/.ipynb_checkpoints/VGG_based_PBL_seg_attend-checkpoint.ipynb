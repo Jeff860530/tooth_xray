{
 "cells": [
  {
   "cell_type": "code",
   "execution_count": 1,
   "metadata": {},
   "outputs": [
    {
     "name": "stderr",
     "output_type": "stream",
     "text": [
      "Using TensorFlow backend.\n",
      "/opt/conda/lib/python3.6/site-packages/pandas/core/nanops.py:38: UserWarning: The installed version of bottleneck 0.7.0 is not supported in pandas and will be not be used\n",
      "The minimum supported version is 1.0.0\n",
      "\n",
      "  ver=ver, min_ver=_MIN_BOTTLENECK_VERSION), UserWarning)\n"
     ]
    }
   ],
   "source": [
    "from keras.layers import Dense, Conv2D, MaxPooling2D, Dropout, Flatten, Input\n",
    "from sklearn.model_selection import train_test_split\n",
    "from sklearn.metrics import confusion_matrix\n",
    "from keras.utils import to_categorical\n",
    "from tqdm.notebook import tqdm as tqdm\n",
    "from tensorflow.keras import Model\n",
    "from keras.models import Sequential\n",
    "from sklearn.utils import shuffle\n",
    "from keras import models, layers\n",
    "from datetime import datetime\n",
    "from tensorflow import keras\n",
    "from keras import backend as K\n",
    "\n",
    "import matplotlib.pyplot as plt\n",
    "import tensorflow as tf\n",
    "import seaborn as sns\n",
    "import pandas as pd\n",
    "import numpy as np\n",
    "import json\n",
    "import cv2\n",
    "import os"
   ]
  },
  {
   "cell_type": "markdown",
   "metadata": {},
   "source": [
    "# Loading Dataset"
   ]
  },
  {
   "cell_type": "code",
   "execution_count": 2,
   "metadata": {},
   "outputs": [],
   "source": [
    "mapping_data = json.load(open(\"/root/notebooks/0858611-2/tooth_xray/model/dataset/Dental_Data/PBL/10_seg_attend/mapping.json\", \"r\"))\n",
    "filter_data  = { path: max(list(map(int, state))) for path, state in mapping_data.items() if max(list(map(int, state))) >= 0 }"
   ]
  },
  {
   "cell_type": "code",
   "execution_count": 3,
   "metadata": {},
   "outputs": [
    {
     "data": {
      "application/vnd.jupyter.widget-view+json": {
       "model_id": "3a58c5272ce941cca0ab8997df98f514",
       "version_major": 2,
       "version_minor": 0
      },
      "text/plain": [
       "HBox(children=(IntProgress(value=0, max=52260), HTML(value='')))"
      ]
     },
     "metadata": {},
     "output_type": "display_data"
    },
    {
     "name": "stdout",
     "output_type": "stream",
     "text": [
      "\n"
     ]
    },
    {
     "data": {
      "text/html": [
       "<div>\n",
       "<style scoped>\n",
       "    .dataframe tbody tr th:only-of-type {\n",
       "        vertical-align: middle;\n",
       "    }\n",
       "\n",
       "    .dataframe tbody tr th {\n",
       "        vertical-align: top;\n",
       "    }\n",
       "\n",
       "    .dataframe thead th {\n",
       "        text-align: right;\n",
       "    }\n",
       "</style>\n",
       "<table border=\"1\" class=\"dataframe\">\n",
       "  <thead>\n",
       "    <tr style=\"text-align: right;\">\n",
       "      <th></th>\n",
       "      <th>Path</th>\n",
       "      <th>Class</th>\n",
       "    </tr>\n",
       "  </thead>\n",
       "  <tbody>\n",
       "    <tr>\n",
       "      <th>0</th>\n",
       "      <td>Dental_Data/PBL/10/04-28-09-377_000408 102419 ...</td>\n",
       "      <td>0</td>\n",
       "    </tr>\n",
       "    <tr>\n",
       "      <th>1</th>\n",
       "      <td>Dental_Data/PBL/10/04-28-09-397_000408 102419 ...</td>\n",
       "      <td>0</td>\n",
       "    </tr>\n",
       "    <tr>\n",
       "      <th>2</th>\n",
       "      <td>Dental_Data/PBL/10/04-28-09-415_000408 102419 ...</td>\n",
       "      <td>0</td>\n",
       "    </tr>\n",
       "    <tr>\n",
       "      <th>3</th>\n",
       "      <td>Dental_Data/PBL/10/04-28-09-435_000408 102419 ...</td>\n",
       "      <td>0</td>\n",
       "    </tr>\n",
       "    <tr>\n",
       "      <th>4</th>\n",
       "      <td>Dental_Data/PBL/10/04-28-09-452_000408 102419 ...</td>\n",
       "      <td>0</td>\n",
       "    </tr>\n",
       "    <tr>\n",
       "      <th>5</th>\n",
       "      <td>Dental_Data/PBL/10/04-28-09-469_000408 102419 ...</td>\n",
       "      <td>0</td>\n",
       "    </tr>\n",
       "    <tr>\n",
       "      <th>6</th>\n",
       "      <td>Dental_Data/PBL/10/04-28-09-486_000408 102419 ...</td>\n",
       "      <td>0</td>\n",
       "    </tr>\n",
       "    <tr>\n",
       "      <th>7</th>\n",
       "      <td>Dental_Data/PBL/10/04-28-09-502_000408 102419 ...</td>\n",
       "      <td>0</td>\n",
       "    </tr>\n",
       "    <tr>\n",
       "      <th>8</th>\n",
       "      <td>Dental_Data/PBL/10/04-28-09-517_000408 102419 ...</td>\n",
       "      <td>0</td>\n",
       "    </tr>\n",
       "    <tr>\n",
       "      <th>9</th>\n",
       "      <td>Dental_Data/PBL/10/04-28-09-532_000408 102419 ...</td>\n",
       "      <td>0</td>\n",
       "    </tr>\n",
       "    <tr>\n",
       "      <th>10</th>\n",
       "      <td>Dental_Data/PBL/10/04-28-09-547_000408 102419 ...</td>\n",
       "      <td>0</td>\n",
       "    </tr>\n",
       "    <tr>\n",
       "      <th>11</th>\n",
       "      <td>Dental_Data/PBL/10/04-28-09-561_000408 102419 ...</td>\n",
       "      <td>0</td>\n",
       "    </tr>\n",
       "    <tr>\n",
       "      <th>12</th>\n",
       "      <td>Dental_Data/PBL/10/04-28-09-574_000408 102419 ...</td>\n",
       "      <td>0</td>\n",
       "    </tr>\n",
       "    <tr>\n",
       "      <th>13</th>\n",
       "      <td>Dental_Data/PBL/10/04-28-09-587_000408 102419 ...</td>\n",
       "      <td>0</td>\n",
       "    </tr>\n",
       "    <tr>\n",
       "      <th>14</th>\n",
       "      <td>Dental_Data/PBL/10/04-28-09-600_000408 102419 ...</td>\n",
       "      <td>0</td>\n",
       "    </tr>\n",
       "    <tr>\n",
       "      <th>15</th>\n",
       "      <td>Dental_Data/PBL/10/04-28-09-612_000408 102419 ...</td>\n",
       "      <td>0</td>\n",
       "    </tr>\n",
       "    <tr>\n",
       "      <th>16</th>\n",
       "      <td>Dental_Data/PBL/10/04-28-09-624_000408 102419 ...</td>\n",
       "      <td>0</td>\n",
       "    </tr>\n",
       "    <tr>\n",
       "      <th>17</th>\n",
       "      <td>Dental_Data/PBL/10/04-28-09-637_000408 102419 ...</td>\n",
       "      <td>0</td>\n",
       "    </tr>\n",
       "    <tr>\n",
       "      <th>18</th>\n",
       "      <td>Dental_Data/PBL/10/04-28-09-650_000408 102419 ...</td>\n",
       "      <td>0</td>\n",
       "    </tr>\n",
       "    <tr>\n",
       "      <th>19</th>\n",
       "      <td>Dental_Data/PBL/10/04-28-09-664_000408 102419 ...</td>\n",
       "      <td>0</td>\n",
       "    </tr>\n",
       "    <tr>\n",
       "      <th>20</th>\n",
       "      <td>Dental_Data/PBL/10/04-28-09-687_000408 102419 ...</td>\n",
       "      <td>0</td>\n",
       "    </tr>\n",
       "    <tr>\n",
       "      <th>21</th>\n",
       "      <td>Dental_Data/PBL/10/04-28-09-706_000408 102419 ...</td>\n",
       "      <td>0</td>\n",
       "    </tr>\n",
       "    <tr>\n",
       "      <th>22</th>\n",
       "      <td>Dental_Data/PBL/10/04-28-09-725_000408 102419 ...</td>\n",
       "      <td>0</td>\n",
       "    </tr>\n",
       "    <tr>\n",
       "      <th>23</th>\n",
       "      <td>Dental_Data/PBL/10/04-28-09-743_000408 102419 ...</td>\n",
       "      <td>0</td>\n",
       "    </tr>\n",
       "    <tr>\n",
       "      <th>24</th>\n",
       "      <td>Dental_Data/PBL/10/04-28-09-761_000408 102419 ...</td>\n",
       "      <td>0</td>\n",
       "    </tr>\n",
       "    <tr>\n",
       "      <th>25</th>\n",
       "      <td>Dental_Data/PBL/10/04-28-09-779_000408 102419 ...</td>\n",
       "      <td>0</td>\n",
       "    </tr>\n",
       "    <tr>\n",
       "      <th>26</th>\n",
       "      <td>Dental_Data/PBL/10/04-28-09-798_000408 102419 ...</td>\n",
       "      <td>0</td>\n",
       "    </tr>\n",
       "    <tr>\n",
       "      <th>27</th>\n",
       "      <td>Dental_Data/PBL/10/04-28-09-816_000408 102419 ...</td>\n",
       "      <td>0</td>\n",
       "    </tr>\n",
       "    <tr>\n",
       "      <th>28</th>\n",
       "      <td>Dental_Data/PBL/10/04-28-09-834_000408 102419 ...</td>\n",
       "      <td>0</td>\n",
       "    </tr>\n",
       "    <tr>\n",
       "      <th>29</th>\n",
       "      <td>Dental_Data/PBL/10/04-28-09-853_000408 102419 ...</td>\n",
       "      <td>0</td>\n",
       "    </tr>\n",
       "    <tr>\n",
       "      <th>...</th>\n",
       "      <td>...</td>\n",
       "      <td>...</td>\n",
       "    </tr>\n",
       "    <tr>\n",
       "      <th>52230</th>\n",
       "      <td>Dental_Data/PBL/10/04-57-15-585_710456 111119 ...</td>\n",
       "      <td>0</td>\n",
       "    </tr>\n",
       "    <tr>\n",
       "      <th>52231</th>\n",
       "      <td>Dental_Data/PBL/10/04-57-15-606_710456 111119 ...</td>\n",
       "      <td>0</td>\n",
       "    </tr>\n",
       "    <tr>\n",
       "      <th>52232</th>\n",
       "      <td>Dental_Data/PBL/10/04-57-15-627_710456 111119 ...</td>\n",
       "      <td>0</td>\n",
       "    </tr>\n",
       "    <tr>\n",
       "      <th>52233</th>\n",
       "      <td>Dental_Data/PBL/10/04-57-15-646_710456 111119 ...</td>\n",
       "      <td>0</td>\n",
       "    </tr>\n",
       "    <tr>\n",
       "      <th>52234</th>\n",
       "      <td>Dental_Data/PBL/10/04-57-15-666_710456 111119 ...</td>\n",
       "      <td>0</td>\n",
       "    </tr>\n",
       "    <tr>\n",
       "      <th>52235</th>\n",
       "      <td>Dental_Data/PBL/10/04-57-15-686_710456 111119 ...</td>\n",
       "      <td>0</td>\n",
       "    </tr>\n",
       "    <tr>\n",
       "      <th>52236</th>\n",
       "      <td>Dental_Data/PBL/10/04-57-15-704_710456 111119 ...</td>\n",
       "      <td>0</td>\n",
       "    </tr>\n",
       "    <tr>\n",
       "      <th>52237</th>\n",
       "      <td>Dental_Data/PBL/10/04-57-15-723_710456 111119 ...</td>\n",
       "      <td>0</td>\n",
       "    </tr>\n",
       "    <tr>\n",
       "      <th>52238</th>\n",
       "      <td>Dental_Data/PBL/10/04-57-15-744_710456 111119 ...</td>\n",
       "      <td>0</td>\n",
       "    </tr>\n",
       "    <tr>\n",
       "      <th>52239</th>\n",
       "      <td>Dental_Data/PBL/10/04-57-15-766_710456 111119 ...</td>\n",
       "      <td>0</td>\n",
       "    </tr>\n",
       "    <tr>\n",
       "      <th>52240</th>\n",
       "      <td>Dental_Data/PBL/10/04-57-16-362_710456 111119 ...</td>\n",
       "      <td>1</td>\n",
       "    </tr>\n",
       "    <tr>\n",
       "      <th>52241</th>\n",
       "      <td>Dental_Data/PBL/10/04-57-16-382_710456 111119 ...</td>\n",
       "      <td>1</td>\n",
       "    </tr>\n",
       "    <tr>\n",
       "      <th>52242</th>\n",
       "      <td>Dental_Data/PBL/10/04-57-16-403_710456 111119 ...</td>\n",
       "      <td>1</td>\n",
       "    </tr>\n",
       "    <tr>\n",
       "      <th>52243</th>\n",
       "      <td>Dental_Data/PBL/10/04-57-16-425_710456 111119 ...</td>\n",
       "      <td>1</td>\n",
       "    </tr>\n",
       "    <tr>\n",
       "      <th>52244</th>\n",
       "      <td>Dental_Data/PBL/10/04-57-16-447_710456 111119 ...</td>\n",
       "      <td>1</td>\n",
       "    </tr>\n",
       "    <tr>\n",
       "      <th>52245</th>\n",
       "      <td>Dental_Data/PBL/10/04-57-16-475_710456 111119 ...</td>\n",
       "      <td>1</td>\n",
       "    </tr>\n",
       "    <tr>\n",
       "      <th>52246</th>\n",
       "      <td>Dental_Data/PBL/10/04-57-16-516_710456 111119 ...</td>\n",
       "      <td>1</td>\n",
       "    </tr>\n",
       "    <tr>\n",
       "      <th>52247</th>\n",
       "      <td>Dental_Data/PBL/10/04-57-16-540_710456 111119 ...</td>\n",
       "      <td>1</td>\n",
       "    </tr>\n",
       "    <tr>\n",
       "      <th>52248</th>\n",
       "      <td>Dental_Data/PBL/10/04-57-16-565_710456 111119 ...</td>\n",
       "      <td>1</td>\n",
       "    </tr>\n",
       "    <tr>\n",
       "      <th>52249</th>\n",
       "      <td>Dental_Data/PBL/10/04-57-16-590_710456 111119 ...</td>\n",
       "      <td>1</td>\n",
       "    </tr>\n",
       "    <tr>\n",
       "      <th>52250</th>\n",
       "      <td>Dental_Data/PBL/10/04-57-16-614_710456 111119 ...</td>\n",
       "      <td>1</td>\n",
       "    </tr>\n",
       "    <tr>\n",
       "      <th>52251</th>\n",
       "      <td>Dental_Data/PBL/10/04-57-16-639_710456 111119 ...</td>\n",
       "      <td>1</td>\n",
       "    </tr>\n",
       "    <tr>\n",
       "      <th>52252</th>\n",
       "      <td>Dental_Data/PBL/10/04-57-16-662_710456 111119 ...</td>\n",
       "      <td>1</td>\n",
       "    </tr>\n",
       "    <tr>\n",
       "      <th>52253</th>\n",
       "      <td>Dental_Data/PBL/10/04-57-16-686_710456 111119 ...</td>\n",
       "      <td>1</td>\n",
       "    </tr>\n",
       "    <tr>\n",
       "      <th>52254</th>\n",
       "      <td>Dental_Data/PBL/10/04-57-16-710_710456 111119 ...</td>\n",
       "      <td>1</td>\n",
       "    </tr>\n",
       "    <tr>\n",
       "      <th>52255</th>\n",
       "      <td>Dental_Data/PBL/10/04-57-16-734_710456 111119 ...</td>\n",
       "      <td>1</td>\n",
       "    </tr>\n",
       "    <tr>\n",
       "      <th>52256</th>\n",
       "      <td>Dental_Data/PBL/10/04-57-16-759_710456 111119 ...</td>\n",
       "      <td>1</td>\n",
       "    </tr>\n",
       "    <tr>\n",
       "      <th>52257</th>\n",
       "      <td>Dental_Data/PBL/10/04-57-16-785_710456 111119 ...</td>\n",
       "      <td>1</td>\n",
       "    </tr>\n",
       "    <tr>\n",
       "      <th>52258</th>\n",
       "      <td>Dental_Data/PBL/10/04-57-16-811_710456 111119 ...</td>\n",
       "      <td>1</td>\n",
       "    </tr>\n",
       "    <tr>\n",
       "      <th>52259</th>\n",
       "      <td>Dental_Data/PBL/10/04-57-16-837_710456 111119 ...</td>\n",
       "      <td>1</td>\n",
       "    </tr>\n",
       "  </tbody>\n",
       "</table>\n",
       "<p>52260 rows × 2 columns</p>\n",
       "</div>"
      ],
      "text/plain": [
       "                                                    Path Class\n",
       "0      Dental_Data/PBL/10/04-28-09-377_000408 102419 ...     0\n",
       "1      Dental_Data/PBL/10/04-28-09-397_000408 102419 ...     0\n",
       "2      Dental_Data/PBL/10/04-28-09-415_000408 102419 ...     0\n",
       "3      Dental_Data/PBL/10/04-28-09-435_000408 102419 ...     0\n",
       "4      Dental_Data/PBL/10/04-28-09-452_000408 102419 ...     0\n",
       "5      Dental_Data/PBL/10/04-28-09-469_000408 102419 ...     0\n",
       "6      Dental_Data/PBL/10/04-28-09-486_000408 102419 ...     0\n",
       "7      Dental_Data/PBL/10/04-28-09-502_000408 102419 ...     0\n",
       "8      Dental_Data/PBL/10/04-28-09-517_000408 102419 ...     0\n",
       "9      Dental_Data/PBL/10/04-28-09-532_000408 102419 ...     0\n",
       "10     Dental_Data/PBL/10/04-28-09-547_000408 102419 ...     0\n",
       "11     Dental_Data/PBL/10/04-28-09-561_000408 102419 ...     0\n",
       "12     Dental_Data/PBL/10/04-28-09-574_000408 102419 ...     0\n",
       "13     Dental_Data/PBL/10/04-28-09-587_000408 102419 ...     0\n",
       "14     Dental_Data/PBL/10/04-28-09-600_000408 102419 ...     0\n",
       "15     Dental_Data/PBL/10/04-28-09-612_000408 102419 ...     0\n",
       "16     Dental_Data/PBL/10/04-28-09-624_000408 102419 ...     0\n",
       "17     Dental_Data/PBL/10/04-28-09-637_000408 102419 ...     0\n",
       "18     Dental_Data/PBL/10/04-28-09-650_000408 102419 ...     0\n",
       "19     Dental_Data/PBL/10/04-28-09-664_000408 102419 ...     0\n",
       "20     Dental_Data/PBL/10/04-28-09-687_000408 102419 ...     0\n",
       "21     Dental_Data/PBL/10/04-28-09-706_000408 102419 ...     0\n",
       "22     Dental_Data/PBL/10/04-28-09-725_000408 102419 ...     0\n",
       "23     Dental_Data/PBL/10/04-28-09-743_000408 102419 ...     0\n",
       "24     Dental_Data/PBL/10/04-28-09-761_000408 102419 ...     0\n",
       "25     Dental_Data/PBL/10/04-28-09-779_000408 102419 ...     0\n",
       "26     Dental_Data/PBL/10/04-28-09-798_000408 102419 ...     0\n",
       "27     Dental_Data/PBL/10/04-28-09-816_000408 102419 ...     0\n",
       "28     Dental_Data/PBL/10/04-28-09-834_000408 102419 ...     0\n",
       "29     Dental_Data/PBL/10/04-28-09-853_000408 102419 ...     0\n",
       "...                                                  ...   ...\n",
       "52230  Dental_Data/PBL/10/04-57-15-585_710456 111119 ...     0\n",
       "52231  Dental_Data/PBL/10/04-57-15-606_710456 111119 ...     0\n",
       "52232  Dental_Data/PBL/10/04-57-15-627_710456 111119 ...     0\n",
       "52233  Dental_Data/PBL/10/04-57-15-646_710456 111119 ...     0\n",
       "52234  Dental_Data/PBL/10/04-57-15-666_710456 111119 ...     0\n",
       "52235  Dental_Data/PBL/10/04-57-15-686_710456 111119 ...     0\n",
       "52236  Dental_Data/PBL/10/04-57-15-704_710456 111119 ...     0\n",
       "52237  Dental_Data/PBL/10/04-57-15-723_710456 111119 ...     0\n",
       "52238  Dental_Data/PBL/10/04-57-15-744_710456 111119 ...     0\n",
       "52239  Dental_Data/PBL/10/04-57-15-766_710456 111119 ...     0\n",
       "52240  Dental_Data/PBL/10/04-57-16-362_710456 111119 ...     1\n",
       "52241  Dental_Data/PBL/10/04-57-16-382_710456 111119 ...     1\n",
       "52242  Dental_Data/PBL/10/04-57-16-403_710456 111119 ...     1\n",
       "52243  Dental_Data/PBL/10/04-57-16-425_710456 111119 ...     1\n",
       "52244  Dental_Data/PBL/10/04-57-16-447_710456 111119 ...     1\n",
       "52245  Dental_Data/PBL/10/04-57-16-475_710456 111119 ...     1\n",
       "52246  Dental_Data/PBL/10/04-57-16-516_710456 111119 ...     1\n",
       "52247  Dental_Data/PBL/10/04-57-16-540_710456 111119 ...     1\n",
       "52248  Dental_Data/PBL/10/04-57-16-565_710456 111119 ...     1\n",
       "52249  Dental_Data/PBL/10/04-57-16-590_710456 111119 ...     1\n",
       "52250  Dental_Data/PBL/10/04-57-16-614_710456 111119 ...     1\n",
       "52251  Dental_Data/PBL/10/04-57-16-639_710456 111119 ...     1\n",
       "52252  Dental_Data/PBL/10/04-57-16-662_710456 111119 ...     1\n",
       "52253  Dental_Data/PBL/10/04-57-16-686_710456 111119 ...     1\n",
       "52254  Dental_Data/PBL/10/04-57-16-710_710456 111119 ...     1\n",
       "52255  Dental_Data/PBL/10/04-57-16-734_710456 111119 ...     1\n",
       "52256  Dental_Data/PBL/10/04-57-16-759_710456 111119 ...     1\n",
       "52257  Dental_Data/PBL/10/04-57-16-785_710456 111119 ...     1\n",
       "52258  Dental_Data/PBL/10/04-57-16-811_710456 111119 ...     1\n",
       "52259  Dental_Data/PBL/10/04-57-16-837_710456 111119 ...     1\n",
       "\n",
       "[52260 rows x 2 columns]"
      ]
     },
     "execution_count": 3,
     "metadata": {},
     "output_type": "execute_result"
    }
   ],
   "source": [
    "def json_2_dataframe_PBL(dataframe, data):\n",
    "        for path, state in tqdm(data.items()):\n",
    "                item = { \"Path\": path, \"Class\": 0 if state <= 1 else state - 1 }\n",
    "                dataframe = dataframe.append(item, ignore_index=True)\n",
    "\n",
    "        return dataframe\n",
    "\n",
    "PBL_Columns = [\"Path\", \"Class\"]\n",
    "dataset = pd.DataFrame(columns=PBL_Columns)\n",
    "dataset = json_2_dataframe_PBL(dataset, filter_data)\n",
    "\n",
    "dataset"
   ]
  },
  {
   "cell_type": "markdown",
   "metadata": {},
   "source": [
    "# Split dataset and guarantee no data pollution "
   ]
  },
  {
   "cell_type": "code",
   "execution_count": 4,
   "metadata": {},
   "outputs": [],
   "source": [
    "# data_num = min(len(dataset[dataset[\"Class\"] == 3]), len(dataset[dataset[\"Class\"] == 2]), len(dataset[dataset[\"Class\"] == 1]), len(dataset[dataset[\"Class\"] == 0]))\n",
    "\n",
    "data_num = min(len(dataset[dataset[\"Class\"] == 2]), len(dataset[dataset[\"Class\"] == 1]), len(dataset[dataset[\"Class\"] == 0]))\n",
    "\n",
    "# terrible = dataset[dataset[\"Class\"] == 3]\n",
    "serious = dataset[dataset[\"Class\"] == 2]\n",
    "medium  = dataset[dataset[\"Class\"] == 1]\n",
    "healthy = dataset[dataset[\"Class\"] == 0]"
   ]
  },
  {
   "cell_type": "code",
   "execution_count": 5,
   "metadata": {},
   "outputs": [
    {
     "data": {
      "application/vnd.jupyter.widget-view+json": {
       "model_id": "b2da8f68bd504bf3af250118784d4a7d",
       "version_major": 2,
       "version_minor": 0
      },
      "text/plain": [
       "HBox(children=(IntProgress(value=0, max=4788), HTML(value='')))"
      ]
     },
     "metadata": {},
     "output_type": "display_data"
    },
    {
     "name": "stdout",
     "output_type": "stream",
     "text": [
      "\n"
     ]
    },
    {
     "data": {
      "application/vnd.jupyter.widget-view+json": {
       "model_id": "8c17ad30ada64cb78f6d5bace27baa3c",
       "version_major": 2,
       "version_minor": 0
      },
      "text/plain": [
       "HBox(children=(IntProgress(value=0, max=1596), HTML(value='')))"
      ]
     },
     "metadata": {},
     "output_type": "display_data"
    },
    {
     "name": "stdout",
     "output_type": "stream",
     "text": [
      "\n"
     ]
    },
    {
     "data": {
      "application/vnd.jupyter.widget-view+json": {
       "model_id": "9527b58dc7ae4ebba95f0644ba6cf516",
       "version_major": 2,
       "version_minor": 0
      },
      "text/plain": [
       "HBox(children=(IntProgress(value=0, max=1596), HTML(value='')))"
      ]
     },
     "metadata": {},
     "output_type": "display_data"
    },
    {
     "name": "stdout",
     "output_type": "stream",
     "text": [
      "\n"
     ]
    }
   ],
   "source": [
    "def path_2_images(path_list, resize_setting):\n",
    "        images = []\n",
    "        for path in tqdm(path_list):\n",
    "                image = cv2.imread(path)\n",
    "                image = cv2.resize(image, resize_setting)\n",
    "                #image = np.reshape(image, (*image.shape, 1))\n",
    "                images.append(image)\n",
    "        return np.array(images)\n",
    "\n",
    "train_range = (0, int( data_num * 0.6 ))\n",
    "valid_range = (train_range[1], int( data_num * 0.8))\n",
    "test_range  = (valid_range[1], data_num)\n",
    "\n",
    "# terrible_train   = terrible.iloc[ train_range[0]: train_range[1], :]\n",
    "# terrible_valid   = terrible.iloc[ valid_range[0]: valid_range[1], :]\n",
    "# terrible_test    = terrible.iloc[ test_range[0] : test_range[1] , :]\n",
    "\n",
    "serious_train   = serious.iloc[ train_range[0]: train_range[1], :]\n",
    "serious_valid   = serious.iloc[ valid_range[0]: valid_range[1], :]\n",
    "serious_test    = serious.iloc[ test_range[0] : test_range[1] , :]\n",
    "\n",
    "medium_train    = medium.iloc[ train_range[0]: train_range[1],  :]\n",
    "medium_valid    = medium.iloc[ valid_range[0]: valid_range[1],  :]\n",
    "medium_test     = medium.iloc[ test_range[0] : test_range[1] ,  :]\n",
    "\n",
    "healthy_train   =  healthy.iloc[ train_range[0]: train_range[1], :]\n",
    "healthy_valid   =  healthy.iloc[ valid_range[0]: valid_range[1], :]\n",
    "healthy_test    =  healthy.iloc[ test_range[0] : test_range[1] , :]\n",
    " \n",
    "train_dataset   = pd.concat([healthy_train, medium_train, serious_train])\n",
    "valid_dataset   = pd.concat([healthy_valid, medium_valid, serious_valid])\n",
    "test_dataset    = pd.concat([healthy_test , medium_test , serious_test ])\n",
    "\n",
    "train_dataset = shuffle(train_dataset)\n",
    "valid_dataset = shuffle(valid_dataset)\n",
    "test_dataset = shuffle(test_dataset)\n",
    "\n",
    "resize_setting = (256, 256)\n",
    "\n",
    "X_train, y_train = path_2_images(train_dataset[\"Path\"], resize_setting), to_categorical(train_dataset[\"Class\"], 3)  \n",
    "X_val, y_val     = path_2_images(valid_dataset[\"Path\"], resize_setting), to_categorical(valid_dataset[\"Class\"], 3) \n",
    "X_test, y_test   = path_2_images(test_dataset [\"Path\"], resize_setting), to_categorical(test_dataset [\"Class\"], 3)"
   ]
  },
  {
   "cell_type": "code",
   "execution_count": 6,
   "metadata": {},
   "outputs": [
    {
     "name": "stdout",
     "output_type": "stream",
     "text": [
      "(4788, 256, 256, 3)\n"
     ]
    }
   ],
   "source": [
    "print(X_train.shape)"
   ]
  },
  {
   "cell_type": "code",
   "execution_count": 7,
   "metadata": {},
   "outputs": [
    {
     "data": {
      "text/html": [
       "<div>\n",
       "<style scoped>\n",
       "    .dataframe tbody tr th:only-of-type {\n",
       "        vertical-align: middle;\n",
       "    }\n",
       "\n",
       "    .dataframe tbody tr th {\n",
       "        vertical-align: top;\n",
       "    }\n",
       "\n",
       "    .dataframe thead th {\n",
       "        text-align: right;\n",
       "    }\n",
       "</style>\n",
       "<table border=\"1\" class=\"dataframe\">\n",
       "  <thead>\n",
       "    <tr style=\"text-align: right;\">\n",
       "      <th></th>\n",
       "      <th>Path</th>\n",
       "      <th>Class</th>\n",
       "    </tr>\n",
       "  </thead>\n",
       "  <tbody>\n",
       "    <tr>\n",
       "      <th>12145</th>\n",
       "      <td>Dental_Data/PBL/10/04-34-19-669_025179_2 10121...</td>\n",
       "      <td>1</td>\n",
       "    </tr>\n",
       "    <tr>\n",
       "      <th>17631</th>\n",
       "      <td>Dental_Data/PBL/10/04-37-17-490_051282_1 03231...</td>\n",
       "      <td>2</td>\n",
       "    </tr>\n",
       "    <tr>\n",
       "      <th>134</th>\n",
       "      <td>Dental_Data/PBL/10/04-28-12-560_000408 102419 ...</td>\n",
       "      <td>1</td>\n",
       "    </tr>\n",
       "    <tr>\n",
       "      <th>18539</th>\n",
       "      <td>Dental_Data/PBL/10/04-37-48-059_051282_3 10291...</td>\n",
       "      <td>2</td>\n",
       "    </tr>\n",
       "    <tr>\n",
       "      <th>178</th>\n",
       "      <td>Dental_Data/PBL/10/04-28-13-506_000408 102419 ...</td>\n",
       "      <td>0</td>\n",
       "    </tr>\n",
       "    <tr>\n",
       "      <th>4728</th>\n",
       "      <td>Dental_Data/PBL/10/04-30-04-746_004151 091409 ...</td>\n",
       "      <td>1</td>\n",
       "    </tr>\n",
       "    <tr>\n",
       "      <th>1129</th>\n",
       "      <td>Dental_Data/PBL/10/04-28-39-226_001742 082712 ...</td>\n",
       "      <td>0</td>\n",
       "    </tr>\n",
       "    <tr>\n",
       "      <th>12351</th>\n",
       "      <td>Dental_Data/PBL/10/04-34-26-109_025179_2 10121...</td>\n",
       "      <td>1</td>\n",
       "    </tr>\n",
       "    <tr>\n",
       "      <th>17633</th>\n",
       "      <td>Dental_Data/PBL/10/04-37-17-550_051282_1 03231...</td>\n",
       "      <td>2</td>\n",
       "    </tr>\n",
       "    <tr>\n",
       "      <th>1516</th>\n",
       "      <td>Dental_Data/PBL/10/04-28-47-630_001742 082712 ...</td>\n",
       "      <td>0</td>\n",
       "    </tr>\n",
       "    <tr>\n",
       "      <th>468</th>\n",
       "      <td>Dental_Data/PBL/10/04-28-23-027_000411 112119 ...</td>\n",
       "      <td>0</td>\n",
       "    </tr>\n",
       "    <tr>\n",
       "      <th>12864</th>\n",
       "      <td>Dental_Data/PBL/10/04-34-40-752_026110_1 03051...</td>\n",
       "      <td>2</td>\n",
       "    </tr>\n",
       "    <tr>\n",
       "      <th>1203</th>\n",
       "      <td>Dental_Data/PBL/10/04-28-40-664_001742 082712 ...</td>\n",
       "      <td>0</td>\n",
       "    </tr>\n",
       "    <tr>\n",
       "      <th>17239</th>\n",
       "      <td>Dental_Data/PBL/10/04-37-06-070_051282_1 03231...</td>\n",
       "      <td>2</td>\n",
       "    </tr>\n",
       "    <tr>\n",
       "      <th>5204</th>\n",
       "      <td>Dental_Data/PBL/10/04-30-15-713_004151 091409 ...</td>\n",
       "      <td>1</td>\n",
       "    </tr>\n",
       "    <tr>\n",
       "      <th>1841</th>\n",
       "      <td>Dental_Data/PBL/10/04-28-55-148_002456 060517 ...</td>\n",
       "      <td>0</td>\n",
       "    </tr>\n",
       "    <tr>\n",
       "      <th>508</th>\n",
       "      <td>Dental_Data/PBL/10/04-28-23-961_000411 112119 ...</td>\n",
       "      <td>0</td>\n",
       "    </tr>\n",
       "    <tr>\n",
       "      <th>358</th>\n",
       "      <td>Dental_Data/PBL/10/04-28-19-926_000408 102419 ...</td>\n",
       "      <td>0</td>\n",
       "    </tr>\n",
       "    <tr>\n",
       "      <th>918</th>\n",
       "      <td>Dental_Data/PBL/10/04-28-33-405_000411 112119 ...</td>\n",
       "      <td>0</td>\n",
       "    </tr>\n",
       "    <tr>\n",
       "      <th>1613</th>\n",
       "      <td>Dental_Data/PBL/10/04-28-50-483_002456 060517 ...</td>\n",
       "      <td>0</td>\n",
       "    </tr>\n",
       "    <tr>\n",
       "      <th>13661</th>\n",
       "      <td>Dental_Data/PBL/10/04-35-03-343_026110_2 06181...</td>\n",
       "      <td>2</td>\n",
       "    </tr>\n",
       "    <tr>\n",
       "      <th>759</th>\n",
       "      <td>Dental_Data/PBL/10/04-28-29-934_000411 112119 ...</td>\n",
       "      <td>0</td>\n",
       "    </tr>\n",
       "    <tr>\n",
       "      <th>11522</th>\n",
       "      <td>Dental_Data/PBL/10/04-34-00-826_025179_1 08251...</td>\n",
       "      <td>1</td>\n",
       "    </tr>\n",
       "    <tr>\n",
       "      <th>1014</th>\n",
       "      <td>Dental_Data/PBL/10/04-28-36-483_000411 112119 ...</td>\n",
       "      <td>0</td>\n",
       "    </tr>\n",
       "    <tr>\n",
       "      <th>2300</th>\n",
       "      <td>Dental_Data/PBL/10/04-29-05-383_002555 042513 ...</td>\n",
       "      <td>1</td>\n",
       "    </tr>\n",
       "    <tr>\n",
       "      <th>13305</th>\n",
       "      <td>Dental_Data/PBL/10/04-34-52-278_026110_2 06181...</td>\n",
       "      <td>2</td>\n",
       "    </tr>\n",
       "    <tr>\n",
       "      <th>1890</th>\n",
       "      <td>Dental_Data/PBL/10/04-28-56-040_002456 060517 ...</td>\n",
       "      <td>0</td>\n",
       "    </tr>\n",
       "    <tr>\n",
       "      <th>112</th>\n",
       "      <td>Dental_Data/PBL/10/04-28-12-026_000408 102419 ...</td>\n",
       "      <td>1</td>\n",
       "    </tr>\n",
       "    <tr>\n",
       "      <th>5130</th>\n",
       "      <td>Dental_Data/PBL/10/04-30-13-819_004151 091409 ...</td>\n",
       "      <td>1</td>\n",
       "    </tr>\n",
       "    <tr>\n",
       "      <th>10555</th>\n",
       "      <td>Dental_Data/PBL/10/04-33-32-434_022198_1 08071...</td>\n",
       "      <td>1</td>\n",
       "    </tr>\n",
       "    <tr>\n",
       "      <th>...</th>\n",
       "      <td>...</td>\n",
       "      <td>...</td>\n",
       "    </tr>\n",
       "    <tr>\n",
       "      <th>21172</th>\n",
       "      <td>Dental_Data/PBL/10/04-38-55-983_068783_1 09030...</td>\n",
       "      <td>2</td>\n",
       "    </tr>\n",
       "    <tr>\n",
       "      <th>2305</th>\n",
       "      <td>Dental_Data/PBL/10/04-29-05-524_002555 042513 ...</td>\n",
       "      <td>1</td>\n",
       "    </tr>\n",
       "    <tr>\n",
       "      <th>37839</th>\n",
       "      <td>Dental_Data/PBL/10/04-49-46-117_422621 031017 ...</td>\n",
       "      <td>2</td>\n",
       "    </tr>\n",
       "    <tr>\n",
       "      <th>2304</th>\n",
       "      <td>Dental_Data/PBL/10/04-29-05-495_002555 042513 ...</td>\n",
       "      <td>1</td>\n",
       "    </tr>\n",
       "    <tr>\n",
       "      <th>17972</th>\n",
       "      <td>Dental_Data/PBL/10/04-37-28-696_051282_2 10211...</td>\n",
       "      <td>2</td>\n",
       "    </tr>\n",
       "    <tr>\n",
       "      <th>12599</th>\n",
       "      <td>Dental_Data/PBL/10/04-34-33-150_026110_1 03051...</td>\n",
       "      <td>2</td>\n",
       "    </tr>\n",
       "    <tr>\n",
       "      <th>1269</th>\n",
       "      <td>Dental_Data/PBL/10/04-28-41-982_001742 082712 ...</td>\n",
       "      <td>0</td>\n",
       "    </tr>\n",
       "    <tr>\n",
       "      <th>1150</th>\n",
       "      <td>Dental_Data/PBL/10/04-28-39-546_001742 082712 ...</td>\n",
       "      <td>0</td>\n",
       "    </tr>\n",
       "    <tr>\n",
       "      <th>11860</th>\n",
       "      <td>Dental_Data/PBL/10/04-34-11-548_025179_1 08251...</td>\n",
       "      <td>1</td>\n",
       "    </tr>\n",
       "    <tr>\n",
       "      <th>11682</th>\n",
       "      <td>Dental_Data/PBL/10/04-34-04-907_025179_1 08251...</td>\n",
       "      <td>2</td>\n",
       "    </tr>\n",
       "    <tr>\n",
       "      <th>5221</th>\n",
       "      <td>Dental_Data/PBL/10/04-30-16-124_004151 091409 ...</td>\n",
       "      <td>1</td>\n",
       "    </tr>\n",
       "    <tr>\n",
       "      <th>18202</th>\n",
       "      <td>Dental_Data/PBL/10/04-37-37-348_051282_2 10211...</td>\n",
       "      <td>2</td>\n",
       "    </tr>\n",
       "    <tr>\n",
       "      <th>5210</th>\n",
       "      <td>Dental_Data/PBL/10/04-30-15-854_004151 091409 ...</td>\n",
       "      <td>1</td>\n",
       "    </tr>\n",
       "    <tr>\n",
       "      <th>11943</th>\n",
       "      <td>Dental_Data/PBL/10/04-34-14-063_025179_2 10121...</td>\n",
       "      <td>2</td>\n",
       "    </tr>\n",
       "    <tr>\n",
       "      <th>118</th>\n",
       "      <td>Dental_Data/PBL/10/04-28-12-183_000408 102419 ...</td>\n",
       "      <td>1</td>\n",
       "    </tr>\n",
       "    <tr>\n",
       "      <th>17104</th>\n",
       "      <td>Dental_Data/PBL/10/04-37-00-746_043521_2 08231...</td>\n",
       "      <td>2</td>\n",
       "    </tr>\n",
       "    <tr>\n",
       "      <th>12696</th>\n",
       "      <td>Dental_Data/PBL/10/04-34-35-752_026110_1 03051...</td>\n",
       "      <td>1</td>\n",
       "    </tr>\n",
       "    <tr>\n",
       "      <th>13636</th>\n",
       "      <td>Dental_Data/PBL/10/04-35-01-973_026110_2 06181...</td>\n",
       "      <td>2</td>\n",
       "    </tr>\n",
       "    <tr>\n",
       "      <th>12510</th>\n",
       "      <td>Dental_Data/PBL/10/04-34-30-763_026110_1 03051...</td>\n",
       "      <td>1</td>\n",
       "    </tr>\n",
       "    <tr>\n",
       "      <th>1389</th>\n",
       "      <td>Dental_Data/PBL/10/04-28-44-599_001742 082712 ...</td>\n",
       "      <td>0</td>\n",
       "    </tr>\n",
       "    <tr>\n",
       "      <th>244</th>\n",
       "      <td>Dental_Data/PBL/10/04-28-16-405_000408 102419 ...</td>\n",
       "      <td>0</td>\n",
       "    </tr>\n",
       "    <tr>\n",
       "      <th>11584</th>\n",
       "      <td>Dental_Data/PBL/10/04-34-02-520_025179_1 08251...</td>\n",
       "      <td>2</td>\n",
       "    </tr>\n",
       "    <tr>\n",
       "      <th>1142</th>\n",
       "      <td>Dental_Data/PBL/10/04-28-39-425_001742 082712 ...</td>\n",
       "      <td>0</td>\n",
       "    </tr>\n",
       "    <tr>\n",
       "      <th>2333</th>\n",
       "      <td>Dental_Data/PBL/10/04-29-06-157_002555 042513 ...</td>\n",
       "      <td>1</td>\n",
       "    </tr>\n",
       "    <tr>\n",
       "      <th>3716</th>\n",
       "      <td>Dental_Data/PBL/10/04-29-39-863_003615 010816 ...</td>\n",
       "      <td>1</td>\n",
       "    </tr>\n",
       "    <tr>\n",
       "      <th>14297</th>\n",
       "      <td>Dental_Data/PBL/10/04-35-23-719_026118_1 11061...</td>\n",
       "      <td>1</td>\n",
       "    </tr>\n",
       "    <tr>\n",
       "      <th>1923</th>\n",
       "      <td>Dental_Data/PBL/10/04-28-56-763_002456 060517 ...</td>\n",
       "      <td>0</td>\n",
       "    </tr>\n",
       "    <tr>\n",
       "      <th>1740</th>\n",
       "      <td>Dental_Data/PBL/10/04-28-53-523_002456 060517 ...</td>\n",
       "      <td>0</td>\n",
       "    </tr>\n",
       "    <tr>\n",
       "      <th>1705</th>\n",
       "      <td>Dental_Data/PBL/10/04-28-52-910_002456 060517 ...</td>\n",
       "      <td>0</td>\n",
       "    </tr>\n",
       "    <tr>\n",
       "      <th>4917</th>\n",
       "      <td>Dental_Data/PBL/10/04-30-09-192_004151 091409 ...</td>\n",
       "      <td>2</td>\n",
       "    </tr>\n",
       "  </tbody>\n",
       "</table>\n",
       "<p>4788 rows × 2 columns</p>\n",
       "</div>"
      ],
      "text/plain": [
       "                                                    Path Class\n",
       "12145  Dental_Data/PBL/10/04-34-19-669_025179_2 10121...     1\n",
       "17631  Dental_Data/PBL/10/04-37-17-490_051282_1 03231...     2\n",
       "134    Dental_Data/PBL/10/04-28-12-560_000408 102419 ...     1\n",
       "18539  Dental_Data/PBL/10/04-37-48-059_051282_3 10291...     2\n",
       "178    Dental_Data/PBL/10/04-28-13-506_000408 102419 ...     0\n",
       "4728   Dental_Data/PBL/10/04-30-04-746_004151 091409 ...     1\n",
       "1129   Dental_Data/PBL/10/04-28-39-226_001742 082712 ...     0\n",
       "12351  Dental_Data/PBL/10/04-34-26-109_025179_2 10121...     1\n",
       "17633  Dental_Data/PBL/10/04-37-17-550_051282_1 03231...     2\n",
       "1516   Dental_Data/PBL/10/04-28-47-630_001742 082712 ...     0\n",
       "468    Dental_Data/PBL/10/04-28-23-027_000411 112119 ...     0\n",
       "12864  Dental_Data/PBL/10/04-34-40-752_026110_1 03051...     2\n",
       "1203   Dental_Data/PBL/10/04-28-40-664_001742 082712 ...     0\n",
       "17239  Dental_Data/PBL/10/04-37-06-070_051282_1 03231...     2\n",
       "5204   Dental_Data/PBL/10/04-30-15-713_004151 091409 ...     1\n",
       "1841   Dental_Data/PBL/10/04-28-55-148_002456 060517 ...     0\n",
       "508    Dental_Data/PBL/10/04-28-23-961_000411 112119 ...     0\n",
       "358    Dental_Data/PBL/10/04-28-19-926_000408 102419 ...     0\n",
       "918    Dental_Data/PBL/10/04-28-33-405_000411 112119 ...     0\n",
       "1613   Dental_Data/PBL/10/04-28-50-483_002456 060517 ...     0\n",
       "13661  Dental_Data/PBL/10/04-35-03-343_026110_2 06181...     2\n",
       "759    Dental_Data/PBL/10/04-28-29-934_000411 112119 ...     0\n",
       "11522  Dental_Data/PBL/10/04-34-00-826_025179_1 08251...     1\n",
       "1014   Dental_Data/PBL/10/04-28-36-483_000411 112119 ...     0\n",
       "2300   Dental_Data/PBL/10/04-29-05-383_002555 042513 ...     1\n",
       "13305  Dental_Data/PBL/10/04-34-52-278_026110_2 06181...     2\n",
       "1890   Dental_Data/PBL/10/04-28-56-040_002456 060517 ...     0\n",
       "112    Dental_Data/PBL/10/04-28-12-026_000408 102419 ...     1\n",
       "5130   Dental_Data/PBL/10/04-30-13-819_004151 091409 ...     1\n",
       "10555  Dental_Data/PBL/10/04-33-32-434_022198_1 08071...     1\n",
       "...                                                  ...   ...\n",
       "21172  Dental_Data/PBL/10/04-38-55-983_068783_1 09030...     2\n",
       "2305   Dental_Data/PBL/10/04-29-05-524_002555 042513 ...     1\n",
       "37839  Dental_Data/PBL/10/04-49-46-117_422621 031017 ...     2\n",
       "2304   Dental_Data/PBL/10/04-29-05-495_002555 042513 ...     1\n",
       "17972  Dental_Data/PBL/10/04-37-28-696_051282_2 10211...     2\n",
       "12599  Dental_Data/PBL/10/04-34-33-150_026110_1 03051...     2\n",
       "1269   Dental_Data/PBL/10/04-28-41-982_001742 082712 ...     0\n",
       "1150   Dental_Data/PBL/10/04-28-39-546_001742 082712 ...     0\n",
       "11860  Dental_Data/PBL/10/04-34-11-548_025179_1 08251...     1\n",
       "11682  Dental_Data/PBL/10/04-34-04-907_025179_1 08251...     2\n",
       "5221   Dental_Data/PBL/10/04-30-16-124_004151 091409 ...     1\n",
       "18202  Dental_Data/PBL/10/04-37-37-348_051282_2 10211...     2\n",
       "5210   Dental_Data/PBL/10/04-30-15-854_004151 091409 ...     1\n",
       "11943  Dental_Data/PBL/10/04-34-14-063_025179_2 10121...     2\n",
       "118    Dental_Data/PBL/10/04-28-12-183_000408 102419 ...     1\n",
       "17104  Dental_Data/PBL/10/04-37-00-746_043521_2 08231...     2\n",
       "12696  Dental_Data/PBL/10/04-34-35-752_026110_1 03051...     1\n",
       "13636  Dental_Data/PBL/10/04-35-01-973_026110_2 06181...     2\n",
       "12510  Dental_Data/PBL/10/04-34-30-763_026110_1 03051...     1\n",
       "1389   Dental_Data/PBL/10/04-28-44-599_001742 082712 ...     0\n",
       "244    Dental_Data/PBL/10/04-28-16-405_000408 102419 ...     0\n",
       "11584  Dental_Data/PBL/10/04-34-02-520_025179_1 08251...     2\n",
       "1142   Dental_Data/PBL/10/04-28-39-425_001742 082712 ...     0\n",
       "2333   Dental_Data/PBL/10/04-29-06-157_002555 042513 ...     1\n",
       "3716   Dental_Data/PBL/10/04-29-39-863_003615 010816 ...     1\n",
       "14297  Dental_Data/PBL/10/04-35-23-719_026118_1 11061...     1\n",
       "1923   Dental_Data/PBL/10/04-28-56-763_002456 060517 ...     0\n",
       "1740   Dental_Data/PBL/10/04-28-53-523_002456 060517 ...     0\n",
       "1705   Dental_Data/PBL/10/04-28-52-910_002456 060517 ...     0\n",
       "4917   Dental_Data/PBL/10/04-30-09-192_004151 091409 ...     2\n",
       "\n",
       "[4788 rows x 2 columns]"
      ]
     },
     "execution_count": 7,
     "metadata": {},
     "output_type": "execute_result"
    }
   ],
   "source": [
    "train_dataset"
   ]
  },
  {
   "cell_type": "code",
   "execution_count": 8,
   "metadata": {},
   "outputs": [],
   "source": [
    "def VGG_Net(input_shape, classes):\n",
    "        model = models.Sequential()\n",
    "        model.add(Conv2D(512, (3, 3), activation='relu', input_shape=input_shape))\n",
    "        model.add(MaxPooling2D((2, 2)))\n",
    "        \n",
    "        model.add(Conv2D(256, (3, 3), activation='relu'))\n",
    "        model.add(MaxPooling2D((2, 2)))\n",
    "\n",
    "        model.add(Conv2D(128, (3, 3), activation='relu'))\n",
    "        model.add(MaxPooling2D((2, 2)))\n",
    "        \n",
    "        model.add(Conv2D(64, (3, 3), activation='relu'))\n",
    "        model.add(MaxPooling2D((2, 2)))\n",
    "        \n",
    "        #model.add(Conv2D(32, (3, 3), activation='relu'))\n",
    "        #model.add(MaxPooling2D((2, 2)))\n",
    "        \n",
    "        model.add(Flatten())\n",
    "        model.add(Dense(2048, activation='relu'))\n",
    "        model.add(Dropout(0.3))\n",
    "        model.add(Dense(512, activation='relu'))\n",
    "        model.add(Dropout(0.3))\n",
    "        model.add(Dense(64, activation='relu'))\n",
    "        model.add(Dense(classes, activation='softmax'))\n",
    "        model.compile(loss=keras.losses.categorical_crossentropy,\n",
    "                      optimizer=keras.optimizers.Adadelta(),\n",
    "                      metrics=['accuracy'])\n",
    "        \n",
    "        return model"
   ]
  },
  {
   "cell_type": "code",
   "execution_count": 9,
   "metadata": {},
   "outputs": [
    {
     "name": "stdout",
     "output_type": "stream",
     "text": [
      "Model: \"sequential_1\"\n",
      "_________________________________________________________________\n",
      "Layer (type)                 Output Shape              Param #   \n",
      "=================================================================\n",
      "conv2d_1 (Conv2D)            (None, 254, 254, 512)     14336     \n",
      "_________________________________________________________________\n",
      "max_pooling2d_1 (MaxPooling2 (None, 127, 127, 512)     0         \n",
      "_________________________________________________________________\n",
      "conv2d_2 (Conv2D)            (None, 125, 125, 256)     1179904   \n",
      "_________________________________________________________________\n",
      "max_pooling2d_2 (MaxPooling2 (None, 62, 62, 256)       0         \n",
      "_________________________________________________________________\n",
      "conv2d_3 (Conv2D)            (None, 60, 60, 128)       295040    \n",
      "_________________________________________________________________\n",
      "max_pooling2d_3 (MaxPooling2 (None, 30, 30, 128)       0         \n",
      "_________________________________________________________________\n",
      "conv2d_4 (Conv2D)            (None, 28, 28, 64)        73792     \n",
      "_________________________________________________________________\n",
      "max_pooling2d_4 (MaxPooling2 (None, 14, 14, 64)        0         \n",
      "_________________________________________________________________\n",
      "flatten_1 (Flatten)          (None, 12544)             0         \n",
      "_________________________________________________________________\n",
      "dense_1 (Dense)              (None, 2048)              25692160  \n",
      "_________________________________________________________________\n",
      "dropout_1 (Dropout)          (None, 2048)              0         \n",
      "_________________________________________________________________\n",
      "dense_2 (Dense)              (None, 512)               1049088   \n",
      "_________________________________________________________________\n",
      "dropout_2 (Dropout)          (None, 512)               0         \n",
      "_________________________________________________________________\n",
      "dense_3 (Dense)              (None, 64)                32832     \n",
      "_________________________________________________________________\n",
      "dense_4 (Dense)              (None, 3)                 195       \n",
      "=================================================================\n",
      "Total params: 28,337,347\n",
      "Trainable params: 28,337,347\n",
      "Non-trainable params: 0\n",
      "_________________________________________________________________\n"
     ]
    }
   ],
   "source": [
    "input_shape= (*resize_setting, 3)\n",
    "classes    = 3\n",
    "model = VGG_Net(input_shape, classes)\n",
    "model.summary()"
   ]
  },
  {
   "cell_type": "code",
   "execution_count": 10,
   "metadata": {},
   "outputs": [],
   "source": [
    "def plot_result(history):\n",
    "        plt.style.use('fivethirtyeight')\n",
    "        plt.figure(figsize=(16,5))\n",
    "        \n",
    "        plt.subplot(121)\n",
    "        plt.title(\"Loss\")\n",
    "        plt.plot(history.history['loss'], label='Training Loss')\n",
    "        plt.plot(history.history['val_loss'], label = 'Validation Loss')\n",
    "        plt.xlabel('Epoch')\n",
    "        plt.ylabel('Loss')\n",
    "        plt.legend(loc='lower right')\n",
    "        \n",
    "        plt.subplot(122)\n",
    "        plt.title(\"Accuracy\")\n",
    "        plt.plot(history.history['accuracy'], label='Training Accuracy')\n",
    "        plt.plot(history.history['val_accuracy'], label = 'Validation Accuracy')\n",
    "        plt.xlabel('Epoch')\n",
    "        plt.ylabel('Accuracy')\n",
    "        plt.ylim([0.1, 1.5])\n",
    "        plt.legend(loc='lower right')\n",
    "        plt.show()"
   ]
  },
  {
   "cell_type": "code",
   "execution_count": 11,
   "metadata": {},
   "outputs": [
    {
     "name": "stdout",
     "output_type": "stream",
     "text": [
      "Train on 4788 samples, validate on 1596 samples\n",
      "Epoch 1/50\n",
      "4788/4788 [==============================] - 50s 10ms/step - loss: 3.3709 - accuracy: 0.3411 - val_loss: 1.6076 - val_accuracy: 0.3352\n",
      "Epoch 2/50\n",
      "4788/4788 [==============================] - 41s 9ms/step - loss: 1.6939 - accuracy: 0.3642 - val_loss: 1.3462 - val_accuracy: 0.3358\n",
      "Epoch 3/50\n",
      "4788/4788 [==============================] - 41s 9ms/step - loss: 1.3142 - accuracy: 0.3807 - val_loss: 1.2387 - val_accuracy: 0.3352\n",
      "Epoch 4/50\n",
      "4788/4788 [==============================] - 41s 9ms/step - loss: 1.1529 - accuracy: 0.4223 - val_loss: 1.2303 - val_accuracy: 0.3340\n",
      "Epoch 5/50\n",
      "4788/4788 [==============================] - 41s 9ms/step - loss: 1.0984 - accuracy: 0.4307 - val_loss: 1.2277 - val_accuracy: 0.3302\n",
      "Epoch 6/50\n",
      "4788/4788 [==============================] - 41s 9ms/step - loss: 1.0621 - accuracy: 0.4561 - val_loss: 1.2030 - val_accuracy: 0.3064\n",
      "Epoch 7/50\n",
      "4788/4788 [==============================] - 41s 9ms/step - loss: 1.0267 - accuracy: 0.4810 - val_loss: 1.2276 - val_accuracy: 0.2888\n",
      "Epoch 8/50\n",
      "4788/4788 [==============================] - 41s 9ms/step - loss: 0.9982 - accuracy: 0.5115 - val_loss: 1.2192 - val_accuracy: 0.2876\n",
      "Epoch 9/50\n",
      "4788/4788 [==============================] - 41s 9ms/step - loss: 0.9657 - accuracy: 0.5238 - val_loss: 1.2324 - val_accuracy: 0.2769\n",
      "Epoch 10/50\n",
      "4788/4788 [==============================] - 41s 9ms/step - loss: 0.9437 - accuracy: 0.5501 - val_loss: 1.2587 - val_accuracy: 0.2914\n",
      "Epoch 11/50\n",
      "4788/4788 [==============================] - 41s 9ms/step - loss: 0.9099 - accuracy: 0.5725 - val_loss: 1.2531 - val_accuracy: 0.2675\n",
      "Epoch 12/50\n",
      "4788/4788 [==============================] - 41s 9ms/step - loss: 0.8955 - accuracy: 0.5792 - val_loss: 1.2551 - val_accuracy: 0.2920\n",
      "Epoch 13/50\n",
      "4788/4788 [==============================] - 41s 9ms/step - loss: 0.8586 - accuracy: 0.6040 - val_loss: 1.2670 - val_accuracy: 0.2820\n",
      "Epoch 14/50\n",
      "4788/4788 [==============================] - 41s 9ms/step - loss: 0.8262 - accuracy: 0.6268 - val_loss: 1.2843 - val_accuracy: 0.3051\n",
      "Epoch 15/50\n",
      "4788/4788 [==============================] - 41s 9ms/step - loss: 0.8146 - accuracy: 0.6360 - val_loss: 1.2945 - val_accuracy: 0.3033\n",
      "Epoch 16/50\n",
      "4788/4788 [==============================] - 41s 9ms/step - loss: 0.7931 - accuracy: 0.6533 - val_loss: 1.2831 - val_accuracy: 0.3271\n",
      "Epoch 17/50\n",
      "4788/4788 [==============================] - 41s 9ms/step - loss: 0.7472 - accuracy: 0.6805 - val_loss: 1.3059 - val_accuracy: 0.3177\n",
      "Epoch 18/50\n",
      "4788/4788 [==============================] - 41s 9ms/step - loss: 0.7287 - accuracy: 0.6901 - val_loss: 1.3213 - val_accuracy: 0.3139\n",
      "Epoch 19/50\n",
      "4788/4788 [==============================] - 41s 9ms/step - loss: 0.7031 - accuracy: 0.6944 - val_loss: 1.3241 - val_accuracy: 0.3377\n",
      "Epoch 20/50\n",
      "4788/4788 [==============================] - 41s 9ms/step - loss: 0.6887 - accuracy: 0.7095 - val_loss: 1.3749 - val_accuracy: 0.3440\n",
      "Epoch 21/50\n",
      "4788/4788 [==============================] - 41s 9ms/step - loss: 0.6675 - accuracy: 0.7145 - val_loss: 1.3610 - val_accuracy: 0.3409\n",
      "Epoch 22/50\n",
      "4788/4788 [==============================] - 41s 9ms/step - loss: 0.6436 - accuracy: 0.7352 - val_loss: 1.3689 - val_accuracy: 0.3647\n",
      "Epoch 23/50\n",
      "4788/4788 [==============================] - 41s 9ms/step - loss: 0.6259 - accuracy: 0.7456 - val_loss: 1.3314 - val_accuracy: 0.3697\n",
      "Epoch 24/50\n",
      "4788/4788 [==============================] - 41s 9ms/step - loss: 0.6095 - accuracy: 0.7573 - val_loss: 1.4039 - val_accuracy: 0.3590\n",
      "Epoch 25/50\n",
      "4788/4788 [==============================] - 41s 9ms/step - loss: 0.5742 - accuracy: 0.7717 - val_loss: 1.3567 - val_accuracy: 0.3766\n",
      "Epoch 26/50\n",
      "4788/4788 [==============================] - 41s 9ms/step - loss: 0.5611 - accuracy: 0.7744 - val_loss: 1.3964 - val_accuracy: 0.3716\n",
      "Epoch 27/50\n",
      "4788/4788 [==============================] - 41s 9ms/step - loss: 0.5495 - accuracy: 0.7778 - val_loss: 1.3976 - val_accuracy: 0.3847\n",
      "Epoch 28/50\n",
      "4788/4788 [==============================] - 41s 9ms/step - loss: 0.5289 - accuracy: 0.7899 - val_loss: 1.4062 - val_accuracy: 0.3985\n",
      "Epoch 29/50\n",
      "4788/4788 [==============================] - 41s 9ms/step - loss: 0.5037 - accuracy: 0.8028 - val_loss: 1.4673 - val_accuracy: 0.3947\n",
      "Epoch 30/50\n",
      "4788/4788 [==============================] - 41s 9ms/step - loss: 0.4878 - accuracy: 0.8120 - val_loss: 1.4922 - val_accuracy: 0.4004\n",
      "Epoch 31/50\n",
      "4788/4788 [==============================] - 41s 9ms/step - loss: 0.4742 - accuracy: 0.8204 - val_loss: 1.4264 - val_accuracy: 0.3803\n",
      "Epoch 32/50\n",
      "4788/4788 [==============================] - 41s 9ms/step - loss: 0.4680 - accuracy: 0.8241 - val_loss: 1.4436 - val_accuracy: 0.3941\n",
      "Epoch 33/50\n",
      "4788/4788 [==============================] - 41s 9ms/step - loss: 0.4437 - accuracy: 0.8396 - val_loss: 1.4318 - val_accuracy: 0.3835\n",
      "Epoch 34/50\n",
      "4788/4788 [==============================] - 41s 9ms/step - loss: 0.4216 - accuracy: 0.8404 - val_loss: 1.4523 - val_accuracy: 0.3897\n",
      "Epoch 35/50\n",
      "4788/4788 [==============================] - 41s 9ms/step - loss: 0.4042 - accuracy: 0.8494 - val_loss: 1.5404 - val_accuracy: 0.4066\n",
      "Epoch 36/50\n",
      "4788/4788 [==============================] - 41s 9ms/step - loss: 0.3939 - accuracy: 0.8565 - val_loss: 1.5065 - val_accuracy: 0.3972\n",
      "Epoch 37/50\n",
      "4788/4788 [==============================] - 41s 9ms/step - loss: 0.3806 - accuracy: 0.8596 - val_loss: 1.5002 - val_accuracy: 0.4054\n",
      "Epoch 38/50\n",
      "4788/4788 [==============================] - 41s 9ms/step - loss: 0.3675 - accuracy: 0.8680 - val_loss: 1.5401 - val_accuracy: 0.4110\n",
      "Epoch 39/50\n",
      "4788/4788 [==============================] - 41s 9ms/step - loss: 0.3594 - accuracy: 0.8661 - val_loss: 1.4882 - val_accuracy: 0.4054\n",
      "Epoch 40/50\n",
      "4788/4788 [==============================] - 41s 9ms/step - loss: 0.3559 - accuracy: 0.8676 - val_loss: 1.4702 - val_accuracy: 0.4060\n",
      "Epoch 41/50\n",
      "4788/4788 [==============================] - 41s 9ms/step - loss: 0.3414 - accuracy: 0.8784 - val_loss: 1.5449 - val_accuracy: 0.3985\n",
      "Epoch 42/50\n",
      "4788/4788 [==============================] - 41s 9ms/step - loss: 0.3255 - accuracy: 0.8799 - val_loss: 1.4894 - val_accuracy: 0.4110\n",
      "Epoch 43/50\n",
      "4788/4788 [==============================] - 41s 9ms/step - loss: 0.3183 - accuracy: 0.8843 - val_loss: 1.5010 - val_accuracy: 0.4004\n",
      "Epoch 44/50\n",
      "4788/4788 [==============================] - 41s 9ms/step - loss: 0.2984 - accuracy: 0.8939 - val_loss: 1.5522 - val_accuracy: 0.4004\n",
      "Epoch 45/50\n",
      "4788/4788 [==============================] - 41s 9ms/step - loss: 0.2915 - accuracy: 0.8958 - val_loss: 1.6198 - val_accuracy: 0.4160\n",
      "Epoch 46/50\n",
      "4788/4788 [==============================] - 41s 9ms/step - loss: 0.2779 - accuracy: 0.9035 - val_loss: 1.6206 - val_accuracy: 0.4417\n",
      "Epoch 47/50\n",
      "4788/4788 [==============================] - 41s 9ms/step - loss: 0.2664 - accuracy: 0.9050 - val_loss: 1.6658 - val_accuracy: 0.4179\n",
      "Epoch 48/50\n",
      "4788/4788 [==============================] - 41s 9ms/step - loss: 0.2687 - accuracy: 0.9052 - val_loss: 1.6114 - val_accuracy: 0.4267\n",
      "Epoch 49/50\n",
      "4788/4788 [==============================] - 41s 9ms/step - loss: 0.2531 - accuracy: 0.9150 - val_loss: 1.6477 - val_accuracy: 0.4173\n",
      "Epoch 50/50\n",
      "4788/4788 [==============================] - 41s 9ms/step - loss: 0.2442 - accuracy: 0.9183 - val_loss: 1.6051 - val_accuracy: 0.4305\n"
     ]
    }
   ],
   "source": [
    "batch_size = 32\n",
    "epochs     = 50\n",
    "\n",
    "callback = tf.keras.callbacks.EarlyStopping(\n",
    "                monitor=\"val_accuracy\",\n",
    "                min_delta=0.02,\n",
    "                patience=10,\n",
    "                verbose=0,\n",
    "                mode=\"auto\",\n",
    "                baseline=None,\n",
    "                restore_best_weights=False,\n",
    ")\n",
    "\n",
    "history = model.fit(X_train, y_train, validation_data=(X_val, y_val), shuffle=True, epochs=epochs, batch_size=batch_size)"
   ]
  },
  {
   "cell_type": "code",
   "execution_count": 12,
   "metadata": {},
   "outputs": [
    {
     "data": {
      "image/png": "[encoded data removed]",
      "text/plain": [
       "<Figure size 1152x360 with 2 Axes>"
      ]
     },
     "metadata": {},
     "output_type": "display_data"
    }
   ],
   "source": [
    "plot_result(history)"
   ]
  },
  {
   "cell_type": "code",
   "execution_count": 13,
   "metadata": {},
   "outputs": [
    {
     "name": "stdout",
     "output_type": "stream",
     "text": [
      "Test Loss = 1.3607546972451652\n",
      "Test Acc  = 0.5413534045219421\n"
     ]
    },
    {
     "data": {
      "image/png": "[encoded data removed]",
      "text/plain": [
       "<Figure size 432x288 with 2 Axes>"
      ]
     },
     "metadata": {},
     "output_type": "display_data"
    }
   ],
   "source": [
    "def plot_confusion_matrix(confusion_matrix, classes):\n",
    "        df_cm = pd.DataFrame(confusion_matrix, range(classes), range(classes))\n",
    "        sns.set(font_scale=1.4)\n",
    "        sns.heatmap(df_cm, annot=True, annot_kws={\"size\": 16}, cmap='YlGnBu', fmt='g') # font size\n",
    "        plt.title(\"Confusion Matrix\")\n",
    "        plt.xlabel('prediction' , fontsize=18)\n",
    "        plt.ylabel('ground truth', fontsize=18)\n",
    "        plt.show()\n",
    "\n",
    "results = model.evaluate(X_test, y_test, verbose=2, batch_size=8)\n",
    "print(\"Test Loss = {}\\nTest Acc  = {}\".format(*results))\n",
    "prediction = model.predict_classes(X_test, batch_size=8)\n",
    "y = np.argmax(y_test, axis=1)\n",
    "confusion = confusion_matrix(y, prediction)\n",
    "plot_confusion_matrix(confusion, classes)"
   ]
  },
  {
   "cell_type": "code",
   "execution_count": 14,
   "metadata": {},
   "outputs": [],
   "source": [
    "if not os.path.isfile(\"CNN_Net.h5\"):\n",
    "        model.save(\"CNN_Net.h5\")"
   ]
  },
  {
   "cell_type": "code",
   "execution_count": 15,
   "metadata": {},
   "outputs": [],
   "source": [
    "def gradcam(model, x, layer_name):\n",
    "        preds = model.predict(x)\n",
    "        pred_class = np.argmax(preds[0])\n",
    "\n",
    "\n",
    "        # 預測分類的輸出向量\n",
    "        pred_output = model.output[:, pred_class]\n",
    "#         preds = model.predict(x) \n",
    "        \n",
    "        pred_output = model.output\n",
    "        conv_layer = model.get_layer(layer_name)\n",
    "        grads = K.gradients(pred_output, conv_layer.output)[0]\n",
    "        pooled_grads = K.sum(grads, axis=(0, 1, 2))\n",
    "        iterate = K.function([model.input], [pooled_grads, conv_layer.output[0]])\n",
    "        pooled_grads_value, conv_layer_output_value = iterate([x])\n",
    "\n",
    "        for i in range(pooled_grads_value.shape[0]):\n",
    "                conv_layer_output_value[:, :, i] *= (pooled_grads_value[i])\n",
    "\n",
    "        heatmap = np.sum(conv_layer_output_value, axis=-1)\n",
    "    \n",
    "        return heatmap\n",
    "\n",
    "def plot_heatmap(heatmaps, image):\n",
    "        image = cv2.cvtColor(image, cv2.COLOR_GRAY2RGB)\n",
    "\n",
    "        plt.figure(figsize=(16,5))\n",
    "        for idx, heatmap in enumerate(heatmaps):\n",
    "                # ReLU\n",
    "                heatmap = np.maximum(heatmap, 0)\n",
    "\n",
    "                # normalize\n",
    "                heatmap /= np.max(heatmap)\n",
    "                heatmap = cv2.resize(heatmap, (image.shape[1], image.shape[0]))\n",
    "                heatmap = np.uint8(255 * heatmap)\n",
    "\n",
    "                plt.subplot(1, 7, idx+1)\n",
    "                plt.xticks([]), plt.yticks([])\n",
    "                plt.imshow(image, alpha=0.6)\n",
    "                plt.imshow(heatmap, cmap='jet', alpha=0.4)\n",
    "                \n",
    "        plt.show()\n",
    "\n",
    "Conv_layers = [ layer.name for layer in model.layers if 'conv' in layer.name ]\n",
    "\n",
    "same = []\n",
    "diff = []\n",
    "for idx, (truth, pred) in enumerate(zip(y, prediction)):\n",
    "        if truth == pred:\n",
    "                same.append(idx)\n",
    "        else:\n",
    "                diff.append(idx)\n",
    "same_generator = ( X_test[i] for i in same )\n",
    "diff_generator = ( X_test[i] for i in diff )"
   ]
  },
  {
   "cell_type": "code",
   "execution_count": 16,
   "metadata": {
    "scrolled": true
   },
   "outputs": [
    {
     "ename": "ValueError",
     "evalue": "cannot reshape array of size 196608 into shape (1,256,256,1)",
     "output_type": "error",
     "traceback": [
      "\u001b[0;31m---------------------------------------------------------------------------\u001b[0m",
      "\u001b[0;31mValueError\u001b[0m                                Traceback (most recent call last)",
      "\u001b[0;32m<ipython-input-16-5da8ed8863e0>\u001b[0m in \u001b[0;36m<module>\u001b[0;34m\u001b[0m\n\u001b[1;32m      1\u001b[0m \u001b[0;32mfor\u001b[0m \u001b[0midx\u001b[0m\u001b[0;34m,\u001b[0m \u001b[0mi\u001b[0m \u001b[0;32min\u001b[0m \u001b[0menumerate\u001b[0m\u001b[0;34m(\u001b[0m\u001b[0msame_generator\u001b[0m\u001b[0;34m)\u001b[0m\u001b[0;34m:\u001b[0m\u001b[0;34m\u001b[0m\u001b[0;34m\u001b[0m\u001b[0m\n\u001b[0;32m----> 2\u001b[0;31m         \u001b[0mheatmaps\u001b[0m \u001b[0;34m=\u001b[0m \u001b[0;34m[\u001b[0m \u001b[0mgradcam\u001b[0m\u001b[0;34m(\u001b[0m\u001b[0mmodel\u001b[0m\u001b[0;34m,\u001b[0m \u001b[0mi\u001b[0m\u001b[0;34m.\u001b[0m\u001b[0mreshape\u001b[0m\u001b[0;34m(\u001b[0m\u001b[0;36m1\u001b[0m\u001b[0;34m,\u001b[0m \u001b[0;34m*\u001b[0m\u001b[0mresize_setting\u001b[0m\u001b[0;34m,\u001b[0m \u001b[0;36m1\u001b[0m\u001b[0;34m)\u001b[0m\u001b[0;34m,\u001b[0m \u001b[0mConv_layers\u001b[0m\u001b[0;34m[\u001b[0m\u001b[0;34m-\u001b[0m\u001b[0;36m1\u001b[0m\u001b[0;34m]\u001b[0m\u001b[0;34m)\u001b[0m \u001b[0;34m]\u001b[0m\u001b[0;34m\u001b[0m\u001b[0;34m\u001b[0m\u001b[0m\n\u001b[0m\u001b[1;32m      3\u001b[0m         \u001b[0mplot_heatmap\u001b[0m\u001b[0;34m(\u001b[0m\u001b[0mheatmaps\u001b[0m\u001b[0;34m,\u001b[0m \u001b[0mi\u001b[0m\u001b[0;34m)\u001b[0m\u001b[0;34m\u001b[0m\u001b[0;34m\u001b[0m\u001b[0m\n",
      "\u001b[0;31mValueError\u001b[0m: cannot reshape array of size 196608 into shape (1,256,256,1)"
     ]
    }
   ],
   "source": [
    "for idx, i in enumerate(same_generator):\n",
    "        heatmaps = [ gradcam(model, i.reshape(1, *resize_setting, 1), Conv_layers[-1]) ]\n",
    "        plot_heatmap(heatmaps, i)"
   ]
  },
  {
   "cell_type": "code",
   "execution_count": null,
   "metadata": {},
   "outputs": [],
   "source": [
    "for idx, i in enumerate(diff_generator):\n",
    "        heatmaps = [ gradcam(model, i.reshape(1, *resize_setting, 1), Conv_layers[-1]) ]\n",
    "        plot_heatmap(heatmaps, i)"
   ]
  },
  {
   "cell_type": "code",
   "execution_count": null,
   "metadata": {},
   "outputs": [],
   "source": []
  }
 ],
 "metadata": {
  "kernelspec": {
   "display_name": "Python 3",
   "language": "python",
   "name": "python3"
  },
  "language_info": {
   "codemirror_mode": {
    "name": "ipython",
    "version": 3
   },
   "file_extension": ".py",
   "mimetype": "text/x-python",
   "name": "python",
   "nbconvert_exporter": "python",
   "pygments_lexer": "ipython3",
   "version": "3.6.7"
  },
  "widgets": {
   "application/vnd.jupyter.widget-state+json": {
    "state": {
     "002360d3c9d74cb98e124ef98d556bdd": {
      "model_module": "@jupyter-widgets/controls",
      "model_module_version": "1.5.0",
      "model_name": "ProgressStyleModel",
      "state": {
       "description_width": "initial"
      }
     },
     "0033b1a5d0f24998b7831d72be25bc4c": {
      "model_module": "@jupyter-widgets/controls",
      "model_module_version": "1.5.0",
      "model_name": "DescriptionStyleModel",
      "state": {
       "description_width": ""
      }
     },
     "00349f9845d749ac8dc694ef32bea6c9": {
      "model_module": "@jupyter-widgets/base",
      "model_module_version": "1.2.0",
      "model_name": "LayoutModel",
      "state": {}
     },
     "007197e1723d470daebcf08a5bbc0f5c": {
      "model_module": "@jupyter-widgets/controls",
      "model_module_version": "1.5.0",
      "model_name": "HTMLModel",
      "state": {
       "layout": "IPY_MODEL_a21f74b4100c4a2181100ba754d8cfe9",
       "style": "IPY_MODEL_8ebaaecbddf34db69b2aea37f8cfd7b6",
       "value": " 2772/2772 [00:09&lt;00:00, 296.81it/s]"
      }
     },
     "00b27c67ea5c4c1aa11d6c3f74b68841": {
      "model_module": "@jupyter-widgets/base",
      "model_module_version": "1.2.0",
      "model_name": "LayoutModel",
      "state": {}
     },
     "0131c39efb1340e2aa2e63ffdef72d9e": {
      "model_module": "@jupyter-widgets/base",
      "model_module_version": "1.2.0",
      "model_name": "LayoutModel",
      "state": {}
     },
     "01a8ed54874c4e99b3ea10cb9862a31d": {
      "model_module": "@jupyter-widgets/controls",
      "model_module_version": "1.5.0",
      "model_name": "FloatProgressModel",
      "state": {
       "bar_style": "success",
       "description": "100%",
       "layout": "IPY_MODEL_5ad24fef226749cbb81fe0348318fc69",
       "max": 29920,
       "style": "IPY_MODEL_a46912806f0c41e18c7332cc8c0da84f",
       "value": 29920
      }
     },
     "01b807ac306a4d78aee7b4d851d5948e": {
      "model_module": "@jupyter-widgets/controls",
      "model_module_version": "1.5.0",
      "model_name": "ProgressStyleModel",
      "state": {
       "description_width": "initial"
      }
     },
     "01ba92d05be14c91be08d5c8c843a4c2": {
      "model_module": "@jupyter-widgets/controls",
      "model_module_version": "1.5.0",
      "model_name": "HTMLModel",
      "state": {
       "layout": "IPY_MODEL_b4609e0d5a0f4dc6a1e70c65f24da9e2",
       "style": "IPY_MODEL_e556c3a66fbf41a78e405578ecdd9868",
       "value": " 2772/2772 [00:06&lt;00:00, 404.61it/s]"
      }
     },
     "01ec78bdab95408ab0ab2abfd8b16463": {
      "model_module": "@jupyter-widgets/controls",
      "model_module_version": "1.5.0",
      "model_name": "FloatProgressModel",
      "state": {
       "bar_style": "success",
       "description": "100%",
       "layout": "IPY_MODEL_d7058d59df624347a38c26458dadb805",
       "max": 2772,
       "style": "IPY_MODEL_fbfbdffa63804877b7fad06ee59fc574",
       "value": 2772
      }
     },
     "0252feb9615b40f8908f2f9201b492e0": {
      "model_module": "@jupyter-widgets/controls",
      "model_module_version": "1.5.0",
      "model_name": "ProgressStyleModel",
      "state": {
       "description_width": "initial"
      }
     },
     "02c25b4408634210a4f2544f6758db4d": {
      "model_module": "@jupyter-widgets/base",
      "model_module_version": "1.2.0",
      "model_name": "LayoutModel",
      "state": {}
     },
     "02d60728d2dc41abb627c0316a56dc48": {
      "model_module": "@jupyter-widgets/controls",
      "model_module_version": "1.5.0",
      "model_name": "HTMLModel",
      "state": {
       "layout": "IPY_MODEL_eadaa5119bee4514b2a9ab5fe7417202",
       "style": "IPY_MODEL_e844da0db0594cacb3ae97838ab50637",
       "value": " 33200/33200 [02:23&lt;00:00, 231.53it/s]"
      }
     },
     "03304521db734913a11643cc5c850a3c": {
      "model_module": "@jupyter-widgets/controls",
      "model_module_version": "1.5.0",
      "model_name": "FloatProgressModel",
      "state": {
       "bar_style": "success",
       "description": "100%",
       "layout": "IPY_MODEL_26450c0c24e94172a68ec95a191d2964",
       "max": 6444,
       "style": "IPY_MODEL_2542be2c51864e5896a2c2d136f298a0",
       "value": 6444
      }
     },
     "034e4de05f254e8290f3e8a92b7541fd": {
      "model_module": "@jupyter-widgets/base",
      "model_module_version": "1.2.0",
      "model_name": "LayoutModel",
      "state": {}
     },
     "03a13688102449fdb0892e28c96894d3": {
      "model_module": "@jupyter-widgets/base",
      "model_module_version": "1.2.0",
      "model_name": "LayoutModel",
      "state": {}
     },
     "03bdf60d28be41adb4eba5ed0124cf37": {
      "model_module": "@jupyter-widgets/controls",
      "model_module_version": "1.5.0",
      "model_name": "FloatProgressModel",
      "state": {
       "bar_style": "success",
       "description": "100%",
       "layout": "IPY_MODEL_14baae26f6d34e1495bf7bab9a4dacff",
       "max": 2148,
       "style": "IPY_MODEL_dbe7cf16a10b4027b30bde869c9b30fc",
       "value": 2148
      }
     },
     "03f022d4c3314c76a1316ba7c512bbd3": {
      "model_module": "@jupyter-widgets/base",
      "model_module_version": "1.2.0",
      "model_name": "LayoutModel",
      "state": {}
     },
     "0402b5d03dae42e193ecedeb4e2a6002": {
      "model_module": "@jupyter-widgets/base",
      "model_module_version": "1.2.0",
      "model_name": "LayoutModel",
      "state": {}
     },
     "0416cfc5213e4c60a31fd5ec88a1608d": {
      "model_module": "@jupyter-widgets/controls",
      "model_module_version": "1.5.0",
      "model_name": "HTMLModel",
      "state": {
       "layout": "IPY_MODEL_b18ddc28d1c743cbb933a5d8589df0e6",
       "style": "IPY_MODEL_8fc5270f92bb49068ded64cf6b572060",
       "value": " 33200/33200 [02:23&lt;00:00, 231.37it/s]"
      }
     },
     "04671c72cde448a793efbdd02f82537b": {
      "model_module": "@jupyter-widgets/base",
      "model_module_version": "1.2.0",
      "model_name": "LayoutModel",
      "state": {}
     },
     "04752ef182524a4eac4e4fb1056ca7c6": {
      "model_module": "@jupyter-widgets/controls",
      "model_module_version": "1.5.0",
      "model_name": "HBoxModel",
      "state": {
       "children": [
        "IPY_MODEL_35d4fe7b0ec048ceb6b7669028750c6e",
        "IPY_MODEL_5831d08aac0042dd961308441096fbdd"
       ],
       "layout": "IPY_MODEL_3b4a4508bbe44709a64eb362d158b0d0"
      }
     },
     "0489f3c6bc064c79a2ed591bcfa3fe26": {
      "model_module": "@jupyter-widgets/base",
      "model_module_version": "1.2.0",
      "model_name": "LayoutModel",
      "state": {}
     },
     "04acb6fd0be74532a93ac2a4011e2634": {
      "model_module": "@jupyter-widgets/controls",
      "model_module_version": "1.5.0",
      "model_name": "FloatProgressModel",
      "state": {
       "bar_style": "success",
       "description": "100%",
       "layout": "IPY_MODEL_6b4369483ded43c4ae8d3c09034407fa",
       "max": 52260,
       "style": "IPY_MODEL_598f5a62022642099ee684248f1c6079",
       "value": 52260
      }
     },
     "04b90975640140a2864284e66ff33656": {
      "model_module": "@jupyter-widgets/base",
      "model_module_version": "1.2.0",
      "model_name": "LayoutModel",
      "state": {}
     },
     "050b9430a0f2450198859f2a71a9ca97": {
      "model_module": "@jupyter-widgets/controls",
      "model_module_version": "1.5.0",
      "model_name": "FloatProgressModel",
      "state": {
       "bar_style": "success",
       "description": "100%",
       "layout": "IPY_MODEL_0d5832b5daae4db7b3cca0d919abbe2a",
       "max": 6444,
       "style": "IPY_MODEL_b202dfdb5e9b4a3c99a95689eb4b8afc",
       "value": 6444
      }
     },
     "05a6b39aac664a648d761443e2ba0a3e": {
      "model_module": "@jupyter-widgets/controls",
      "model_module_version": "1.5.0",
      "model_name": "HBoxModel",
      "state": {
       "children": [
        "IPY_MODEL_b809353952bb431085585ccdea951bf3",
        "IPY_MODEL_f57c54e9d8a848589627dc170d1b7cbb"
       ],
       "layout": "IPY_MODEL_9ff545e32f684361a6a5ebc8e5b5f659"
      }
     },
     "061e7febf7d640a0854588cffe2332aa": {
      "model_module": "@jupyter-widgets/base",
      "model_module_version": "1.2.0",
      "model_name": "LayoutModel",
      "state": {}
     },
     "07217660e4bd41b68114d6ede9743a55": {
      "model_module": "@jupyter-widgets/controls",
      "model_module_version": "1.5.0",
      "model_name": "HTMLModel",
      "state": {
       "layout": "IPY_MODEL_4c10544040a04602a1a3411cd82c7983",
       "style": "IPY_MODEL_2bd63aeaf7fe4dd19c7fd8bff54f0271",
       "value": " 3240/3240 [00:05&lt;00:00, 545.65it/s]"
      }
     },
     "07696385a7af4136b4f7808227855811": {
      "model_module": "@jupyter-widgets/controls",
      "model_module_version": "1.5.0",
      "model_name": "DescriptionStyleModel",
      "state": {
       "description_width": ""
      }
     },
     "078c3e10418646578d55c00e7e0be82e": {
      "model_module": "@jupyter-widgets/base",
      "model_module_version": "1.2.0",
      "model_name": "LayoutModel",
      "state": {}
     },
     "07a3865d5f9942798470f54e7398268f": {
      "model_module": "@jupyter-widgets/controls",
      "model_module_version": "1.5.0",
      "model_name": "DescriptionStyleModel",
      "state": {
       "description_width": ""
      }
     },
     "07c5996885134628af0833d77a53f2c8": {
      "model_module": "@jupyter-widgets/base",
      "model_module_version": "1.2.0",
      "model_name": "LayoutModel",
      "state": {}
     },
     "0979ea9de73a42448f7dc6fb5f1cfdf2": {
      "model_module": "@jupyter-widgets/controls",
      "model_module_version": "1.5.0",
      "model_name": "ProgressStyleModel",
      "state": {
       "description_width": "initial"
      }
     },
     "09a3997d682d4a18a5e1f7f0f93aaea9": {
      "model_module": "@jupyter-widgets/base",
      "model_module_version": "1.2.0",
      "model_name": "LayoutModel",
      "state": {}
     },
     "0a52169051eb4795b3d06551cce4747d": {
      "model_module": "@jupyter-widgets/controls",
      "model_module_version": "1.5.0",
      "model_name": "FloatProgressModel",
      "state": {
       "bar_style": "success",
       "description": "100%",
       "layout": "IPY_MODEL_d764c966529540bfbb5738960b824b96",
       "max": 3240,
       "style": "IPY_MODEL_f9fa22d92997405492f0b7072a0fdfee",
       "value": 3240
      }
     },
     "0b777b44de02434390eb83cedae872de": {
      "model_module": "@jupyter-widgets/controls",
      "model_module_version": "1.5.0",
      "model_name": "ProgressStyleModel",
      "state": {
       "description_width": "initial"
      }
     },
     "0b7929d15aab4106b78ef246bc19391e": {
      "model_module": "@jupyter-widgets/controls",
      "model_module_version": "1.5.0",
      "model_name": "DescriptionStyleModel",
      "state": {
       "description_width": ""
      }
     },
     "0ca49198f5644a6dac26a4c3182c39c5": {
      "model_module": "@jupyter-widgets/base",
      "model_module_version": "1.2.0",
      "model_name": "LayoutModel",
      "state": {}
     },
     "0ce783f166364242bc5415b805de999c": {
      "model_module": "@jupyter-widgets/base",
      "model_module_version": "1.2.0",
      "model_name": "LayoutModel",
      "state": {}
     },
     "0cf15f9fbfb049c39fe524eb6f376530": {
      "model_module": "@jupyter-widgets/base",
      "model_module_version": "1.2.0",
      "model_name": "LayoutModel",
      "state": {}
     },
     "0d5832b5daae4db7b3cca0d919abbe2a": {
      "model_module": "@jupyter-widgets/base",
      "model_module_version": "1.2.0",
      "model_name": "LayoutModel",
      "state": {}
     },
     "0d584d33b7464a4d95a4b87df6460953": {
      "model_module": "@jupyter-widgets/controls",
      "model_module_version": "1.5.0",
      "model_name": "FloatProgressModel",
      "state": {
       "bar_style": "success",
       "description": "100%",
       "layout": "IPY_MODEL_b39a01de612a4532942e62c6f299a9bd",
       "max": 2772,
       "style": "IPY_MODEL_fd0c0a04fb99426f8e1f623831ce1a19",
       "value": 2772
      }
     },
     "0dc8c7a75bd846c599179b46ab16a5c5": {
      "model_module": "@jupyter-widgets/controls",
      "model_module_version": "1.5.0",
      "model_name": "ProgressStyleModel",
      "state": {
       "description_width": "initial"
      }
     },
     "0ea39f6744c94a1f99e7c29e63bad949": {
      "model_module": "@jupyter-widgets/controls",
      "model_module_version": "1.5.0",
      "model_name": "DescriptionStyleModel",
      "state": {
       "description_width": ""
      }
     },
     "0eaeafc2914e4ecc92eaa4fa233c10c5": {
      "model_module": "@jupyter-widgets/controls",
      "model_module_version": "1.5.0",
      "model_name": "FloatProgressModel",
      "state": {
       "bar_style": "success",
       "description": "100%",
       "layout": "IPY_MODEL_5e0bacf11bf841a5947b0c9ded8e716f",
       "max": 2148,
       "style": "IPY_MODEL_c598d2393f994e61a06764adf0268103",
       "value": 2148
      }
     },
     "0ece79af71174c6893957256283b2b64": {
      "model_module": "@jupyter-widgets/controls",
      "model_module_version": "1.5.0",
      "model_name": "HBoxModel",
      "state": {
       "children": [
        "IPY_MODEL_b58bf68358814d899273801411e4c773",
        "IPY_MODEL_1fbc30b90da6453fb61c5c1e28430e31"
       ],
       "layout": "IPY_MODEL_643d2053a9fb40678e832826f47d0eb3"
      }
     },
     "0f5b6ec1ed0e414382c4c2375a191f94": {
      "model_module": "@jupyter-widgets/base",
      "model_module_version": "1.2.0",
      "model_name": "LayoutModel",
      "state": {}
     },
     "0f8d1dd2eaac4567b29592eb55b8325a": {
      "model_module": "@jupyter-widgets/base",
      "model_module_version": "1.2.0",
      "model_name": "LayoutModel",
      "state": {}
     },
     "0feecc78097c4ca0bf27952cfbb72056": {
      "model_module": "@jupyter-widgets/controls",
      "model_module_version": "1.5.0",
      "model_name": "FloatProgressModel",
      "state": {
       "bar_style": "success",
       "description": "100%",
       "layout": "IPY_MODEL_e9ace82c1d8b450eb2935c4d05a45a5e",
       "max": 2772,
       "style": "IPY_MODEL_9f65df067759494b8bf01a72abb25a39",
       "value": 2772
      }
     },
     "10c53e93315f4718bbe546ee43adc2ee": {
      "model_module": "@jupyter-widgets/controls",
      "model_module_version": "1.5.0",
      "model_name": "DescriptionStyleModel",
      "state": {
       "description_width": ""
      }
     },
     "10dd5d71a76845f781b35160e2db1c40": {
      "model_module": "@jupyter-widgets/base",
      "model_module_version": "1.2.0",
      "model_name": "LayoutModel",
      "state": {}
     },
     "112bfbf28a3f44c8a8e1c2c16df4fdf0": {
      "model_module": "@jupyter-widgets/base",
      "model_module_version": "1.2.0",
      "model_name": "LayoutModel",
      "state": {}
     },
     "113c639f48b84332914e5d8386e19e69": {
      "model_module": "@jupyter-widgets/controls",
      "model_module_version": "1.5.0",
      "model_name": "HTMLModel",
      "state": {
       "layout": "IPY_MODEL_92efed68853f448288d02724d3c4256a",
       "style": "IPY_MODEL_e215cd20be2c41869b2cafcd1a7c265f",
       "value": " 6444/6444 [00:11&lt;00:00, 543.69it/s]"
      }
     },
     "11ad0ab6fa694b1fbd96217a22a9208c": {
      "model_module": "@jupyter-widgets/controls",
      "model_module_version": "1.5.0",
      "model_name": "FloatProgressModel",
      "state": {
       "bar_style": "success",
       "description": "100%",
       "layout": "IPY_MODEL_b145cc6c08824834a63f846e2640a7d4",
       "max": 2772,
       "style": "IPY_MODEL_183f3e11c69e45b491c57c2a080f3d98",
       "value": 2772
      }
     },
     "128205c59bad42ed97cfe1c4e6a3d9e8": {
      "model_module": "@jupyter-widgets/base",
      "model_module_version": "1.2.0",
      "model_name": "LayoutModel",
      "state": {}
     },
     "131b0d7ab2464f169c089b1677636962": {
      "model_module": "@jupyter-widgets/controls",
      "model_module_version": "1.5.0",
      "model_name": "FloatProgressModel",
      "state": {
       "bar_style": "success",
       "description": "100%",
       "layout": "IPY_MODEL_c5e056b779e0443dbf60689f6ba53dfa",
       "max": 2148,
       "style": "IPY_MODEL_6e6e6407f33d47e5838bde17b6fdd311",
       "value": 2148
      }
     },
     "13261822ccaf460788efa362d9eac0b0": {
      "model_module": "@jupyter-widgets/base",
      "model_module_version": "1.2.0",
      "model_name": "LayoutModel",
      "state": {}
     },
     "137a422103184f42a3613bdb2b69aa61": {
      "model_module": "@jupyter-widgets/base",
      "model_module_version": "1.2.0",
      "model_name": "LayoutModel",
      "state": {}
     },
     "13cb098c377248fcb367ca7b1a2bbfde": {
      "model_module": "@jupyter-widgets/base",
      "model_module_version": "1.2.0",
      "model_name": "LayoutModel",
      "state": {}
     },
     "1408a284ff3645758dc21d230cdfc83b": {
      "model_module": "@jupyter-widgets/controls",
      "model_module_version": "1.5.0",
      "model_name": "HTMLModel",
      "state": {
       "layout": "IPY_MODEL_f7b11d8d102c4ef1b0721b666c779abe",
       "style": "IPY_MODEL_6974504976e6478ca402b70374fae914",
       "value": " 1596/1596 [00:04&lt;00:00, 364.53it/s]"
      }
     },
     "14277a361dd542818792b4d9c79d5050": {
      "model_module": "@jupyter-widgets/base",
      "model_module_version": "1.2.0",
      "model_name": "LayoutModel",
      "state": {}
     },
     "148a952326f14f38967f5222b90fce57": {
      "model_module": "@jupyter-widgets/controls",
      "model_module_version": "1.5.0",
      "model_name": "FloatProgressModel",
      "state": {
       "bar_style": "success",
       "description": "100%",
       "layout": "IPY_MODEL_99acb68bdd104b62b930d3c18c8f45f8",
       "max": 2148,
       "style": "IPY_MODEL_9007376d2cfb4588a760290603363836",
       "value": 2148
      }
     },
     "14baae26f6d34e1495bf7bab9a4dacff": {
      "model_module": "@jupyter-widgets/base",
      "model_module_version": "1.2.0",
      "model_name": "LayoutModel",
      "state": {}
     },
     "14d544b770af40d59efc111d74ea654f": {
      "model_module": "@jupyter-widgets/base",
      "model_module_version": "1.2.0",
      "model_name": "LayoutModel",
      "state": {}
     },
     "1564467d80ec423f8cd1986f50a0f39b": {
      "model_module": "@jupyter-widgets/controls",
      "model_module_version": "1.5.0",
      "model_name": "ProgressStyleModel",
      "state": {
       "description_width": "initial"
      }
     },
     "165e2be51dfe4fd5a94c542e444bd621": {
      "model_module": "@jupyter-widgets/base",
      "model_module_version": "1.2.0",
      "model_name": "LayoutModel",
      "state": {}
     },
     "16e97355200a4136b3047121df25bf68": {
      "model_module": "@jupyter-widgets/base",
      "model_module_version": "1.2.0",
      "model_name": "LayoutModel",
      "state": {}
     },
     "17cb0dd0bb904d70adc0148b55c2fa10": {
      "model_module": "@jupyter-widgets/controls",
      "model_module_version": "1.5.0",
      "model_name": "HBoxModel",
      "state": {
       "children": [
        "IPY_MODEL_a2b4f0be0b064ce483c94783a99903f8",
        "IPY_MODEL_285742790da144adb6911fdb18c84d19"
       ],
       "layout": "IPY_MODEL_5733087aab6e4507b89cecee4b3eab7c"
      }
     },
     "17e26a2002f4443da122e7af58979b9a": {
      "model_module": "@jupyter-widgets/base",
      "model_module_version": "1.2.0",
      "model_name": "LayoutModel",
      "state": {}
     },
     "183649393b4d4744af484c6d0f6a8b0d": {
      "model_module": "@jupyter-widgets/controls",
      "model_module_version": "1.5.0",
      "model_name": "ProgressStyleModel",
      "state": {
       "description_width": "initial"
      }
     },
     "183f3e11c69e45b491c57c2a080f3d98": {
      "model_module": "@jupyter-widgets/controls",
      "model_module_version": "1.5.0",
      "model_name": "ProgressStyleModel",
      "state": {
       "description_width": "initial"
      }
     },
     "188f0f18545c4907b68e7d3b2c040b40": {
      "model_module": "@jupyter-widgets/controls",
      "model_module_version": "1.5.0",
      "model_name": "ProgressStyleModel",
      "state": {
       "description_width": "initial"
      }
     },
     "18f10bf51fb5471e8d4689160f8f5280": {
      "model_module": "@jupyter-widgets/controls",
      "model_module_version": "1.5.0",
      "model_name": "ProgressStyleModel",
      "state": {
       "description_width": "initial"
      }
     },
     "191010fffdfa4bb7b494c7ac8a6321a9": {
      "model_module": "@jupyter-widgets/base",
      "model_module_version": "1.2.0",
      "model_name": "LayoutModel",
      "state": {}
     },
     "1a3331fc7c0b4f6b962b614581f815ac": {
      "model_module": "@jupyter-widgets/controls",
      "model_module_version": "1.5.0",
      "model_name": "ProgressStyleModel",
      "state": {
       "description_width": "initial"
      }
     },
     "1a4c7f7a9f4f4004a595bf635cd6ae3e": {
      "model_module": "@jupyter-widgets/controls",
      "model_module_version": "1.5.0",
      "model_name": "ProgressStyleModel",
      "state": {
       "description_width": "initial"
      }
     },
     "1a5e76e3ebd4497eb5bbe22a0063fe65": {
      "model_module": "@jupyter-widgets/controls",
      "model_module_version": "1.5.0",
      "model_name": "HBoxModel",
      "state": {
       "children": [
        "IPY_MODEL_c0246fb525c64ff39386f0ccbe5c5db3",
        "IPY_MODEL_bc32963a9b7a47eca64859d7b4fb80b6"
       ],
       "layout": "IPY_MODEL_420f03c3db5f49a1b17313cc414a46a5"
      }
     },
     "1a68c7f035b841b7af684f73361d5d9f": {
      "model_module": "@jupyter-widgets/base",
      "model_module_version": "1.2.0",
      "model_name": "LayoutModel",
      "state": {}
     },
     "1a789dcb729a469e81da7cf648fa6514": {
      "model_module": "@jupyter-widgets/controls",
      "model_module_version": "1.5.0",
      "model_name": "HTMLModel",
      "state": {
       "layout": "IPY_MODEL_d714fbe21f984612a932f02892c0176c",
       "style": "IPY_MODEL_a8c86ddc27fa472295eeb238d7b85db9",
       "value": " 29920/29920 [02:14&lt;00:00, 223.01it/s]"
      }
     },
     "1b08fc5c406149c690c01b8cfc50f645": {
      "model_module": "@jupyter-widgets/base",
      "model_module_version": "1.2.0",
      "model_name": "LayoutModel",
      "state": {}
     },
     "1b1c148fdd3c46bd90eb84fae82bf554": {
      "model_module": "@jupyter-widgets/controls",
      "model_module_version": "1.5.0",
      "model_name": "ProgressStyleModel",
      "state": {
       "description_width": "initial"
      }
     },
     "1c084ba509794f9a8ddf18fba981c31b": {
      "model_module": "@jupyter-widgets/controls",
      "model_module_version": "1.5.0",
      "model_name": "HTMLModel",
      "state": {
       "layout": "IPY_MODEL_71632e5d9cb64740b19bd0a3dbde42df",
       "style": "IPY_MODEL_aad698fc19244335a26403ae506f5d03",
       "value": " 33200/33200 [02:19&lt;00:00, 237.51it/s]"
      }
     },
     "1c314955b95f46f8a7b9f1fedaba759f": {
      "model_module": "@jupyter-widgets/base",
      "model_module_version": "1.2.0",
      "model_name": "LayoutModel",
      "state": {}
     },
     "1c3e1262381545538095ba6fa3beb642": {
      "model_module": "@jupyter-widgets/base",
      "model_module_version": "1.2.0",
      "model_name": "LayoutModel",
      "state": {}
     },
     "1c461584dc4d4c62a2ad42d0769753c0": {
      "model_module": "@jupyter-widgets/controls",
      "model_module_version": "1.5.0",
      "model_name": "FloatProgressModel",
      "state": {
       "bar_style": "success",
       "description": "100%",
       "layout": "IPY_MODEL_4f39fdab67fd4607a6416a1de8ff92e3",
       "max": 2772,
       "style": "IPY_MODEL_81c8a097be7a421ab9ef13986b27b2a0",
       "value": 2772
      }
     },
     "1c5e4a83beca4ccdb10a1ee06c6eaf93": {
      "model_module": "@jupyter-widgets/base",
      "model_module_version": "1.2.0",
      "model_name": "LayoutModel",
      "state": {}
     },
     "1cf7b2e718f84c3ea57b5cb7db27e08b": {
      "model_module": "@jupyter-widgets/controls",
      "model_module_version": "1.5.0",
      "model_name": "HTMLModel",
      "state": {
       "layout": "IPY_MODEL_137a422103184f42a3613bdb2b69aa61",
       "style": "IPY_MODEL_1d1075d56cbd4bc4be95d650d14a336f",
       "value": " 3888/3888 [00:06&lt;00:00, 559.50it/s]"
      }
     },
     "1d1075d56cbd4bc4be95d650d14a336f": {
      "model_module": "@jupyter-widgets/controls",
      "model_module_version": "1.5.0",
      "model_name": "DescriptionStyleModel",
      "state": {
       "description_width": ""
      }
     },
     "1d2d0b918e57412088fbc975c348fc3d": {
      "model_module": "@jupyter-widgets/controls",
      "model_module_version": "1.5.0",
      "model_name": "ProgressStyleModel",
      "state": {
       "description_width": "initial"
      }
     },
     "1d78c282b8854829ba2bd762b5a27fa8": {
      "model_module": "@jupyter-widgets/controls",
      "model_module_version": "1.5.0",
      "model_name": "ProgressStyleModel",
      "state": {
       "description_width": "initial"
      }
     },
     "1dc0b3e80a6b49308c784f2d153542a1": {
      "model_module": "@jupyter-widgets/controls",
      "model_module_version": "1.5.0",
      "model_name": "DescriptionStyleModel",
      "state": {
       "description_width": ""
      }
     },
     "1df47f544f9843748b6648f9dd70cf22": {
      "model_module": "@jupyter-widgets/controls",
      "model_module_version": "1.5.0",
      "model_name": "HBoxModel",
      "state": {
       "children": [
        "IPY_MODEL_0d584d33b7464a4d95a4b87df6460953",
        "IPY_MODEL_a890846b133046958f163f23a2f29e7e"
       ],
       "layout": "IPY_MODEL_61da9dd4475f496f908fd96feca3778f"
      }
     },
     "1f1344592e994e4496a45f80a74e5e37": {
      "model_module": "@jupyter-widgets/base",
      "model_module_version": "1.2.0",
      "model_name": "LayoutModel",
      "state": {}
     },
     "1f38b322347e4cfea2576b02a0888a1c": {
      "model_module": "@jupyter-widgets/controls",
      "model_module_version": "1.5.0",
      "model_name": "ProgressStyleModel",
      "state": {
       "description_width": "initial"
      }
     },
     "1f49ed7092eb47629263e263a6f842fa": {
      "model_module": "@jupyter-widgets/controls",
      "model_module_version": "1.5.0",
      "model_name": "HBoxModel",
      "state": {
       "children": [
        "IPY_MODEL_f7411a5bac864f8e879889867d276550",
        "IPY_MODEL_1408a284ff3645758dc21d230cdfc83b"
       ],
       "layout": "IPY_MODEL_831adc6d51d7434799e140189c019c3b"
      }
     },
     "1f814342f2684a1b93d0da97569c9ee1": {
      "model_module": "@jupyter-widgets/controls",
      "model_module_version": "1.5.0",
      "model_name": "FloatProgressModel",
      "state": {
       "bar_style": "success",
       "description": "100%",
       "layout": "IPY_MODEL_03a13688102449fdb0892e28c96894d3",
       "max": 2772,
       "style": "IPY_MODEL_9075945c303344989260e3121f46c96e",
       "value": 2772
      }
     },
     "1fbc30b90da6453fb61c5c1e28430e31": {
      "model_module": "@jupyter-widgets/controls",
      "model_module_version": "1.5.0",
      "model_name": "HTMLModel",
      "state": {
       "layout": "IPY_MODEL_50892fd681864d48a01e157e5d02a8ca",
       "style": "IPY_MODEL_e3e7d3aa18f14b64a2d266762bae9646",
       "value": " 2772/2772 [00:09&lt;00:00, 300.92it/s]"
      }
     },
     "201751751b9244ce994118f3af068d5f": {
      "model_module": "@jupyter-widgets/controls",
      "model_module_version": "1.5.0",
      "model_name": "DescriptionStyleModel",
      "state": {
       "description_width": ""
      }
     },
     "202d1ccc3fa4478ab24a3b77eb1d96a8": {
      "model_module": "@jupyter-widgets/controls",
      "model_module_version": "1.5.0",
      "model_name": "FloatProgressModel",
      "state": {
       "bar_style": "success",
       "description": "100%",
       "layout": "IPY_MODEL_f8147e1efad1446baf537dc6337ff29d",
       "max": 2772,
       "style": "IPY_MODEL_31b82a6adca940afab5e85b4cb9cebc0",
       "value": 2772
      }
     },
     "20f376a2462a41bb9219ed17151180b3": {
      "model_module": "@jupyter-widgets/base",
      "model_module_version": "1.2.0",
      "model_name": "LayoutModel",
      "state": {}
     },
     "222640bdadde431f95f3faf6aad67d35": {
      "model_module": "@jupyter-widgets/controls",
      "model_module_version": "1.5.0",
      "model_name": "DescriptionStyleModel",
      "state": {
       "description_width": ""
      }
     },
     "226f82558e814ab097b109fd8b3497d0": {
      "model_module": "@jupyter-widgets/controls",
      "model_module_version": "1.5.0",
      "model_name": "HTMLModel",
      "state": {
       "layout": "IPY_MODEL_6532072f7ebf43a0b737a2a57512d0e1",
       "style": "IPY_MODEL_8bfb55610c56459fb800e69d7dd839a8",
       "value": " 33200/33200 [02:22&lt;00:00, 233.66it/s]"
      }
     },
     "230cc2b41cf641bd94c4f4ff0bab949b": {
      "model_module": "@jupyter-widgets/controls",
      "model_module_version": "1.5.0",
      "model_name": "ProgressStyleModel",
      "state": {
       "description_width": "initial"
      }
     },
     "23130f9c3fa646cf83dbd1aaf2f6cc7a": {
      "model_module": "@jupyter-widgets/controls",
      "model_module_version": "1.5.0",
      "model_name": "HBoxModel",
      "state": {
       "children": [
        "IPY_MODEL_2bb6e2ce0e044792863a2af9e8fb766a",
        "IPY_MODEL_917d0664330047d585329cc253d8b6d7"
       ],
       "layout": "IPY_MODEL_c8dc59c9479b482b85a7e3d379876b77"
      }
     },
     "232860a6ddf04d1e94e69facec6fecc0": {
      "model_module": "@jupyter-widgets/base",
      "model_module_version": "1.2.0",
      "model_name": "LayoutModel",
      "state": {}
     },
     "237cdba9e5f244b1b76d92e8d516b738": {
      "model_module": "@jupyter-widgets/controls",
      "model_module_version": "1.5.0",
      "model_name": "ProgressStyleModel",
      "state": {
       "description_width": "initial"
      }
     },
     "240f379f894c42e7967fa6c2f8e16f21": {
      "model_module": "@jupyter-widgets/base",
      "model_module_version": "1.2.0",
      "model_name": "LayoutModel",
      "state": {}
     },
     "24488220630b4e91bff2eec949987394": {
      "model_module": "@jupyter-widgets/base",
      "model_module_version": "1.2.0",
      "model_name": "LayoutModel",
      "state": {}
     },
     "252df62a1b3943ed888b2ba67e7596ee": {
      "model_module": "@jupyter-widgets/controls",
      "model_module_version": "1.5.0",
      "model_name": "DescriptionStyleModel",
      "state": {
       "description_width": ""
      }
     },
     "2542be2c51864e5896a2c2d136f298a0": {
      "model_module": "@jupyter-widgets/controls",
      "model_module_version": "1.5.0",
      "model_name": "ProgressStyleModel",
      "state": {
       "description_width": "initial"
      }
     },
     "254759b830de4093a770cccd0c71454f": {
      "model_module": "@jupyter-widgets/base",
      "model_module_version": "1.2.0",
      "model_name": "LayoutModel",
      "state": {}
     },
     "257a214ae896404da21d3a87a1dc1b1d": {
      "model_module": "@jupyter-widgets/base",
      "model_module_version": "1.2.0",
      "model_name": "LayoutModel",
      "state": {}
     },
     "2596267f5b224b159ac9a9d8ee6210b0": {
      "model_module": "@jupyter-widgets/controls",
      "model_module_version": "1.5.0",
      "model_name": "DescriptionStyleModel",
      "state": {
       "description_width": ""
      }
     },
     "25c08a29448a4f25bd76d72203a65856": {
      "model_module": "@jupyter-widgets/controls",
      "model_module_version": "1.5.0",
      "model_name": "HBoxModel",
      "state": {
       "children": [
        "IPY_MODEL_8f62025739b74a109cb3ff6d534addf5",
        "IPY_MODEL_6669ea70ae8e4e61aebaa6a329c6892d"
       ],
       "layout": "IPY_MODEL_9c9d6aafa7634b42bc444d58e29e7b19"
      }
     },
     "25f6856108b44ac7ab195a2190da01a1": {
      "model_module": "@jupyter-widgets/controls",
      "model_module_version": "1.5.0",
      "model_name": "ProgressStyleModel",
      "state": {
       "description_width": "initial"
      }
     },
     "26450c0c24e94172a68ec95a191d2964": {
      "model_module": "@jupyter-widgets/base",
      "model_module_version": "1.2.0",
      "model_name": "LayoutModel",
      "state": {}
     },
     "264f0d8500f34424bcdcfc879e697c09": {
      "model_module": "@jupyter-widgets/controls",
      "model_module_version": "1.5.0",
      "model_name": "HTMLModel",
      "state": {
       "layout": "IPY_MODEL_e606a9503d124f309c139ff296932892",
       "style": "IPY_MODEL_dfb04f98e89b466aa15925f0935f3128",
       "value": " 2148/2148 [00:04&lt;00:00, 535.97it/s]"
      }
     },
     "26b42d34f7d14e0e87de61e65433e4d4": {
      "model_module": "@jupyter-widgets/controls",
      "model_module_version": "1.5.0",
      "model_name": "FloatProgressModel",
      "state": {
       "bar_style": "success",
       "description": "100%",
       "layout": "IPY_MODEL_b8eb54531c554e8aa59313438adce13a",
       "max": 8316,
       "style": "IPY_MODEL_f5b7c65de0f64d0db8ada9cdd17e22aa",
       "value": 8316
      }
     },
     "26d9ff8febb74d26ae0165e8c10baaac": {
      "model_module": "@jupyter-widgets/base",
      "model_module_version": "1.2.0",
      "model_name": "LayoutModel",
      "state": {}
     },
     "27cba28eb1c64deeb9553ffdf43f5fb7": {
      "model_module": "@jupyter-widgets/controls",
      "model_module_version": "1.5.0",
      "model_name": "FloatProgressModel",
      "state": {
       "bar_style": "success",
       "description": "100%",
       "layout": "IPY_MODEL_caa94c9fc0714677b89396f0182ebba8",
       "max": 2148,
       "style": "IPY_MODEL_1b1c148fdd3c46bd90eb84fae82bf554",
       "value": 2148
      }
     },
     "27cda6499cf540409732c8d53d345407": {
      "model_module": "@jupyter-widgets/controls",
      "model_module_version": "1.5.0",
      "model_name": "ProgressStyleModel",
      "state": {
       "description_width": "initial"
      }
     },
     "27f418e918704acf9514b7985488e0fa": {
      "model_module": "@jupyter-widgets/base",
      "model_module_version": "1.2.0",
      "model_name": "LayoutModel",
      "state": {}
     },
     "282d6d4a4c0149da8f65bd77b66d8449": {
      "model_module": "@jupyter-widgets/controls",
      "model_module_version": "1.5.0",
      "model_name": "HTMLModel",
      "state": {
       "layout": "IPY_MODEL_4f82edada5734d65841294d93f72adca",
       "style": "IPY_MODEL_d1ba0f858b624e8ead70c4c6a86ad0e8",
       "value": " 29920/29920 [02:17&lt;00:00, 216.93it/s]"
      }
     },
     "284565565aa74635a2a586063859328a": {
      "model_module": "@jupyter-widgets/base",
      "model_module_version": "1.2.0",
      "model_name": "LayoutModel",
      "state": {}
     },
     "28532f6dae7743a29aff8fa628424fb5": {
      "model_module": "@jupyter-widgets/controls",
      "model_module_version": "1.5.0",
      "model_name": "HTMLModel",
      "state": {
       "layout": "IPY_MODEL_d67d5c0a8c0441f8a3a74e06bc9ebe46",
       "style": "IPY_MODEL_952486fd9f9443a9ab3ff56f2b8eeaa1",
       "value": " 8316/8316 [00:26&lt;00:00, 310.17it/s]"
      }
     },
     "285742790da144adb6911fdb18c84d19": {
      "model_module": "@jupyter-widgets/controls",
      "model_module_version": "1.5.0",
      "model_name": "HTMLModel",
      "state": {
       "layout": "IPY_MODEL_86794451f2fa4fdba1afaee0c1d75445",
       "style": "IPY_MODEL_9b95341f2f464101a7e4990902f9cc7b",
       "value": " 6444/6444 [00:10&lt;00:00, 602.72it/s]"
      }
     },
     "288ffead20c1485481f2b5ca58a4efe6": {
      "model_module": "@jupyter-widgets/base",
      "model_module_version": "1.2.0",
      "model_name": "LayoutModel",
      "state": {}
     },
     "2898e5f2a17540888e55bd97ecaec868": {
      "model_module": "@jupyter-widgets/controls",
      "model_module_version": "1.5.0",
      "model_name": "DescriptionStyleModel",
      "state": {
       "description_width": ""
      }
     },
     "28d0fdc08d8d47f3b7cb4048d49bc8e1": {
      "model_module": "@jupyter-widgets/base",
      "model_module_version": "1.2.0",
      "model_name": "LayoutModel",
      "state": {}
     },
     "295b97ac3f504050953ff44cabd7c13e": {
      "model_module": "@jupyter-widgets/controls",
      "model_module_version": "1.5.0",
      "model_name": "HTMLModel",
      "state": {
       "layout": "IPY_MODEL_b68e1ae9d8284a19a66a95aa8490ef97",
       "style": "IPY_MODEL_92e5889a8e504b83975b22bc5856fc12",
       "value": " 2148/2148 [00:03&lt;00:00, 622.26it/s]"
      }
     },
     "2967bc10cfdb49718b1ba366f08cbc50": {
      "model_module": "@jupyter-widgets/controls",
      "model_module_version": "1.5.0",
      "model_name": "HTMLModel",
      "state": {
       "layout": "IPY_MODEL_84df3969296e4aa38d5b7fbe8608419c",
       "style": "IPY_MODEL_869ec6714a1e4d41b49c159edcbd9d05",
       "value": " 29920/29920 [02:19&lt;00:00, 214.01it/s]"
      }
     },
     "29d5e1444bf246058e4e784b18747f9c": {
      "model_module": "@jupyter-widgets/base",
      "model_module_version": "1.2.0",
      "model_name": "LayoutModel",
      "state": {}
     },
     "29e7f7dc41a244d39cd0a0cd4b29f0fc": {
      "model_module": "@jupyter-widgets/controls",
      "model_module_version": "1.5.0",
      "model_name": "HBoxModel",
      "state": {
       "children": [
        "IPY_MODEL_04acb6fd0be74532a93ac2a4011e2634",
        "IPY_MODEL_f15f4d57d46a4e9aadecec3bc57be4d0"
       ],
       "layout": "IPY_MODEL_dd75d75904d44d0ca9480a2916c546f4"
      }
     },
     "2a94843a845642e0a54f65ed785620ab": {
      "model_module": "@jupyter-widgets/base",
      "model_module_version": "1.2.0",
      "model_name": "LayoutModel",
      "state": {}
     },
     "2ae110c47b25488fbcdedf12f8cafefa": {
      "model_module": "@jupyter-widgets/controls",
      "model_module_version": "1.5.0",
      "model_name": "FloatProgressModel",
      "state": {
       "bar_style": "success",
       "description": "100%",
       "layout": "IPY_MODEL_cfa4d950f4da4f09bbf18666b187e20a",
       "max": 2772,
       "style": "IPY_MODEL_e9ccd8e1b50d4425802a9a303816f942",
       "value": 2772
      }
     },
     "2bb6e2ce0e044792863a2af9e8fb766a": {
      "model_module": "@jupyter-widgets/controls",
      "model_module_version": "1.5.0",
      "model_name": "FloatProgressModel",
      "state": {
       "bar_style": "success",
       "description": "100%",
       "layout": "IPY_MODEL_7c8b2c7fbdba4499bfe172bd9f36d943",
       "max": 8316,
       "style": "IPY_MODEL_d6c4037b87304af695c58001cbbb66f0",
       "value": 8316
      }
     },
     "2bd63aeaf7fe4dd19c7fd8bff54f0271": {
      "model_module": "@jupyter-widgets/controls",
      "model_module_version": "1.5.0",
      "model_name": "DescriptionStyleModel",
      "state": {
       "description_width": ""
      }
     },
     "2c2cc92602bb4233b290fa14ae0575c7": {
      "model_module": "@jupyter-widgets/base",
      "model_module_version": "1.2.0",
      "model_name": "LayoutModel",
      "state": {}
     },
     "2c4db9a8b5ca4231b9d28ab07a0fa28d": {
      "model_module": "@jupyter-widgets/base",
      "model_module_version": "1.2.0",
      "model_name": "LayoutModel",
      "state": {}
     },
     "2c5b837a3f9b4703b809e334cebf6056": {
      "model_module": "@jupyter-widgets/controls",
      "model_module_version": "1.5.0",
      "model_name": "HTMLModel",
      "state": {
       "layout": "IPY_MODEL_f7cdd2062d40419ea637d78edb65af1c",
       "style": "IPY_MODEL_07a3865d5f9942798470f54e7398268f",
       "value": " 13160/13160 [01:03&lt;00:00, 207.67it/s]"
      }
     },
     "2c66358b373f47bfbf8501298e75776e": {
      "model_module": "@jupyter-widgets/controls",
      "model_module_version": "1.5.0",
      "model_name": "HBoxModel",
      "state": {
       "children": [
        "IPY_MODEL_c5625019203e4fd3b9075910586234b2",
        "IPY_MODEL_9f37f8f7bd004f44a7b2714e59aadbb8"
       ],
       "layout": "IPY_MODEL_20f376a2462a41bb9219ed17151180b3"
      }
     },
     "2c8337ecdb53414f844f91f2df093edb": {
      "model_module": "@jupyter-widgets/controls",
      "model_module_version": "1.5.0",
      "model_name": "DescriptionStyleModel",
      "state": {
       "description_width": ""
      }
     },
     "2c85b354832f417aba4fe5b007fded5f": {
      "model_module": "@jupyter-widgets/controls",
      "model_module_version": "1.5.0",
      "model_name": "DescriptionStyleModel",
      "state": {
       "description_width": ""
      }
     },
     "2c8828779ccb42ea832c17895c15783c": {
      "model_module": "@jupyter-widgets/controls",
      "model_module_version": "1.5.0",
      "model_name": "DescriptionStyleModel",
      "state": {
       "description_width": ""
      }
     },
     "2d1a4f8bfd8a4231b2cf152dbc190b14": {
      "model_module": "@jupyter-widgets/base",
      "model_module_version": "1.2.0",
      "model_name": "LayoutModel",
      "state": {}
     },
     "2db2194561f94f44991f006e05383c02": {
      "model_module": "@jupyter-widgets/base",
      "model_module_version": "1.2.0",
      "model_name": "LayoutModel",
      "state": {}
     },
     "2dbcef60f37a4e3cae69170cce6adae8": {
      "model_module": "@jupyter-widgets/base",
      "model_module_version": "1.2.0",
      "model_name": "LayoutModel",
      "state": {}
     },
     "2dcb03cfdd35421e85aed2364ccbf202": {
      "model_module": "@jupyter-widgets/base",
      "model_module_version": "1.2.0",
      "model_name": "LayoutModel",
      "state": {}
     },
     "2df578db69da4e3a9add7fa258074a6f": {
      "model_module": "@jupyter-widgets/controls",
      "model_module_version": "1.5.0",
      "model_name": "HTMLModel",
      "state": {
       "layout": "IPY_MODEL_034e4de05f254e8290f3e8a92b7541fd",
       "style": "IPY_MODEL_2e1ab1c1a511499db0e9f5310b4d9566",
       "value": " 1122/29920 [01:07&lt;28:46, 16.68it/s]"
      }
     },
     "2e1ab1c1a511499db0e9f5310b4d9566": {
      "model_module": "@jupyter-widgets/controls",
      "model_module_version": "1.5.0",
      "model_name": "DescriptionStyleModel",
      "state": {
       "description_width": ""
      }
     },
     "2e9e5f2b15c6421a9e701139a0a834ff": {
      "model_module": "@jupyter-widgets/controls",
      "model_module_version": "1.5.0",
      "model_name": "ProgressStyleModel",
      "state": {
       "description_width": "initial"
      }
     },
     "2ea23dc1826f4589be2667b1fc2b6ebd": {
      "model_module": "@jupyter-widgets/controls",
      "model_module_version": "1.5.0",
      "model_name": "FloatProgressModel",
      "state": {
       "bar_style": "success",
       "description": "100%",
       "layout": "IPY_MODEL_bddfdc4f39434d789466500b6a393e7f",
       "max": 2772,
       "style": "IPY_MODEL_873d913861c7483fbb99f7ab273d6ac3",
       "value": 2772
      }
     },
     "2ef9aa44a86a4e7e9c0c649125abf141": {
      "model_module": "@jupyter-widgets/controls",
      "model_module_version": "1.5.0",
      "model_name": "DescriptionStyleModel",
      "state": {
       "description_width": ""
      }
     },
     "2f9344750f8140f0b7b0162ab43b8d47": {
      "model_module": "@jupyter-widgets/controls",
      "model_module_version": "1.5.0",
      "model_name": "DescriptionStyleModel",
      "state": {
       "description_width": ""
      }
     },
     "300d5947a85449438015628678c011e8": {
      "model_module": "@jupyter-widgets/base",
      "model_module_version": "1.2.0",
      "model_name": "LayoutModel",
      "state": {}
     },
     "30a1e761055f4894b3c59937fdda7816": {
      "model_module": "@jupyter-widgets/base",
      "model_module_version": "1.2.0",
      "model_name": "LayoutModel",
      "state": {}
     },
     "30d4ea5c456c424ba04dbf024768845d": {
      "model_module": "@jupyter-widgets/controls",
      "model_module_version": "1.5.0",
      "model_name": "ProgressStyleModel",
      "state": {
       "description_width": "initial"
      }
     },
     "30e8cc5e8a0149818c9df147c37cde7f": {
      "model_module": "@jupyter-widgets/controls",
      "model_module_version": "1.5.0",
      "model_name": "DescriptionStyleModel",
      "state": {
       "description_width": ""
      }
     },
     "31206e27ff904bbab6f4cd5c61346461": {
      "model_module": "@jupyter-widgets/controls",
      "model_module_version": "1.5.0",
      "model_name": "ProgressStyleModel",
      "state": {
       "description_width": "initial"
      }
     },
     "3187c5f6a79941f1ab575676e335c223": {
      "model_module": "@jupyter-widgets/base",
      "model_module_version": "1.2.0",
      "model_name": "LayoutModel",
      "state": {}
     },
     "31b82a6adca940afab5e85b4cb9cebc0": {
      "model_module": "@jupyter-widgets/controls",
      "model_module_version": "1.5.0",
      "model_name": "ProgressStyleModel",
      "state": {
       "description_width": "initial"
      }
     },
     "329d618db22b4742b95e8fe7ef348333": {
      "model_module": "@jupyter-widgets/controls",
      "model_module_version": "1.5.0",
      "model_name": "HBoxModel",
      "state": {
       "children": [
        "IPY_MODEL_e7c58dcf3bec409eaa243f7ecd62bbdb",
        "IPY_MODEL_c6e119778bad437cb4751fab843ddb14"
       ],
       "layout": "IPY_MODEL_0cf15f9fbfb049c39fe524eb6f376530"
      }
     },
     "32b471828684465f8c64706e28b4a211": {
      "model_module": "@jupyter-widgets/base",
      "model_module_version": "1.2.0",
      "model_name": "LayoutModel",
      "state": {}
     },
     "334b85bf66cb4866b47d99f990fef16a": {
      "model_module": "@jupyter-widgets/controls",
      "model_module_version": "1.5.0",
      "model_name": "FloatProgressModel",
      "state": {
       "bar_style": "success",
       "description": "100%",
       "layout": "IPY_MODEL_f40f70be19ee42e7bb72cdede7c0bb94",
       "max": 4788,
       "style": "IPY_MODEL_0dc8c7a75bd846c599179b46ab16a5c5",
       "value": 4788
      }
     },
     "336618f446c7465fa510772b982f0d7f": {
      "model_module": "@jupyter-widgets/base",
      "model_module_version": "1.2.0",
      "model_name": "LayoutModel",
      "state": {}
     },
     "336873c5342d4cf9be68af6cd4449795": {
      "model_module": "@jupyter-widgets/base",
      "model_module_version": "1.2.0",
      "model_name": "LayoutModel",
      "state": {}
     },
     "337730a38d9244ef8a24db5e69fd4e27": {
      "model_module": "@jupyter-widgets/controls",
      "model_module_version": "1.5.0",
      "model_name": "HTMLModel",
      "state": {
       "layout": "IPY_MODEL_5e5fc48e682844b0920c5a1f10dc3162",
       "style": "IPY_MODEL_a37970b977324420872ece68b0d2dfe6",
       "value": " 4788/4788 [00:10&lt;00:00, 442.46it/s]"
      }
     },
     "347c036a6f8d4b2da7f1363bd8940e37": {
      "model_module": "@jupyter-widgets/controls",
      "model_module_version": "1.5.0",
      "model_name": "DescriptionStyleModel",
      "state": {
       "description_width": ""
      }
     },
     "34af0bf88baf441cb4041455c9c4d7ea": {
      "model_module": "@jupyter-widgets/controls",
      "model_module_version": "1.5.0",
      "model_name": "DescriptionStyleModel",
      "state": {
       "description_width": ""
      }
     },
     "353adddfc54d4654b5b74b316aa07584": {
      "model_module": "@jupyter-widgets/base",
      "model_module_version": "1.2.0",
      "model_name": "LayoutModel",
      "state": {}
     },
     "3547181170964a9faaec6b3225cc4cfa": {
      "model_module": "@jupyter-widgets/controls",
      "model_module_version": "1.5.0",
      "model_name": "HTMLModel",
      "state": {
       "layout": "IPY_MODEL_7e05d1e46fc74172ada34bae15fcc7b6",
       "style": "IPY_MODEL_e1d1854cb8a3405a90a7a415a4af52d3",
       "value": " 8316/8316 [00:26&lt;00:00, 312.11it/s]"
      }
     },
     "3550e8b756104fae9e5e91cc91ee121a": {
      "model_module": "@jupyter-widgets/base",
      "model_module_version": "1.2.0",
      "model_name": "LayoutModel",
      "state": {}
     },
     "35d4fe7b0ec048ceb6b7669028750c6e": {
      "model_module": "@jupyter-widgets/controls",
      "model_module_version": "1.5.0",
      "model_name": "FloatProgressModel",
      "state": {
       "bar_style": "success",
       "description": "100%",
       "layout": "IPY_MODEL_3ce5419a92c14074976e4eb83de2b646",
       "max": 33200,
       "style": "IPY_MODEL_1a4c7f7a9f4f4004a595bf635cd6ae3e",
       "value": 33200
      }
     },
     "35e81fd233bd4f469576921db131c273": {
      "model_module": "@jupyter-widgets/controls",
      "model_module_version": "1.5.0",
      "model_name": "HBoxModel",
      "state": {
       "children": [
        "IPY_MODEL_4ed558fd1c234d81bad5aa6bf2cf79eb",
        "IPY_MODEL_f44f5c72b18d43719fbd07cd568d2f5a"
       ],
       "layout": "IPY_MODEL_b5b0356d7fa14e9b81e25e22ed172dd7"
      }
     },
     "362e3dbf6a394902827fb617a0a8e837": {
      "model_module": "@jupyter-widgets/base",
      "model_module_version": "1.2.0",
      "model_name": "LayoutModel",
      "state": {}
     },
     "362ecc96015f4ca1a8a3e2da6bd1ad45": {
      "model_module": "@jupyter-widgets/controls",
      "model_module_version": "1.5.0",
      "model_name": "HTMLModel",
      "state": {
       "layout": "IPY_MODEL_40a22b4b59c9449b943e2604bf9ab757",
       "style": "IPY_MODEL_ebe9bf9d3cca43588b2a7dc63085640c",
       "value": " 2148/2148 [00:03&lt;00:00, 626.99it/s]"
      }
     },
     "3638e1227a4f4d56b005fe7450459c78": {
      "model_module": "@jupyter-widgets/controls",
      "model_module_version": "1.5.0",
      "model_name": "HBoxModel",
      "state": {
       "children": [
        "IPY_MODEL_78b6239482eb4758be45335049621fbb",
        "IPY_MODEL_cb5e80a9bfc4457eae4725bff4bce668"
       ],
       "layout": "IPY_MODEL_191010fffdfa4bb7b494c7ac8a6321a9"
      }
     },
     "36608793858d4c1781ba0cddcf0dd352": {
      "model_module": "@jupyter-widgets/controls",
      "model_module_version": "1.5.0",
      "model_name": "HTMLModel",
      "state": {
       "layout": "IPY_MODEL_1c314955b95f46f8a7b9f1fedaba759f",
       "style": "IPY_MODEL_0ea39f6744c94a1f99e7c29e63bad949",
       "value": " 8316/8316 [00:16&lt;00:00, 507.40it/s]"
      }
     },
     "36d309e9dacd43b3ab7023828d2a924b": {
      "model_module": "@jupyter-widgets/controls",
      "model_module_version": "1.5.0",
      "model_name": "DescriptionStyleModel",
      "state": {
       "description_width": ""
      }
     },
     "3745e84ff8004a8bb7ddbeb93b385f72": {
      "model_module": "@jupyter-widgets/controls",
      "model_module_version": "1.5.0",
      "model_name": "FloatProgressModel",
      "state": {
       "bar_style": "success",
       "description": "100%",
       "layout": "IPY_MODEL_98ffddf1070e46adbdb826e0b002d31b",
       "max": 33200,
       "style": "IPY_MODEL_e632f05c663749b48752109432a25906",
       "value": 33200
      }
     },
     "374e2fd5cf5b41fa86f3eee517259f9d": {
      "model_module": "@jupyter-widgets/controls",
      "model_module_version": "1.5.0",
      "model_name": "HTMLModel",
      "state": {
       "layout": "IPY_MODEL_ba62c427a44349aa9aa0824d040a6cc1",
       "style": "IPY_MODEL_d86a7df73b674c5b8ad54d93e99ea8a7",
       "value": " 2148/2148 [00:03&lt;00:00, 625.00it/s]"
      }
     },
     "37ef31afe59f4eec9690606ee7e35f9c": {
      "model_module": "@jupyter-widgets/controls",
      "model_module_version": "1.5.0",
      "model_name": "HTMLModel",
      "state": {
       "layout": "IPY_MODEL_d686aae2dee448d8a60f441ab95aadad",
       "style": "IPY_MODEL_877da02cf53f4f3891141e6680b26453",
       "value": " 2148/2148 [00:03&lt;00:00, 574.44it/s]"
      }
     },
     "380d7d8bb3fd4b06bcf6956d3ad091e7": {
      "model_module": "@jupyter-widgets/base",
      "model_module_version": "1.2.0",
      "model_name": "LayoutModel",
      "state": {}
     },
     "38461e46456a404783ea5a8c95df8e63": {
      "model_module": "@jupyter-widgets/controls",
      "model_module_version": "1.5.0",
      "model_name": "FloatProgressModel",
      "state": {
       "bar_style": "success",
       "description": "100%",
       "layout": "IPY_MODEL_55f290e8ba42419db9158ff9b15b9f2a",
       "max": 2148,
       "style": "IPY_MODEL_67cf47bd3d63459787449796f397539d",
       "value": 2148
      }
     },
     "38e79ec9a7b74b1eb86a49f4fe837217": {
      "model_module": "@jupyter-widgets/base",
      "model_module_version": "1.2.0",
      "model_name": "LayoutModel",
      "state": {}
     },
     "38fe661119764c948bb1db0bdf5cc45d": {
      "model_module": "@jupyter-widgets/controls",
      "model_module_version": "1.5.0",
      "model_name": "FloatProgressModel",
      "state": {
       "bar_style": "success",
       "description": "100%",
       "layout": "IPY_MODEL_56e8227fe70441e681826628976c114f",
       "max": 3240,
       "style": "IPY_MODEL_f1e84c97b8204184bd4cea453d2e9773",
       "value": 3240
      }
     },
     "39b08a70c99743b49aa95965ce047ad1": {
      "model_module": "@jupyter-widgets/base",
      "model_module_version": "1.2.0",
      "model_name": "LayoutModel",
      "state": {}
     },
     "39b6393d194f430d85dd5cc53998b063": {
      "model_module": "@jupyter-widgets/base",
      "model_module_version": "1.2.0",
      "model_name": "LayoutModel",
      "state": {}
     },
     "39b68638e36643888b39b128521db1c6": {
      "model_module": "@jupyter-widgets/controls",
      "model_module_version": "1.5.0",
      "model_name": "ProgressStyleModel",
      "state": {
       "description_width": "initial"
      }
     },
     "39c0c2a9755642bd9b184f26ca435f87": {
      "model_module": "@jupyter-widgets/base",
      "model_module_version": "1.2.0",
      "model_name": "LayoutModel",
      "state": {}
     },
     "39cec347327c4c67824bd4b6a58b8d45": {
      "model_module": "@jupyter-widgets/base",
      "model_module_version": "1.2.0",
      "model_name": "LayoutModel",
      "state": {}
     },
     "3a35ae1326314403b40e0735ab0c5d92": {
      "model_module": "@jupyter-widgets/controls",
      "model_module_version": "1.5.0",
      "model_name": "HBoxModel",
      "state": {
       "children": [
        "IPY_MODEL_9ed98652760a4f88a83a37b93384d5a5",
        "IPY_MODEL_96fe2de6c4a0440387a2dca97730c183"
       ],
       "layout": "IPY_MODEL_7c0d1d42f8f347a790f1e9f32b19ee95"
      }
     },
     "3aaceb3c11cc4fc19456f6f9f17519e3": {
      "model_module": "@jupyter-widgets/base",
      "model_module_version": "1.2.0",
      "model_name": "LayoutModel",
      "state": {}
     },
     "3b4a4508bbe44709a64eb362d158b0d0": {
      "model_module": "@jupyter-widgets/base",
      "model_module_version": "1.2.0",
      "model_name": "LayoutModel",
      "state": {}
     },
     "3b4d836819a44dadbe71f10ca0d780fc": {
      "model_module": "@jupyter-widgets/base",
      "model_module_version": "1.2.0",
      "model_name": "LayoutModel",
      "state": {}
     },
     "3b806bb2553a4cd69c81e41f8ec6ef46": {
      "model_module": "@jupyter-widgets/controls",
      "model_module_version": "1.5.0",
      "model_name": "ProgressStyleModel",
      "state": {
       "description_width": "initial"
      }
     },
     "3bd68c5fa0a74a37998c4b773211e201": {
      "model_module": "@jupyter-widgets/controls",
      "model_module_version": "1.5.0",
      "model_name": "DescriptionStyleModel",
      "state": {
       "description_width": ""
      }
     },
     "3caf2174d85c43acaed59bf78b6f24e7": {
      "model_module": "@jupyter-widgets/controls",
      "model_module_version": "1.5.0",
      "model_name": "FloatProgressModel",
      "state": {
       "bar_style": "success",
       "description": "100%",
       "layout": "IPY_MODEL_48a7be3a63184d02864901530662d004",
       "max": 2772,
       "style": "IPY_MODEL_4486dc41d5024eb5818e29455ee63ccc",
       "value": 2772
      }
     },
     "3ce5419a92c14074976e4eb83de2b646": {
      "model_module": "@jupyter-widgets/base",
      "model_module_version": "1.2.0",
      "model_name": "LayoutModel",
      "state": {}
     },
     "3ce57691a8b7479697f0ba428e22eddf": {
      "model_module": "@jupyter-widgets/base",
      "model_module_version": "1.2.0",
      "model_name": "LayoutModel",
      "state": {}
     },
     "3d411e1b78ee40919638f1c58055e37d": {
      "model_module": "@jupyter-widgets/controls",
      "model_module_version": "1.5.0",
      "model_name": "DescriptionStyleModel",
      "state": {
       "description_width": ""
      }
     },
     "3d4fbb32542847189d907f1aa48a518d": {
      "model_module": "@jupyter-widgets/base",
      "model_module_version": "1.2.0",
      "model_name": "LayoutModel",
      "state": {}
     },
     "3d5a148856fa489b9af1374c16efbe2b": {
      "model_module": "@jupyter-widgets/controls",
      "model_module_version": "1.5.0",
      "model_name": "HTMLModel",
      "state": {
       "layout": "IPY_MODEL_f67d8a72c884415ba28c5ef9084ae391",
       "style": "IPY_MODEL_2c8337ecdb53414f844f91f2df093edb",
       "value": " 8316/8316 [00:26&lt;00:00, 315.01it/s]"
      }
     },
     "3d633924c1bc4ecfad47ead9271bdcf8": {
      "model_module": "@jupyter-widgets/base",
      "model_module_version": "1.2.0",
      "model_name": "LayoutModel",
      "state": {}
     },
     "3da8a1183c0e43c4bc6562dac4148f9e": {
      "model_module": "@jupyter-widgets/controls",
      "model_module_version": "1.5.0",
      "model_name": "HBoxModel",
      "state": {
       "children": [
        "IPY_MODEL_92e3281b2888402dbfdac27d781bd52e",
        "IPY_MODEL_86dbe91f7dfe45c6b15272f0dce1bb31"
       ],
       "layout": "IPY_MODEL_b5101153a49d48e4b3192831ef63671d"
      }
     },
     "3de1729e22264289b2b55522bbb09c1e": {
      "model_module": "@jupyter-widgets/controls",
      "model_module_version": "1.5.0",
      "model_name": "HBoxModel",
      "state": {
       "children": [
        "IPY_MODEL_b0c9210cd76d4b25be562bd67841b2f0",
        "IPY_MODEL_90cb941f7fee4c1eb7a92eb2ee7012a6"
       ],
       "layout": "IPY_MODEL_39c0c2a9755642bd9b184f26ca435f87"
      }
     },
     "3e01a22267bf49299dfc02a0c9f04e08": {
      "model_module": "@jupyter-widgets/controls",
      "model_module_version": "1.5.0",
      "model_name": "DescriptionStyleModel",
      "state": {
       "description_width": ""
      }
     },
     "3e2f931166664198bec963b591cc3fe4": {
      "model_module": "@jupyter-widgets/controls",
      "model_module_version": "1.5.0",
      "model_name": "HTMLModel",
      "state": {
       "layout": "IPY_MODEL_49099c187f9f42caa88dcaad20d20682",
       "style": "IPY_MODEL_36d309e9dacd43b3ab7023828d2a924b",
       "value": " 13160/13160 [04:18&lt;00:00, 50.97it/s]"
      }
     },
     "3f4ab249f3984e1eafaaefe9894d7e62": {
      "model_module": "@jupyter-widgets/controls",
      "model_module_version": "1.5.0",
      "model_name": "ProgressStyleModel",
      "state": {
       "description_width": "initial"
      }
     },
     "3f5f04938eed4012aa9d312ebebb4834": {
      "model_module": "@jupyter-widgets/controls",
      "model_module_version": "1.5.0",
      "model_name": "HBoxModel",
      "state": {
       "children": [
        "IPY_MODEL_a57bd02bee50482ab1aea31b8e0b6eab",
        "IPY_MODEL_405217d7aa1548578f49c73104f1f74b"
       ],
       "layout": "IPY_MODEL_80d571aa349b482da696906db337fc48"
      }
     },
     "3fe81d102d8c41cf81efdc9d9ba4c383": {
      "model_module": "@jupyter-widgets/base",
      "model_module_version": "1.2.0",
      "model_name": "LayoutModel",
      "state": {}
     },
     "401ee20814e44683b1602f574df0e41d": {
      "model_module": "@jupyter-widgets/base",
      "model_module_version": "1.2.0",
      "model_name": "LayoutModel",
      "state": {}
     },
     "405217d7aa1548578f49c73104f1f74b": {
      "model_module": "@jupyter-widgets/controls",
      "model_module_version": "1.5.0",
      "model_name": "HTMLModel",
      "state": {
       "layout": "IPY_MODEL_74a56fc6967b4ac8b63fc141dad4d137",
       "style": "IPY_MODEL_30e8cc5e8a0149818c9df147c37cde7f",
       "value": " 2148/2148 [00:09&lt;00:00, 237.64it/s]"
      }
     },
     "4090fee3861c4acca00da02fdbe391f5": {
      "model_module": "@jupyter-widgets/controls",
      "model_module_version": "1.5.0",
      "model_name": "FloatProgressModel",
      "state": {
       "bar_style": "success",
       "description": "100%",
       "layout": "IPY_MODEL_2dbcef60f37a4e3cae69170cce6adae8",
       "max": 6444,
       "style": "IPY_MODEL_dc2289b552b04277b4d815226d3fc984",
       "value": 6444
      }
     },
     "40a22b4b59c9449b943e2604bf9ab757": {
      "model_module": "@jupyter-widgets/base",
      "model_module_version": "1.2.0",
      "model_name": "LayoutModel",
      "state": {}
     },
     "41a6de1286ea48a8a2e77f2efcf5be81": {
      "model_module": "@jupyter-widgets/controls",
      "model_module_version": "1.5.0",
      "model_name": "DescriptionStyleModel",
      "state": {
       "description_width": ""
      }
     },
     "41eb47c2889e4d72a2c86d447c560dfd": {
      "model_module": "@jupyter-widgets/base",
      "model_module_version": "1.2.0",
      "model_name": "LayoutModel",
      "state": {}
     },
     "420f03c3db5f49a1b17313cc414a46a5": {
      "model_module": "@jupyter-widgets/base",
      "model_module_version": "1.2.0",
      "model_name": "LayoutModel",
      "state": {}
     },
     "4210e7d3702c43a7a25632bc8b376566": {
      "model_module": "@jupyter-widgets/base",
      "model_module_version": "1.2.0",
      "model_name": "LayoutModel",
      "state": {}
     },
     "421cc8db7cba4b3999367fd68c41358e": {
      "model_module": "@jupyter-widgets/controls",
      "model_module_version": "1.5.0",
      "model_name": "FloatProgressModel",
      "state": {
       "bar_style": "success",
       "description": "100%",
       "layout": "IPY_MODEL_a7630eae7cd84c7bb65aad35c0f15eee",
       "max": 33900,
       "style": "IPY_MODEL_c5c09014b70c42deab89c94343a809ac",
       "value": 33900
      }
     },
     "429448bfd9e1454b88cd4650ef57fe94": {
      "model_module": "@jupyter-widgets/controls",
      "model_module_version": "1.5.0",
      "model_name": "FloatProgressModel",
      "state": {
       "bar_style": "success",
       "description": "100%",
       "layout": "IPY_MODEL_c161b8b38d3f43bfa86c4151187539ce",
       "max": 2148,
       "style": "IPY_MODEL_7a01ad4b48b447cea7227f68ba333821",
       "value": 2148
      }
     },
     "42f3a1bf7cda4414a4c4c4a27e78ea13": {
      "model_module": "@jupyter-widgets/controls",
      "model_module_version": "1.5.0",
      "model_name": "DescriptionStyleModel",
      "state": {
       "description_width": ""
      }
     },
     "43433bbc5a174b5fb28901dfc0d19f04": {
      "model_module": "@jupyter-widgets/base",
      "model_module_version": "1.2.0",
      "model_name": "LayoutModel",
      "state": {}
     },
     "43c1e6911beb465d8a97b5ef740755d8": {
      "model_module": "@jupyter-widgets/controls",
      "model_module_version": "1.5.0",
      "model_name": "HBoxModel",
      "state": {
       "children": [
        "IPY_MODEL_8fa843bc9edd4d9f87c61b0237b34331",
        "IPY_MODEL_4744e1f8bbdd440d83857ff1401eeb6c"
       ],
       "layout": "IPY_MODEL_915052aa970042e085fdc4d4ea168c7b"
      }
     },
     "4412d5244504415e8ddfa7962638e7f4": {
      "model_module": "@jupyter-widgets/controls",
      "model_module_version": "1.5.0",
      "model_name": "FloatProgressModel",
      "state": {
       "bar_style": "success",
       "description": "100%",
       "layout": "IPY_MODEL_734e5c79ee22441e88526023b374671e",
       "max": 3240,
       "style": "IPY_MODEL_5a4edd4fba744039a8843be237418d16",
       "value": 3240
      }
     },
     "4486dc41d5024eb5818e29455ee63ccc": {
      "model_module": "@jupyter-widgets/controls",
      "model_module_version": "1.5.0",
      "model_name": "ProgressStyleModel",
      "state": {
       "description_width": "initial"
      }
     },
     "44b164056fa04822b331ef839b0563f1": {
      "model_module": "@jupyter-widgets/base",
      "model_module_version": "1.2.0",
      "model_name": "LayoutModel",
      "state": {}
     },
     "44f6b04519224721be25c415b0c8cd1b": {
      "model_module": "@jupyter-widgets/base",
      "model_module_version": "1.2.0",
      "model_name": "LayoutModel",
      "state": {}
     },
     "452b023d28644d318a19c4e0fa391ace": {
      "model_module": "@jupyter-widgets/base",
      "model_module_version": "1.2.0",
      "model_name": "LayoutModel",
      "state": {}
     },
     "45376478e7ec4e4799428ee097be3d51": {
      "model_module": "@jupyter-widgets/base",
      "model_module_version": "1.2.0",
      "model_name": "LayoutModel",
      "state": {}
     },
     "457eced8f671422d811e7f75344b5326": {
      "model_module": "@jupyter-widgets/base",
      "model_module_version": "1.2.0",
      "model_name": "LayoutModel",
      "state": {}
     },
     "45bbe1f81f334d898ce1ef4ee2b00171": {
      "model_module": "@jupyter-widgets/controls",
      "model_module_version": "1.5.0",
      "model_name": "ProgressStyleModel",
      "state": {
       "description_width": "initial"
      }
     },
     "45d2f8522b7e4157a4968f1a46324b7c": {
      "model_module": "@jupyter-widgets/base",
      "model_module_version": "1.2.0",
      "model_name": "LayoutModel",
      "state": {}
     },
     "45e522dbb8e7496ea95612dbe87dd63c": {
      "model_module": "@jupyter-widgets/controls",
      "model_module_version": "1.5.0",
      "model_name": "FloatProgressModel",
      "state": {
       "bar_style": "success",
       "description": "100%",
       "layout": "IPY_MODEL_02c25b4408634210a4f2544f6758db4d",
       "max": 8316,
       "style": "IPY_MODEL_6520d1886fec419c81326d5802192fcc",
       "value": 8316
      }
     },
     "466f3d40a6794b919e47bdaf6db4493a": {
      "model_module": "@jupyter-widgets/controls",
      "model_module_version": "1.5.0",
      "model_name": "HTMLModel",
      "state": {
       "layout": "IPY_MODEL_f12c2f9c259947e1ba9eccb7c29c189f",
       "style": "IPY_MODEL_4bca9b4dd73340efba9bdc3c145869ec",
       "value": " 2148/2148 [00:03&lt;00:00, 613.93it/s]"
      }
     },
     "46fb2073a9474b99ad4a98225acb310c": {
      "model_module": "@jupyter-widgets/controls",
      "model_module_version": "1.5.0",
      "model_name": "HBoxModel",
      "state": {
       "children": [
        "IPY_MODEL_01a8ed54874c4e99b3ea10cb9862a31d",
        "IPY_MODEL_282d6d4a4c0149da8f65bd77b66d8449"
       ],
       "layout": "IPY_MODEL_63786f51fb3d471e90db5f94770ad41d"
      }
     },
     "4719125538ff4107b82c1abd89ab6b52": {
      "model_module": "@jupyter-widgets/controls",
      "model_module_version": "1.5.0",
      "model_name": "HBoxModel",
      "state": {
       "children": [
        "IPY_MODEL_1f814342f2684a1b93d0da97569c9ee1",
        "IPY_MODEL_f3488c136ace462ea45a09650527d5e8"
       ],
       "layout": "IPY_MODEL_ba3f936c48f642559376fc43b3317807"
      }
     },
     "4744e1f8bbdd440d83857ff1401eeb6c": {
      "model_module": "@jupyter-widgets/controls",
      "model_module_version": "1.5.0",
      "model_name": "HTMLModel",
      "state": {
       "layout": "IPY_MODEL_d5244bd77b7345fc8be2b764542a5cd9",
       "style": "IPY_MODEL_1dc0b3e80a6b49308c784f2d153542a1",
       "value": " 0/3888 [00:00&lt;?, ?it/s]"
      }
     },
     "475d61eb1d5f4fa4883577279fc25baa": {
      "model_module": "@jupyter-widgets/base",
      "model_module_version": "1.2.0",
      "model_name": "LayoutModel",
      "state": {}
     },
     "476044113069445d8d87a623d62dd55f": {
      "model_module": "@jupyter-widgets/controls",
      "model_module_version": "1.5.0",
      "model_name": "DescriptionStyleModel",
      "state": {
       "description_width": ""
      }
     },
     "48273ddbb8214492a05d8c7fde88bb8e": {
      "model_module": "@jupyter-widgets/controls",
      "model_module_version": "1.5.0",
      "model_name": "HTMLModel",
      "state": {
       "layout": "IPY_MODEL_f0d0c848c93745eb9619645662b61ec6",
       "style": "IPY_MODEL_586b7b4a558e48e6821811400494f4c5",
       "value": " 6444/6444 [00:10&lt;00:00, 602.61it/s]"
      }
     },
     "48616496515947bcb749d86fb58b61b2": {
      "model_module": "@jupyter-widgets/controls",
      "model_module_version": "1.5.0",
      "model_name": "HTMLModel",
      "state": {
       "layout": "IPY_MODEL_254759b830de4093a770cccd0c71454f",
       "style": "IPY_MODEL_a08ada8975f24d8aa46205519dc88d05",
       "value": " 52260/52260 [03:25&lt;00:00, 254.32it/s]"
      }
     },
     "48a7be3a63184d02864901530662d004": {
      "model_module": "@jupyter-widgets/base",
      "model_module_version": "1.2.0",
      "model_name": "LayoutModel",
      "state": {}
     },
     "48bd9d3b3e304abe9b6e2c1d06cf2f91": {
      "model_module": "@jupyter-widgets/base",
      "model_module_version": "1.2.0",
      "model_name": "LayoutModel",
      "state": {}
     },
     "48d4f3f17d504045a3199cb5cc4e72b2": {
      "model_module": "@jupyter-widgets/controls",
      "model_module_version": "1.5.0",
      "model_name": "DescriptionStyleModel",
      "state": {
       "description_width": ""
      }
     },
     "48e4eafcf893409fb2d2b3b24e577467": {
      "model_module": "@jupyter-widgets/base",
      "model_module_version": "1.2.0",
      "model_name": "LayoutModel",
      "state": {}
     },
     "49099c187f9f42caa88dcaad20d20682": {
      "model_module": "@jupyter-widgets/base",
      "model_module_version": "1.2.0",
      "model_name": "LayoutModel",
      "state": {}
     },
     "4938163f16dc4311b9c379f17acc5a3a": {
      "model_module": "@jupyter-widgets/controls",
      "model_module_version": "1.5.0",
      "model_name": "ProgressStyleModel",
      "state": {
       "description_width": "initial"
      }
     },
     "493c8115aedd4ae5bc6272091a46e5a0": {
      "model_module": "@jupyter-widgets/base",
      "model_module_version": "1.2.0",
      "model_name": "LayoutModel",
      "state": {}
     },
     "4a5d5432359e4162b37acc1bfca4cbc7": {
      "model_module": "@jupyter-widgets/base",
      "model_module_version": "1.2.0",
      "model_name": "LayoutModel",
      "state": {}
     },
     "4a8ce27ee069454e9898e4758087673d": {
      "model_module": "@jupyter-widgets/base",
      "model_module_version": "1.2.0",
      "model_name": "LayoutModel",
      "state": {}
     },
     "4aac4e1b18d24520933e7dd5278ab604": {
      "model_module": "@jupyter-widgets/base",
      "model_module_version": "1.2.0",
      "model_name": "LayoutModel",
      "state": {}
     },
     "4ab12f06401d4895a696a901f0f28ae0": {
      "model_module": "@jupyter-widgets/base",
      "model_module_version": "1.2.0",
      "model_name": "LayoutModel",
      "state": {}
     },
     "4afc09961f6e4e3b845bb9a963e4c38e": {
      "model_module": "@jupyter-widgets/controls",
      "model_module_version": "1.5.0",
      "model_name": "DescriptionStyleModel",
      "state": {
       "description_width": ""
      }
     },
     "4b154cd7075143b6b205e318c34ccd71": {
      "model_module": "@jupyter-widgets/controls",
      "model_module_version": "1.5.0",
      "model_name": "ProgressStyleModel",
      "state": {
       "description_width": "initial"
      }
     },
     "4b4ceb1f454347938c74e2105956c047": {
      "model_module": "@jupyter-widgets/controls",
      "model_module_version": "1.5.0",
      "model_name": "HBoxModel",
      "state": {
       "children": [
        "IPY_MODEL_b2f40fddfd0e446882b64352ca4a2c37",
        "IPY_MODEL_68aaa8838f5345d58a7b7ec541094ed9"
       ],
       "layout": "IPY_MODEL_8c3797e737c945ed9192ea9b7c2cebfc"
      }
     },
     "4bc99602aa3547bcb16f8508cf44f159": {
      "model_module": "@jupyter-widgets/base",
      "model_module_version": "1.2.0",
      "model_name": "LayoutModel",
      "state": {}
     },
     "4bca9b4dd73340efba9bdc3c145869ec": {
      "model_module": "@jupyter-widgets/controls",
      "model_module_version": "1.5.0",
      "model_name": "DescriptionStyleModel",
      "state": {
       "description_width": ""
      }
     },
     "4be6029d524a45bbadb472bf0dcc7547": {
      "model_module": "@jupyter-widgets/controls",
      "model_module_version": "1.5.0",
      "model_name": "HTMLModel",
      "state": {
       "layout": "IPY_MODEL_f9a5242f8eb949119e086ad3bae062ce",
       "style": "IPY_MODEL_584665e74aaf4a6c85e504434a7c66d7",
       "value": " 29920/29920 [10:16&lt;00:00, 48.54it/s]"
      }
     },
     "4c10544040a04602a1a3411cd82c7983": {
      "model_module": "@jupyter-widgets/base",
      "model_module_version": "1.2.0",
      "model_name": "LayoutModel",
      "state": {}
     },
     "4cbd790bf5a64958853f4d8760450bdf": {
      "model_module": "@jupyter-widgets/controls",
      "model_module_version": "1.5.0",
      "model_name": "HBoxModel",
      "state": {
       "children": [
        "IPY_MODEL_f6583f87b9674de196ba4ab7ab704bba",
        "IPY_MODEL_1cf7b2e718f84c3ea57b5cb7db27e08b"
       ],
       "layout": "IPY_MODEL_493c8115aedd4ae5bc6272091a46e5a0"
      }
     },
     "4d7161f49f0c4ad6b5fe2f4542395410": {
      "model_module": "@jupyter-widgets/base",
      "model_module_version": "1.2.0",
      "model_name": "LayoutModel",
      "state": {}
     },
     "4d9f2967b3d245d6a756d73dfb01d835": {
      "model_module": "@jupyter-widgets/controls",
      "model_module_version": "1.5.0",
      "model_name": "HTMLModel",
      "state": {
       "layout": "IPY_MODEL_380d7d8bb3fd4b06bcf6956d3ad091e7",
       "style": "IPY_MODEL_c56e24e3cad44fcf9e9a5b04ec97dd07",
       "value": " 33200/33200 [02:24&lt;00:00, 230.20it/s]"
      }
     },
     "4ed558fd1c234d81bad5aa6bf2cf79eb": {
      "model_module": "@jupyter-widgets/controls",
      "model_module_version": "1.5.0",
      "model_name": "FloatProgressModel",
      "state": {
       "bar_style": "success",
       "description": "100%",
       "layout": "IPY_MODEL_c5fc10ce30de477c9c0cfac2ec16b9fd",
       "max": 29920,
       "style": "IPY_MODEL_30d4ea5c456c424ba04dbf024768845d",
       "value": 29920
      }
     },
     "4ef8f217c9664e1da49848489a7b4edf": {
      "model_module": "@jupyter-widgets/base",
      "model_module_version": "1.2.0",
      "model_name": "LayoutModel",
      "state": {}
     },
     "4ef9ff3a1c914b7b8fde822219921fb8": {
      "model_module": "@jupyter-widgets/controls",
      "model_module_version": "1.5.0",
      "model_name": "HTMLModel",
      "state": {
       "layout": "IPY_MODEL_85d900262344423996959cd0d46c19b6",
       "style": "IPY_MODEL_960269df2c46463096af158a283cf2d1",
       "value": " 2772/2772 [00:40&lt;00:00, 68.13it/s]"
      }
     },
     "4f39fdab67fd4607a6416a1de8ff92e3": {
      "model_module": "@jupyter-widgets/base",
      "model_module_version": "1.2.0",
      "model_name": "LayoutModel",
      "state": {}
     },
     "4f7ce21d30ef4792ac2e02db1a88f865": {
      "model_module": "@jupyter-widgets/controls",
      "model_module_version": "1.5.0",
      "model_name": "HTMLModel",
      "state": {
       "layout": "IPY_MODEL_7a8fa7454a0947ca86b87508c1d41aa4",
       "style": "IPY_MODEL_780282b935f2450591aeeaca14ab7d6a",
       "value": " 2148/2148 [00:09&lt;00:00, 228.89it/s]"
      }
     },
     "4f7f02ee7ba54942a19666adab3201e3": {
      "model_module": "@jupyter-widgets/base",
      "model_module_version": "1.2.0",
      "model_name": "LayoutModel",
      "state": {}
     },
     "4f82edada5734d65841294d93f72adca": {
      "model_module": "@jupyter-widgets/base",
      "model_module_version": "1.2.0",
      "model_name": "LayoutModel",
      "state": {}
     },
     "4fa6cee2686a4c44bbdc6e4be7bd190b": {
      "model_module": "@jupyter-widgets/base",
      "model_module_version": "1.2.0",
      "model_name": "LayoutModel",
      "state": {}
     },
     "4fdf16f17f334aa48ccf4a7cfab39bd6": {
      "model_module": "@jupyter-widgets/base",
      "model_module_version": "1.2.0",
      "model_name": "LayoutModel",
      "state": {}
     },
     "507aca71aa79487c889f0a36d92c4b7b": {
      "model_module": "@jupyter-widgets/controls",
      "model_module_version": "1.5.0",
      "model_name": "FloatProgressModel",
      "state": {
       "bar_style": "success",
       "description": "100%",
       "layout": "IPY_MODEL_165e2be51dfe4fd5a94c542e444bd621",
       "max": 8316,
       "style": "IPY_MODEL_e7b4fadb613f4b7fb8b72fccd70b8b48",
       "value": 8316
      }
     },
     "50892fd681864d48a01e157e5d02a8ca": {
      "model_module": "@jupyter-widgets/base",
      "model_module_version": "1.2.0",
      "model_name": "LayoutModel",
      "state": {}
     },
     "50cab5fbd374453ca1dc1e988c01d423": {
      "model_module": "@jupyter-widgets/controls",
      "model_module_version": "1.5.0",
      "model_name": "HBoxModel",
      "state": {
       "children": [
        "IPY_MODEL_334b85bf66cb4866b47d99f990fef16a",
        "IPY_MODEL_b1fe74f598994a0fb916b72bb810c193"
       ],
       "layout": "IPY_MODEL_c7750e71cf63468f98e3239ada9a8de3"
      }
     },
     "51ae23297eb045d8bfec481eab8250a7": {
      "model_module": "@jupyter-widgets/base",
      "model_module_version": "1.2.0",
      "model_name": "LayoutModel",
      "state": {}
     },
     "51ba9efed8c34d4bb5e4b7adf9769a24": {
      "model_module": "@jupyter-widgets/base",
      "model_module_version": "1.2.0",
      "model_name": "LayoutModel",
      "state": {}
     },
     "537c12c0fa5842bfbcfb7b58193c1965": {
      "model_module": "@jupyter-widgets/controls",
      "model_module_version": "1.5.0",
      "model_name": "DescriptionStyleModel",
      "state": {
       "description_width": ""
      }
     },
     "53c3fc76209144f69dc8e21b56a7d87e": {
      "model_module": "@jupyter-widgets/controls",
      "model_module_version": "1.5.0",
      "model_name": "DescriptionStyleModel",
      "state": {
       "description_width": ""
      }
     },
     "53debf5aa50742adb1b0e44ef2a9e4d4": {
      "model_module": "@jupyter-widgets/base",
      "model_module_version": "1.2.0",
      "model_name": "LayoutModel",
      "state": {}
     },
     "54048599fe2549d08605416892043900": {
      "model_module": "@jupyter-widgets/controls",
      "model_module_version": "1.5.0",
      "model_name": "ProgressStyleModel",
      "state": {
       "description_width": "initial"
      }
     },
     "5442e3a68d25423585b61edf8c9ddcdd": {
      "model_module": "@jupyter-widgets/controls",
      "model_module_version": "1.5.0",
      "model_name": "HBoxModel",
      "state": {
       "children": [
        "IPY_MODEL_ffcda5ef2be54bdcaeba04324297fd6c",
        "IPY_MODEL_6e1f3e81fee1400c89288173ddcbee5e"
       ],
       "layout": "IPY_MODEL_ff5eb99a254e40f194d7ef71e1d8f64e"
      }
     },
     "5496dd5831324d298c8c9d65f305f952": {
      "model_module": "@jupyter-widgets/controls",
      "model_module_version": "1.5.0",
      "model_name": "FloatProgressModel",
      "state": {
       "bar_style": "success",
       "description": "100%",
       "layout": "IPY_MODEL_078c3e10418646578d55c00e7e0be82e",
       "max": 8316,
       "style": "IPY_MODEL_1564467d80ec423f8cd1986f50a0f39b",
       "value": 8316
      }
     },
     "54dcd9697bf449c99dcef4778df03729": {
      "model_module": "@jupyter-widgets/controls",
      "model_module_version": "1.5.0",
      "model_name": "FloatProgressModel",
      "state": {
       "bar_style": "success",
       "description": "100%",
       "layout": "IPY_MODEL_57e135fef89846bda05f69157d0b94f0",
       "max": 33900,
       "style": "IPY_MODEL_a3e6574923434d89ba26be181c62efde",
       "value": 33900
      }
     },
     "54f295ba699f4bb4b915c71e2370fbe6": {
      "model_module": "@jupyter-widgets/controls",
      "model_module_version": "1.5.0",
      "model_name": "FloatProgressModel",
      "state": {
       "bar_style": "success",
       "description": "100%",
       "layout": "IPY_MODEL_e16f9abc50954f22831a8324f328f4cc",
       "max": 2148,
       "style": "IPY_MODEL_2e9e5f2b15c6421a9e701139a0a834ff",
       "value": 2148
      }
     },
     "55a72721cd2940e3a909527b9223dd16": {
      "model_module": "@jupyter-widgets/controls",
      "model_module_version": "1.5.0",
      "model_name": "HTMLModel",
      "state": {
       "layout": "IPY_MODEL_475d61eb1d5f4fa4883577279fc25baa",
       "style": "IPY_MODEL_41a6de1286ea48a8a2e77f2efcf5be81",
       "value": " 6444/6444 [00:12&lt;00:00, 511.02it/s]"
      }
     },
     "55f290e8ba42419db9158ff9b15b9f2a": {
      "model_module": "@jupyter-widgets/base",
      "model_module_version": "1.2.0",
      "model_name": "LayoutModel",
      "state": {}
     },
     "5694cdefb775451d9a36fc655bee5b6f": {
      "model_module": "@jupyter-widgets/controls",
      "model_module_version": "1.5.0",
      "model_name": "HBoxModel",
      "state": {
       "children": [
        "IPY_MODEL_0a52169051eb4795b3d06551cce4747d",
        "IPY_MODEL_ba05521c2e9f48b8a59fe1385a70b051"
       ],
       "layout": "IPY_MODEL_e5a0491806ef44efa3c93e2267a4d787"
      }
     },
     "56b131458d454d7fad6e54868739b912": {
      "model_module": "@jupyter-widgets/controls",
      "model_module_version": "1.5.0",
      "model_name": "HBoxModel",
      "state": {
       "children": [
        "IPY_MODEL_8599ce3a5ebb4e539fdb5df5eecff539",
        "IPY_MODEL_295b97ac3f504050953ff44cabd7c13e"
       ],
       "layout": "IPY_MODEL_bd05d47e669a4a87bfee89c23811f35c"
      }
     },
     "56bb39c0530a43a28129b833dffb5fda": {
      "model_module": "@jupyter-widgets/controls",
      "model_module_version": "1.5.0",
      "model_name": "DescriptionStyleModel",
      "state": {
       "description_width": ""
      }
     },
     "56e8227fe70441e681826628976c114f": {
      "model_module": "@jupyter-widgets/base",
      "model_module_version": "1.2.0",
      "model_name": "LayoutModel",
      "state": {}
     },
     "5733087aab6e4507b89cecee4b3eab7c": {
      "model_module": "@jupyter-widgets/base",
      "model_module_version": "1.2.0",
      "model_name": "LayoutModel",
      "state": {}
     },
     "57e135fef89846bda05f69157d0b94f0": {
      "model_module": "@jupyter-widgets/base",
      "model_module_version": "1.2.0",
      "model_name": "LayoutModel",
      "state": {}
     },
     "58167808025b426c96393e662ab7aa45": {
      "model_module": "@jupyter-widgets/base",
      "model_module_version": "1.2.0",
      "model_name": "LayoutModel",
      "state": {}
     },
     "582f3cec9fb24278ab28f4b4c39d633c": {
      "model_module": "@jupyter-widgets/controls",
      "model_module_version": "1.5.0",
      "model_name": "ProgressStyleModel",
      "state": {
       "description_width": "initial"
      }
     },
     "5831d08aac0042dd961308441096fbdd": {
      "model_module": "@jupyter-widgets/controls",
      "model_module_version": "1.5.0",
      "model_name": "HTMLModel",
      "state": {
       "layout": "IPY_MODEL_14d544b770af40d59efc111d74ea654f",
       "style": "IPY_MODEL_bdb625416f034fcfaa6644fb252980ee",
       "value": " 33200/33200 [02:23&lt;00:00, 231.34it/s]"
      }
     },
     "583986b66a41432e8ab64a428ba80710": {
      "model_module": "@jupyter-widgets/controls",
      "model_module_version": "1.5.0",
      "model_name": "ProgressStyleModel",
      "state": {
       "description_width": "initial"
      }
     },
     "584665e74aaf4a6c85e504434a7c66d7": {
      "model_module": "@jupyter-widgets/controls",
      "model_module_version": "1.5.0",
      "model_name": "DescriptionStyleModel",
      "state": {
       "description_width": ""
      }
     },
     "586b7b4a558e48e6821811400494f4c5": {
      "model_module": "@jupyter-widgets/controls",
      "model_module_version": "1.5.0",
      "model_name": "DescriptionStyleModel",
      "state": {
       "description_width": ""
      }
     },
     "58af4a142d3d40b8b9f937ce0f82699e": {
      "model_module": "@jupyter-widgets/controls",
      "model_module_version": "1.5.0",
      "model_name": "FloatProgressModel",
      "state": {
       "bar_style": "success",
       "description": "100%",
       "layout": "IPY_MODEL_9e62f851d26a42efa926419048531b6c",
       "max": 8316,
       "style": "IPY_MODEL_237cdba9e5f244b1b76d92e8d516b738",
       "value": 8316
      }
     },
     "59032891ff374d6db1aff9896a2966bd": {
      "model_module": "@jupyter-widgets/base",
      "model_module_version": "1.2.0",
      "model_name": "LayoutModel",
      "state": {}
     },
     "598f5a62022642099ee684248f1c6079": {
      "model_module": "@jupyter-widgets/controls",
      "model_module_version": "1.5.0",
      "model_name": "ProgressStyleModel",
      "state": {
       "description_width": "initial"
      }
     },
     "5a4edd4fba744039a8843be237418d16": {
      "model_module": "@jupyter-widgets/controls",
      "model_module_version": "1.5.0",
      "model_name": "ProgressStyleModel",
      "state": {
       "description_width": "initial"
      }
     },
     "5a8a09d7cccc407284e0e255cb2c7163": {
      "model_module": "@jupyter-widgets/controls",
      "model_module_version": "1.5.0",
      "model_name": "DescriptionStyleModel",
      "state": {
       "description_width": ""
      }
     },
     "5ad24fef226749cbb81fe0348318fc69": {
      "model_module": "@jupyter-widgets/base",
      "model_module_version": "1.2.0",
      "model_name": "LayoutModel",
      "state": {}
     },
     "5adb866f993f4001a2aced5087184cad": {
      "model_module": "@jupyter-widgets/controls",
      "model_module_version": "1.5.0",
      "model_name": "FloatProgressModel",
      "state": {
       "bar_style": "danger",
       "description": "  4%",
       "layout": "IPY_MODEL_832d37d1d72c4e8490507d109489d302",
       "max": 29920,
       "style": "IPY_MODEL_7327fda48e884bc6bfa63730310167c4",
       "value": 1122
      }
     },
     "5b6f3529a67648cf93a222339ffb1a9f": {
      "model_module": "@jupyter-widgets/base",
      "model_module_version": "1.2.0",
      "model_name": "LayoutModel",
      "state": {}
     },
     "5b782a56360e48cab796b9d5eec9fd82": {
      "model_module": "@jupyter-widgets/controls",
      "model_module_version": "1.5.0",
      "model_name": "HTMLModel",
      "state": {
       "layout": "IPY_MODEL_28d0fdc08d8d47f3b7cb4048d49bc8e1",
       "style": "IPY_MODEL_94451cf444c044ec9eac33f1bce63920",
       "value": " 2772/2772 [00:04&lt;00:00, 596.34it/s]"
      }
     },
     "5b81a8df9cf74246aaa2bcc7e0e5d461": {
      "model_module": "@jupyter-widgets/controls",
      "model_module_version": "1.5.0",
      "model_name": "DescriptionStyleModel",
      "state": {
       "description_width": ""
      }
     },
     "5c1ecb7a15f14d0f9d4b02dcc382f466": {
      "model_module": "@jupyter-widgets/controls",
      "model_module_version": "1.5.0",
      "model_name": "FloatProgressModel",
      "state": {
       "bar_style": "success",
       "description": "100%",
       "layout": "IPY_MODEL_59032891ff374d6db1aff9896a2966bd",
       "max": 33200,
       "style": "IPY_MODEL_c3cd5511107b404da5ce26de825ee729",
       "value": 33200
      }
     },
     "5c935a66a59f44c1bc43b8158627ecc3": {
      "model_module": "@jupyter-widgets/controls",
      "model_module_version": "1.5.0",
      "model_name": "HTMLModel",
      "state": {
       "layout": "IPY_MODEL_895ef0995cc6468d8d16ba1158970422",
       "style": "IPY_MODEL_07696385a7af4136b4f7808227855811",
       "value": " 2772/2772 [00:10&lt;00:00, 252.94it/s]"
      }
     },
     "5daa966bf0eb4ad0b4fdce1ca214725b": {
      "model_module": "@jupyter-widgets/controls",
      "model_module_version": "1.5.0",
      "model_name": "DescriptionStyleModel",
      "state": {
       "description_width": ""
      }
     },
     "5dadc373c8e8499f864c0543e7d70c42": {
      "model_module": "@jupyter-widgets/controls",
      "model_module_version": "1.5.0",
      "model_name": "FloatProgressModel",
      "state": {
       "bar_style": "success",
       "description": "100%",
       "layout": "IPY_MODEL_ebee68234f744ab18bbab9d3101ca2b8",
       "max": 8316,
       "style": "IPY_MODEL_0252feb9615b40f8908f2f9201b492e0",
       "value": 8316
      }
     },
     "5dc8c415ecc14e4dba9c6de8e21ee37a": {
      "model_module": "@jupyter-widgets/controls",
      "model_module_version": "1.5.0",
      "model_name": "HBoxModel",
      "state": {
       "children": [
        "IPY_MODEL_c407124eab0341d9834a5e67fb327bed",
        "IPY_MODEL_1a789dcb729a469e81da7cf648fa6514"
       ],
       "layout": "IPY_MODEL_d799e50e499d48d7b5d750bbdd749c42"
      }
     },
     "5e02e2719d074bda8a35d5b7007fec26": {
      "model_module": "@jupyter-widgets/base",
      "model_module_version": "1.2.0",
      "model_name": "LayoutModel",
      "state": {}
     },
     "5e0bacf11bf841a5947b0c9ded8e716f": {
      "model_module": "@jupyter-widgets/base",
      "model_module_version": "1.2.0",
      "model_name": "LayoutModel",
      "state": {}
     },
     "5e21bbe10efb4bc787e4e94583ecc324": {
      "model_module": "@jupyter-widgets/base",
      "model_module_version": "1.2.0",
      "model_name": "LayoutModel",
      "state": {}
     },
     "5e21d69a61724d32b0c2a3e80b3ef2f0": {
      "model_module": "@jupyter-widgets/controls",
      "model_module_version": "1.5.0",
      "model_name": "HBoxModel",
      "state": {
       "children": [
        "IPY_MODEL_cdf721a6f58e4a8e8479580997b5db45",
        "IPY_MODEL_55a72721cd2940e3a909527b9223dd16"
       ],
       "layout": "IPY_MODEL_39b08a70c99743b49aa95965ce047ad1"
      }
     },
     "5e55ba58a25a472c9530d3cbb67ead51": {
      "model_module": "@jupyter-widgets/controls",
      "model_module_version": "1.5.0",
      "model_name": "HBoxModel",
      "state": {
       "children": [
        "IPY_MODEL_11ad0ab6fa694b1fbd96217a22a9208c",
        "IPY_MODEL_9b83e47826124d48b4b339d765cabe34"
       ],
       "layout": "IPY_MODEL_5b6f3529a67648cf93a222339ffb1a9f"
      }
     },
     "5e5fc48e682844b0920c5a1f10dc3162": {
      "model_module": "@jupyter-widgets/base",
      "model_module_version": "1.2.0",
      "model_name": "LayoutModel",
      "state": {}
     },
     "5e6b72b79ee2490ea7a28810fa770e54": {
      "model_module": "@jupyter-widgets/controls",
      "model_module_version": "1.5.0",
      "model_name": "HBoxModel",
      "state": {
       "children": [
        "IPY_MODEL_83b57e69d6e44b25a2903495137bd912",
        "IPY_MODEL_9b9f899ecf864706805d3cf37f5c4c3d"
       ],
       "layout": "IPY_MODEL_112bfbf28a3f44c8a8e1c2c16df4fdf0"
      }
     },
     "5e7be76cfc5b43ba93788c1e3e58a65a": {
      "model_module": "@jupyter-widgets/controls",
      "model_module_version": "1.5.0",
      "model_name": "FloatProgressModel",
      "state": {
       "bar_style": "success",
       "description": "100%",
       "layout": "IPY_MODEL_ba148feb0b4d489ebf988220d13c33a8",
       "max": 2148,
       "style": "IPY_MODEL_622cd779d27546399ddaafc0e37f452b",
       "value": 2148
      }
     },
     "608bff2ea9584d52bfdddb8be1c1f46b": {
      "model_module": "@jupyter-widgets/controls",
      "model_module_version": "1.5.0",
      "model_name": "HBoxModel",
      "state": {
       "children": [
        "IPY_MODEL_adc4337cb8b74b9b834eb5a287a69fa6",
        "IPY_MODEL_cfee2c09226a436fab37cd647c7fb0d4"
       ],
       "layout": "IPY_MODEL_cd7fe464850042d9a83900933fcaed89"
      }
     },
     "60b10989ecde48769e077c36962ce29e": {
      "model_module": "@jupyter-widgets/controls",
      "model_module_version": "1.5.0",
      "model_name": "DescriptionStyleModel",
      "state": {
       "description_width": ""
      }
     },
     "611015ff9553462698b1cf11d03864f4": {
      "model_module": "@jupyter-widgets/controls",
      "model_module_version": "1.5.0",
      "model_name": "DescriptionStyleModel",
      "state": {
       "description_width": ""
      }
     },
     "611343457fe94f0e92b16a8fed8a5fbf": {
      "model_module": "@jupyter-widgets/controls",
      "model_module_version": "1.5.0",
      "model_name": "FloatProgressModel",
      "state": {
       "bar_style": "success",
       "description": "100%",
       "layout": "IPY_MODEL_00349f9845d749ac8dc694ef32bea6c9",
       "max": 1596,
       "style": "IPY_MODEL_69c30fd232ec4b40918378539a836cc0",
       "value": 1596
      }
     },
     "61434123aee94ad3a4bb632cf3914cd9": {
      "model_module": "@jupyter-widgets/controls",
      "model_module_version": "1.5.0",
      "model_name": "HBoxModel",
      "state": {
       "children": [
        "IPY_MODEL_f148848aa7f74f6dbc2fec4e382d1c48",
        "IPY_MODEL_df3fe328bb474b7f813668a627b45e73"
       ],
       "layout": "IPY_MODEL_ef6d3f6cf1ae414da399b78bbcd3ccf8"
      }
     },
     "6144a006e5414fafb3e4a36d2f1c9b39": {
      "model_module": "@jupyter-widgets/controls",
      "model_module_version": "1.5.0",
      "model_name": "ProgressStyleModel",
      "state": {
       "description_width": "initial"
      }
     },
     "6152fcf6bbac45a89cd115d914d54152": {
      "model_module": "@jupyter-widgets/base",
      "model_module_version": "1.2.0",
      "model_name": "LayoutModel",
      "state": {}
     },
     "61da9dd4475f496f908fd96feca3778f": {
      "model_module": "@jupyter-widgets/base",
      "model_module_version": "1.2.0",
      "model_name": "LayoutModel",
      "state": {}
     },
     "61f38bacfd1249abb6be66e2309456a6": {
      "model_module": "@jupyter-widgets/controls",
      "model_module_version": "1.5.0",
      "model_name": "FloatProgressModel",
      "state": {
       "bar_style": "success",
       "description": "100%",
       "layout": "IPY_MODEL_7ce86a4b691f4ee781f15bf8a7fdf8e8",
       "max": 2772,
       "style": "IPY_MODEL_188f0f18545c4907b68e7d3b2c040b40",
       "value": 2772
      }
     },
     "622cd779d27546399ddaafc0e37f452b": {
      "model_module": "@jupyter-widgets/controls",
      "model_module_version": "1.5.0",
      "model_name": "ProgressStyleModel",
      "state": {
       "description_width": "initial"
      }
     },
     "634e833aa9d844f6aedc458f42665fd6": {
      "model_module": "@jupyter-widgets/base",
      "model_module_version": "1.2.0",
      "model_name": "LayoutModel",
      "state": {}
     },
     "63786f51fb3d471e90db5f94770ad41d": {
      "model_module": "@jupyter-widgets/base",
      "model_module_version": "1.2.0",
      "model_name": "LayoutModel",
      "state": {}
     },
     "63831e9bdf264c9d979ca315b30a9d1f": {
      "model_module": "@jupyter-widgets/base",
      "model_module_version": "1.2.0",
      "model_name": "LayoutModel",
      "state": {}
     },
     "63984c17ffd845f69c523d62eb3c7f70": {
      "model_module": "@jupyter-widgets/base",
      "model_module_version": "1.2.0",
      "model_name": "LayoutModel",
      "state": {}
     },
     "63a9a05d10bc402aa071b571a37992d3": {
      "model_module": "@jupyter-widgets/controls",
      "model_module_version": "1.5.0",
      "model_name": "DescriptionStyleModel",
      "state": {
       "description_width": ""
      }
     },
     "63e64f07f6f7448fa2f5ecff76f3d570": {
      "model_module": "@jupyter-widgets/base",
      "model_module_version": "1.2.0",
      "model_name": "LayoutModel",
      "state": {}
     },
     "643d2053a9fb40678e832826f47d0eb3": {
      "model_module": "@jupyter-widgets/base",
      "model_module_version": "1.2.0",
      "model_name": "LayoutModel",
      "state": {}
     },
     "648571df65584ee0bb8b3e0f5117e041": {
      "model_module": "@jupyter-widgets/controls",
      "model_module_version": "1.5.0",
      "model_name": "ProgressStyleModel",
      "state": {
       "description_width": "initial"
      }
     },
     "64e3d09782214559b3b0b2123d466477": {
      "model_module": "@jupyter-widgets/controls",
      "model_module_version": "1.5.0",
      "model_name": "HBoxModel",
      "state": {
       "children": [
        "IPY_MODEL_148a952326f14f38967f5222b90fce57",
        "IPY_MODEL_374e2fd5cf5b41fa86f3eee517259f9d"
       ],
       "layout": "IPY_MODEL_6617e5f6eb004c168a5bc3fef6099bef"
      }
     },
     "6520d1886fec419c81326d5802192fcc": {
      "model_module": "@jupyter-widgets/controls",
      "model_module_version": "1.5.0",
      "model_name": "ProgressStyleModel",
      "state": {
       "description_width": "initial"
      }
     },
     "6532072f7ebf43a0b737a2a57512d0e1": {
      "model_module": "@jupyter-widgets/base",
      "model_module_version": "1.2.0",
      "model_name": "LayoutModel",
      "state": {}
     },
     "654a34bce9aa4222832c9bf8e2b65112": {
      "model_module": "@jupyter-widgets/base",
      "model_module_version": "1.2.0",
      "model_name": "LayoutModel",
      "state": {}
     },
     "65bb44f867da4cca9310e1b7967789c6": {
      "model_module": "@jupyter-widgets/controls",
      "model_module_version": "1.5.0",
      "model_name": "FloatProgressModel",
      "state": {
       "bar_style": "success",
       "description": "100%",
       "layout": "IPY_MODEL_c811485444a54812ab15ff3605e1d1b8",
       "max": 2772,
       "style": "IPY_MODEL_27cda6499cf540409732c8d53d345407",
       "value": 2772
      }
     },
     "65dddc2630534ab7b4ebdfc560847733": {
      "model_module": "@jupyter-widgets/controls",
      "model_module_version": "1.5.0",
      "model_name": "FloatProgressModel",
      "state": {
       "bar_style": "success",
       "description": "100%",
       "layout": "IPY_MODEL_09a3997d682d4a18a5e1f7f0f93aaea9",
       "max": 2148,
       "style": "IPY_MODEL_1d78c282b8854829ba2bd762b5a27fa8",
       "value": 2148
      }
     },
     "6617e5f6eb004c168a5bc3fef6099bef": {
      "model_module": "@jupyter-widgets/base",
      "model_module_version": "1.2.0",
      "model_name": "LayoutModel",
      "state": {}
     },
     "6669ea70ae8e4e61aebaa6a329c6892d": {
      "model_module": "@jupyter-widgets/controls",
      "model_module_version": "1.5.0",
      "model_name": "HTMLModel",
      "state": {
       "layout": "IPY_MODEL_a50ca7d719f241d6a16a7a19b9065ffa",
       "style": "IPY_MODEL_9b92c2b9233e42c8b81ae3bb2f9ba000",
       "value": " 1296/1296 [00:02&lt;00:00, 570.43it/s]"
      }
     },
     "6683677f720c4b0abad1fff3b1e08f51": {
      "model_module": "@jupyter-widgets/base",
      "model_module_version": "1.2.0",
      "model_name": "LayoutModel",
      "state": {}
     },
     "66af4d258f6d445ab54c91f75fff976f": {
      "model_module": "@jupyter-widgets/controls",
      "model_module_version": "1.5.0",
      "model_name": "HBoxModel",
      "state": {
       "children": [
        "IPY_MODEL_3caf2174d85c43acaed59bf78b6f24e7",
        "IPY_MODEL_007197e1723d470daebcf08a5bbc0f5c"
       ],
       "layout": "IPY_MODEL_128205c59bad42ed97cfe1c4e6a3d9e8"
      }
     },
     "678110d384c540169dcb1af7471baf70": {
      "model_module": "@jupyter-widgets/controls",
      "model_module_version": "1.5.0",
      "model_name": "HTMLModel",
      "state": {
       "layout": "IPY_MODEL_81b4d5c2b43044419544af16941927e0",
       "style": "IPY_MODEL_bf46f851852c4ccf97105357d09a1431",
       "value": " 9720/9720 [00:17&lt;00:00, 560.98it/s]"
      }
     },
     "678b88b120834510bf0d005f6d0e0c22": {
      "model_module": "@jupyter-widgets/base",
      "model_module_version": "1.2.0",
      "model_name": "LayoutModel",
      "state": {}
     },
     "67cf47bd3d63459787449796f397539d": {
      "model_module": "@jupyter-widgets/controls",
      "model_module_version": "1.5.0",
      "model_name": "ProgressStyleModel",
      "state": {
       "description_width": "initial"
      }
     },
     "681a71f94170462ea5dab72e086229d3": {
      "model_module": "@jupyter-widgets/controls",
      "model_module_version": "1.5.0",
      "model_name": "ProgressStyleModel",
      "state": {
       "description_width": "initial"
      }
     },
     "683f08f76ee24abd99445fcc36253b8f": {
      "model_module": "@jupyter-widgets/controls",
      "model_module_version": "1.5.0",
      "model_name": "ProgressStyleModel",
      "state": {
       "description_width": "initial"
      }
     },
     "68995ac742364890854c65e9917e367b": {
      "model_module": "@jupyter-widgets/controls",
      "model_module_version": "1.5.0",
      "model_name": "HBoxModel",
      "state": {
       "children": [
        "IPY_MODEL_cb10c6831ff44066999036e7d0cd2bfb",
        "IPY_MODEL_e105e0ba5e00421ab807f41bbc7a8b2e"
       ],
       "layout": "IPY_MODEL_daec7f4c4d2e44a98d457d58c0be62d4"
      }
     },
     "68aaa8838f5345d58a7b7ec541094ed9": {
      "model_module": "@jupyter-widgets/controls",
      "model_module_version": "1.5.0",
      "model_name": "HTMLModel",
      "state": {
       "layout": "IPY_MODEL_782c633ffd8c47f1956a73389b8fcb2a",
       "style": "IPY_MODEL_f680fd0905564f6db09338b0bde8fea3",
       "value": " 306/1296 [00:00&lt;00:01, 586.00it/s]"
      }
     },
     "6974504976e6478ca402b70374fae914": {
      "model_module": "@jupyter-widgets/controls",
      "model_module_version": "1.5.0",
      "model_name": "DescriptionStyleModel",
      "state": {
       "description_width": ""
      }
     },
     "69c30fd232ec4b40918378539a836cc0": {
      "model_module": "@jupyter-widgets/controls",
      "model_module_version": "1.5.0",
      "model_name": "ProgressStyleModel",
      "state": {
       "description_width": "initial"
      }
     },
     "6a1e81c265cd4dda8ea891a1e7dc2a3d": {
      "model_module": "@jupyter-widgets/controls",
      "model_module_version": "1.5.0",
      "model_name": "DescriptionStyleModel",
      "state": {
       "description_width": ""
      }
     },
     "6a5c682248304c38ac322fa2b6d287f1": {
      "model_module": "@jupyter-widgets/base",
      "model_module_version": "1.2.0",
      "model_name": "LayoutModel",
      "state": {}
     },
     "6a6070aa6ebc4526a048bdd433627af3": {
      "model_module": "@jupyter-widgets/base",
      "model_module_version": "1.2.0",
      "model_name": "LayoutModel",
      "state": {}
     },
     "6b4369483ded43c4ae8d3c09034407fa": {
      "model_module": "@jupyter-widgets/base",
      "model_module_version": "1.2.0",
      "model_name": "LayoutModel",
      "state": {}
     },
     "6b8bee451e5a4925b013bbebe2561763": {
      "model_module": "@jupyter-widgets/controls",
      "model_module_version": "1.5.0",
      "model_name": "FloatProgressModel",
      "state": {
       "bar_style": "success",
       "description": "100%",
       "layout": "IPY_MODEL_2c4db9a8b5ca4231b9d28ab07a0fa28d",
       "max": 9720,
       "style": "IPY_MODEL_45bbe1f81f334d898ce1ef4ee2b00171",
       "value": 9720
      }
     },
     "6d0ff8c3dc194ffdb29040b6dd87ab04": {
      "model_module": "@jupyter-widgets/controls",
      "model_module_version": "1.5.0",
      "model_name": "HBoxModel",
      "state": {
       "children": [
        "IPY_MODEL_65dddc2630534ab7b4ebdfc560847733",
        "IPY_MODEL_362ecc96015f4ca1a8a3e2da6bd1ad45"
       ],
       "layout": "IPY_MODEL_1f1344592e994e4496a45f80a74e5e37"
      }
     },
     "6dd291c538384080ba675d5ddcbe2339": {
      "model_module": "@jupyter-widgets/controls",
      "model_module_version": "1.5.0",
      "model_name": "ProgressStyleModel",
      "state": {
       "description_width": "initial"
      }
     },
     "6e1f3e81fee1400c89288173ddcbee5e": {
      "model_module": "@jupyter-widgets/controls",
      "model_module_version": "1.5.0",
      "model_name": "HTMLModel",
      "state": {
       "layout": "IPY_MODEL_4ab12f06401d4895a696a901f0f28ae0",
       "style": "IPY_MODEL_d53fa8c0ae6342739abf79fd162f2612",
       "value": " 29920/29920 [02:24&lt;00:00, 207.52it/s]"
      }
     },
     "6e392209ebf741498b9a295c5b166eed": {
      "model_module": "@jupyter-widgets/base",
      "model_module_version": "1.2.0",
      "model_name": "LayoutModel",
      "state": {}
     },
     "6e6e6407f33d47e5838bde17b6fdd311": {
      "model_module": "@jupyter-widgets/controls",
      "model_module_version": "1.5.0",
      "model_name": "ProgressStyleModel",
      "state": {
       "description_width": "initial"
      }
     },
     "6eede63492914de0bc0105d6a3e2de5f": {
      "model_module": "@jupyter-widgets/controls",
      "model_module_version": "1.5.0",
      "model_name": "DescriptionStyleModel",
      "state": {
       "description_width": ""
      }
     },
     "70117c708bbc4831a380e8328d498563": {
      "model_module": "@jupyter-widgets/controls",
      "model_module_version": "1.5.0",
      "model_name": "ProgressStyleModel",
      "state": {
       "description_width": "initial"
      }
     },
     "701f7c93683c4d08bb1ae12313883b15": {
      "model_module": "@jupyter-widgets/controls",
      "model_module_version": "1.5.0",
      "model_name": "HTMLModel",
      "state": {
       "layout": "IPY_MODEL_6a5c682248304c38ac322fa2b6d287f1",
       "style": "IPY_MODEL_906379d5eae647cfa2e9919666b71392",
       "value": " 2148/2148 [00:03&lt;00:00, 627.54it/s]"
      }
     },
     "715a70f800434adc99413afb4ab3a7c1": {
      "model_module": "@jupyter-widgets/controls",
      "model_module_version": "1.5.0",
      "model_name": "FloatProgressModel",
      "state": {
       "bar_style": "success",
       "description": "100%",
       "layout": "IPY_MODEL_de5cc02084994b9f9f6a8f59b62c953c",
       "max": 13160,
       "style": "IPY_MODEL_54048599fe2549d08605416892043900",
       "value": 13160
      }
     },
     "71632e5d9cb64740b19bd0a3dbde42df": {
      "model_module": "@jupyter-widgets/base",
      "model_module_version": "1.2.0",
      "model_name": "LayoutModel",
      "state": {}
     },
     "71abd9422b2a47b59eaa622d9c720300": {
      "model_module": "@jupyter-widgets/controls",
      "model_module_version": "1.5.0",
      "model_name": "ProgressStyleModel",
      "state": {
       "description_width": "initial"
      }
     },
     "71e8a62107cc4db18aba85e87ce2ffc8": {
      "model_module": "@jupyter-widgets/controls",
      "model_module_version": "1.5.0",
      "model_name": "HBoxModel",
      "state": {
       "children": [
        "IPY_MODEL_e2624da55f714e93bfa3a8776f827f4f",
        "IPY_MODEL_bd2e7597d0f6460e9d4261e51db0c5f8"
       ],
       "layout": "IPY_MODEL_257a214ae896404da21d3a87a1dc1b1d"
      }
     },
     "71f826188a154df086c89c09b1773980": {
      "model_module": "@jupyter-widgets/controls",
      "model_module_version": "1.5.0",
      "model_name": "ProgressStyleModel",
      "state": {
       "description_width": "initial"
      }
     },
     "7327fda48e884bc6bfa63730310167c4": {
      "model_module": "@jupyter-widgets/controls",
      "model_module_version": "1.5.0",
      "model_name": "ProgressStyleModel",
      "state": {
       "description_width": "initial"
      }
     },
     "734e5c79ee22441e88526023b374671e": {
      "model_module": "@jupyter-widgets/base",
      "model_module_version": "1.2.0",
      "model_name": "LayoutModel",
      "state": {}
     },
     "74a56fc6967b4ac8b63fc141dad4d137": {
      "model_module": "@jupyter-widgets/base",
      "model_module_version": "1.2.0",
      "model_name": "LayoutModel",
      "state": {}
     },
     "753cb8aac4b241dc91cb3a69c852c9fc": {
      "model_module": "@jupyter-widgets/controls",
      "model_module_version": "1.5.0",
      "model_name": "FloatProgressModel",
      "state": {
       "bar_style": "success",
       "description": "100%",
       "layout": "IPY_MODEL_962690ff20fe43c6a3b36dd9962f9103",
       "max": 52260,
       "style": "IPY_MODEL_002360d3c9d74cb98e124ef98d556bdd",
       "value": 52260
      }
     },
     "756a3a69ed6942edbd1a4c22e7ccb080": {
      "model_module": "@jupyter-widgets/controls",
      "model_module_version": "1.5.0",
      "model_name": "HBoxModel",
      "state": {
       "children": [
        "IPY_MODEL_45e522dbb8e7496ea95612dbe87dd63c",
        "IPY_MODEL_36608793858d4c1781ba0cddcf0dd352"
       ],
       "layout": "IPY_MODEL_51ba9efed8c34d4bb5e4b7adf9769a24"
      }
     },
     "75b993ac3a6a4ffda71b51daad996e29": {
      "model_module": "@jupyter-widgets/controls",
      "model_module_version": "1.5.0",
      "model_name": "HBoxModel",
      "state": {
       "children": [
        "IPY_MODEL_86aaeeb9522e411891af2a14fff99739",
        "IPY_MODEL_0416cfc5213e4c60a31fd5ec88a1608d"
       ],
       "layout": "IPY_MODEL_4aac4e1b18d24520933e7dd5278ab604"
      }
     },
     "76b750b234a84f65a1e209758f80461e": {
      "model_module": "@jupyter-widgets/controls",
      "model_module_version": "1.5.0",
      "model_name": "HBoxModel",
      "state": {
       "children": [
        "IPY_MODEL_e622c12322684093bcff275349c48d40",
        "IPY_MODEL_8d31f1d25f3c4775b49bb26ffb6de747"
       ],
       "layout": "IPY_MODEL_78d5150b3c4c45338254680373d5514c"
      }
     },
     "78022ce2085a4aeabd112369118aa0dc": {
      "model_module": "@jupyter-widgets/controls",
      "model_module_version": "1.5.0",
      "model_name": "FloatProgressModel",
      "state": {
       "bar_style": "success",
       "description": "100%",
       "layout": "IPY_MODEL_3187c5f6a79941f1ab575676e335c223",
       "max": 29920,
       "style": "IPY_MODEL_3b806bb2553a4cd69c81e41f8ec6ef46",
       "value": 29920
      }
     },
     "780282b935f2450591aeeaca14ab7d6a": {
      "model_module": "@jupyter-widgets/controls",
      "model_module_version": "1.5.0",
      "model_name": "DescriptionStyleModel",
      "state": {
       "description_width": ""
      }
     },
     "782c633ffd8c47f1956a73389b8fcb2a": {
      "model_module": "@jupyter-widgets/base",
      "model_module_version": "1.2.0",
      "model_name": "LayoutModel",
      "state": {}
     },
     "78974f14f6474760aa353ac1a1ec814b": {
      "model_module": "@jupyter-widgets/controls",
      "model_module_version": "1.5.0",
      "model_name": "HBoxModel",
      "state": {
       "children": [
        "IPY_MODEL_4412d5244504415e8ddfa7962638e7f4",
        "IPY_MODEL_07217660e4bd41b68114d6ede9743a55"
       ],
       "layout": "IPY_MODEL_336873c5342d4cf9be68af6cd4449795"
      }
     },
     "78b6239482eb4758be45335049621fbb": {
      "model_module": "@jupyter-widgets/controls",
      "model_module_version": "1.5.0",
      "model_name": "FloatProgressModel",
      "state": {
       "bar_style": "success",
       "description": "100%",
       "layout": "IPY_MODEL_7af7f253231b430fbac36903b68baf07",
       "max": 3240,
       "style": "IPY_MODEL_d353720e0a14487d997ea49c33c48091",
       "value": 3240
      }
     },
     "78d5150b3c4c45338254680373d5514c": {
      "model_module": "@jupyter-widgets/base",
      "model_module_version": "1.2.0",
      "model_name": "LayoutModel",
      "state": {}
     },
     "791a2549292943dfa3c188a3d98678bf": {
      "model_module": "@jupyter-widgets/base",
      "model_module_version": "1.2.0",
      "model_name": "LayoutModel",
      "state": {}
     },
     "79ccd0ceac264695b24966198fddc4c7": {
      "model_module": "@jupyter-widgets/controls",
      "model_module_version": "1.5.0",
      "model_name": "HBoxModel",
      "state": {
       "children": [
        "IPY_MODEL_df1ea324e7fa47d6aefb807d61572fb7",
        "IPY_MODEL_8956147cada14ef6bc20cfa6e688c093"
       ],
       "layout": "IPY_MODEL_0ca49198f5644a6dac26a4c3182c39c5"
      }
     },
     "7a01ad4b48b447cea7227f68ba333821": {
      "model_module": "@jupyter-widgets/controls",
      "model_module_version": "1.5.0",
      "model_name": "ProgressStyleModel",
      "state": {
       "description_width": "initial"
      }
     },
     "7a06223de7d1474b9380eaf033731984": {
      "model_module": "@jupyter-widgets/controls",
      "model_module_version": "1.5.0",
      "model_name": "DescriptionStyleModel",
      "state": {
       "description_width": ""
      }
     },
     "7a0d552df9c24fd7963e6d3b0d19588c": {
      "model_module": "@jupyter-widgets/controls",
      "model_module_version": "1.5.0",
      "model_name": "HBoxModel",
      "state": {
       "children": [
        "IPY_MODEL_58af4a142d3d40b8b9f937ce0f82699e",
        "IPY_MODEL_3547181170964a9faaec6b3225cc4cfa"
       ],
       "layout": "IPY_MODEL_a26b1bf450e14437bb2828f4521ef7d0"
      }
     },
     "7a8fa7454a0947ca86b87508c1d41aa4": {
      "model_module": "@jupyter-widgets/base",
      "model_module_version": "1.2.0",
      "model_name": "LayoutModel",
      "state": {}
     },
     "7ada5a809a41498e86f623f795781e8a": {
      "model_module": "@jupyter-widgets/controls",
      "model_module_version": "1.5.0",
      "model_name": "HTMLModel",
      "state": {
       "layout": "IPY_MODEL_3d4fbb32542847189d907f1aa48a518d",
       "style": "IPY_MODEL_2f9344750f8140f0b7b0162ab43b8d47",
       "value": " 8316/8316 [00:14&lt;00:00, 591.07it/s]"
      }
     },
     "7af7f253231b430fbac36903b68baf07": {
      "model_module": "@jupyter-widgets/base",
      "model_module_version": "1.2.0",
      "model_name": "LayoutModel",
      "state": {}
     },
     "7bcd9767b51b41dc9fa83b5c10912f4c": {
      "model_module": "@jupyter-widgets/controls",
      "model_module_version": "1.5.0",
      "model_name": "HTMLModel",
      "state": {
       "layout": "IPY_MODEL_48e4eafcf893409fb2d2b3b24e577467",
       "style": "IPY_MODEL_34af0bf88baf441cb4041455c9c4d7ea",
       "value": " 2772/2772 [00:04&lt;00:00, 586.16it/s]"
      }
     },
     "7c0d1d42f8f347a790f1e9f32b19ee95": {
      "model_module": "@jupyter-widgets/base",
      "model_module_version": "1.2.0",
      "model_name": "LayoutModel",
      "state": {}
     },
     "7c8b2c7fbdba4499bfe172bd9f36d943": {
      "model_module": "@jupyter-widgets/base",
      "model_module_version": "1.2.0",
      "model_name": "LayoutModel",
      "state": {}
     },
     "7c9f42cb73364ffb8e73cd9164144bd7": {
      "model_module": "@jupyter-widgets/controls",
      "model_module_version": "1.5.0",
      "model_name": "FloatProgressModel",
      "state": {
       "bar_style": "success",
       "description": "100%",
       "layout": "IPY_MODEL_c2680ac452534d0b953630ca7fd8e1eb",
       "max": 2772,
       "style": "IPY_MODEL_25f6856108b44ac7ab195a2190da01a1",
       "value": 2772
      }
     },
     "7cdd10b0d67344778c97241d025e84cc": {
      "model_module": "@jupyter-widgets/base",
      "model_module_version": "1.2.0",
      "model_name": "LayoutModel",
      "state": {}
     },
     "7ce86a4b691f4ee781f15bf8a7fdf8e8": {
      "model_module": "@jupyter-widgets/base",
      "model_module_version": "1.2.0",
      "model_name": "LayoutModel",
      "state": {}
     },
     "7cfeb00af10348aeb42b5e59825e5c3f": {
      "model_module": "@jupyter-widgets/controls",
      "model_module_version": "1.5.0",
      "model_name": "HTMLModel",
      "state": {
       "layout": "IPY_MODEL_6683677f720c4b0abad1fff3b1e08f51",
       "style": "IPY_MODEL_63a9a05d10bc402aa071b571a37992d3",
       "value": " 2185/33200 [00:06&lt;01:31, 339.24it/s]"
      }
     },
     "7d563ead60c64f49b38738dcaab21ee8": {
      "model_module": "@jupyter-widgets/controls",
      "model_module_version": "1.5.0",
      "model_name": "HBoxModel",
      "state": {
       "children": [
        "IPY_MODEL_507aca71aa79487c889f0a36d92c4b7b",
        "IPY_MODEL_7ada5a809a41498e86f623f795781e8a"
       ],
       "layout": "IPY_MODEL_45376478e7ec4e4799428ee097be3d51"
      }
     },
     "7dd30a8cbbf84bfa85a154f87b59444c": {
      "model_module": "@jupyter-widgets/base",
      "model_module_version": "1.2.0",
      "model_name": "LayoutModel",
      "state": {}
     },
     "7e05d1e46fc74172ada34bae15fcc7b6": {
      "model_module": "@jupyter-widgets/base",
      "model_module_version": "1.2.0",
      "model_name": "LayoutModel",
      "state": {}
     },
     "7e9b8cd239104686b68e100652f60983": {
      "model_module": "@jupyter-widgets/controls",
      "model_module_version": "1.5.0",
      "model_name": "HBoxModel",
      "state": {
       "children": [
        "IPY_MODEL_a5f2e5d4a0f0445689d397f004d8d424",
        "IPY_MODEL_337730a38d9244ef8a24db5e69fd4e27"
       ],
       "layout": "IPY_MODEL_1a68c7f035b841b7af684f73361d5d9f"
      }
     },
     "7ee77395f1994b8aa8f30214a51a03a9": {
      "model_module": "@jupyter-widgets/controls",
      "model_module_version": "1.5.0",
      "model_name": "ProgressStyleModel",
      "state": {
       "description_width": "initial"
      }
     },
     "7f79ac9931f346cead7604feb6d3236d": {
      "model_module": "@jupyter-widgets/controls",
      "model_module_version": "1.5.0",
      "model_name": "ProgressStyleModel",
      "state": {
       "description_width": "initial"
      }
     },
     "7f7ae3c9c3374f0db344a9f7a8c1411d": {
      "model_module": "@jupyter-widgets/controls",
      "model_module_version": "1.5.0",
      "model_name": "HBoxModel",
      "state": {
       "children": [
        "IPY_MODEL_03bdf60d28be41adb4eba5ed0124cf37",
        "IPY_MODEL_264f0d8500f34424bcdcfc879e697c09"
       ],
       "layout": "IPY_MODEL_4bc99602aa3547bcb16f8508cf44f159"
      }
     },
     "7fac58695d2a4eac8937dc7948594fc9": {
      "model_module": "@jupyter-widgets/base",
      "model_module_version": "1.2.0",
      "model_name": "LayoutModel",
      "state": {}
     },
     "7fe92746156147e095b5049f18cdfc04": {
      "model_module": "@jupyter-widgets/controls",
      "model_module_version": "1.5.0",
      "model_name": "HTMLModel",
      "state": {
       "layout": "IPY_MODEL_a4209299168c4e74845a42fbf05c9c50",
       "style": "IPY_MODEL_eddbda6982434b03b97f28c8c439552f",
       "value": " 29920/29920 [02:14&lt;00:00, 223.08it/s]"
      }
     },
     "80087a8f32324177864edcdd2bf162c8": {
      "model_module": "@jupyter-widgets/base",
      "model_module_version": "1.2.0",
      "model_name": "LayoutModel",
      "state": {}
     },
     "80768af185154cdc89c2de893ccfcf13": {
      "model_module": "@jupyter-widgets/controls",
      "model_module_version": "1.5.0",
      "model_name": "HTMLModel",
      "state": {
       "layout": "IPY_MODEL_51ae23297eb045d8bfec481eab8250a7",
       "style": "IPY_MODEL_0b7929d15aab4106b78ef246bc19391e",
       "value": " 33200/33200 [02:23&lt;00:00, 230.68it/s]"
      }
     },
     "8094876264934d06b1168a28c15ba427": {
      "model_module": "@jupyter-widgets/controls",
      "model_module_version": "1.5.0",
      "model_name": "FloatProgressModel",
      "state": {
       "bar_style": "success",
       "description": "100%",
       "layout": "IPY_MODEL_8c1f02b28b8a4da984d2d4b58f1a972b",
       "max": 6444,
       "style": "IPY_MODEL_71f826188a154df086c89c09b1773980",
       "value": 6444
      }
     },
     "8096aa26ce2c4e2f9580f07f1310e5f2": {
      "model_module": "@jupyter-widgets/base",
      "model_module_version": "1.2.0",
      "model_name": "LayoutModel",
      "state": {}
     },
     "80d571aa349b482da696906db337fc48": {
      "model_module": "@jupyter-widgets/base",
      "model_module_version": "1.2.0",
      "model_name": "LayoutModel",
      "state": {}
     },
     "81b4d5c2b43044419544af16941927e0": {
      "model_module": "@jupyter-widgets/base",
      "model_module_version": "1.2.0",
      "model_name": "LayoutModel",
      "state": {}
     },
     "81c8a097be7a421ab9ef13986b27b2a0": {
      "model_module": "@jupyter-widgets/controls",
      "model_module_version": "1.5.0",
      "model_name": "ProgressStyleModel",
      "state": {
       "description_width": "initial"
      }
     },
     "826dcc5df81a48c5ae0df05f01a1c13a": {
      "model_module": "@jupyter-widgets/controls",
      "model_module_version": "1.5.0",
      "model_name": "HBoxModel",
      "state": {
       "children": [
        "IPY_MODEL_54dcd9697bf449c99dcef4778df03729",
        "IPY_MODEL_c1a1e030a3dc41509aac08222c5bb8c6"
       ],
       "layout": "IPY_MODEL_654a34bce9aa4222832c9bf8e2b65112"
      }
     },
     "828feb1c85ca440881fea0a0cc5ea57e": {
      "model_module": "@jupyter-widgets/controls",
      "model_module_version": "1.5.0",
      "model_name": "DescriptionStyleModel",
      "state": {
       "description_width": ""
      }
     },
     "82aed924b2e34840822b9c2e60d40c8a": {
      "model_module": "@jupyter-widgets/controls",
      "model_module_version": "1.5.0",
      "model_name": "FloatProgressModel",
      "state": {
       "bar_style": "success",
       "description": "100%",
       "layout": "IPY_MODEL_a30a2fd207174a54968c7ef74d3dd155",
       "max": 8316,
       "style": "IPY_MODEL_8b90644636c34f119c2b6c10271af462",
       "value": 8316
      }
     },
     "831adc6d51d7434799e140189c019c3b": {
      "model_module": "@jupyter-widgets/base",
      "model_module_version": "1.2.0",
      "model_name": "LayoutModel",
      "state": {}
     },
     "832d37d1d72c4e8490507d109489d302": {
      "model_module": "@jupyter-widgets/base",
      "model_module_version": "1.2.0",
      "model_name": "LayoutModel",
      "state": {}
     },
     "839991474eb54a54a3c62a1614d8feb3": {
      "model_module": "@jupyter-widgets/controls",
      "model_module_version": "1.5.0",
      "model_name": "FloatProgressModel",
      "state": {
       "bar_style": "success",
       "description": "100%",
       "layout": "IPY_MODEL_de328b5739404691a0555593edbb957f",
       "max": 2148,
       "style": "IPY_MODEL_c175ca2b31c84bdaabb160a83c6f6288",
       "value": 2148
      }
     },
     "83b57e69d6e44b25a2903495137bd912": {
      "model_module": "@jupyter-widgets/controls",
      "model_module_version": "1.5.0",
      "model_name": "FloatProgressModel",
      "state": {
       "bar_style": "success",
       "description": "100%",
       "layout": "IPY_MODEL_0f8d1dd2eaac4567b29592eb55b8325a",
       "max": 29920,
       "style": "IPY_MODEL_70117c708bbc4831a380e8328d498563",
       "value": 29920
      }
     },
     "84df3969296e4aa38d5b7fbe8608419c": {
      "model_module": "@jupyter-widgets/base",
      "model_module_version": "1.2.0",
      "model_name": "LayoutModel",
      "state": {}
     },
     "8599ce3a5ebb4e539fdb5df5eecff539": {
      "model_module": "@jupyter-widgets/controls",
      "model_module_version": "1.5.0",
      "model_name": "FloatProgressModel",
      "state": {
       "bar_style": "success",
       "description": "100%",
       "layout": "IPY_MODEL_0402b5d03dae42e193ecedeb4e2a6002",
       "max": 2148,
       "style": "IPY_MODEL_3f4ab249f3984e1eafaaefe9894d7e62",
       "value": 2148
      }
     },
     "85d900262344423996959cd0d46c19b6": {
      "model_module": "@jupyter-widgets/base",
      "model_module_version": "1.2.0",
      "model_name": "LayoutModel",
      "state": {}
     },
     "86794451f2fa4fdba1afaee0c1d75445": {
      "model_module": "@jupyter-widgets/base",
      "model_module_version": "1.2.0",
      "model_name": "LayoutModel",
      "state": {}
     },
     "869ec6714a1e4d41b49c159edcbd9d05": {
      "model_module": "@jupyter-widgets/controls",
      "model_module_version": "1.5.0",
      "model_name": "DescriptionStyleModel",
      "state": {
       "description_width": ""
      }
     },
     "86aa6892dc3f46439be8868b5c11638e": {
      "model_module": "@jupyter-widgets/base",
      "model_module_version": "1.2.0",
      "model_name": "LayoutModel",
      "state": {}
     },
     "86aaeeb9522e411891af2a14fff99739": {
      "model_module": "@jupyter-widgets/controls",
      "model_module_version": "1.5.0",
      "model_name": "FloatProgressModel",
      "state": {
       "bar_style": "success",
       "description": "100%",
       "layout": "IPY_MODEL_32b471828684465f8c64706e28b4a211",
       "max": 33200,
       "style": "IPY_MODEL_b16149e0b3744c56b7491db88a56baeb",
       "value": 33200
      }
     },
     "86b5ba0dec9f458fb441ebdf30ea1600": {
      "model_module": "@jupyter-widgets/base",
      "model_module_version": "1.2.0",
      "model_name": "LayoutModel",
      "state": {}
     },
     "86dbe91f7dfe45c6b15272f0dce1bb31": {
      "model_module": "@jupyter-widgets/controls",
      "model_module_version": "1.5.0",
      "model_name": "HTMLModel",
      "state": {
       "layout": "IPY_MODEL_e3630563fb7c4265ac024d99ab48b1b2",
       "style": "IPY_MODEL_9c3005545d3e4cb7a9da23ca7978ab53",
       "value": " 1296/1296 [00:06&lt;00:00, 186.43it/s]"
      }
     },
     "872ee416145f4034a94aee7152d94c1a": {
      "model_module": "@jupyter-widgets/controls",
      "model_module_version": "1.5.0",
      "model_name": "HBoxModel",
      "state": {
       "children": [
        "IPY_MODEL_82aed924b2e34840822b9c2e60d40c8a",
        "IPY_MODEL_8d33db13fa964cb499705674fdaeb934"
       ],
       "layout": "IPY_MODEL_9ae1bc8b8ab547179aa956e3f53e090e"
      }
     },
     "873d913861c7483fbb99f7ab273d6ac3": {
      "model_module": "@jupyter-widgets/controls",
      "model_module_version": "1.5.0",
      "model_name": "ProgressStyleModel",
      "state": {
       "description_width": "initial"
      }
     },
     "8774757b78004813a9a7e38d9ef1a139": {
      "model_module": "@jupyter-widgets/controls",
      "model_module_version": "1.5.0",
      "model_name": "HBoxModel",
      "state": {
       "children": [
        "IPY_MODEL_ab8ae81b7723445db0c0c2c9525d76d8",
        "IPY_MODEL_4d9f2967b3d245d6a756d73dfb01d835"
       ],
       "layout": "IPY_MODEL_c54d8c18a8fc4f779d1fa9d7d09736c4"
      }
     },
     "877da02cf53f4f3891141e6680b26453": {
      "model_module": "@jupyter-widgets/controls",
      "model_module_version": "1.5.0",
      "model_name": "DescriptionStyleModel",
      "state": {
       "description_width": ""
      }
     },
     "87a8ffc8a1da42e1ab505f91ab0dd9fb": {
      "model_module": "@jupyter-widgets/base",
      "model_module_version": "1.2.0",
      "model_name": "LayoutModel",
      "state": {}
     },
     "8834017ae2134c7dabc11b82cc450b28": {
      "model_module": "@jupyter-widgets/controls",
      "model_module_version": "1.5.0",
      "model_name": "DescriptionStyleModel",
      "state": {
       "description_width": ""
      }
     },
     "88995474017e4dcd83539ef56835d2fc": {
      "model_module": "@jupyter-widgets/controls",
      "model_module_version": "1.5.0",
      "model_name": "HTMLModel",
      "state": {
       "layout": "IPY_MODEL_29d5e1444bf246058e4e784b18747f9c",
       "style": "IPY_MODEL_9748f13d36c742b6b712d7321091be69",
       "value": " 8316/8316 [00:26&lt;00:00, 313.00it/s]"
      }
     },
     "88e094803b034b9e948a49989522326c": {
      "model_module": "@jupyter-widgets/controls",
      "model_module_version": "1.5.0",
      "model_name": "HBoxModel",
      "state": {
       "children": [
        "IPY_MODEL_b91e736067c5452682cd020eb9fbea29",
        "IPY_MODEL_e07b46e3c2104ef4bac499d68203703b"
       ],
       "layout": "IPY_MODEL_07c5996885134628af0833d77a53f2c8"
      }
     },
     "8956147cada14ef6bc20cfa6e688c093": {
      "model_module": "@jupyter-widgets/controls",
      "model_module_version": "1.5.0",
      "model_name": "HTMLModel",
      "state": {
       "layout": "IPY_MODEL_0489f3c6bc064c79a2ed591bcfa3fe26",
       "style": "IPY_MODEL_8834017ae2134c7dabc11b82cc450b28",
       "value": " 6679/29920 [00:20&lt;01:12, 319.60it/s]"
      }
     },
     "895ef0995cc6468d8d16ba1158970422": {
      "model_module": "@jupyter-widgets/base",
      "model_module_version": "1.2.0",
      "model_name": "LayoutModel",
      "state": {}
     },
     "8961e90b82a94e59ac6a87df34ac2f24": {
      "model_module": "@jupyter-widgets/base",
      "model_module_version": "1.2.0",
      "model_name": "LayoutModel",
      "state": {}
     },
     "8aefd6788b7042aab70fa16a43cc9d7c": {
      "model_module": "@jupyter-widgets/base",
      "model_module_version": "1.2.0",
      "model_name": "LayoutModel",
      "state": {}
     },
     "8af0f80fd3dd4bcd80fce771e1d747b0": {
      "model_module": "@jupyter-widgets/base",
      "model_module_version": "1.2.0",
      "model_name": "LayoutModel",
      "state": {}
     },
     "8b6299e244b34d91bf20e191a0da4e61": {
      "model_module": "@jupyter-widgets/controls",
      "model_module_version": "1.5.0",
      "model_name": "HBoxModel",
      "state": {
       "children": [
        "IPY_MODEL_c1ad28feb4424ffbb855ca31dd6624e2",
        "IPY_MODEL_dee13400dcc5400bbb9353271172935b"
       ],
       "layout": "IPY_MODEL_5e02e2719d074bda8a35d5b7007fec26"
      }
     },
     "8b90644636c34f119c2b6c10271af462": {
      "model_module": "@jupyter-widgets/controls",
      "model_module_version": "1.5.0",
      "model_name": "ProgressStyleModel",
      "state": {
       "description_width": "initial"
      }
     },
     "8bfb55610c56459fb800e69d7dd839a8": {
      "model_module": "@jupyter-widgets/controls",
      "model_module_version": "1.5.0",
      "model_name": "DescriptionStyleModel",
      "state": {
       "description_width": ""
      }
     },
     "8c1f02b28b8a4da984d2d4b58f1a972b": {
      "model_module": "@jupyter-widgets/base",
      "model_module_version": "1.2.0",
      "model_name": "LayoutModel",
      "state": {}
     },
     "8c3797e737c945ed9192ea9b7c2cebfc": {
      "model_module": "@jupyter-widgets/base",
      "model_module_version": "1.2.0",
      "model_name": "LayoutModel",
      "state": {}
     },
     "8d31f1d25f3c4775b49bb26ffb6de747": {
      "model_module": "@jupyter-widgets/controls",
      "model_module_version": "1.5.0",
      "model_name": "HTMLModel",
      "state": {
       "layout": "IPY_MODEL_63831e9bdf264c9d979ca315b30a9d1f",
       "style": "IPY_MODEL_2898e5f2a17540888e55bd97ecaec868",
       "value": " 2148/2148 [00:03&lt;00:00, 572.39it/s]"
      }
     },
     "8d33db13fa964cb499705674fdaeb934": {
      "model_module": "@jupyter-widgets/controls",
      "model_module_version": "1.5.0",
      "model_name": "HTMLModel",
      "state": {
       "layout": "IPY_MODEL_13261822ccaf460788efa362d9eac0b0",
       "style": "IPY_MODEL_c6d2e17a1c084e5caa3093974c2e4c0d",
       "value": " 8316/8316 [00:16&lt;00:00, 500.74it/s]"
      }
     },
     "8dd14454e3a74f4e8ad34986951ed72a": {
      "model_module": "@jupyter-widgets/base",
      "model_module_version": "1.2.0",
      "model_name": "LayoutModel",
      "state": {}
     },
     "8e289c23f0ff4563b5acc817d3598b6f": {
      "model_module": "@jupyter-widgets/controls",
      "model_module_version": "1.5.0",
      "model_name": "HBoxModel",
      "state": {
       "children": [
        "IPY_MODEL_0feecc78097c4ca0bf27952cfbb72056",
        "IPY_MODEL_a60e314827b141a5b49d6566c705d6aa"
       ],
       "layout": "IPY_MODEL_4f7f02ee7ba54942a19666adab3201e3"
      }
     },
     "8e97526af0ba4ff299444403084796fa": {
      "model_module": "@jupyter-widgets/controls",
      "model_module_version": "1.5.0",
      "model_name": "DescriptionStyleModel",
      "state": {
       "description_width": ""
      }
     },
     "8ebaaecbddf34db69b2aea37f8cfd7b6": {
      "model_module": "@jupyter-widgets/controls",
      "model_module_version": "1.5.0",
      "model_name": "DescriptionStyleModel",
      "state": {
       "description_width": ""
      }
     },
     "8f40cccf98e24f52aaef336a2d0dabb2": {
      "model_module": "@jupyter-widgets/base",
      "model_module_version": "1.2.0",
      "model_name": "LayoutModel",
      "state": {}
     },
     "8f62025739b74a109cb3ff6d534addf5": {
      "model_module": "@jupyter-widgets/controls",
      "model_module_version": "1.5.0",
      "model_name": "FloatProgressModel",
      "state": {
       "bar_style": "success",
       "description": "100%",
       "layout": "IPY_MODEL_6e392209ebf741498b9a295c5b166eed",
       "max": 1296,
       "style": "IPY_MODEL_97bd0c8265694b92b042aaf7681bf57d",
       "value": 1296
      }
     },
     "8fa843bc9edd4d9f87c61b0237b34331": {
      "model_module": "@jupyter-widgets/controls",
      "model_module_version": "1.5.0",
      "model_name": "FloatProgressModel",
      "state": {
       "bar_style": "danger",
       "description": "  0%",
       "layout": "IPY_MODEL_a97ee6dafd6a450ea150a3d24f769e3a",
       "max": 3888,
       "style": "IPY_MODEL_1a3331fc7c0b4f6b962b614581f815ac"
      }
     },
     "8fc5270f92bb49068ded64cf6b572060": {
      "model_module": "@jupyter-widgets/controls",
      "model_module_version": "1.5.0",
      "model_name": "DescriptionStyleModel",
      "state": {
       "description_width": ""
      }
     },
     "9007376d2cfb4588a760290603363836": {
      "model_module": "@jupyter-widgets/controls",
      "model_module_version": "1.5.0",
      "model_name": "ProgressStyleModel",
      "state": {
       "description_width": "initial"
      }
     },
     "903e3e5042314932939f600f560b0e48": {
      "model_module": "@jupyter-widgets/controls",
      "model_module_version": "1.5.0",
      "model_name": "HBoxModel",
      "state": {
       "children": [
        "IPY_MODEL_5e7be76cfc5b43ba93788c1e3e58a65a",
        "IPY_MODEL_cce61dd16bed4b3298a709ba27e56796"
       ],
       "layout": "IPY_MODEL_04671c72cde448a793efbdd02f82537b"
      }
     },
     "906379d5eae647cfa2e9919666b71392": {
      "model_module": "@jupyter-widgets/controls",
      "model_module_version": "1.5.0",
      "model_name": "DescriptionStyleModel",
      "state": {
       "description_width": ""
      }
     },
     "9075945c303344989260e3121f46c96e": {
      "model_module": "@jupyter-widgets/controls",
      "model_module_version": "1.5.0",
      "model_name": "ProgressStyleModel",
      "state": {
       "description_width": "initial"
      }
     },
     "90cb941f7fee4c1eb7a92eb2ee7012a6": {
      "model_module": "@jupyter-widgets/controls",
      "model_module_version": "1.5.0",
      "model_name": "HTMLModel",
      "state": {
       "layout": "IPY_MODEL_1c3e1262381545538095ba6fa3beb642",
       "style": "IPY_MODEL_f19947481a3a49649cc1906add288b6c",
       "value": " 2772/2772 [00:26&lt;00:00, 105.93it/s]"
      }
     },
     "90cdcb4d6e604c098b8eb80757de03f4": {
      "model_module": "@jupyter-widgets/base",
      "model_module_version": "1.2.0",
      "model_name": "LayoutModel",
      "state": {}
     },
     "91051c89f58346af8b77108a4299310d": {
      "model_module": "@jupyter-widgets/controls",
      "model_module_version": "1.5.0",
      "model_name": "HTMLModel",
      "state": {
       "layout": "IPY_MODEL_39cec347327c4c67824bd4b6a58b8d45",
       "style": "IPY_MODEL_53c3fc76209144f69dc8e21b56a7d87e",
       "value": " 3240/3240 [00:05&lt;00:00, 549.56it/s]"
      }
     },
     "9113ee2e8ad24f4e9b1e2c032b3f55fb": {
      "model_module": "@jupyter-widgets/controls",
      "model_module_version": "1.5.0",
      "model_name": "HBoxModel",
      "state": {
       "children": [
        "IPY_MODEL_a61bbcac0c10434b89efdea92ce5c147",
        "IPY_MODEL_eccd316233864bf7920a185febae8073"
       ],
       "layout": "IPY_MODEL_3d633924c1bc4ecfad47ead9271bdcf8"
      }
     },
     "915052aa970042e085fdc4d4ea168c7b": {
      "model_module": "@jupyter-widgets/base",
      "model_module_version": "1.2.0",
      "model_name": "LayoutModel",
      "state": {}
     },
     "917d0664330047d585329cc253d8b6d7": {
      "model_module": "@jupyter-widgets/controls",
      "model_module_version": "1.5.0",
      "model_name": "HTMLModel",
      "state": {
       "layout": "IPY_MODEL_284565565aa74635a2a586063859328a",
       "style": "IPY_MODEL_7a06223de7d1474b9380eaf033731984",
       "value": " 8316/8316 [00:26&lt;00:00, 314.04it/s]"
      }
     },
     "91901d66c1f74c258ba1e23abac44303": {
      "model_module": "@jupyter-widgets/controls",
      "model_module_version": "1.5.0",
      "model_name": "HTMLModel",
      "state": {
       "layout": "IPY_MODEL_4fa6cee2686a4c44bbdc6e4be7bd190b",
       "style": "IPY_MODEL_476044113069445d8d87a623d62dd55f",
       "value": " 3240/3240 [00:05&lt;00:00, 557.85it/s]"
      }
     },
     "91b788b6f2fb4bcb9acf8ea87a80db40": {
      "model_module": "@jupyter-widgets/controls",
      "model_module_version": "1.5.0",
      "model_name": "HTMLModel",
      "state": {
       "layout": "IPY_MODEL_452b023d28644d318a19c4e0fa391ace",
       "style": "IPY_MODEL_afe1714f6ad54d7a8c36e80c77dd411b",
       "value": " 2148/2148 [00:07&lt;00:00, 273.92it/s]"
      }
     },
     "91ba22a37a6641a4800882dee9ed4b61": {
      "model_module": "@jupyter-widgets/controls",
      "model_module_version": "1.5.0",
      "model_name": "ProgressStyleModel",
      "state": {
       "description_width": "initial"
      }
     },
     "92e3281b2888402dbfdac27d781bd52e": {
      "model_module": "@jupyter-widgets/controls",
      "model_module_version": "1.5.0",
      "model_name": "FloatProgressModel",
      "state": {
       "bar_style": "success",
       "description": "100%",
       "layout": "IPY_MODEL_fb66e063b2c74633a27c420c6dfae309",
       "max": 1296,
       "style": "IPY_MODEL_994643fc91de45719daeabaa24083171",
       "value": 1296
      }
     },
     "92e5889a8e504b83975b22bc5856fc12": {
      "model_module": "@jupyter-widgets/controls",
      "model_module_version": "1.5.0",
      "model_name": "DescriptionStyleModel",
      "state": {
       "description_width": ""
      }
     },
     "92efed68853f448288d02724d3c4256a": {
      "model_module": "@jupyter-widgets/base",
      "model_module_version": "1.2.0",
      "model_name": "LayoutModel",
      "state": {}
     },
     "93557cf92b7c474f8d364e9b8c9130eb": {
      "model_module": "@jupyter-widgets/controls",
      "model_module_version": "1.5.0",
      "model_name": "HTMLModel",
      "state": {
       "layout": "IPY_MODEL_240f379f894c42e7967fa6c2f8e16f21",
       "style": "IPY_MODEL_f28ddf9c48eb42aa870686ac72a67868",
       "value": " 6444/6444 [00:10&lt;00:00, 602.64it/s]"
      }
     },
     "94451cf444c044ec9eac33f1bce63920": {
      "model_module": "@jupyter-widgets/controls",
      "model_module_version": "1.5.0",
      "model_name": "DescriptionStyleModel",
      "state": {
       "description_width": ""
      }
     },
     "94ec71823d234c019cc4ea6f2a577c67": {
      "model_module": "@jupyter-widgets/base",
      "model_module_version": "1.2.0",
      "model_name": "LayoutModel",
      "state": {}
     },
     "952486fd9f9443a9ab3ff56f2b8eeaa1": {
      "model_module": "@jupyter-widgets/controls",
      "model_module_version": "1.5.0",
      "model_name": "DescriptionStyleModel",
      "state": {
       "description_width": ""
      }
     },
     "960269df2c46463096af158a283cf2d1": {
      "model_module": "@jupyter-widgets/controls",
      "model_module_version": "1.5.0",
      "model_name": "DescriptionStyleModel",
      "state": {
       "description_width": ""
      }
     },
     "96071b8a38ce4cd6a31b5ef44b4d634a": {
      "model_module": "@jupyter-widgets/base",
      "model_module_version": "1.2.0",
      "model_name": "LayoutModel",
      "state": {}
     },
     "962690ff20fe43c6a3b36dd9962f9103": {
      "model_module": "@jupyter-widgets/base",
      "model_module_version": "1.2.0",
      "model_name": "LayoutModel",
      "state": {}
     },
     "96fc4858ac3841e19248aefd3e1e7094": {
      "model_module": "@jupyter-widgets/base",
      "model_module_version": "1.2.0",
      "model_name": "LayoutModel",
      "state": {}
     },
     "96fe2de6c4a0440387a2dca97730c183": {
      "model_module": "@jupyter-widgets/controls",
      "model_module_version": "1.5.0",
      "model_name": "HTMLModel",
      "state": {
       "layout": "IPY_MODEL_b594a56ffdd24f3d9e6e5b1ea32b10e9",
       "style": "IPY_MODEL_b5feaa3282d044c1809035ebba07331d",
       "value": " 2148/2148 [00:09&lt;00:00, 220.51it/s]"
      }
     },
     "971002d26a6741bf988bb9821416ab41": {
      "model_module": "@jupyter-widgets/controls",
      "model_module_version": "1.5.0",
      "model_name": "DescriptionStyleModel",
      "state": {
       "description_width": ""
      }
     },
     "9748f13d36c742b6b712d7321091be69": {
      "model_module": "@jupyter-widgets/controls",
      "model_module_version": "1.5.0",
      "model_name": "DescriptionStyleModel",
      "state": {
       "description_width": ""
      }
     },
     "97bd0c8265694b92b042aaf7681bf57d": {
      "model_module": "@jupyter-widgets/controls",
      "model_module_version": "1.5.0",
      "model_name": "ProgressStyleModel",
      "state": {
       "description_width": "initial"
      }
     },
     "987e621b87be40e09e16d6e9261196f5": {
      "model_module": "@jupyter-widgets/base",
      "model_module_version": "1.2.0",
      "model_name": "LayoutModel",
      "state": {}
     },
     "98ffddf1070e46adbdb826e0b002d31b": {
      "model_module": "@jupyter-widgets/base",
      "model_module_version": "1.2.0",
      "model_name": "LayoutModel",
      "state": {}
     },
     "994643fc91de45719daeabaa24083171": {
      "model_module": "@jupyter-widgets/controls",
      "model_module_version": "1.5.0",
      "model_name": "ProgressStyleModel",
      "state": {
       "description_width": "initial"
      }
     },
     "99acb68bdd104b62b930d3c18c8f45f8": {
      "model_module": "@jupyter-widgets/base",
      "model_module_version": "1.2.0",
      "model_name": "LayoutModel",
      "state": {}
     },
     "9ae1bc8b8ab547179aa956e3f53e090e": {
      "model_module": "@jupyter-widgets/base",
      "model_module_version": "1.2.0",
      "model_name": "LayoutModel",
      "state": {}
     },
     "9b1078d0ede8479d84e06ff6550cbbaa": {
      "model_module": "@jupyter-widgets/base",
      "model_module_version": "1.2.0",
      "model_name": "LayoutModel",
      "state": {}
     },
     "9b6b4f5d81dd49f08846c815944d6335": {
      "model_module": "@jupyter-widgets/base",
      "model_module_version": "1.2.0",
      "model_name": "LayoutModel",
      "state": {}
     },
     "9b7e9aa4b77c450ba1bb594b6cc81e82": {
      "model_module": "@jupyter-widgets/base",
      "model_module_version": "1.2.0",
      "model_name": "LayoutModel",
      "state": {}
     },
     "9b83e47826124d48b4b339d765cabe34": {
      "model_module": "@jupyter-widgets/controls",
      "model_module_version": "1.5.0",
      "model_name": "HTMLModel",
      "state": {
       "layout": "IPY_MODEL_aef517b3b11641d9b50eaa178258696d",
       "style": "IPY_MODEL_3bd68c5fa0a74a37998c4b773211e201",
       "value": " 2772/2772 [00:04&lt;00:00, 585.56it/s]"
      }
     },
     "9b92c2b9233e42c8b81ae3bb2f9ba000": {
      "model_module": "@jupyter-widgets/controls",
      "model_module_version": "1.5.0",
      "model_name": "DescriptionStyleModel",
      "state": {
       "description_width": ""
      }
     },
     "9b95341f2f464101a7e4990902f9cc7b": {
      "model_module": "@jupyter-widgets/controls",
      "model_module_version": "1.5.0",
      "model_name": "DescriptionStyleModel",
      "state": {
       "description_width": ""
      }
     },
     "9b9f899ecf864706805d3cf37f5c4c3d": {
      "model_module": "@jupyter-widgets/controls",
      "model_module_version": "1.5.0",
      "model_name": "HTMLModel",
      "state": {
       "layout": "IPY_MODEL_fbf4d0c55d74456fb35be6ecceb6528b",
       "style": "IPY_MODEL_f92e03af62804663b1e15a6e0b744d3f",
       "value": " 29920/29920 [02:14&lt;00:00, 222.36it/s]"
      }
     },
     "9c2572359a82409ca2ce82a97a40293c": {
      "model_module": "@jupyter-widgets/controls",
      "model_module_version": "1.5.0",
      "model_name": "ProgressStyleModel",
      "state": {
       "description_width": "initial"
      }
     },
     "9c3005545d3e4cb7a9da23ca7978ab53": {
      "model_module": "@jupyter-widgets/controls",
      "model_module_version": "1.5.0",
      "model_name": "DescriptionStyleModel",
      "state": {
       "description_width": ""
      }
     },
     "9c9d6aafa7634b42bc444d58e29e7b19": {
      "model_module": "@jupyter-widgets/base",
      "model_module_version": "1.2.0",
      "model_name": "LayoutModel",
      "state": {}
     },
     "9cd658e015c34ed5ae137a677ab09cb0": {
      "model_module": "@jupyter-widgets/controls",
      "model_module_version": "1.5.0",
      "model_name": "DescriptionStyleModel",
      "state": {
       "description_width": ""
      }
     },
     "9d4440411cb1420bafa29f61bf31f6ad": {
      "model_module": "@jupyter-widgets/base",
      "model_module_version": "1.2.0",
      "model_name": "LayoutModel",
      "state": {}
     },
     "9d5d5dbf35b444bcbf159b96e74d7437": {
      "model_module": "@jupyter-widgets/controls",
      "model_module_version": "1.5.0",
      "model_name": "ProgressStyleModel",
      "state": {
       "description_width": "initial"
      }
     },
     "9e07ed8a79c54829a76e7954d08fa4a7": {
      "model_module": "@jupyter-widgets/controls",
      "model_module_version": "1.5.0",
      "model_name": "ProgressStyleModel",
      "state": {
       "description_width": "initial"
      }
     },
     "9e514ee1755e441db13e0cfb23634ea8": {
      "model_module": "@jupyter-widgets/controls",
      "model_module_version": "1.5.0",
      "model_name": "HBoxModel",
      "state": {
       "children": [
        "IPY_MODEL_a22de0922f484e0687ba89a5996fa286",
        "IPY_MODEL_701f7c93683c4d08bb1ae12313883b15"
       ],
       "layout": "IPY_MODEL_ff8e488cccfb4608a21998dea152757a"
      }
     },
     "9e62f851d26a42efa926419048531b6c": {
      "model_module": "@jupyter-widgets/base",
      "model_module_version": "1.2.0",
      "model_name": "LayoutModel",
      "state": {}
     },
     "9ed98652760a4f88a83a37b93384d5a5": {
      "model_module": "@jupyter-widgets/controls",
      "model_module_version": "1.5.0",
      "model_name": "FloatProgressModel",
      "state": {
       "bar_style": "success",
       "description": "100%",
       "layout": "IPY_MODEL_bb3a234fcd3e4c058a2a279538e5a422",
       "max": 2148,
       "style": "IPY_MODEL_e813e6c4612148f2b2424e83e264149d",
       "value": 2148
      }
     },
     "9ee62c9a14014388b3db81c960e667d7": {
      "model_module": "@jupyter-widgets/controls",
      "model_module_version": "1.5.0",
      "model_name": "HBoxModel",
      "state": {
       "children": [
        "IPY_MODEL_ff5b661f598a4485ad2e29d1d67a3017",
        "IPY_MODEL_4be6029d524a45bbadb472bf0dcc7547"
       ],
       "layout": "IPY_MODEL_39b6393d194f430d85dd5cc53998b063"
      }
     },
     "9f37f8f7bd004f44a7b2714e59aadbb8": {
      "model_module": "@jupyter-widgets/controls",
      "model_module_version": "1.5.0",
      "model_name": "HTMLModel",
      "state": {
       "layout": "IPY_MODEL_b8249c1acc36478da22914c0236890c6",
       "style": "IPY_MODEL_f2adad47a5f44311b7ac0cc8fdc9ca1a",
       "value": " 13160/13160 [19:14&lt;00:00, 11.39it/s]"
      }
     },
     "9f65df067759494b8bf01a72abb25a39": {
      "model_module": "@jupyter-widgets/controls",
      "model_module_version": "1.5.0",
      "model_name": "ProgressStyleModel",
      "state": {
       "description_width": "initial"
      }
     },
     "9f805750f9334d509738d1876beb53f3": {
      "model_module": "@jupyter-widgets/controls",
      "model_module_version": "1.5.0",
      "model_name": "DescriptionStyleModel",
      "state": {
       "description_width": ""
      }
     },
     "9ff545e32f684361a6a5ebc8e5b5f659": {
      "model_module": "@jupyter-widgets/base",
      "model_module_version": "1.2.0",
      "model_name": "LayoutModel",
      "state": {}
     },
     "a08ada8975f24d8aa46205519dc88d05": {
      "model_module": "@jupyter-widgets/controls",
      "model_module_version": "1.5.0",
      "model_name": "DescriptionStyleModel",
      "state": {
       "description_width": ""
      }
     },
     "a12d5b29db14411cb0f212ad0091e03f": {
      "model_module": "@jupyter-widgets/controls",
      "model_module_version": "1.5.0",
      "model_name": "HBoxModel",
      "state": {
       "children": [
        "IPY_MODEL_5496dd5831324d298c8c9d65f305f952",
        "IPY_MODEL_ab4c882b545d4df893ee28807cdd2ea7"
       ],
       "layout": "IPY_MODEL_dc9796590725467b91b28043712cd803"
      }
     },
     "a21f74b4100c4a2181100ba754d8cfe9": {
      "model_module": "@jupyter-widgets/base",
      "model_module_version": "1.2.0",
      "model_name": "LayoutModel",
      "state": {}
     },
     "a22de0922f484e0687ba89a5996fa286": {
      "model_module": "@jupyter-widgets/controls",
      "model_module_version": "1.5.0",
      "model_name": "FloatProgressModel",
      "state": {
       "bar_style": "success",
       "description": "100%",
       "layout": "IPY_MODEL_e0d0b11773fc4e2ea6a82f60021e8641",
       "max": 2148,
       "style": "IPY_MODEL_d4337588ca57400d8241fb00969c2e81",
       "value": 2148
      }
     },
     "a23bed6c78ae4db9857aa69ae28d0636": {
      "model_module": "@jupyter-widgets/controls",
      "model_module_version": "1.5.0",
      "model_name": "HBoxModel",
      "state": {
       "children": [
        "IPY_MODEL_dca8b21a3a314249b0241a5f29358c32",
        "IPY_MODEL_88995474017e4dcd83539ef56835d2fc"
       ],
       "layout": "IPY_MODEL_e8eb8446347f4186bacdf7c590160771"
      }
     },
     "a26b1bf450e14437bb2828f4521ef7d0": {
      "model_module": "@jupyter-widgets/base",
      "model_module_version": "1.2.0",
      "model_name": "LayoutModel",
      "state": {}
     },
     "a2b4f0be0b064ce483c94783a99903f8": {
      "model_module": "@jupyter-widgets/controls",
      "model_module_version": "1.5.0",
      "model_name": "FloatProgressModel",
      "state": {
       "bar_style": "success",
       "description": "100%",
       "layout": "IPY_MODEL_eafc6edc741e4937af9f2adf5c9925ca",
       "max": 6444,
       "style": "IPY_MODEL_6144a006e5414fafb3e4a36d2f1c9b39",
       "value": 6444
      }
     },
     "a2cb0301facb47239cf514f8d80d39b1": {
      "model_module": "@jupyter-widgets/controls",
      "model_module_version": "1.5.0",
      "model_name": "HTMLModel",
      "state": {
       "layout": "IPY_MODEL_7cdd10b0d67344778c97241d025e84cc",
       "style": "IPY_MODEL_0033b1a5d0f24998b7831d72be25bc4c",
       "value": " 8316/8316 [00:30&lt;00:00, 269.21it/s]"
      }
     },
     "a30a2fd207174a54968c7ef74d3dd155": {
      "model_module": "@jupyter-widgets/base",
      "model_module_version": "1.2.0",
      "model_name": "LayoutModel",
      "state": {}
     },
     "a37970b977324420872ece68b0d2dfe6": {
      "model_module": "@jupyter-widgets/controls",
      "model_module_version": "1.5.0",
      "model_name": "DescriptionStyleModel",
      "state": {
       "description_width": ""
      }
     },
     "a3e6574923434d89ba26be181c62efde": {
      "model_module": "@jupyter-widgets/controls",
      "model_module_version": "1.5.0",
      "model_name": "ProgressStyleModel",
      "state": {
       "description_width": "initial"
      }
     },
     "a4209299168c4e74845a42fbf05c9c50": {
      "model_module": "@jupyter-widgets/base",
      "model_module_version": "1.2.0",
      "model_name": "LayoutModel",
      "state": {}
     },
     "a46912806f0c41e18c7332cc8c0da84f": {
      "model_module": "@jupyter-widgets/controls",
      "model_module_version": "1.5.0",
      "model_name": "ProgressStyleModel",
      "state": {
       "description_width": "initial"
      }
     },
     "a4bfa0c19acd4e2bb8746dc2115cb5fe": {
      "model_module": "@jupyter-widgets/base",
      "model_module_version": "1.2.0",
      "model_name": "LayoutModel",
      "state": {}
     },
     "a50ca7d719f241d6a16a7a19b9065ffa": {
      "model_module": "@jupyter-widgets/base",
      "model_module_version": "1.2.0",
      "model_name": "LayoutModel",
      "state": {}
     },
     "a54b73765daf42d88376cc6f170f7b93": {
      "model_module": "@jupyter-widgets/controls",
      "model_module_version": "1.5.0",
      "model_name": "FloatProgressModel",
      "state": {
       "bar_style": "success",
       "description": "100%",
       "layout": "IPY_MODEL_17e26a2002f4443da122e7af58979b9a",
       "max": 6444,
       "style": "IPY_MODEL_9e07ed8a79c54829a76e7954d08fa4a7",
       "value": 6444
      }
     },
     "a578ced6dccf43d883a6ff95d32a3b96": {
      "model_module": "@jupyter-widgets/base",
      "model_module_version": "1.2.0",
      "model_name": "LayoutModel",
      "state": {}
     },
     "a57bd02bee50482ab1aea31b8e0b6eab": {
      "model_module": "@jupyter-widgets/controls",
      "model_module_version": "1.5.0",
      "model_name": "FloatProgressModel",
      "state": {
       "bar_style": "success",
       "description": "100%",
       "layout": "IPY_MODEL_362e3dbf6a394902827fb617a0a8e837",
       "max": 2148,
       "style": "IPY_MODEL_ee7ddd85132a49acbcfd272829d4cbfe",
       "value": 2148
      }
     },
     "a58564861bbf4ec5a921cb26ee5178c6": {
      "model_module": "@jupyter-widgets/controls",
      "model_module_version": "1.5.0",
      "model_name": "HBoxModel",
      "state": {
       "children": [
        "IPY_MODEL_cd403d1b5d23452b86846f9c7c4a4c1f",
        "IPY_MODEL_28532f6dae7743a29aff8fa628424fb5"
       ],
       "layout": "IPY_MODEL_678b88b120834510bf0d005f6d0e0c22"
      }
     },
     "a5f2e5d4a0f0445689d397f004d8d424": {
      "model_module": "@jupyter-widgets/controls",
      "model_module_version": "1.5.0",
      "model_name": "FloatProgressModel",
      "state": {
       "bar_style": "success",
       "description": "100%",
       "layout": "IPY_MODEL_d7e69d3c6da041138b15ddf47cc000e6",
       "max": 4788,
       "style": "IPY_MODEL_f9c9316a71614bcbaa876e84cb26e9b9",
       "value": 4788
      }
     },
     "a60e314827b141a5b49d6566c705d6aa": {
      "model_module": "@jupyter-widgets/controls",
      "model_module_version": "1.5.0",
      "model_name": "HTMLModel",
      "state": {
       "layout": "IPY_MODEL_6152fcf6bbac45a89cd115d914d54152",
       "style": "IPY_MODEL_201751751b9244ce994118f3af068d5f",
       "value": " 2772/2772 [00:04&lt;00:00, 604.50it/s]"
      }
     },
     "a61bbcac0c10434b89efdea92ce5c147": {
      "model_module": "@jupyter-widgets/controls",
      "model_module_version": "1.5.0",
      "model_name": "FloatProgressModel",
      "state": {
       "bar_style": "success",
       "description": "100%",
       "layout": "IPY_MODEL_44f6b04519224721be25c415b0c8cd1b",
       "max": 33900,
       "style": "IPY_MODEL_582f3cec9fb24278ab28f4b4c39d633c",
       "value": 33900
      }
     },
     "a6538a8f3b0146e0ad8679f7d76561df": {
      "model_module": "@jupyter-widgets/controls",
      "model_module_version": "1.5.0",
      "model_name": "HTMLModel",
      "state": {
       "layout": "IPY_MODEL_8f40cccf98e24f52aaef336a2d0dabb2",
       "style": "IPY_MODEL_5daa966bf0eb4ad0b4fdce1ca214725b",
       "value": " 2772/2772 [00:11&lt;00:00, 239.07it/s]"
      }
     },
     "a6e473938fe04eec867f98d10cf28a81": {
      "model_module": "@jupyter-widgets/controls",
      "model_module_version": "1.5.0",
      "model_name": "HBoxModel",
      "state": {
       "children": [
        "IPY_MODEL_ba91c3dfd4cf4c13a5e32725e6b146b5",
        "IPY_MODEL_01ba92d05be14c91be08d5c8c843a4c2"
       ],
       "layout": "IPY_MODEL_5e21bbe10efb4bc787e4e94583ecc324"
      }
     },
     "a7320c7ea5434cbe8f43d9ef33f713e3": {
      "model_module": "@jupyter-widgets/controls",
      "model_module_version": "1.5.0",
      "model_name": "HTMLModel",
      "state": {
       "layout": "IPY_MODEL_dbfd8514444446389e263e9eb315db67",
       "style": "IPY_MODEL_611015ff9553462698b1cf11d03864f4",
       "value": " 33200/33200 [02:30&lt;00:00, 220.53it/s]"
      }
     },
     "a7630eae7cd84c7bb65aad35c0f15eee": {
      "model_module": "@jupyter-widgets/base",
      "model_module_version": "1.2.0",
      "model_name": "LayoutModel",
      "state": {}
     },
     "a7be3c7505d142c1beba195369a2744d": {
      "model_module": "@jupyter-widgets/base",
      "model_module_version": "1.2.0",
      "model_name": "LayoutModel",
      "state": {}
     },
     "a7c1bd6fc05a42febbe00d469b73af37": {
      "model_module": "@jupyter-widgets/base",
      "model_module_version": "1.2.0",
      "model_name": "LayoutModel",
      "state": {}
     },
     "a83af5d786bc4415ab48b6721d244c2d": {
      "model_module": "@jupyter-widgets/base",
      "model_module_version": "1.2.0",
      "model_name": "LayoutModel",
      "state": {}
     },
     "a88603e8cc6946469b955d3f212227b8": {
      "model_module": "@jupyter-widgets/controls",
      "model_module_version": "1.5.0",
      "model_name": "ProgressStyleModel",
      "state": {
       "description_width": "initial"
      }
     },
     "a890846b133046958f163f23a2f29e7e": {
      "model_module": "@jupyter-widgets/controls",
      "model_module_version": "1.5.0",
      "model_name": "HTMLModel",
      "state": {
       "layout": "IPY_MODEL_232860a6ddf04d1e94e69facec6fecc0",
       "style": "IPY_MODEL_222640bdadde431f95f3faf6aad67d35",
       "value": " 2772/2772 [00:05&lt;00:00, 500.52it/s]"
      }
     },
     "a8aa8755b82e44bb988692508956b30d": {
      "model_module": "@jupyter-widgets/controls",
      "model_module_version": "1.5.0",
      "model_name": "HBoxModel",
      "state": {
       "children": [
        "IPY_MODEL_d13df1e00e5c489ea587392c524e4f08",
        "IPY_MODEL_e22c40f9ebcd4168b5b81faf8eaa7cb8"
       ],
       "layout": "IPY_MODEL_45d2f8522b7e4157a4968f1a46324b7c"
      }
     },
     "a8c86ddc27fa472295eeb238d7b85db9": {
      "model_module": "@jupyter-widgets/controls",
      "model_module_version": "1.5.0",
      "model_name": "DescriptionStyleModel",
      "state": {
       "description_width": ""
      }
     },
     "a97ee6dafd6a450ea150a3d24f769e3a": {
      "model_module": "@jupyter-widgets/base",
      "model_module_version": "1.2.0",
      "model_name": "LayoutModel",
      "state": {}
     },
     "a996f7ca5a064c969d47820136aff098": {
      "model_module": "@jupyter-widgets/controls",
      "model_module_version": "1.5.0",
      "model_name": "HBoxModel",
      "state": {
       "children": [
        "IPY_MODEL_050b9430a0f2450198859f2a71a9ca97",
        "IPY_MODEL_113c639f48b84332914e5d8386e19e69"
       ],
       "layout": "IPY_MODEL_bca30beb05464692bd60e60c505a3aca"
      }
     },
     "a9e4ac9f63e24b90a0e468be7077a171": {
      "model_module": "@jupyter-widgets/base",
      "model_module_version": "1.2.0",
      "model_name": "LayoutModel",
      "state": {}
     },
     "aa121b5e28324e20ae63e5869140d233": {
      "model_module": "@jupyter-widgets/controls",
      "model_module_version": "1.5.0",
      "model_name": "HBoxModel",
      "state": {
       "children": [
        "IPY_MODEL_753cb8aac4b241dc91cb3a69c852c9fc",
        "IPY_MODEL_48616496515947bcb749d86fb58b61b2"
       ],
       "layout": "IPY_MODEL_44b164056fa04822b331ef839b0563f1"
      }
     },
     "aa6632d6a3f94657bc9618cb5bed030c": {
      "model_module": "@jupyter-widgets/controls",
      "model_module_version": "1.5.0",
      "model_name": "HBoxModel",
      "state": {
       "children": [
        "IPY_MODEL_8094876264934d06b1168a28c15ba427",
        "IPY_MODEL_f41e206dc8bd4d6bbab111a831c2e017"
       ],
       "layout": "IPY_MODEL_b05d394ba7e34e029cfc7505298e475c"
      }
     },
     "aad698fc19244335a26403ae506f5d03": {
      "model_module": "@jupyter-widgets/controls",
      "model_module_version": "1.5.0",
      "model_name": "DescriptionStyleModel",
      "state": {
       "description_width": ""
      }
     },
     "aaea4f0dd55444088140bdb29ba6dcab": {
      "model_module": "@jupyter-widgets/base",
      "model_module_version": "1.2.0",
      "model_name": "LayoutModel",
      "state": {}
     },
     "ab07c1a51d234929a705309aeb4c5c11": {
      "model_module": "@jupyter-widgets/controls",
      "model_module_version": "1.5.0",
      "model_name": "HTMLModel",
      "state": {
       "layout": "IPY_MODEL_7fac58695d2a4eac8937dc7948594fc9",
       "style": "IPY_MODEL_cbce68e9df4c44ee92664426d06e5b99",
       "value": " 2772/2772 [00:09&lt;00:00, 298.98it/s]"
      }
     },
     "ab0f17a3c68c4d54885e197818ad5fd3": {
      "model_module": "@jupyter-widgets/base",
      "model_module_version": "1.2.0",
      "model_name": "LayoutModel",
      "state": {}
     },
     "ab4c882b545d4df893ee28807cdd2ea7": {
      "model_module": "@jupyter-widgets/controls",
      "model_module_version": "1.5.0",
      "model_name": "HTMLModel",
      "state": {
       "layout": "IPY_MODEL_f2a9b59007b24a2080726e0e1e363def",
       "style": "IPY_MODEL_10c53e93315f4718bbe546ee43adc2ee",
       "value": " 8316/8316 [00:14&lt;00:00, 582.23it/s]"
      }
     },
     "ab8ae81b7723445db0c0c2c9525d76d8": {
      "model_module": "@jupyter-widgets/controls",
      "model_module_version": "1.5.0",
      "model_name": "FloatProgressModel",
      "state": {
       "bar_style": "success",
       "description": "100%",
       "layout": "IPY_MODEL_f256e431d00f4946a8c86abb2b4a85a5",
       "max": 33200,
       "style": "IPY_MODEL_31206e27ff904bbab6f4cd5c61346461",
       "value": 33200
      }
     },
     "aba27dbd873449608030ed16980d3b4f": {
      "model_module": "@jupyter-widgets/controls",
      "model_module_version": "1.5.0",
      "model_name": "HBoxModel",
      "state": {
       "children": [
        "IPY_MODEL_65bb44f867da4cca9310e1b7967789c6",
        "IPY_MODEL_d0fc580e5b004008a29e180db5fb5a87"
       ],
       "layout": "IPY_MODEL_6a6070aa6ebc4526a048bdd433627af3"
      }
     },
     "abc5ac2fbef34c4e9718d2438b84ff4a": {
      "model_module": "@jupyter-widgets/base",
      "model_module_version": "1.2.0",
      "model_name": "LayoutModel",
      "state": {}
     },
     "ac6c4551fdd1444a852a78e7e7e96171": {
      "model_module": "@jupyter-widgets/controls",
      "model_module_version": "1.5.0",
      "model_name": "HBoxModel",
      "state": {
       "children": [
        "IPY_MODEL_e90dc8db14184d9091f51763b1f6972f",
        "IPY_MODEL_fed50bf018214964b526ca09bbf56411"
       ],
       "layout": "IPY_MODEL_9b1078d0ede8479d84e06ff6550cbbaa"
      }
     },
     "ac8788f959eb4d5e89f51a75abc2679a": {
      "model_module": "@jupyter-widgets/controls",
      "model_module_version": "1.5.0",
      "model_name": "ProgressStyleModel",
      "state": {
       "description_width": "initial"
      }
     },
     "ac9af9619b1840f089e950637d34e7db": {
      "model_module": "@jupyter-widgets/controls",
      "model_module_version": "1.5.0",
      "model_name": "ProgressStyleModel",
      "state": {
       "description_width": "initial"
      }
     },
     "ad3bfac1d9684c35ad6424ec1386c160": {
      "model_module": "@jupyter-widgets/base",
      "model_module_version": "1.2.0",
      "model_name": "LayoutModel",
      "state": {}
     },
     "adc4337cb8b74b9b834eb5a287a69fa6": {
      "model_module": "@jupyter-widgets/controls",
      "model_module_version": "1.5.0",
      "model_name": "FloatProgressModel",
      "state": {
       "bar_style": "success",
       "description": "100%",
       "layout": "IPY_MODEL_43433bbc5a174b5fb28901dfc0d19f04",
       "max": 2772,
       "style": "IPY_MODEL_fca32c666ed44a57af1be3c1e4a8c740",
       "value": 2772
      }
     },
     "add4e5de09bc4888b5e8289c46211228": {
      "model_module": "@jupyter-widgets/controls",
      "model_module_version": "1.5.0",
      "model_name": "HTMLModel",
      "state": {
       "layout": "IPY_MODEL_aee166e48df24c419e6ed398db73f03b",
       "style": "IPY_MODEL_5b81a8df9cf74246aaa2bcc7e0e5d461",
       "value": " 0/3888 [00:00&lt;?, ?it/s]"
      }
     },
     "aee166e48df24c419e6ed398db73f03b": {
      "model_module": "@jupyter-widgets/base",
      "model_module_version": "1.2.0",
      "model_name": "LayoutModel",
      "state": {}
     },
     "aef517b3b11641d9b50eaa178258696d": {
      "model_module": "@jupyter-widgets/base",
      "model_module_version": "1.2.0",
      "model_name": "LayoutModel",
      "state": {}
     },
     "afe1714f6ad54d7a8c36e80c77dd411b": {
      "model_module": "@jupyter-widgets/controls",
      "model_module_version": "1.5.0",
      "model_name": "DescriptionStyleModel",
      "state": {
       "description_width": ""
      }
     },
     "b05d394ba7e34e029cfc7505298e475c": {
      "model_module": "@jupyter-widgets/base",
      "model_module_version": "1.2.0",
      "model_name": "LayoutModel",
      "state": {}
     },
     "b0c9210cd76d4b25be562bd67841b2f0": {
      "model_module": "@jupyter-widgets/controls",
      "model_module_version": "1.5.0",
      "model_name": "FloatProgressModel",
      "state": {
       "bar_style": "success",
       "description": "100%",
       "layout": "IPY_MODEL_d24a60c31a664173872f3744ef17fc3c",
       "max": 2772,
       "style": "IPY_MODEL_0979ea9de73a42448f7dc6fb5f1cfdf2",
       "value": 2772
      }
     },
     "b145cc6c08824834a63f846e2640a7d4": {
      "model_module": "@jupyter-widgets/base",
      "model_module_version": "1.2.0",
      "model_name": "LayoutModel",
      "state": {}
     },
     "b16149e0b3744c56b7491db88a56baeb": {
      "model_module": "@jupyter-widgets/controls",
      "model_module_version": "1.5.0",
      "model_name": "ProgressStyleModel",
      "state": {
       "description_width": "initial"
      }
     },
     "b18ddc28d1c743cbb933a5d8589df0e6": {
      "model_module": "@jupyter-widgets/base",
      "model_module_version": "1.2.0",
      "model_name": "LayoutModel",
      "state": {}
     },
     "b1c19881978d44b7b9b7304885b46fdb": {
      "model_module": "@jupyter-widgets/controls",
      "model_module_version": "1.5.0",
      "model_name": "HBoxModel",
      "state": {
       "children": [
        "IPY_MODEL_839991474eb54a54a3c62a1614d8feb3",
        "IPY_MODEL_efe4c6fe1c564445a02120c365d62c53"
       ],
       "layout": "IPY_MODEL_41eb47c2889e4d72a2c86d447c560dfd"
      }
     },
     "b1ca73f8159e48c2886206e25fc59e29": {
      "model_module": "@jupyter-widgets/controls",
      "model_module_version": "1.5.0",
      "model_name": "HBoxModel",
      "state": {
       "children": [
        "IPY_MODEL_cae55e0a63f44f6699c7654c09a947a3",
        "IPY_MODEL_91051c89f58346af8b77108a4299310d"
       ],
       "layout": "IPY_MODEL_c7bb0f4f67aa4f0a85f51e0b71eca3bc"
      }
     },
     "b1dcaaafac97445fb229b739ddfb6cdd": {
      "model_module": "@jupyter-widgets/controls",
      "model_module_version": "1.5.0",
      "model_name": "HTMLModel",
      "state": {
       "layout": "IPY_MODEL_abc5ac2fbef34c4e9718d2438b84ff4a",
       "style": "IPY_MODEL_cf0b5745409543a59a18c8d268464f24",
       "value": " 0/3888 [00:00&lt;?, ?it/s]"
      }
     },
     "b1fe74f598994a0fb916b72bb810c193": {
      "model_module": "@jupyter-widgets/controls",
      "model_module_version": "1.5.0",
      "model_name": "HTMLModel",
      "state": {
       "layout": "IPY_MODEL_8dd14454e3a74f4e8ad34986951ed72a",
       "style": "IPY_MODEL_3d411e1b78ee40919638f1c58055e37d",
       "value": " 4788/4788 [00:11&lt;00:00, 410.70it/s]"
      }
     },
     "b202dfdb5e9b4a3c99a95689eb4b8afc": {
      "model_module": "@jupyter-widgets/controls",
      "model_module_version": "1.5.0",
      "model_name": "ProgressStyleModel",
      "state": {
       "description_width": "initial"
      }
     },
     "b2399860458942fb8661d62488075445": {
      "model_module": "@jupyter-widgets/controls",
      "model_module_version": "1.5.0",
      "model_name": "HBoxModel",
      "state": {
       "children": [
        "IPY_MODEL_b5562e0dd9d043e1a7a37ed6227cff25",
        "IPY_MODEL_add4e5de09bc4888b5e8289c46211228"
       ],
       "layout": "IPY_MODEL_f22afc2f30714cb8b80f82b299ee1e43"
      }
     },
     "b2f40fddfd0e446882b64352ca4a2c37": {
      "model_module": "@jupyter-widgets/controls",
      "model_module_version": "1.5.0",
      "model_name": "FloatProgressModel",
      "state": {
       "bar_style": "danger",
       "description": " 24%",
       "layout": "IPY_MODEL_d2e95cfcf0d04b97817a9dafa36c82a9",
       "max": 1296,
       "style": "IPY_MODEL_1d2d0b918e57412088fbc975c348fc3d",
       "value": 306
      }
     },
     "b39a01de612a4532942e62c6f299a9bd": {
      "model_module": "@jupyter-widgets/base",
      "model_module_version": "1.2.0",
      "model_name": "LayoutModel",
      "state": {}
     },
     "b43a3f2dbe5c4f479539bf0d6294d04c": {
      "model_module": "@jupyter-widgets/controls",
      "model_module_version": "1.5.0",
      "model_name": "ProgressStyleModel",
      "state": {
       "description_width": "initial"
      }
     },
     "b4609e0d5a0f4dc6a1e70c65f24da9e2": {
      "model_module": "@jupyter-widgets/base",
      "model_module_version": "1.2.0",
      "model_name": "LayoutModel",
      "state": {}
     },
     "b5101153a49d48e4b3192831ef63671d": {
      "model_module": "@jupyter-widgets/base",
      "model_module_version": "1.2.0",
      "model_name": "LayoutModel",
      "state": {}
     },
     "b5562e0dd9d043e1a7a37ed6227cff25": {
      "model_module": "@jupyter-widgets/controls",
      "model_module_version": "1.5.0",
      "model_name": "FloatProgressModel",
      "state": {
       "bar_style": "danger",
       "description": "  0%",
       "layout": "IPY_MODEL_c343829edeeb444c9525f703d4411e87",
       "max": 3888,
       "style": "IPY_MODEL_ebefc3bb5dbd4bbb8c1a88de5573a817"
      }
     },
     "b58bf68358814d899273801411e4c773": {
      "model_module": "@jupyter-widgets/controls",
      "model_module_version": "1.5.0",
      "model_name": "FloatProgressModel",
      "state": {
       "bar_style": "success",
       "description": "100%",
       "layout": "IPY_MODEL_c29063adedb24d38b3d4fd01ea00a82b",
       "max": 2772,
       "style": "IPY_MODEL_efc8b9538a354b01bcbbbfa723020ff1",
       "value": 2772
      }
     },
     "b594a56ffdd24f3d9e6e5b1ea32b10e9": {
      "model_module": "@jupyter-widgets/base",
      "model_module_version": "1.2.0",
      "model_name": "LayoutModel",
      "state": {}
     },
     "b5b0356d7fa14e9b81e25e22ed172dd7": {
      "model_module": "@jupyter-widgets/base",
      "model_module_version": "1.2.0",
      "model_name": "LayoutModel",
      "state": {}
     },
     "b5feaa3282d044c1809035ebba07331d": {
      "model_module": "@jupyter-widgets/controls",
      "model_module_version": "1.5.0",
      "model_name": "DescriptionStyleModel",
      "state": {
       "description_width": ""
      }
     },
     "b67ea74a01714daa947e9a3e0224a731": {
      "model_module": "@jupyter-widgets/controls",
      "model_module_version": "1.5.0",
      "model_name": "ProgressStyleModel",
      "state": {
       "description_width": "initial"
      }
     },
     "b68e1ae9d8284a19a66a95aa8490ef97": {
      "model_module": "@jupyter-widgets/base",
      "model_module_version": "1.2.0",
      "model_name": "LayoutModel",
      "state": {}
     },
     "b700d3438c914fec8c612a5e0f7814cb": {
      "model_module": "@jupyter-widgets/controls",
      "model_module_version": "1.5.0",
      "model_name": "HBoxModel",
      "state": {
       "children": [
        "IPY_MODEL_78022ce2085a4aeabd112369118aa0dc",
        "IPY_MODEL_2967bc10cfdb49718b1ba366f08cbc50"
       ],
       "layout": "IPY_MODEL_2dcb03cfdd35421e85aed2364ccbf202"
      }
     },
     "b7b70d8d23aa4b27af11071d8267cfd9": {
      "model_module": "@jupyter-widgets/base",
      "model_module_version": "1.2.0",
      "model_name": "LayoutModel",
      "state": {}
     },
     "b809353952bb431085585ccdea951bf3": {
      "model_module": "@jupyter-widgets/controls",
      "model_module_version": "1.5.0",
      "model_name": "FloatProgressModel",
      "state": {
       "bar_style": "success",
       "description": "100%",
       "layout": "IPY_MODEL_f48783d0585f4e229e5bfe90f2dc0b6c",
       "max": 1596,
       "style": "IPY_MODEL_b43a3f2dbe5c4f479539bf0d6294d04c",
       "value": 1596
      }
     },
     "b8249c1acc36478da22914c0236890c6": {
      "model_module": "@jupyter-widgets/base",
      "model_module_version": "1.2.0",
      "model_name": "LayoutModel",
      "state": {}
     },
     "b8983b834b2749c4afddf410258fec37": {
      "model_module": "@jupyter-widgets/controls",
      "model_module_version": "1.5.0",
      "model_name": "ProgressStyleModel",
      "state": {
       "description_width": "initial"
      }
     },
     "b8eb54531c554e8aa59313438adce13a": {
      "model_module": "@jupyter-widgets/base",
      "model_module_version": "1.2.0",
      "model_name": "LayoutModel",
      "state": {}
     },
     "b90c5f162d9c412ca9d64648d198f1d9": {
      "model_module": "@jupyter-widgets/controls",
      "model_module_version": "1.5.0",
      "model_name": "HBoxModel",
      "state": {
       "children": [
        "IPY_MODEL_2ea23dc1826f4589be2667b1fc2b6ebd",
        "IPY_MODEL_5b782a56360e48cab796b9d5eec9fd82"
       ],
       "layout": "IPY_MODEL_c19a43ae482546a6a9d993fe651a2ac4"
      }
     },
     "b91e736067c5452682cd020eb9fbea29": {
      "model_module": "@jupyter-widgets/controls",
      "model_module_version": "1.5.0",
      "model_name": "FloatProgressModel",
      "state": {
       "bar_style": "danger",
       "description": "  0%",
       "layout": "IPY_MODEL_13cb098c377248fcb367ca7b1a2bbfde",
       "max": 3888,
       "style": "IPY_MODEL_bafc8fd8c413490fa1e91839d5ab1332"
      }
     },
     "b93c754b73804d318d69032404e626bd": {
      "model_module": "@jupyter-widgets/controls",
      "model_module_version": "1.5.0",
      "model_name": "HBoxModel",
      "state": {
       "children": [
        "IPY_MODEL_1c461584dc4d4c62a2ad42d0769753c0",
        "IPY_MODEL_a6538a8f3b0146e0ad8679f7d76561df"
       ],
       "layout": "IPY_MODEL_3aaceb3c11cc4fc19456f6f9f17519e3"
      }
     },
     "ba05521c2e9f48b8a59fe1385a70b051": {
      "model_module": "@jupyter-widgets/controls",
      "model_module_version": "1.5.0",
      "model_name": "HTMLModel",
      "state": {
       "layout": "IPY_MODEL_f9463f977c4e476aaf06f433b7cd52e6",
       "style": "IPY_MODEL_9f805750f9334d509738d1876beb53f3",
       "value": " 3240/3240 [00:14&lt;00:00, 221.47it/s]"
      }
     },
     "ba148feb0b4d489ebf988220d13c33a8": {
      "model_module": "@jupyter-widgets/base",
      "model_module_version": "1.2.0",
      "model_name": "LayoutModel",
      "state": {}
     },
     "ba3f936c48f642559376fc43b3317807": {
      "model_module": "@jupyter-widgets/base",
      "model_module_version": "1.2.0",
      "model_name": "LayoutModel",
      "state": {}
     },
     "ba62c427a44349aa9aa0824d040a6cc1": {
      "model_module": "@jupyter-widgets/base",
      "model_module_version": "1.2.0",
      "model_name": "LayoutModel",
      "state": {}
     },
     "ba91c3dfd4cf4c13a5e32725e6b146b5": {
      "model_module": "@jupyter-widgets/controls",
      "model_module_version": "1.5.0",
      "model_name": "FloatProgressModel",
      "state": {
       "bar_style": "success",
       "description": "100%",
       "layout": "IPY_MODEL_04b90975640140a2864284e66ff33656",
       "max": 2772,
       "style": "IPY_MODEL_c6db84d278e64e3ebbb2beecc6aee628",
       "value": 2772
      }
     },
     "bafc8fd8c413490fa1e91839d5ab1332": {
      "model_module": "@jupyter-widgets/controls",
      "model_module_version": "1.5.0",
      "model_name": "ProgressStyleModel",
      "state": {
       "description_width": "initial"
      }
     },
     "bb3a234fcd3e4c058a2a279538e5a422": {
      "model_module": "@jupyter-widgets/base",
      "model_module_version": "1.2.0",
      "model_name": "LayoutModel",
      "state": {}
     },
     "bc32963a9b7a47eca64859d7b4fb80b6": {
      "model_module": "@jupyter-widgets/controls",
      "model_module_version": "1.5.0",
      "model_name": "HTMLModel",
      "state": {
       "layout": "IPY_MODEL_9b7e9aa4b77c450ba1bb594b6cc81e82",
       "style": "IPY_MODEL_c9b4e8b22dcb49fa96d6e1a130fa9fa6",
       "value": " 9720/9720 [00:17&lt;00:00, 570.99it/s]"
      }
     },
     "bc459981b23b42e3abd4ad31022a1a79": {
      "model_module": "@jupyter-widgets/base",
      "model_module_version": "1.2.0",
      "model_name": "LayoutModel",
      "state": {}
     },
     "bca30beb05464692bd60e60c505a3aca": {
      "model_module": "@jupyter-widgets/base",
      "model_module_version": "1.2.0",
      "model_name": "LayoutModel",
      "state": {}
     },
     "bd05d47e669a4a87bfee89c23811f35c": {
      "model_module": "@jupyter-widgets/base",
      "model_module_version": "1.2.0",
      "model_name": "LayoutModel",
      "state": {}
     },
     "bd2e7597d0f6460e9d4261e51db0c5f8": {
      "model_module": "@jupyter-widgets/controls",
      "model_module_version": "1.5.0",
      "model_name": "HTMLModel",
      "state": {
       "layout": "IPY_MODEL_401ee20814e44683b1602f574df0e41d",
       "style": "IPY_MODEL_48d4f3f17d504045a3199cb5cc4e72b2",
       "value": " 29920/29920 [18:49&lt;00:00, 26.49it/s]"
      }
     },
     "bd650161097346bcaf07380175a3c78c": {
      "model_module": "@jupyter-widgets/base",
      "model_module_version": "1.2.0",
      "model_name": "LayoutModel",
      "state": {}
     },
     "bd694a0363874762a0fc5b5930a18dac": {
      "model_module": "@jupyter-widgets/base",
      "model_module_version": "1.2.0",
      "model_name": "LayoutModel",
      "state": {}
     },
     "bdb625416f034fcfaa6644fb252980ee": {
      "model_module": "@jupyter-widgets/controls",
      "model_module_version": "1.5.0",
      "model_name": "DescriptionStyleModel",
      "state": {
       "description_width": ""
      }
     },
     "bddfdc4f39434d789466500b6a393e7f": {
      "model_module": "@jupyter-widgets/base",
      "model_module_version": "1.2.0",
      "model_name": "LayoutModel",
      "state": {}
     },
     "be3787ddb76b4f0d8d73c694559bf3ce": {
      "model_module": "@jupyter-widgets/controls",
      "model_module_version": "1.5.0",
      "model_name": "HBoxModel",
      "state": {
       "children": [
        "IPY_MODEL_54f295ba699f4bb4b915c71e2370fbe6",
        "IPY_MODEL_466f3d40a6794b919e47bdaf6db4493a"
       ],
       "layout": "IPY_MODEL_c7fb32f365334e418c5f26990969d187"
      }
     },
     "be4a502a974e4fd4b084ab104127d561": {
      "model_module": "@jupyter-widgets/controls",
      "model_module_version": "1.5.0",
      "model_name": "DescriptionStyleModel",
      "state": {
       "description_width": ""
      }
     },
     "bf46f851852c4ccf97105357d09a1431": {
      "model_module": "@jupyter-widgets/controls",
      "model_module_version": "1.5.0",
      "model_name": "DescriptionStyleModel",
      "state": {
       "description_width": ""
      }
     },
     "bf68f81af34649e2a12853d769f1793e": {
      "model_module": "@jupyter-widgets/controls",
      "model_module_version": "1.5.0",
      "model_name": "DescriptionStyleModel",
      "state": {
       "description_width": ""
      }
     },
     "c02264c3b7f04f92975874435f9fea07": {
      "model_module": "@jupyter-widgets/controls",
      "model_module_version": "1.5.0",
      "model_name": "HBoxModel",
      "state": {
       "children": [
        "IPY_MODEL_c38cf63f14d44afba51dd4f7b93548fd",
        "IPY_MODEL_7cfeb00af10348aeb42b5e59825e5c3f"
       ],
       "layout": "IPY_MODEL_3550e8b756104fae9e5e91cc91ee121a"
      }
     },
     "c0246fb525c64ff39386f0ccbe5c5db3": {
      "model_module": "@jupyter-widgets/controls",
      "model_module_version": "1.5.0",
      "model_name": "FloatProgressModel",
      "state": {
       "bar_style": "success",
       "description": "100%",
       "layout": "IPY_MODEL_a4bfa0c19acd4e2bb8746dc2115cb5fe",
       "max": 9720,
       "style": "IPY_MODEL_cabec090759547dfb3cec3e89f9db2e5",
       "value": 9720
      }
     },
     "c136d704c0b94bb2acca6d1235548c16": {
      "model_module": "@jupyter-widgets/controls",
      "model_module_version": "1.5.0",
      "model_name": "HBoxModel",
      "state": {
       "children": [
        "IPY_MODEL_4090fee3861c4acca00da02fdbe391f5",
        "IPY_MODEL_cea2acf99ba94e97b1b12d248e362d76"
       ],
       "layout": "IPY_MODEL_d0fd373e0cf34cafb9b33df014af7006"
      }
     },
     "c161b8b38d3f43bfa86c4151187539ce": {
      "model_module": "@jupyter-widgets/base",
      "model_module_version": "1.2.0",
      "model_name": "LayoutModel",
      "state": {}
     },
     "c175ca2b31c84bdaabb160a83c6f6288": {
      "model_module": "@jupyter-widgets/controls",
      "model_module_version": "1.5.0",
      "model_name": "ProgressStyleModel",
      "state": {
       "description_width": "initial"
      }
     },
     "c19a43ae482546a6a9d993fe651a2ac4": {
      "model_module": "@jupyter-widgets/base",
      "model_module_version": "1.2.0",
      "model_name": "LayoutModel",
      "state": {}
     },
     "c1a1e030a3dc41509aac08222c5bb8c6": {
      "model_module": "@jupyter-widgets/controls",
      "model_module_version": "1.5.0",
      "model_name": "HTMLModel",
      "state": {
       "layout": "IPY_MODEL_f37e65fd8993485f9bfc0b451b8e404a",
       "style": "IPY_MODEL_d67aa76d463f49fd93712a92220701ed",
       "value": " 33900/33900 [02:33&lt;00:00, 220.69it/s]"
      }
     },
     "c1ad28feb4424ffbb855ca31dd6624e2": {
      "model_module": "@jupyter-widgets/controls",
      "model_module_version": "1.5.0",
      "model_name": "FloatProgressModel",
      "state": {
       "bar_style": "success",
       "description": "100%",
       "layout": "IPY_MODEL_3ce57691a8b7479697f0ba428e22eddf",
       "max": 1596,
       "style": "IPY_MODEL_f6dba43158ec409eb9a2ac96c5e625d3",
       "value": 1596
      }
     },
     "c1bb99379b03465d95fce47326202d5e": {
      "model_module": "@jupyter-widgets/controls",
      "model_module_version": "1.5.0",
      "model_name": "HBoxModel",
      "state": {
       "children": [
        "IPY_MODEL_38461e46456a404783ea5a8c95df8e63",
        "IPY_MODEL_eea4db7099e04a169d40f199db3470be"
       ],
       "layout": "IPY_MODEL_edbf83beadfb456ca10d52486d9537d5"
      }
     },
     "c2680ac452534d0b953630ca7fd8e1eb": {
      "model_module": "@jupyter-widgets/base",
      "model_module_version": "1.2.0",
      "model_name": "LayoutModel",
      "state": {}
     },
     "c2725873a38c42d3bb562af7f8519898": {
      "model_module": "@jupyter-widgets/base",
      "model_module_version": "1.2.0",
      "model_name": "LayoutModel",
      "state": {}
     },
     "c29063adedb24d38b3d4fd01ea00a82b": {
      "model_module": "@jupyter-widgets/base",
      "model_module_version": "1.2.0",
      "model_name": "LayoutModel",
      "state": {}
     },
     "c343829edeeb444c9525f703d4411e87": {
      "model_module": "@jupyter-widgets/base",
      "model_module_version": "1.2.0",
      "model_name": "LayoutModel",
      "state": {}
     },
     "c38cf63f14d44afba51dd4f7b93548fd": {
      "model_module": "@jupyter-widgets/controls",
      "model_module_version": "1.5.0",
      "model_name": "FloatProgressModel",
      "state": {
       "bar_style": "danger",
       "description": "  7%",
       "layout": "IPY_MODEL_e71c13a4eeff400986d720cac0c6a145",
       "max": 33200,
       "style": "IPY_MODEL_681a71f94170462ea5dab72e086229d3",
       "value": 2185
      }
     },
     "c3cd5511107b404da5ce26de825ee729": {
      "model_module": "@jupyter-widgets/controls",
      "model_module_version": "1.5.0",
      "model_name": "ProgressStyleModel",
      "state": {
       "description_width": "initial"
      }
     },
     "c407124eab0341d9834a5e67fb327bed": {
      "model_module": "@jupyter-widgets/controls",
      "model_module_version": "1.5.0",
      "model_name": "FloatProgressModel",
      "state": {
       "bar_style": "success",
       "description": "100%",
       "layout": "IPY_MODEL_30a1e761055f4894b3c59937fdda7816",
       "max": 29920,
       "style": "IPY_MODEL_a88603e8cc6946469b955d3f212227b8",
       "value": 29920
      }
     },
     "c441a6ec62ab4016b44079dd8f7aabd5": {
      "model_module": "@jupyter-widgets/controls",
      "model_module_version": "1.5.0",
      "model_name": "HBoxModel",
      "state": {
       "children": [
        "IPY_MODEL_df589d44b97c4503ad355d9004cd848b",
        "IPY_MODEL_2c5b837a3f9b4703b809e334cebf6056"
       ],
       "layout": "IPY_MODEL_300d5947a85449438015628678c011e8"
      }
     },
     "c4b472480fbe4ae18d600042b224122d": {
      "model_module": "@jupyter-widgets/controls",
      "model_module_version": "1.5.0",
      "model_name": "DescriptionStyleModel",
      "state": {
       "description_width": ""
      }
     },
     "c51bf8865b5d443eb4642b5ca7f3ea6c": {
      "model_module": "@jupyter-widgets/controls",
      "model_module_version": "1.5.0",
      "model_name": "FloatProgressModel",
      "state": {
       "bar_style": "success",
       "description": "100%",
       "layout": "IPY_MODEL_fd4ce34fcd5d42719aa7ef13711792c0",
       "max": 2772,
       "style": "IPY_MODEL_230cc2b41cf641bd94c4f4ff0bab949b",
       "value": 2772
      }
     },
     "c54d8c18a8fc4f779d1fa9d7d09736c4": {
      "model_module": "@jupyter-widgets/base",
      "model_module_version": "1.2.0",
      "model_name": "LayoutModel",
      "state": {}
     },
     "c5625019203e4fd3b9075910586234b2": {
      "model_module": "@jupyter-widgets/controls",
      "model_module_version": "1.5.0",
      "model_name": "FloatProgressModel",
      "state": {
       "bar_style": "success",
       "description": "100%",
       "layout": "IPY_MODEL_efbf46ff36914500ba36857fff529b10",
       "max": 13160,
       "style": "IPY_MODEL_7ee77395f1994b8aa8f30214a51a03a9",
       "value": 13160
      }
     },
     "c56e24e3cad44fcf9e9a5b04ec97dd07": {
      "model_module": "@jupyter-widgets/controls",
      "model_module_version": "1.5.0",
      "model_name": "DescriptionStyleModel",
      "state": {
       "description_width": ""
      }
     },
     "c598d2393f994e61a06764adf0268103": {
      "model_module": "@jupyter-widgets/controls",
      "model_module_version": "1.5.0",
      "model_name": "ProgressStyleModel",
      "state": {
       "description_width": "initial"
      }
     },
     "c5c09014b70c42deab89c94343a809ac": {
      "model_module": "@jupyter-widgets/controls",
      "model_module_version": "1.5.0",
      "model_name": "ProgressStyleModel",
      "state": {
       "description_width": "initial"
      }
     },
     "c5e056b779e0443dbf60689f6ba53dfa": {
      "model_module": "@jupyter-widgets/base",
      "model_module_version": "1.2.0",
      "model_name": "LayoutModel",
      "state": {}
     },
     "c5fc10ce30de477c9c0cfac2ec16b9fd": {
      "model_module": "@jupyter-widgets/base",
      "model_module_version": "1.2.0",
      "model_name": "LayoutModel",
      "state": {}
     },
     "c627f9e02893400da117648004a7cb8e": {
      "model_module": "@jupyter-widgets/controls",
      "model_module_version": "1.5.0",
      "model_name": "HTMLModel",
      "state": {
       "layout": "IPY_MODEL_24488220630b4e91bff2eec949987394",
       "style": "IPY_MODEL_252df62a1b3943ed888b2ba67e7596ee",
       "value": " 1296/1296 [00:02&lt;00:00, 454.84it/s]"
      }
     },
     "c6d2e17a1c084e5caa3093974c2e4c0d": {
      "model_module": "@jupyter-widgets/controls",
      "model_module_version": "1.5.0",
      "model_name": "DescriptionStyleModel",
      "state": {
       "description_width": ""
      }
     },
     "c6db84d278e64e3ebbb2beecc6aee628": {
      "model_module": "@jupyter-widgets/controls",
      "model_module_version": "1.5.0",
      "model_name": "ProgressStyleModel",
      "state": {
       "description_width": "initial"
      }
     },
     "c6e119778bad437cb4751fab843ddb14": {
      "model_module": "@jupyter-widgets/controls",
      "model_module_version": "1.5.0",
      "model_name": "HTMLModel",
      "state": {
       "layout": "IPY_MODEL_63e64f07f6f7448fa2f5ecff76f3d570",
       "style": "IPY_MODEL_4afc09961f6e4e3b845bb9a963e4c38e",
       "value": " 3888/3888 [00:07&lt;00:00, 549.14it/s]"
      }
     },
     "c7750e71cf63468f98e3239ada9a8de3": {
      "model_module": "@jupyter-widgets/base",
      "model_module_version": "1.2.0",
      "model_name": "LayoutModel",
      "state": {}
     },
     "c78f503fe018406389d0adf425f683ff": {
      "model_module": "@jupyter-widgets/controls",
      "model_module_version": "1.5.0",
      "model_name": "HBoxModel",
      "state": {
       "children": [
        "IPY_MODEL_c51bf8865b5d443eb4642b5ca7f3ea6c",
        "IPY_MODEL_7bcd9767b51b41dc9fa83b5c10912f4c"
       ],
       "layout": "IPY_MODEL_8af0f80fd3dd4bcd80fce771e1d747b0"
      }
     },
     "c7bb0f4f67aa4f0a85f51e0b71eca3bc": {
      "model_module": "@jupyter-widgets/base",
      "model_module_version": "1.2.0",
      "model_name": "LayoutModel",
      "state": {}
     },
     "c7fb32f365334e418c5f26990969d187": {
      "model_module": "@jupyter-widgets/base",
      "model_module_version": "1.2.0",
      "model_name": "LayoutModel",
      "state": {}
     },
     "c811485444a54812ab15ff3605e1d1b8": {
      "model_module": "@jupyter-widgets/base",
      "model_module_version": "1.2.0",
      "model_name": "LayoutModel",
      "state": {}
     },
     "c85d565ee64747c19af5406526e41ea3": {
      "model_module": "@jupyter-widgets/base",
      "model_module_version": "1.2.0",
      "model_name": "LayoutModel",
      "state": {}
     },
     "c8b095c72b2b4c378753f6bff9d68ab3": {
      "model_module": "@jupyter-widgets/controls",
      "model_module_version": "1.5.0",
      "model_name": "HBoxModel",
      "state": {
       "children": [
        "IPY_MODEL_e7dcf10a8d4049d9ba11df2600a039ae",
        "IPY_MODEL_678110d384c540169dcb1af7471baf70"
       ],
       "layout": "IPY_MODEL_86b5ba0dec9f458fb441ebdf30ea1600"
      }
     },
     "c8dc59c9479b482b85a7e3d379876b77": {
      "model_module": "@jupyter-widgets/base",
      "model_module_version": "1.2.0",
      "model_name": "LayoutModel",
      "state": {}
     },
     "c967a7beffb14fa5ab6e47797613cb3b": {
      "model_module": "@jupyter-widgets/controls",
      "model_module_version": "1.5.0",
      "model_name": "ProgressStyleModel",
      "state": {
       "description_width": "initial"
      }
     },
     "c9b4e8b22dcb49fa96d6e1a130fa9fa6": {
      "model_module": "@jupyter-widgets/controls",
      "model_module_version": "1.5.0",
      "model_name": "DescriptionStyleModel",
      "state": {
       "description_width": ""
      }
     },
     "c9e73c388ea4467c8cb1d528340931ad": {
      "model_module": "@jupyter-widgets/base",
      "model_module_version": "1.2.0",
      "model_name": "LayoutModel",
      "state": {}
     },
     "ca98c87d63f4455db21102b71b412350": {
      "model_module": "@jupyter-widgets/controls",
      "model_module_version": "1.5.0",
      "model_name": "FloatProgressModel",
      "state": {
       "bar_style": "success",
       "description": "100%",
       "layout": "IPY_MODEL_94ec71823d234c019cc4ea6f2a577c67",
       "max": 1296,
       "style": "IPY_MODEL_183649393b4d4744af484c6d0f6a8b0d",
       "value": 1296
      }
     },
     "caa94c9fc0714677b89396f0182ebba8": {
      "model_module": "@jupyter-widgets/base",
      "model_module_version": "1.2.0",
      "model_name": "LayoutModel",
      "state": {}
     },
     "cabec090759547dfb3cec3e89f9db2e5": {
      "model_module": "@jupyter-widgets/controls",
      "model_module_version": "1.5.0",
      "model_name": "ProgressStyleModel",
      "state": {
       "description_width": "initial"
      }
     },
     "cace96cae27b4b47aab573e97abb31b0": {
      "model_module": "@jupyter-widgets/controls",
      "model_module_version": "1.5.0",
      "model_name": "DescriptionStyleModel",
      "state": {
       "description_width": ""
      }
     },
     "cae55e0a63f44f6699c7654c09a947a3": {
      "model_module": "@jupyter-widgets/controls",
      "model_module_version": "1.5.0",
      "model_name": "FloatProgressModel",
      "state": {
       "bar_style": "success",
       "description": "100%",
       "layout": "IPY_MODEL_03f022d4c3314c76a1316ba7c512bbd3",
       "max": 3240,
       "style": "IPY_MODEL_683f08f76ee24abd99445fcc36253b8f",
       "value": 3240
      }
     },
     "cb10c6831ff44066999036e7d0cd2bfb": {
      "model_module": "@jupyter-widgets/controls",
      "model_module_version": "1.5.0",
      "model_name": "FloatProgressModel",
      "state": {
       "bar_style": "danger",
       "description": "  0%",
       "layout": "IPY_MODEL_ab0f17a3c68c4d54885e197818ad5fd3",
       "max": 3888,
       "style": "IPY_MODEL_eac81f5041dd4ad7a364cd7618a979f9"
      }
     },
     "cb5e80a9bfc4457eae4725bff4bce668": {
      "model_module": "@jupyter-widgets/controls",
      "model_module_version": "1.5.0",
      "model_name": "HTMLModel",
      "state": {
       "layout": "IPY_MODEL_4d7161f49f0c4ad6b5fe2f4542395410",
       "style": "IPY_MODEL_971002d26a6741bf988bb9821416ab41",
       "value": " 3240/3240 [00:12&lt;00:00, 254.37it/s]"
      }
     },
     "cb5f22efb0624b77b3be9956d0da9872": {
      "model_module": "@jupyter-widgets/controls",
      "model_module_version": "1.5.0",
      "model_name": "HBoxModel",
      "state": {
       "children": [
        "IPY_MODEL_61f38bacfd1249abb6be66e2309456a6",
        "IPY_MODEL_ab07c1a51d234929a705309aeb4c5c11"
       ],
       "layout": "IPY_MODEL_f276b26a634846b580c78859bb8fea0b"
      }
     },
     "cbce68e9df4c44ee92664426d06e5b99": {
      "model_module": "@jupyter-widgets/controls",
      "model_module_version": "1.5.0",
      "model_name": "DescriptionStyleModel",
      "state": {
       "description_width": ""
      }
     },
     "cce61dd16bed4b3298a709ba27e56796": {
      "model_module": "@jupyter-widgets/controls",
      "model_module_version": "1.5.0",
      "model_name": "HTMLModel",
      "state": {
       "layout": "IPY_MODEL_a7c1bd6fc05a42febbe00d469b73af37",
       "style": "IPY_MODEL_8e97526af0ba4ff299444403084796fa",
       "value": " 2148/2148 [00:09&lt;00:00, 222.16it/s]"
      }
     },
     "cd18ca2c06f447b4a1587c73eb60346b": {
      "model_module": "@jupyter-widgets/controls",
      "model_module_version": "1.5.0",
      "model_name": "FloatProgressModel",
      "state": {
       "bar_style": "success",
       "description": "100%",
       "layout": "IPY_MODEL_53debf5aa50742adb1b0e44ef2a9e4d4",
       "max": 3240,
       "style": "IPY_MODEL_b8983b834b2749c4afddf410258fec37",
       "value": 3240
      }
     },
     "cd403d1b5d23452b86846f9c7c4a4c1f": {
      "model_module": "@jupyter-widgets/controls",
      "model_module_version": "1.5.0",
      "model_name": "FloatProgressModel",
      "state": {
       "bar_style": "success",
       "description": "100%",
       "layout": "IPY_MODEL_f77a94f0eeca4b9297522415832a425e",
       "max": 8316,
       "style": "IPY_MODEL_4b154cd7075143b6b205e318c34ccd71",
       "value": 8316
      }
     },
     "cd7fe464850042d9a83900933fcaed89": {
      "model_module": "@jupyter-widgets/base",
      "model_module_version": "1.2.0",
      "model_name": "LayoutModel",
      "state": {}
     },
     "cdf721a6f58e4a8e8479580997b5db45": {
      "model_module": "@jupyter-widgets/controls",
      "model_module_version": "1.5.0",
      "model_name": "FloatProgressModel",
      "state": {
       "bar_style": "success",
       "description": "100%",
       "layout": "IPY_MODEL_d6b1a6e5fef54760b975af5e0234e735",
       "max": 6444,
       "style": "IPY_MODEL_dce538a089a24520b7ed32b939e7825e",
       "value": 6444
      }
     },
     "cea2acf99ba94e97b1b12d248e362d76": {
      "model_module": "@jupyter-widgets/controls",
      "model_module_version": "1.5.0",
      "model_name": "HTMLModel",
      "state": {
       "layout": "IPY_MODEL_c85d565ee64747c19af5406526e41ea3",
       "style": "IPY_MODEL_537c12c0fa5842bfbcfb7b58193c1965",
       "value": " 6444/6444 [00:10&lt;00:00, 602.62it/s]"
      }
     },
     "cec8d5e67ae242148aa47262d7fcfe6d": {
      "model_module": "@jupyter-widgets/controls",
      "model_module_version": "1.5.0",
      "model_name": "HBoxModel",
      "state": {
       "children": [
        "IPY_MODEL_5dadc373c8e8499f864c0543e7d70c42",
        "IPY_MODEL_3d5a148856fa489b9af1374c16efbe2b"
       ],
       "layout": "IPY_MODEL_ed79abdf5152461b80ec410c32e7fb93"
      }
     },
     "cf034467ccb14103ac396251a4389fa7": {
      "model_module": "@jupyter-widgets/controls",
      "model_module_version": "1.5.0",
      "model_name": "HBoxModel",
      "state": {
       "children": [
        "IPY_MODEL_611343457fe94f0e92b16a8fed8a5fbf",
        "IPY_MODEL_ea90c5d3422144efa961e3d878fc7a1b"
       ],
       "layout": "IPY_MODEL_ef56c917f693402bba53d03ad00643c0"
      }
     },
     "cf0b5745409543a59a18c8d268464f24": {
      "model_module": "@jupyter-widgets/controls",
      "model_module_version": "1.5.0",
      "model_name": "DescriptionStyleModel",
      "state": {
       "description_width": ""
      }
     },
     "cfa4d950f4da4f09bbf18666b187e20a": {
      "model_module": "@jupyter-widgets/base",
      "model_module_version": "1.2.0",
      "model_name": "LayoutModel",
      "state": {}
     },
     "cfee2c09226a436fab37cd647c7fb0d4": {
      "model_module": "@jupyter-widgets/controls",
      "model_module_version": "1.5.0",
      "model_name": "HTMLModel",
      "state": {
       "layout": "IPY_MODEL_987e621b87be40e09e16d6e9261196f5",
       "style": "IPY_MODEL_42f3a1bf7cda4414a4c4c4a27e78ea13",
       "value": " 2772/2772 [00:04&lt;00:00, 591.30it/s]"
      }
     },
     "d0f2176e80014c14812990a46d31fc74": {
      "model_module": "@jupyter-widgets/base",
      "model_module_version": "1.2.0",
      "model_name": "LayoutModel",
      "state": {}
     },
     "d0fc580e5b004008a29e180db5fb5a87": {
      "model_module": "@jupyter-widgets/controls",
      "model_module_version": "1.5.0",
      "model_name": "HTMLModel",
      "state": {
       "layout": "IPY_MODEL_c9e73c388ea4467c8cb1d528340931ad",
       "style": "IPY_MODEL_56bb39c0530a43a28129b833dffb5fda",
       "value": " 2772/2772 [00:20&lt;00:00, 134.14it/s]"
      }
     },
     "d0fd373e0cf34cafb9b33df014af7006": {
      "model_module": "@jupyter-widgets/base",
      "model_module_version": "1.2.0",
      "model_name": "LayoutModel",
      "state": {}
     },
     "d13df1e00e5c489ea587392c524e4f08": {
      "model_module": "@jupyter-widgets/controls",
      "model_module_version": "1.5.0",
      "model_name": "FloatProgressModel",
      "state": {
       "bar_style": "success",
       "description": "100%",
       "layout": "IPY_MODEL_2d1a4f8bfd8a4231b2cf152dbc190b14",
       "max": 2772,
       "style": "IPY_MODEL_4938163f16dc4311b9c379f17acc5a3a",
       "value": 2772
      }
     },
     "d1ba0f858b624e8ead70c4c6a86ad0e8": {
      "model_module": "@jupyter-widgets/controls",
      "model_module_version": "1.5.0",
      "model_name": "DescriptionStyleModel",
      "state": {
       "description_width": ""
      }
     },
     "d1d94e08109f425eb488b58275bd66a4": {
      "model_module": "@jupyter-widgets/controls",
      "model_module_version": "1.5.0",
      "model_name": "HTMLModel",
      "state": {
       "layout": "IPY_MODEL_edbeba3609fa4c649e849dfa9fa0db16",
       "style": "IPY_MODEL_2c8828779ccb42ea832c17895c15783c",
       "value": " 2148/2148 [00:09&lt;00:00, 226.14it/s]"
      }
     },
     "d237d844859b44eab98fb22ea014a0c6": {
      "model_module": "@jupyter-widgets/controls",
      "model_module_version": "1.5.0",
      "model_name": "FloatProgressModel",
      "state": {
       "bar_style": "success",
       "description": "100%",
       "layout": "IPY_MODEL_791a2549292943dfa3c188a3d98678bf",
       "max": 33200,
       "style": "IPY_MODEL_ac8788f959eb4d5e89f51a75abc2679a",
       "value": 33200
      }
     },
     "d24a60c31a664173872f3744ef17fc3c": {
      "model_module": "@jupyter-widgets/base",
      "model_module_version": "1.2.0",
      "model_name": "LayoutModel",
      "state": {}
     },
     "d290bd2159164a24be824dce14d65f56": {
      "model_module": "@jupyter-widgets/base",
      "model_module_version": "1.2.0",
      "model_name": "LayoutModel",
      "state": {}
     },
     "d2e95cfcf0d04b97817a9dafa36c82a9": {
      "model_module": "@jupyter-widgets/base",
      "model_module_version": "1.2.0",
      "model_name": "LayoutModel",
      "state": {}
     },
     "d30174bc7d224f5aae4a331d822e5bd8": {
      "model_module": "@jupyter-widgets/controls",
      "model_module_version": "1.5.0",
      "model_name": "DescriptionStyleModel",
      "state": {
       "description_width": ""
      }
     },
     "d353720e0a14487d997ea49c33c48091": {
      "model_module": "@jupyter-widgets/controls",
      "model_module_version": "1.5.0",
      "model_name": "ProgressStyleModel",
      "state": {
       "description_width": "initial"
      }
     },
     "d386da50909f440a9e65c810bf69c23a": {
      "model_module": "@jupyter-widgets/controls",
      "model_module_version": "1.5.0",
      "model_name": "HBoxModel",
      "state": {
       "children": [
        "IPY_MODEL_421cc8db7cba4b3999367fd68c41358e",
        "IPY_MODEL_fc6860a1b4af4cc29cd84e6ab0044a0c"
       ],
       "layout": "IPY_MODEL_bc459981b23b42e3abd4ad31022a1a79"
      }
     },
     "d39d3b8500e34cee9ca3a0a4d1159823": {
      "model_module": "@jupyter-widgets/controls",
      "model_module_version": "1.5.0",
      "model_name": "HBoxModel",
      "state": {
       "children": [
        "IPY_MODEL_ca98c87d63f4455db21102b71b412350",
        "IPY_MODEL_c627f9e02893400da117648004a7cb8e"
       ],
       "layout": "IPY_MODEL_aaea4f0dd55444088140bdb29ba6dcab"
      }
     },
     "d3ffa0e2decf43da9e09a42efdc86833": {
      "model_module": "@jupyter-widgets/controls",
      "model_module_version": "1.5.0",
      "model_name": "FloatProgressModel",
      "state": {
       "bar_style": "danger",
       "description": "  0%",
       "layout": "IPY_MODEL_1c5e4a83beca4ccdb10a1ee06c6eaf93",
       "max": 3888,
       "style": "IPY_MODEL_0b777b44de02434390eb83cedae872de"
      }
     },
     "d4337588ca57400d8241fb00969c2e81": {
      "model_module": "@jupyter-widgets/controls",
      "model_module_version": "1.5.0",
      "model_name": "ProgressStyleModel",
      "state": {
       "description_width": "initial"
      }
     },
     "d507e024aadb4d34a1f05d6a07304e40": {
      "model_module": "@jupyter-widgets/controls",
      "model_module_version": "1.5.0",
      "model_name": "HBoxModel",
      "state": {
       "children": [
        "IPY_MODEL_0eaeafc2914e4ecc92eaa4fa233c10c5",
        "IPY_MODEL_d1d94e08109f425eb488b58275bd66a4"
       ],
       "layout": "IPY_MODEL_c2725873a38c42d3bb562af7f8519898"
      }
     },
     "d5244bd77b7345fc8be2b764542a5cd9": {
      "model_module": "@jupyter-widgets/base",
      "model_module_version": "1.2.0",
      "model_name": "LayoutModel",
      "state": {}
     },
     "d53fa8c0ae6342739abf79fd162f2612": {
      "model_module": "@jupyter-widgets/controls",
      "model_module_version": "1.5.0",
      "model_name": "DescriptionStyleModel",
      "state": {
       "description_width": ""
      }
     },
     "d604054096f84331b99730b20aa4df35": {
      "model_module": "@jupyter-widgets/controls",
      "model_module_version": "1.5.0",
      "model_name": "DescriptionStyleModel",
      "state": {
       "description_width": ""
      }
     },
     "d67aa76d463f49fd93712a92220701ed": {
      "model_module": "@jupyter-widgets/controls",
      "model_module_version": "1.5.0",
      "model_name": "DescriptionStyleModel",
      "state": {
       "description_width": ""
      }
     },
     "d67d5c0a8c0441f8a3a74e06bc9ebe46": {
      "model_module": "@jupyter-widgets/base",
      "model_module_version": "1.2.0",
      "model_name": "LayoutModel",
      "state": {}
     },
     "d686aae2dee448d8a60f441ab95aadad": {
      "model_module": "@jupyter-widgets/base",
      "model_module_version": "1.2.0",
      "model_name": "LayoutModel",
      "state": {}
     },
     "d6b1a6e5fef54760b975af5e0234e735": {
      "model_module": "@jupyter-widgets/base",
      "model_module_version": "1.2.0",
      "model_name": "LayoutModel",
      "state": {}
     },
     "d6c4037b87304af695c58001cbbb66f0": {
      "model_module": "@jupyter-widgets/controls",
      "model_module_version": "1.5.0",
      "model_name": "ProgressStyleModel",
      "state": {
       "description_width": "initial"
      }
     },
     "d7058d59df624347a38c26458dadb805": {
      "model_module": "@jupyter-widgets/base",
      "model_module_version": "1.2.0",
      "model_name": "LayoutModel",
      "state": {}
     },
     "d714fbe21f984612a932f02892c0176c": {
      "model_module": "@jupyter-widgets/base",
      "model_module_version": "1.2.0",
      "model_name": "LayoutModel",
      "state": {}
     },
     "d764c966529540bfbb5738960b824b96": {
      "model_module": "@jupyter-widgets/base",
      "model_module_version": "1.2.0",
      "model_name": "LayoutModel",
      "state": {}
     },
     "d799e50e499d48d7b5d750bbdd749c42": {
      "model_module": "@jupyter-widgets/base",
      "model_module_version": "1.2.0",
      "model_name": "LayoutModel",
      "state": {}
     },
     "d7e69d3c6da041138b15ddf47cc000e6": {
      "model_module": "@jupyter-widgets/base",
      "model_module_version": "1.2.0",
      "model_name": "LayoutModel",
      "state": {}
     },
     "d86a7df73b674c5b8ad54d93e99ea8a7": {
      "model_module": "@jupyter-widgets/controls",
      "model_module_version": "1.5.0",
      "model_name": "DescriptionStyleModel",
      "state": {
       "description_width": ""
      }
     },
     "d8eeceffab674f1da02bdb499bbb4987": {
      "model_module": "@jupyter-widgets/controls",
      "model_module_version": "1.5.0",
      "model_name": "HBoxModel",
      "state": {
       "children": [
        "IPY_MODEL_a54b73765daf42d88376cc6f170f7b93",
        "IPY_MODEL_48273ddbb8214492a05d8c7fde88bb8e"
       ],
       "layout": "IPY_MODEL_a578ced6dccf43d883a6ff95d32a3b96"
      }
     },
     "d90314470a9149779b18b1080bf2429c": {
      "model_module": "@jupyter-widgets/controls",
      "model_module_version": "1.5.0",
      "model_name": "HBoxModel",
      "state": {
       "children": [
        "IPY_MODEL_01ec78bdab95408ab0ab2abfd8b16463",
        "IPY_MODEL_f812e9f312fb45829704a1d93df9000e"
       ],
       "layout": "IPY_MODEL_a7be3c7505d142c1beba195369a2744d"
      }
     },
     "daec7f4c4d2e44a98d457d58c0be62d4": {
      "model_module": "@jupyter-widgets/base",
      "model_module_version": "1.2.0",
      "model_name": "LayoutModel",
      "state": {}
     },
     "db38a7df9d7c42cca3b75c2a59f9d02d": {
      "model_module": "@jupyter-widgets/controls",
      "model_module_version": "1.5.0",
      "model_name": "HBoxModel",
      "state": {
       "children": [
        "IPY_MODEL_6b8bee451e5a4925b013bbebe2561763",
        "IPY_MODEL_df5001ceffcc44709c8cc926b73b61de"
       ],
       "layout": "IPY_MODEL_3fe81d102d8c41cf81efdc9d9ba4c383"
      }
     },
     "dbe7cf16a10b4027b30bde869c9b30fc": {
      "model_module": "@jupyter-widgets/controls",
      "model_module_version": "1.5.0",
      "model_name": "ProgressStyleModel",
      "state": {
       "description_width": "initial"
      }
     },
     "dbfd8514444446389e263e9eb315db67": {
      "model_module": "@jupyter-widgets/base",
      "model_module_version": "1.2.0",
      "model_name": "LayoutModel",
      "state": {}
     },
     "dc2289b552b04277b4d815226d3fc984": {
      "model_module": "@jupyter-widgets/controls",
      "model_module_version": "1.5.0",
      "model_name": "ProgressStyleModel",
      "state": {
       "description_width": "initial"
      }
     },
     "dc9796590725467b91b28043712cd803": {
      "model_module": "@jupyter-widgets/base",
      "model_module_version": "1.2.0",
      "model_name": "LayoutModel",
      "state": {}
     },
     "dca8b21a3a314249b0241a5f29358c32": {
      "model_module": "@jupyter-widgets/controls",
      "model_module_version": "1.5.0",
      "model_name": "FloatProgressModel",
      "state": {
       "bar_style": "success",
       "description": "100%",
       "layout": "IPY_MODEL_80087a8f32324177864edcdd2bf162c8",
       "max": 8316,
       "style": "IPY_MODEL_1f38b322347e4cfea2576b02a0888a1c",
       "value": 8316
      }
     },
     "dce538a089a24520b7ed32b939e7825e": {
      "model_module": "@jupyter-widgets/controls",
      "model_module_version": "1.5.0",
      "model_name": "ProgressStyleModel",
      "state": {
       "description_width": "initial"
      }
     },
     "dce6c15d83d64610953512db804fc0c7": {
      "model_module": "@jupyter-widgets/base",
      "model_module_version": "1.2.0",
      "model_name": "LayoutModel",
      "state": {}
     },
     "dd75d75904d44d0ca9480a2916c546f4": {
      "model_module": "@jupyter-widgets/base",
      "model_module_version": "1.2.0",
      "model_name": "LayoutModel",
      "state": {}
     },
     "ddab1c528bf644c4820d948fbf18ab1b": {
      "model_module": "@jupyter-widgets/controls",
      "model_module_version": "1.5.0",
      "model_name": "FloatProgressModel",
      "state": {
       "bar_style": "success",
       "description": "100%",
       "layout": "IPY_MODEL_8961e90b82a94e59ac6a87df34ac2f24",
       "max": 33200,
       "style": "IPY_MODEL_6dd291c538384080ba675d5ddcbe2339",
       "value": 33200
      }
     },
     "dddf4d1e6d044a0eb7a9fa6d26444f06": {
      "model_module": "@jupyter-widgets/controls",
      "model_module_version": "1.5.0",
      "model_name": "HBoxModel",
      "state": {
       "children": [
        "IPY_MODEL_2ae110c47b25488fbcdedf12f8cafefa",
        "IPY_MODEL_4ef9ff3a1c914b7b8fde822219921fb8"
       ],
       "layout": "IPY_MODEL_96fc4858ac3841e19248aefd3e1e7094"
      }
     },
     "de0f151946734143b9d033140dfe1b17": {
      "model_module": "@jupyter-widgets/controls",
      "model_module_version": "1.5.0",
      "model_name": "HBoxModel",
      "state": {
       "children": [
        "IPY_MODEL_d3ffa0e2decf43da9e09a42efdc86833",
        "IPY_MODEL_b1dcaaafac97445fb229b739ddfb6cdd"
       ],
       "layout": "IPY_MODEL_16e97355200a4136b3047121df25bf68"
      }
     },
     "de328b5739404691a0555593edbb957f": {
      "model_module": "@jupyter-widgets/base",
      "model_module_version": "1.2.0",
      "model_name": "LayoutModel",
      "state": {}
     },
     "de5cc02084994b9f9f6a8f59b62c953c": {
      "model_module": "@jupyter-widgets/base",
      "model_module_version": "1.2.0",
      "model_name": "LayoutModel",
      "state": {}
     },
     "dee13400dcc5400bbb9353271172935b": {
      "model_module": "@jupyter-widgets/controls",
      "model_module_version": "1.5.0",
      "model_name": "HTMLModel",
      "state": {
       "layout": "IPY_MODEL_86aa6892dc3f46439be8868b5c11638e",
       "style": "IPY_MODEL_6eede63492914de0bc0105d6a3e2de5f",
       "value": " 1596/1596 [00:02&lt;00:00, 588.21it/s]"
      }
     },
     "df1ea324e7fa47d6aefb807d61572fb7": {
      "model_module": "@jupyter-widgets/controls",
      "model_module_version": "1.5.0",
      "model_name": "FloatProgressModel",
      "state": {
       "bar_style": "danger",
       "description": " 22%",
       "layout": "IPY_MODEL_00b27c67ea5c4c1aa11d6c3f74b68841",
       "max": 29920,
       "style": "IPY_MODEL_39b68638e36643888b39b128521db1c6",
       "value": 6679
      }
     },
     "df3fe328bb474b7f813668a627b45e73": {
      "model_module": "@jupyter-widgets/controls",
      "model_module_version": "1.5.0",
      "model_name": "HTMLModel",
      "state": {
       "layout": "IPY_MODEL_d0f2176e80014c14812990a46d31fc74",
       "style": "IPY_MODEL_828feb1c85ca440881fea0a0cc5ea57e",
       "value": " 2772/2772 [00:09&lt;00:00, 295.90it/s]"
      }
     },
     "df4cd4254d094224a2546857108d65a7": {
      "model_module": "@jupyter-widgets/controls",
      "model_module_version": "1.5.0",
      "model_name": "HBoxModel",
      "state": {
       "children": [
        "IPY_MODEL_429448bfd9e1454b88cd4650ef57fe94",
        "IPY_MODEL_4f7ce21d30ef4792ac2e02db1a88f865"
       ],
       "layout": "IPY_MODEL_288ffead20c1485481f2b5ca58a4efe6"
      }
     },
     "df5001ceffcc44709c8cc926b73b61de": {
      "model_module": "@jupyter-widgets/controls",
      "model_module_version": "1.5.0",
      "model_name": "HTMLModel",
      "state": {
       "layout": "IPY_MODEL_7dd30a8cbbf84bfa85a154f87b59444c",
       "style": "IPY_MODEL_347c036a6f8d4b2da7f1363bd8940e37",
       "value": " 9720/9720 [00:17&lt;00:00, 561.92it/s]"
      }
     },
     "df589d44b97c4503ad355d9004cd848b": {
      "model_module": "@jupyter-widgets/controls",
      "model_module_version": "1.5.0",
      "model_name": "FloatProgressModel",
      "state": {
       "bar_style": "success",
       "description": "100%",
       "layout": "IPY_MODEL_10dd5d71a76845f781b35160e2db1c40",
       "max": 13160,
       "style": "IPY_MODEL_18f10bf51fb5471e8d4689160f8f5280",
       "value": 13160
      }
     },
     "dfb04f98e89b466aa15925f0935f3128": {
      "model_module": "@jupyter-widgets/controls",
      "model_module_version": "1.5.0",
      "model_name": "DescriptionStyleModel",
      "state": {
       "description_width": ""
      }
     },
     "e03789fed1e346df87d327924c0736f7": {
      "model_module": "@jupyter-widgets/controls",
      "model_module_version": "1.5.0",
      "model_name": "HBoxModel",
      "state": {
       "children": [
        "IPY_MODEL_ddab1c528bf644c4820d948fbf18ab1b",
        "IPY_MODEL_1c084ba509794f9a8ddf18fba981c31b"
       ],
       "layout": "IPY_MODEL_8aefd6788b7042aab70fa16a43cc9d7c"
      }
     },
     "e07b46e3c2104ef4bac499d68203703b": {
      "model_module": "@jupyter-widgets/controls",
      "model_module_version": "1.5.0",
      "model_name": "HTMLModel",
      "state": {
       "layout": "IPY_MODEL_457eced8f671422d811e7f75344b5326",
       "style": "IPY_MODEL_e829199fd3e84840974d802e1ae270ad",
       "value": " 0/3888 [00:00&lt;?, ?it/s]"
      }
     },
     "e0d0b11773fc4e2ea6a82f60021e8641": {
      "model_module": "@jupyter-widgets/base",
      "model_module_version": "1.2.0",
      "model_name": "LayoutModel",
      "state": {}
     },
     "e1032a8e8f484282b906a66f75f7a69c": {
      "model_module": "@jupyter-widgets/controls",
      "model_module_version": "1.5.0",
      "model_name": "HBoxModel",
      "state": {
       "children": [
        "IPY_MODEL_26b42d34f7d14e0e87de61e65433e4d4",
        "IPY_MODEL_a2cb0301facb47239cf514f8d80d39b1"
       ],
       "layout": "IPY_MODEL_0ce783f166364242bc5415b805de999c"
      }
     },
     "e105e0ba5e00421ab807f41bbc7a8b2e": {
      "model_module": "@jupyter-widgets/controls",
      "model_module_version": "1.5.0",
      "model_name": "HTMLModel",
      "state": {
       "layout": "IPY_MODEL_ad3bfac1d9684c35ad6424ec1386c160",
       "style": "IPY_MODEL_c4b472480fbe4ae18d600042b224122d",
       "value": " 0/3888 [00:00&lt;?, ?it/s]"
      }
     },
     "e16f9abc50954f22831a8324f328f4cc": {
      "model_module": "@jupyter-widgets/base",
      "model_module_version": "1.2.0",
      "model_name": "LayoutModel",
      "state": {}
     },
     "e1d1854cb8a3405a90a7a415a4af52d3": {
      "model_module": "@jupyter-widgets/controls",
      "model_module_version": "1.5.0",
      "model_name": "DescriptionStyleModel",
      "state": {
       "description_width": ""
      }
     },
     "e215cd20be2c41869b2cafcd1a7c265f": {
      "model_module": "@jupyter-widgets/controls",
      "model_module_version": "1.5.0",
      "model_name": "DescriptionStyleModel",
      "state": {
       "description_width": ""
      }
     },
     "e22c40f9ebcd4168b5b81faf8eaa7cb8": {
      "model_module": "@jupyter-widgets/controls",
      "model_module_version": "1.5.0",
      "model_name": "HTMLModel",
      "state": {
       "layout": "IPY_MODEL_87a8ffc8a1da42e1ab505f91ab0dd9fb",
       "style": "IPY_MODEL_d30174bc7d224f5aae4a331d822e5bd8",
       "value": " 2772/2772 [00:12&lt;00:00, 215.68it/s]"
      }
     },
     "e2624da55f714e93bfa3a8776f827f4f": {
      "model_module": "@jupyter-widgets/controls",
      "model_module_version": "1.5.0",
      "model_name": "FloatProgressModel",
      "state": {
       "bar_style": "success",
       "description": "100%",
       "layout": "IPY_MODEL_1b08fc5c406149c690c01b8cfc50f645",
       "max": 29920,
       "style": "IPY_MODEL_01b807ac306a4d78aee7b4d851d5948e",
       "value": 29920
      }
     },
     "e2bd64bca0e44be9b138a0e93296408e": {
      "model_module": "@jupyter-widgets/controls",
      "model_module_version": "1.5.0",
      "model_name": "HBoxModel",
      "state": {
       "children": [
        "IPY_MODEL_5adb866f993f4001a2aced5087184cad",
        "IPY_MODEL_2df578db69da4e3a9add7fa258074a6f"
       ],
       "layout": "IPY_MODEL_3b4d836819a44dadbe71f10ca0d780fc"
      }
     },
     "e31124050d2b4c799f49d043530ac04c": {
      "model_module": "@jupyter-widgets/controls",
      "model_module_version": "1.5.0",
      "model_name": "HBoxModel",
      "state": {
       "children": [
        "IPY_MODEL_d237d844859b44eab98fb22ea014a0c6",
        "IPY_MODEL_226f82558e814ab097b109fd8b3497d0"
       ],
       "layout": "IPY_MODEL_63984c17ffd845f69c523d62eb3c7f70"
      }
     },
     "e3630563fb7c4265ac024d99ab48b1b2": {
      "model_module": "@jupyter-widgets/base",
      "model_module_version": "1.2.0",
      "model_name": "LayoutModel",
      "state": {}
     },
     "e370ddebcde3438caf974579c67e9559": {
      "model_module": "@jupyter-widgets/base",
      "model_module_version": "1.2.0",
      "model_name": "LayoutModel",
      "state": {}
     },
     "e396ef84a5d34f73aad89121cea0b9f5": {
      "model_module": "@jupyter-widgets/controls",
      "model_module_version": "1.5.0",
      "model_name": "HBoxModel",
      "state": {
       "children": [
        "IPY_MODEL_e8ac43ec7a2748ddb536b91fb9bb903e",
        "IPY_MODEL_a7320c7ea5434cbe8f43d9ef33f713e3"
       ],
       "layout": "IPY_MODEL_353adddfc54d4654b5b74b316aa07584"
      }
     },
     "e3ba781d2f414483a069915c8cdabaf3": {
      "model_module": "@jupyter-widgets/base",
      "model_module_version": "1.2.0",
      "model_name": "LayoutModel",
      "state": {}
     },
     "e3e7d3aa18f14b64a2d266762bae9646": {
      "model_module": "@jupyter-widgets/controls",
      "model_module_version": "1.5.0",
      "model_name": "DescriptionStyleModel",
      "state": {
       "description_width": ""
      }
     },
     "e4ae46878d7840fcb461235466915f46": {
      "model_module": "@jupyter-widgets/controls",
      "model_module_version": "1.5.0",
      "model_name": "HBoxModel",
      "state": {
       "children": [
        "IPY_MODEL_715a70f800434adc99413afb4ab3a7c1",
        "IPY_MODEL_3e2f931166664198bec963b591cc3fe4"
       ],
       "layout": "IPY_MODEL_8096aa26ce2c4e2f9580f07f1310e5f2"
      }
     },
     "e556c3a66fbf41a78e405578ecdd9868": {
      "model_module": "@jupyter-widgets/controls",
      "model_module_version": "1.5.0",
      "model_name": "DescriptionStyleModel",
      "state": {
       "description_width": ""
      }
     },
     "e5a0491806ef44efa3c93e2267a4d787": {
      "model_module": "@jupyter-widgets/base",
      "model_module_version": "1.2.0",
      "model_name": "LayoutModel",
      "state": {}
     },
     "e606a9503d124f309c139ff296932892": {
      "model_module": "@jupyter-widgets/base",
      "model_module_version": "1.2.0",
      "model_name": "LayoutModel",
      "state": {}
     },
     "e622c12322684093bcff275349c48d40": {
      "model_module": "@jupyter-widgets/controls",
      "model_module_version": "1.5.0",
      "model_name": "FloatProgressModel",
      "state": {
       "bar_style": "success",
       "description": "100%",
       "layout": "IPY_MODEL_2db2194561f94f44991f006e05383c02",
       "max": 2148,
       "style": "IPY_MODEL_583986b66a41432e8ab64a428ba80710",
       "value": 2148
      }
     },
     "e632f05c663749b48752109432a25906": {
      "model_module": "@jupyter-widgets/controls",
      "model_module_version": "1.5.0",
      "model_name": "ProgressStyleModel",
      "state": {
       "description_width": "initial"
      }
     },
     "e6a5f8127e0d416088c166f309348a91": {
      "model_module": "@jupyter-widgets/controls",
      "model_module_version": "1.5.0",
      "model_name": "HTMLModel",
      "state": {
       "layout": "IPY_MODEL_e370ddebcde3438caf974579c67e9559",
       "style": "IPY_MODEL_5a8a09d7cccc407284e0e255cb2c7163",
       "value": " 2772/2772 [00:35&lt;00:00, 78.72it/s]"
      }
     },
     "e71300bcff8c4428b9fd3a9fb2f983c7": {
      "model_module": "@jupyter-widgets/controls",
      "model_module_version": "1.5.0",
      "model_name": "HTMLModel",
      "state": {
       "layout": "IPY_MODEL_9d4440411cb1420bafa29f61bf31f6ad",
       "style": "IPY_MODEL_bf68f81af34649e2a12853d769f1793e",
       "value": " 3240/3240 [00:14&lt;00:00, 224.94it/s]"
      }
     },
     "e71c13a4eeff400986d720cac0c6a145": {
      "model_module": "@jupyter-widgets/base",
      "model_module_version": "1.2.0",
      "model_name": "LayoutModel",
      "state": {}
     },
     "e7b4fadb613f4b7fb8b72fccd70b8b48": {
      "model_module": "@jupyter-widgets/controls",
      "model_module_version": "1.5.0",
      "model_name": "ProgressStyleModel",
      "state": {
       "description_width": "initial"
      }
     },
     "e7c58dcf3bec409eaa243f7ecd62bbdb": {
      "model_module": "@jupyter-widgets/controls",
      "model_module_version": "1.5.0",
      "model_name": "FloatProgressModel",
      "state": {
       "bar_style": "success",
       "description": "100%",
       "layout": "IPY_MODEL_e3ba781d2f414483a069915c8cdabaf3",
       "max": 3888,
       "style": "IPY_MODEL_ac9af9619b1840f089e950637d34e7db",
       "value": 3888
      }
     },
     "e7dcf10a8d4049d9ba11df2600a039ae": {
      "model_module": "@jupyter-widgets/controls",
      "model_module_version": "1.5.0",
      "model_name": "FloatProgressModel",
      "state": {
       "bar_style": "success",
       "description": "100%",
       "layout": "IPY_MODEL_96071b8a38ce4cd6a31b5ef44b4d634a",
       "max": 9720,
       "style": "IPY_MODEL_7f79ac9931f346cead7604feb6d3236d",
       "value": 9720
      }
     },
     "e813e6c4612148f2b2424e83e264149d": {
      "model_module": "@jupyter-widgets/controls",
      "model_module_version": "1.5.0",
      "model_name": "ProgressStyleModel",
      "state": {
       "description_width": "initial"
      }
     },
     "e829199fd3e84840974d802e1ae270ad": {
      "model_module": "@jupyter-widgets/controls",
      "model_module_version": "1.5.0",
      "model_name": "DescriptionStyleModel",
      "state": {
       "description_width": ""
      }
     },
     "e844da0db0594cacb3ae97838ab50637": {
      "model_module": "@jupyter-widgets/controls",
      "model_module_version": "1.5.0",
      "model_name": "DescriptionStyleModel",
      "state": {
       "description_width": ""
      }
     },
     "e8ac43ec7a2748ddb536b91fb9bb903e": {
      "model_module": "@jupyter-widgets/controls",
      "model_module_version": "1.5.0",
      "model_name": "FloatProgressModel",
      "state": {
       "bar_style": "success",
       "description": "100%",
       "layout": "IPY_MODEL_58167808025b426c96393e662ab7aa45",
       "max": 33200,
       "style": "IPY_MODEL_91ba22a37a6641a4800882dee9ed4b61",
       "value": 33200
      }
     },
     "e8eb8446347f4186bacdf7c590160771": {
      "model_module": "@jupyter-widgets/base",
      "model_module_version": "1.2.0",
      "model_name": "LayoutModel",
      "state": {}
     },
     "e90dc8db14184d9091f51763b1f6972f": {
      "model_module": "@jupyter-widgets/controls",
      "model_module_version": "1.5.0",
      "model_name": "FloatProgressModel",
      "state": {
       "bar_style": "success",
       "description": "100%",
       "layout": "IPY_MODEL_4ef8f217c9664e1da49848489a7b4edf",
       "max": 6444,
       "style": "IPY_MODEL_71abd9422b2a47b59eaa622d9c720300",
       "value": 6444
      }
     },
     "e9ace82c1d8b450eb2935c4d05a45a5e": {
      "model_module": "@jupyter-widgets/base",
      "model_module_version": "1.2.0",
      "model_name": "LayoutModel",
      "state": {}
     },
     "e9ccd8e1b50d4425802a9a303816f942": {
      "model_module": "@jupyter-widgets/controls",
      "model_module_version": "1.5.0",
      "model_name": "ProgressStyleModel",
      "state": {
       "description_width": "initial"
      }
     },
     "e9d75272d84c4bca9548835b57532903": {
      "model_module": "@jupyter-widgets/controls",
      "model_module_version": "1.5.0",
      "model_name": "FloatProgressModel",
      "state": {
       "bar_style": "success",
       "description": "100%",
       "layout": "IPY_MODEL_2c2cc92602bb4233b290fa14ae0575c7",
       "max": 29920,
       "style": "IPY_MODEL_9c2572359a82409ca2ce82a97a40293c",
       "value": 29920
      }
     },
     "ea90c5d3422144efa961e3d878fc7a1b": {
      "model_module": "@jupyter-widgets/controls",
      "model_module_version": "1.5.0",
      "model_name": "HTMLModel",
      "state": {
       "layout": "IPY_MODEL_26d9ff8febb74d26ae0165e8c10baaac",
       "style": "IPY_MODEL_6a1e81c265cd4dda8ea891a1e7dc2a3d",
       "value": " 1596/1596 [00:02&lt;00:00, 548.45it/s]"
      }
     },
     "eac81f5041dd4ad7a364cd7618a979f9": {
      "model_module": "@jupyter-widgets/controls",
      "model_module_version": "1.5.0",
      "model_name": "ProgressStyleModel",
      "state": {
       "description_width": "initial"
      }
     },
     "eadaa5119bee4514b2a9ab5fe7417202": {
      "model_module": "@jupyter-widgets/base",
      "model_module_version": "1.2.0",
      "model_name": "LayoutModel",
      "state": {}
     },
     "eafc6edc741e4937af9f2adf5c9925ca": {
      "model_module": "@jupyter-widgets/base",
      "model_module_version": "1.2.0",
      "model_name": "LayoutModel",
      "state": {}
     },
     "ebe9bf9d3cca43588b2a7dc63085640c": {
      "model_module": "@jupyter-widgets/controls",
      "model_module_version": "1.5.0",
      "model_name": "DescriptionStyleModel",
      "state": {
       "description_width": ""
      }
     },
     "ebee68234f744ab18bbab9d3101ca2b8": {
      "model_module": "@jupyter-widgets/base",
      "model_module_version": "1.2.0",
      "model_name": "LayoutModel",
      "state": {}
     },
     "ebefc3bb5dbd4bbb8c1a88de5573a817": {
      "model_module": "@jupyter-widgets/controls",
      "model_module_version": "1.5.0",
      "model_name": "ProgressStyleModel",
      "state": {
       "description_width": "initial"
      }
     },
     "eccd316233864bf7920a185febae8073": {
      "model_module": "@jupyter-widgets/controls",
      "model_module_version": "1.5.0",
      "model_name": "HTMLModel",
      "state": {
       "layout": "IPY_MODEL_4fdf16f17f334aa48ccf4a7cfab39bd6",
       "style": "IPY_MODEL_2c85b354832f417aba4fe5b007fded5f",
       "value": " 33900/33900 [02:36&lt;00:00, 215.99it/s]"
      }
     },
     "ed79abdf5152461b80ec410c32e7fb93": {
      "model_module": "@jupyter-widgets/base",
      "model_module_version": "1.2.0",
      "model_name": "LayoutModel",
      "state": {}
     },
     "edbeba3609fa4c649e849dfa9fa0db16": {
      "model_module": "@jupyter-widgets/base",
      "model_module_version": "1.2.0",
      "model_name": "LayoutModel",
      "state": {}
     },
     "edbf83beadfb456ca10d52486d9537d5": {
      "model_module": "@jupyter-widgets/base",
      "model_module_version": "1.2.0",
      "model_name": "LayoutModel",
      "state": {}
     },
     "eddb30774ed84d5b9d0c00c0a4fbee8f": {
      "model_module": "@jupyter-widgets/controls",
      "model_module_version": "1.5.0",
      "model_name": "DescriptionStyleModel",
      "state": {
       "description_width": ""
      }
     },
     "eddbda6982434b03b97f28c8c439552f": {
      "model_module": "@jupyter-widgets/controls",
      "model_module_version": "1.5.0",
      "model_name": "DescriptionStyleModel",
      "state": {
       "description_width": ""
      }
     },
     "edff7659451a46ac90beab3eeda3922a": {
      "model_module": "@jupyter-widgets/controls",
      "model_module_version": "1.5.0",
      "model_name": "HBoxModel",
      "state": {
       "children": [
        "IPY_MODEL_3745e84ff8004a8bb7ddbeb93b385f72",
        "IPY_MODEL_80768af185154cdc89c2de893ccfcf13"
       ],
       "layout": "IPY_MODEL_0131c39efb1340e2aa2e63ffdef72d9e"
      }
     },
     "ee497cd5329f475c85971ae8b061d708": {
      "model_module": "@jupyter-widgets/controls",
      "model_module_version": "1.5.0",
      "model_name": "HBoxModel",
      "state": {
       "children": [
        "IPY_MODEL_03304521db734913a11643cc5c850a3c",
        "IPY_MODEL_93557cf92b7c474f8d364e9b8c9130eb"
       ],
       "layout": "IPY_MODEL_4a8ce27ee069454e9898e4758087673d"
      }
     },
     "ee7ddd85132a49acbcfd272829d4cbfe": {
      "model_module": "@jupyter-widgets/controls",
      "model_module_version": "1.5.0",
      "model_name": "ProgressStyleModel",
      "state": {
       "description_width": "initial"
      }
     },
     "eea4db7099e04a169d40f199db3470be": {
      "model_module": "@jupyter-widgets/controls",
      "model_module_version": "1.5.0",
      "model_name": "HTMLModel",
      "state": {
       "layout": "IPY_MODEL_4210e7d3702c43a7a25632bc8b376566",
       "style": "IPY_MODEL_be4a502a974e4fd4b084ab104127d561",
       "value": " 2148/2148 [00:09&lt;00:00, 224.99it/s]"
      }
     },
     "ef56c917f693402bba53d03ad00643c0": {
      "model_module": "@jupyter-widgets/base",
      "model_module_version": "1.2.0",
      "model_name": "LayoutModel",
      "state": {}
     },
     "ef6d3f6cf1ae414da399b78bbcd3ccf8": {
      "model_module": "@jupyter-widgets/base",
      "model_module_version": "1.2.0",
      "model_name": "LayoutModel",
      "state": {}
     },
     "efbf46ff36914500ba36857fff529b10": {
      "model_module": "@jupyter-widgets/base",
      "model_module_version": "1.2.0",
      "model_name": "LayoutModel",
      "state": {}
     },
     "efc8b9538a354b01bcbbbfa723020ff1": {
      "model_module": "@jupyter-widgets/controls",
      "model_module_version": "1.5.0",
      "model_name": "ProgressStyleModel",
      "state": {
       "description_width": "initial"
      }
     },
     "efe4c6fe1c564445a02120c365d62c53": {
      "model_module": "@jupyter-widgets/controls",
      "model_module_version": "1.5.0",
      "model_name": "HTMLModel",
      "state": {
       "layout": "IPY_MODEL_9b6b4f5d81dd49f08846c815944d6335",
       "style": "IPY_MODEL_cace96cae27b4b47aab573e97abb31b0",
       "value": " 2148/2148 [00:07&lt;00:00, 275.35it/s]"
      }
     },
     "f0782e7c5c434602ac375d75b102fea4": {
      "model_module": "@jupyter-widgets/base",
      "model_module_version": "1.2.0",
      "model_name": "LayoutModel",
      "state": {}
     },
     "f0d0c848c93745eb9619645662b61ec6": {
      "model_module": "@jupyter-widgets/base",
      "model_module_version": "1.2.0",
      "model_name": "LayoutModel",
      "state": {}
     },
     "f12c2f9c259947e1ba9eccb7c29c189f": {
      "model_module": "@jupyter-widgets/base",
      "model_module_version": "1.2.0",
      "model_name": "LayoutModel",
      "state": {}
     },
     "f148848aa7f74f6dbc2fec4e382d1c48": {
      "model_module": "@jupyter-widgets/controls",
      "model_module_version": "1.5.0",
      "model_name": "FloatProgressModel",
      "state": {
       "bar_style": "success",
       "description": "100%",
       "layout": "IPY_MODEL_4a5d5432359e4162b37acc1bfca4cbc7",
       "max": 2772,
       "style": "IPY_MODEL_9d5d5dbf35b444bcbf159b96e74d7437",
       "value": 2772
      }
     },
     "f15f4d57d46a4e9aadecec3bc57be4d0": {
      "model_module": "@jupyter-widgets/controls",
      "model_module_version": "1.5.0",
      "model_name": "HTMLModel",
      "state": {
       "layout": "IPY_MODEL_f3de61aeef934e43810f79766349184a",
       "style": "IPY_MODEL_9cd658e015c34ed5ae137a677ab09cb0",
       "value": " 52260/52260 [03:20&lt;00:00, 260.36it/s]"
      }
     },
     "f19947481a3a49649cc1906add288b6c": {
      "model_module": "@jupyter-widgets/controls",
      "model_module_version": "1.5.0",
      "model_name": "DescriptionStyleModel",
      "state": {
       "description_width": ""
      }
     },
     "f1e84c97b8204184bd4cea453d2e9773": {
      "model_module": "@jupyter-widgets/controls",
      "model_module_version": "1.5.0",
      "model_name": "ProgressStyleModel",
      "state": {
       "description_width": "initial"
      }
     },
     "f22afc2f30714cb8b80f82b299ee1e43": {
      "model_module": "@jupyter-widgets/base",
      "model_module_version": "1.2.0",
      "model_name": "LayoutModel",
      "state": {}
     },
     "f256e431d00f4946a8c86abb2b4a85a5": {
      "model_module": "@jupyter-widgets/base",
      "model_module_version": "1.2.0",
      "model_name": "LayoutModel",
      "state": {}
     },
     "f276b26a634846b580c78859bb8fea0b": {
      "model_module": "@jupyter-widgets/base",
      "model_module_version": "1.2.0",
      "model_name": "LayoutModel",
      "state": {}
     },
     "f27926773aad4b66888f5668ea8300df": {
      "model_module": "@jupyter-widgets/controls",
      "model_module_version": "1.5.0",
      "model_name": "HBoxModel",
      "state": {
       "children": [
        "IPY_MODEL_27cba28eb1c64deeb9553ffdf43f5fb7",
        "IPY_MODEL_91b788b6f2fb4bcb9acf8ea87a80db40"
       ],
       "layout": "IPY_MODEL_90cdcb4d6e604c098b8eb80757de03f4"
      }
     },
     "f28ddf9c48eb42aa870686ac72a67868": {
      "model_module": "@jupyter-widgets/controls",
      "model_module_version": "1.5.0",
      "model_name": "DescriptionStyleModel",
      "state": {
       "description_width": ""
      }
     },
     "f2a9b59007b24a2080726e0e1e363def": {
      "model_module": "@jupyter-widgets/base",
      "model_module_version": "1.2.0",
      "model_name": "LayoutModel",
      "state": {}
     },
     "f2adad47a5f44311b7ac0cc8fdc9ca1a": {
      "model_module": "@jupyter-widgets/controls",
      "model_module_version": "1.5.0",
      "model_name": "DescriptionStyleModel",
      "state": {
       "description_width": ""
      }
     },
     "f3488c136ace462ea45a09650527d5e8": {
      "model_module": "@jupyter-widgets/controls",
      "model_module_version": "1.5.0",
      "model_name": "HTMLModel",
      "state": {
       "layout": "IPY_MODEL_2a94843a845642e0a54f65ed785620ab",
       "style": "IPY_MODEL_60b10989ecde48769e077c36962ce29e",
       "value": " 2772/2772 [00:04&lt;00:00, 581.69it/s]"
      }
     },
     "f37e65fd8993485f9bfc0b451b8e404a": {
      "model_module": "@jupyter-widgets/base",
      "model_module_version": "1.2.0",
      "model_name": "LayoutModel",
      "state": {}
     },
     "f3de61aeef934e43810f79766349184a": {
      "model_module": "@jupyter-widgets/base",
      "model_module_version": "1.2.0",
      "model_name": "LayoutModel",
      "state": {}
     },
     "f40f70be19ee42e7bb72cdede7c0bb94": {
      "model_module": "@jupyter-widgets/base",
      "model_module_version": "1.2.0",
      "model_name": "LayoutModel",
      "state": {}
     },
     "f41e206dc8bd4d6bbab111a831c2e017": {
      "model_module": "@jupyter-widgets/controls",
      "model_module_version": "1.5.0",
      "model_name": "HTMLModel",
      "state": {
       "layout": "IPY_MODEL_a9e4ac9f63e24b90a0e468be7077a171",
       "style": "IPY_MODEL_2ef9aa44a86a4e7e9c0c649125abf141",
       "value": " 6444/6444 [00:10&lt;00:00, 601.25it/s]"
      }
     },
     "f44f5c72b18d43719fbd07cd568d2f5a": {
      "model_module": "@jupyter-widgets/controls",
      "model_module_version": "1.5.0",
      "model_name": "HTMLModel",
      "state": {
       "layout": "IPY_MODEL_bd694a0363874762a0fc5b5930a18dac",
       "style": "IPY_MODEL_eddb30774ed84d5b9d0c00c0a4fbee8f",
       "value": " 29920/29920 [02:14&lt;00:00, 222.57it/s]"
      }
     },
     "f48783d0585f4e229e5bfe90f2dc0b6c": {
      "model_module": "@jupyter-widgets/base",
      "model_module_version": "1.2.0",
      "model_name": "LayoutModel",
      "state": {}
     },
     "f57c54e9d8a848589627dc170d1b7cbb": {
      "model_module": "@jupyter-widgets/controls",
      "model_module_version": "1.5.0",
      "model_name": "HTMLModel",
      "state": {
       "layout": "IPY_MODEL_dce6c15d83d64610953512db804fc0c7",
       "style": "IPY_MODEL_2596267f5b224b159ac9a9d8ee6210b0",
       "value": " 1596/1596 [00:04&lt;00:00, 386.69it/s]"
      }
     },
     "f583c767d32940a7bbbc12d881f52645": {
      "model_module": "@jupyter-widgets/controls",
      "model_module_version": "1.5.0",
      "model_name": "HBoxModel",
      "state": {
       "children": [
        "IPY_MODEL_131b0d7ab2464f169c089b1677636962",
        "IPY_MODEL_37ef31afe59f4eec9690606ee7e35f9c"
       ],
       "layout": "IPY_MODEL_14277a361dd542818792b4d9c79d5050"
      }
     },
     "f5b7c65de0f64d0db8ada9cdd17e22aa": {
      "model_module": "@jupyter-widgets/controls",
      "model_module_version": "1.5.0",
      "model_name": "ProgressStyleModel",
      "state": {
       "description_width": "initial"
      }
     },
     "f6583f87b9674de196ba4ab7ab704bba": {
      "model_module": "@jupyter-widgets/controls",
      "model_module_version": "1.5.0",
      "model_name": "FloatProgressModel",
      "state": {
       "bar_style": "success",
       "description": "100%",
       "layout": "IPY_MODEL_634e833aa9d844f6aedc458f42665fd6",
       "max": 3888,
       "style": "IPY_MODEL_c967a7beffb14fa5ab6e47797613cb3b",
       "value": 3888
      }
     },
     "f67d8a72c884415ba28c5ef9084ae391": {
      "model_module": "@jupyter-widgets/base",
      "model_module_version": "1.2.0",
      "model_name": "LayoutModel",
      "state": {}
     },
     "f680fd0905564f6db09338b0bde8fea3": {
      "model_module": "@jupyter-widgets/controls",
      "model_module_version": "1.5.0",
      "model_name": "DescriptionStyleModel",
      "state": {
       "description_width": ""
      }
     },
     "f6b589ce9eea4f66b74f6949f7a43981": {
      "model_module": "@jupyter-widgets/controls",
      "model_module_version": "1.5.0",
      "model_name": "HBoxModel",
      "state": {
       "children": [
        "IPY_MODEL_5c1ecb7a15f14d0f9d4b02dcc382f466",
        "IPY_MODEL_02d60728d2dc41abb627c0316a56dc48"
       ],
       "layout": "IPY_MODEL_0f5b6ec1ed0e414382c4c2375a191f94"
      }
     },
     "f6dba43158ec409eb9a2ac96c5e625d3": {
      "model_module": "@jupyter-widgets/controls",
      "model_module_version": "1.5.0",
      "model_name": "ProgressStyleModel",
      "state": {
       "description_width": "initial"
      }
     },
     "f7411a5bac864f8e879889867d276550": {
      "model_module": "@jupyter-widgets/controls",
      "model_module_version": "1.5.0",
      "model_name": "FloatProgressModel",
      "state": {
       "bar_style": "success",
       "description": "100%",
       "layout": "IPY_MODEL_d290bd2159164a24be824dce14d65f56",
       "max": 1596,
       "style": "IPY_MODEL_fab48933056747e699f568f0979a3452",
       "value": 1596
      }
     },
     "f75a06bbe1bc44c39bd004a82834f834": {
      "model_module": "@jupyter-widgets/controls",
      "model_module_version": "1.5.0",
      "model_name": "DescriptionStyleModel",
      "state": {
       "description_width": ""
      }
     },
     "f77a94f0eeca4b9297522415832a425e": {
      "model_module": "@jupyter-widgets/base",
      "model_module_version": "1.2.0",
      "model_name": "LayoutModel",
      "state": {}
     },
     "f7b11d8d102c4ef1b0721b666c779abe": {
      "model_module": "@jupyter-widgets/base",
      "model_module_version": "1.2.0",
      "model_name": "LayoutModel",
      "state": {}
     },
     "f7cdd2062d40419ea637d78edb65af1c": {
      "model_module": "@jupyter-widgets/base",
      "model_module_version": "1.2.0",
      "model_name": "LayoutModel",
      "state": {}
     },
     "f812e9f312fb45829704a1d93df9000e": {
      "model_module": "@jupyter-widgets/controls",
      "model_module_version": "1.5.0",
      "model_name": "HTMLModel",
      "state": {
       "layout": "IPY_MODEL_a83af5d786bc4415ab48b6721d244c2d",
       "style": "IPY_MODEL_d604054096f84331b99730b20aa4df35",
       "value": " 2772/2772 [00:09&lt;00:00, 294.77it/s]"
      }
     },
     "f8147e1efad1446baf537dc6337ff29d": {
      "model_module": "@jupyter-widgets/base",
      "model_module_version": "1.2.0",
      "model_name": "LayoutModel",
      "state": {}
     },
     "f8731ee5e849412e85fe965d844bacc6": {
      "model_module": "@jupyter-widgets/controls",
      "model_module_version": "1.5.0",
      "model_name": "HBoxModel",
      "state": {
       "children": [
        "IPY_MODEL_202d1ccc3fa4478ab24a3b77eb1d96a8",
        "IPY_MODEL_5c935a66a59f44c1bc43b8158627ecc3"
       ],
       "layout": "IPY_MODEL_b7b70d8d23aa4b27af11071d8267cfd9"
      }
     },
     "f8eb75d02861417588e24d7e8df9764f": {
      "model_module": "@jupyter-widgets/controls",
      "model_module_version": "1.5.0",
      "model_name": "HBoxModel",
      "state": {
       "children": [
        "IPY_MODEL_cd18ca2c06f447b4a1587c73eb60346b",
        "IPY_MODEL_91901d66c1f74c258ba1e23abac44303"
       ],
       "layout": "IPY_MODEL_bd650161097346bcaf07380175a3c78c"
      }
     },
     "f92e03af62804663b1e15a6e0b744d3f": {
      "model_module": "@jupyter-widgets/controls",
      "model_module_version": "1.5.0",
      "model_name": "DescriptionStyleModel",
      "state": {
       "description_width": ""
      }
     },
     "f9463f977c4e476aaf06f433b7cd52e6": {
      "model_module": "@jupyter-widgets/base",
      "model_module_version": "1.2.0",
      "model_name": "LayoutModel",
      "state": {}
     },
     "f9618ea849b44009abd3f4f5663f2a3c": {
      "model_module": "@jupyter-widgets/controls",
      "model_module_version": "1.5.0",
      "model_name": "HBoxModel",
      "state": {
       "children": [
        "IPY_MODEL_38fe661119764c948bb1db0bdf5cc45d",
        "IPY_MODEL_e71300bcff8c4428b9fd3a9fb2f983c7"
       ],
       "layout": "IPY_MODEL_fbdf905a9a624bdbbd2e8ab4dd7c5bad"
      }
     },
     "f9a5242f8eb949119e086ad3bae062ce": {
      "model_module": "@jupyter-widgets/base",
      "model_module_version": "1.2.0",
      "model_name": "LayoutModel",
      "state": {}
     },
     "f9c9316a71614bcbaa876e84cb26e9b9": {
      "model_module": "@jupyter-widgets/controls",
      "model_module_version": "1.5.0",
      "model_name": "ProgressStyleModel",
      "state": {
       "description_width": "initial"
      }
     },
     "f9fa22d92997405492f0b7072a0fdfee": {
      "model_module": "@jupyter-widgets/controls",
      "model_module_version": "1.5.0",
      "model_name": "ProgressStyleModel",
      "state": {
       "description_width": "initial"
      }
     },
     "fab48933056747e699f568f0979a3452": {
      "model_module": "@jupyter-widgets/controls",
      "model_module_version": "1.5.0",
      "model_name": "ProgressStyleModel",
      "state": {
       "description_width": "initial"
      }
     },
     "fb66e063b2c74633a27c420c6dfae309": {
      "model_module": "@jupyter-widgets/base",
      "model_module_version": "1.2.0",
      "model_name": "LayoutModel",
      "state": {}
     },
     "fbdf905a9a624bdbbd2e8ab4dd7c5bad": {
      "model_module": "@jupyter-widgets/base",
      "model_module_version": "1.2.0",
      "model_name": "LayoutModel",
      "state": {}
     },
     "fbf4d0c55d74456fb35be6ecceb6528b": {
      "model_module": "@jupyter-widgets/base",
      "model_module_version": "1.2.0",
      "model_name": "LayoutModel",
      "state": {}
     },
     "fbfbdffa63804877b7fad06ee59fc574": {
      "model_module": "@jupyter-widgets/controls",
      "model_module_version": "1.5.0",
      "model_name": "ProgressStyleModel",
      "state": {
       "description_width": "initial"
      }
     },
     "fc6860a1b4af4cc29cd84e6ab0044a0c": {
      "model_module": "@jupyter-widgets/controls",
      "model_module_version": "1.5.0",
      "model_name": "HTMLModel",
      "state": {
       "layout": "IPY_MODEL_336618f446c7465fa510772b982f0d7f",
       "style": "IPY_MODEL_3e01a22267bf49299dfc02a0c9f04e08",
       "value": " 33900/33900 [02:37&lt;00:00, 215.41it/s]"
      }
     },
     "fca32c666ed44a57af1be3c1e4a8c740": {
      "model_module": "@jupyter-widgets/controls",
      "model_module_version": "1.5.0",
      "model_name": "ProgressStyleModel",
      "state": {
       "description_width": "initial"
      }
     },
     "fcac08c21c7b4e56830279348e64e148": {
      "model_module": "@jupyter-widgets/controls",
      "model_module_version": "1.5.0",
      "model_name": "HBoxModel",
      "state": {
       "children": [
        "IPY_MODEL_e9d75272d84c4bca9548835b57532903",
        "IPY_MODEL_7fe92746156147e095b5049f18cdfc04"
       ],
       "layout": "IPY_MODEL_48bd9d3b3e304abe9b6e2c1d06cf2f91"
      }
     },
     "fd057953f41944249e7631708fc3aaab": {
      "model_module": "@jupyter-widgets/controls",
      "model_module_version": "1.5.0",
      "model_name": "HBoxModel",
      "state": {
       "children": [
        "IPY_MODEL_7c9f42cb73364ffb8e73cd9164144bd7",
        "IPY_MODEL_e6a5f8127e0d416088c166f309348a91"
       ],
       "layout": "IPY_MODEL_f0782e7c5c434602ac375d75b102fea4"
      }
     },
     "fd0c0a04fb99426f8e1f623831ce1a19": {
      "model_module": "@jupyter-widgets/controls",
      "model_module_version": "1.5.0",
      "model_name": "ProgressStyleModel",
      "state": {
       "description_width": "initial"
      }
     },
     "fd4ce34fcd5d42719aa7ef13711792c0": {
      "model_module": "@jupyter-widgets/base",
      "model_module_version": "1.2.0",
      "model_name": "LayoutModel",
      "state": {}
     },
     "fed50bf018214964b526ca09bbf56411": {
      "model_module": "@jupyter-widgets/controls",
      "model_module_version": "1.5.0",
      "model_name": "HTMLModel",
      "state": {
       "layout": "IPY_MODEL_38e79ec9a7b74b1eb86a49f4fe837217",
       "style": "IPY_MODEL_f75a06bbe1bc44c39bd004a82834f834",
       "value": " 6444/6444 [00:11&lt;00:00, 540.56it/s]"
      }
     },
     "ff5b661f598a4485ad2e29d1d67a3017": {
      "model_module": "@jupyter-widgets/controls",
      "model_module_version": "1.5.0",
      "model_name": "FloatProgressModel",
      "state": {
       "bar_style": "success",
       "description": "100%",
       "layout": "IPY_MODEL_061e7febf7d640a0854588cffe2332aa",
       "max": 29920,
       "style": "IPY_MODEL_b67ea74a01714daa947e9a3e0224a731",
       "value": 29920
      }
     },
     "ff5eb99a254e40f194d7ef71e1d8f64e": {
      "model_module": "@jupyter-widgets/base",
      "model_module_version": "1.2.0",
      "model_name": "LayoutModel",
      "state": {}
     },
     "ff8e488cccfb4608a21998dea152757a": {
      "model_module": "@jupyter-widgets/base",
      "model_module_version": "1.2.0",
      "model_name": "LayoutModel",
      "state": {}
     },
     "ffcda5ef2be54bdcaeba04324297fd6c": {
      "model_module": "@jupyter-widgets/controls",
      "model_module_version": "1.5.0",
      "model_name": "FloatProgressModel",
      "state": {
       "bar_style": "success",
       "description": "100%",
       "layout": "IPY_MODEL_27f418e918704acf9514b7985488e0fa",
       "max": 29920,
       "style": "IPY_MODEL_648571df65584ee0bb8b3e0f5117e041",
       "value": 29920
      }
     }
    },
    "version_major": 2,
    "version_minor": 0
   }
  }
 },
 "nbformat": 4,
 "nbformat_minor": 4
}
