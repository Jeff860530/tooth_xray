{
 "cells": [
  {
   "cell_type": "code",
   "execution_count": 1,
   "metadata": {},
   "outputs": [
    {
     "name": "stdout",
     "output_type": "stream",
     "text": [
      "Num GPUs Available:  2\n"
     ]
    }
   ],
   "source": [
    "import tensorflow as tf\n",
    "print(\"Num GPUs Available: \", len(tf.config.experimental.list_physical_devices('GPU')))"
   ]
  },
  {
   "cell_type": "code",
   "execution_count": 4,
   "metadata": {},
   "outputs": [
    {
     "name": "stdout",
     "output_type": "stream",
     "text": [
      "                                          Image_path  label\n",
      "0  /root/notebooks/0858611-2/tooth_xray/model/700...      2\n",
      "1  /root/notebooks/0858611-2/tooth_xray/model/700...      1\n",
      "2  /root/notebooks/0858611-2/tooth_xray/model/700...      2\n",
      "3  /root/notebooks/0858611-2/tooth_xray/model/700...      2\n",
      "4  /root/notebooks/0858611-2/tooth_xray/model/700...      1\n"
     ]
    }
   ],
   "source": [
    "#prepare training data\n",
    "import pandas as pd\n",
    "train_csv_path = '/root/notebooks/0858611-2/tooth_xray/model/700_700/image_generate_all_rotate/train_label.csv'\n",
    "train_tooth_dataframe = pd.read_csv (train_csv_path)\n",
    "#tooth_dataframe = tooth_dataframe.sort_values(by=['Image_path'][-35:])\n",
    "print (train_tooth_dataframe.head())\n",
    "\n",
    "train_img_path_list = train_tooth_dataframe.Image_path\n",
    "train_img_label_list = train_tooth_dataframe.label\n",
    "\n"
   ]
  },
  {
   "cell_type": "code",
   "execution_count": 18,
   "metadata": {},
   "outputs": [
    {
     "name": "stdout",
     "output_type": "stream",
     "text": [
      "                                          Image_path  label\n",
      "0  /root/notebooks/0858611-2/tooth_xray/model/700...      0\n",
      "1  /root/notebooks/0858611-2/tooth_xray/model/700...      0\n",
      "2  /root/notebooks/0858611-2/tooth_xray/model/700...      2\n",
      "3  /root/notebooks/0858611-2/tooth_xray/model/700...      1\n",
      "4  /root/notebooks/0858611-2/tooth_xray/model/700...      2\n"
     ]
    }
   ],
   "source": [
    "#prepare test data\n",
    "import pandas as pd\n",
    "test_csv_path = '/root/notebooks/0858611-2/tooth_xray/model/700_700/image_generate_all_rotate/test_label.csv'\n",
    "test_tooth_dataframe = pd.read_csv (test_csv_path)\n",
    "#tooth_dataframe = tooth_dataframe.sort_values(by=['Image_path'][-35:])\n",
    "print (test_tooth_dataframe.head())\n",
    "test_img_path_list = test_tooth_dataframe.Image_path\n",
    "test_img_label_list = test_tooth_dataframe.label\n",
    "\n",
    "test_data_array = imgpath_list_to_array_list(test_tooth_dataframe.Image_path)\n",
    "test_label_array = np.array(test_tooth_dataframe.label)"
   ]
  },
  {
   "cell_type": "code",
   "execution_count": 6,
   "metadata": {},
   "outputs": [
    {
     "name": "stdout",
     "output_type": "stream",
     "text": [
      "12400\n",
      "8000\n",
      "3600\n"
     ]
    }
   ],
   "source": [
    "normal_dataframe = train_tooth_dataframe[train_tooth_dataframe.label == 0]\n",
    "medium_dataframe = train_tooth_dataframe[train_tooth_dataframe.label == 1]\n",
    "serious_dataframe = train_tooth_dataframe[train_tooth_dataframe.label == 2]\n",
    "print(len(normal_dataframe))\n",
    "print(len(medium_dataframe))\n",
    "print(len(serious_dataframe))\n",
    "\n",
    "from sklearn.utils import shuffle\n",
    "normal_dataframe = shuffle(normal_dataframe)\n",
    "medium_dataframe = shuffle(medium_dataframe)\n",
    "serious_dataframe = shuffle(serious_dataframe)"
   ]
  },
  {
   "cell_type": "code",
   "execution_count": 7,
   "metadata": {},
   "outputs": [
    {
     "name": "stdout",
     "output_type": "stream",
     "text": [
      "3600\n"
     ]
    }
   ],
   "source": [
    "min_len = min(len(normal_dataframe),len(medium_dataframe),len(serious_dataframe))\n",
    "print(min_len)"
   ]
  },
  {
   "cell_type": "code",
   "execution_count": 8,
   "metadata": {},
   "outputs": [
    {
     "name": "stdout",
     "output_type": "stream",
     "text": [
      "10800\n",
      "                                              Image_path  label\n",
      "3237   /root/notebooks/0858611-2/tooth_xray/model/700...      0\n",
      "749    /root/notebooks/0858611-2/tooth_xray/model/700...      0\n",
      "18459  /root/notebooks/0858611-2/tooth_xray/model/700...      0\n",
      "10069  /root/notebooks/0858611-2/tooth_xray/model/700...      2\n",
      "15896  /root/notebooks/0858611-2/tooth_xray/model/700...      2\n"
     ]
    }
   ],
   "source": [
    "from sklearn.utils import shuffle\n",
    "\n",
    "train_tooth_dataframe = pd.concat([normal_dataframe[:min_len],medium_dataframe[:min_len],serious_dataframe[:min_len]],axis=0)\n",
    "print(len(train_tooth_dataframe))\n",
    "train_tooth_dataframe = shuffle(train_tooth_dataframe)\n",
    "print(train_tooth_dataframe.head())"
   ]
  },
  {
   "cell_type": "code",
   "execution_count": 9,
   "metadata": {},
   "outputs": [],
   "source": [
    "#img to array and resize \n",
    "import cv2\n",
    "import numpy as np\n",
    "import matplotlib.pyplot as plt\n",
    "imgsize = (256,256)\n",
    "\n",
    "def imgpath_list_to_array_list(imgpath_list,imgsize=(256,256)):\n",
    "    array_list = []\n",
    "    for img_path in imgpath_list:\n",
    "        img = cv2.imread(img_path,0)\n",
    "        img = cv2.resize(img,imgsize)\n",
    "        #img = img[:,:,0]\n",
    "        #img = (img-127.5)/127.5\n",
    "        array_list.append(img.reshape(256,256,1))\n",
    "    return np.array(array_list)\n",
    "\n",
    "# def label_list_to_num(train_label):\n",
    "#     label_array = []\n",
    "#     for symptom in train_label:\n",
    "#         if symptom == 'normal':\n",
    "#             label_array.append(0)\n",
    "#         if symptom == 'medium':\n",
    "#             label_array.append(1)\n",
    "#         if symptom == 'serious':\n",
    "#             label_array.append(2)\n",
    "#     return np.array(label_array)\n",
    "\n",
    "train_data_array = imgpath_list_to_array_list(train_tooth_dataframe.Image_path)\n",
    "train_label_array = np.array(train_tooth_dataframe.label)"
   ]
  },
  {
   "cell_type": "code",
   "execution_count": 10,
   "metadata": {},
   "outputs": [
    {
     "name": "stdout",
     "output_type": "stream",
     "text": [
      "(10800, 256, 256, 1)\n",
      "(10800,)\n"
     ]
    }
   ],
   "source": [
    "print(train_data_array.shape)\n",
    "print(train_label_array.shape)"
   ]
  },
  {
   "cell_type": "code",
   "execution_count": null,
   "metadata": {},
   "outputs": [],
   "source": []
  },
  {
   "cell_type": "code",
   "execution_count": null,
   "metadata": {},
   "outputs": [],
   "source": []
  },
  {
   "cell_type": "code",
   "execution_count": 2,
   "metadata": {},
   "outputs": [
    {
     "name": "stdout",
     "output_type": "stream",
     "text": [
      "INFO:tensorflow:Reduce to /job:localhost/replica:0/task:0/device:CPU:0 then broadcast to ('/job:localhost/replica:0/task:0/device:CPU:0',).\n",
      "INFO:tensorflow:Reduce to /job:localhost/replica:0/task:0/device:CPU:0 then broadcast to ('/job:localhost/replica:0/task:0/device:CPU:0',).\n"
     ]
    }
   ],
   "source": [
    "import tensorflow as tf \n",
    "from tensorflow.keras import Model\n",
    "from tensorflow.keras import datasets, layers, models\n",
    "from tensorflow.keras.layers import Conv2D, MaxPooling2D, Flatten, Dense, Input,Dropout\n",
    "\n",
    "\n",
    "def my_convolution_model(input_shape, classes):\n",
    "    inputs=Input(input_shape)\n",
    "    x = Conv2D(32, (3, 3), activation='relu')(inputs)\n",
    "    x = MaxPooling2D((2, 2))(x)\n",
    "    x = Conv2D(64, (3, 3), activation='relu')(x)\n",
    "    x = MaxPooling2D((2, 2))(x)\n",
    "    x = Conv2D(128, (3, 3), activation='relu')(x)\n",
    "    x = MaxPooling2D((2, 2))(x)\n",
    "    x = Conv2D(256, (3, 3), activation='relu')(x)\n",
    "    x = MaxPooling2D((2, 2))(x)\n",
    "    x = Flatten()(x)\n",
    "    x = Dense(2048, activation='relu')(x)\n",
    "    x = Dropout(0.3)(x)\n",
    "    x = Dense(512, activation='relu')(x)\n",
    "    x = Dropout(0.3)(x)\n",
    "    x = Dense(64, activation='relu')(x)\n",
    "    x = Dropout(0.3)(x)\n",
    "    x = Dense(classes)(x)\n",
    "    model = Model(inputs, x)\n",
    "    model.compile(optimizer='adam',\n",
    "          loss=tf.keras.losses.SparseCategoricalCrossentropy(from_logits=True),\n",
    "          metrics=['accuracy'])\n",
    "    return model\n",
    "\n",
    "input_shape= (256,256,1)\n",
    "classes    = 3\n",
    "batch_size = 128\n",
    "epochs     = 30\n",
    "\n",
    "mirrored_strategy = tf.distribute.MirroredStrategy(devices=[\"/gpu:0\", \"/gpu:1\"])\n",
    "with mirrored_strategy.scope():\n",
    "    model_convolution = my_convolution_model(input_shape, classes)"
   ]
  },
  {
   "cell_type": "code",
   "execution_count": 3,
   "metadata": {},
   "outputs": [
    {
     "name": "stdout",
     "output_type": "stream",
     "text": [
      "Model: \"model\"\n",
      "_________________________________________________________________\n",
      "Layer (type)                 Output Shape              Param #   \n",
      "=================================================================\n",
      "input_1 (InputLayer)         [(None, 256, 256, 1)]     0         \n",
      "_________________________________________________________________\n",
      "conv2d (Conv2D)              (None, 254, 254, 32)      320       \n",
      "_________________________________________________________________\n",
      "max_pooling2d (MaxPooling2D) (None, 127, 127, 32)      0         \n",
      "_________________________________________________________________\n",
      "conv2d_1 (Conv2D)            (None, 125, 125, 64)      18496     \n",
      "_________________________________________________________________\n",
      "max_pooling2d_1 (MaxPooling2 (None, 62, 62, 64)        0         \n",
      "_________________________________________________________________\n",
      "conv2d_2 (Conv2D)            (None, 60, 60, 128)       73856     \n",
      "_________________________________________________________________\n",
      "max_pooling2d_2 (MaxPooling2 (None, 30, 30, 128)       0         \n",
      "_________________________________________________________________\n",
      "conv2d_3 (Conv2D)            (None, 28, 28, 256)       295168    \n",
      "_________________________________________________________________\n",
      "max_pooling2d_3 (MaxPooling2 (None, 14, 14, 256)       0         \n",
      "_________________________________________________________________\n",
      "flatten (Flatten)            (None, 50176)             0         \n",
      "_________________________________________________________________\n",
      "dense (Dense)                (None, 2048)              102762496 \n",
      "_________________________________________________________________\n",
      "dropout (Dropout)            (None, 2048)              0         \n",
      "_________________________________________________________________\n",
      "dense_1 (Dense)              (None, 512)               1049088   \n",
      "_________________________________________________________________\n",
      "dropout_1 (Dropout)          (None, 512)               0         \n",
      "_________________________________________________________________\n",
      "dense_2 (Dense)              (None, 64)                32832     \n",
      "_________________________________________________________________\n",
      "dropout_2 (Dropout)          (None, 64)                0         \n",
      "_________________________________________________________________\n",
      "dense_3 (Dense)              (None, 3)                 195       \n",
      "=================================================================\n",
      "Total params: 104,232,451\n",
      "Trainable params: 104,232,451\n",
      "Non-trainable params: 0\n",
      "_________________________________________________________________\n"
     ]
    }
   ],
   "source": [
    "model_convolution.summary()"
   ]
  },
  {
   "cell_type": "code",
   "execution_count": 11,
   "metadata": {},
   "outputs": [
    {
     "name": "stdout",
     "output_type": "stream",
     "text": [
      "Have 10800 data, 9720 for training , 1080 for validation\n"
     ]
    }
   ],
   "source": [
    "data_to_train_rate = 0.9\n",
    "data_to_validation_rate = 0.1\n",
    "train_unms = int(len(train_label_array)*data_to_train_rate)\n",
    "print('Have {} data, {} for training , {} for validation'\n",
    "      .format(len(train_label_array),train_unms,len(train_label_array)-train_unms))"
   ]
  },
  {
   "cell_type": "code",
   "execution_count": 12,
   "metadata": {},
   "outputs": [
    {
     "name": "stdout",
     "output_type": "stream",
     "text": [
      "Train on 9720 samples, validate on 1080 samples\n",
      "Epoch 1/30\n",
      "INFO:tensorflow:batch_all_reduce: 16 all-reduces with algorithm = nccl, num_packs = 1, agg_small_grads_max_bytes = 0 and agg_small_grads_max_group = 10\n",
      "INFO:tensorflow:Reduce to /job:localhost/replica:0/task:0/device:CPU:0 then broadcast to ('/job:localhost/replica:0/task:0/device:CPU:0',).\n",
      "INFO:tensorflow:Reduce to /job:localhost/replica:0/task:0/device:CPU:0 then broadcast to ('/job:localhost/replica:0/task:0/device:CPU:0',).\n",
      "INFO:tensorflow:Reduce to /job:localhost/replica:0/task:0/device:CPU:0 then broadcast to ('/job:localhost/replica:0/task:0/device:CPU:0',).\n",
      "INFO:tensorflow:Reduce to /job:localhost/replica:0/task:0/device:CPU:0 then broadcast to ('/job:localhost/replica:0/task:0/device:CPU:0',).\n",
      "INFO:tensorflow:batch_all_reduce: 16 all-reduces with algorithm = nccl, num_packs = 1, agg_small_grads_max_bytes = 0 and agg_small_grads_max_group = 10\n",
      "INFO:tensorflow:Reduce to /job:localhost/replica:0/task:0/device:CPU:0 then broadcast to ('/job:localhost/replica:0/task:0/device:CPU:0',).\n",
      "INFO:tensorflow:Reduce to /job:localhost/replica:0/task:0/device:CPU:0 then broadcast to ('/job:localhost/replica:0/task:0/device:CPU:0',).\n",
      "INFO:tensorflow:Reduce to /job:localhost/replica:0/task:0/device:CPU:0 then broadcast to ('/job:localhost/replica:0/task:0/device:CPU:0',).\n",
      "INFO:tensorflow:Reduce to /job:localhost/replica:0/task:0/device:CPU:0 then broadcast to ('/job:localhost/replica:0/task:0/device:CPU:0',).\n",
      "9720/9720 [==============================] - 21s 2ms/sample - loss: 1.8932 - accuracy: 0.3958 - val_loss: 1.0404 - val_accuracy: 0.4843\n",
      "Epoch 2/30\n",
      "9720/9720 [==============================] - 8s 777us/sample - loss: 1.0049 - accuracy: 0.5002 - val_loss: 0.9640 - val_accuracy: 0.5241\n",
      "Epoch 3/30\n",
      "9720/9720 [==============================] - 8s 801us/sample - loss: 0.8843 - accuracy: 0.5891 - val_loss: 0.8248 - val_accuracy: 0.6315\n",
      "Epoch 4/30\n",
      "9720/9720 [==============================] - 8s 803us/sample - loss: 0.7185 - accuracy: 0.6792 - val_loss: 0.6461 - val_accuracy: 0.7130\n",
      "Epoch 5/30\n",
      "9720/9720 [==============================] - 8s 795us/sample - loss: 0.5272 - accuracy: 0.7766 - val_loss: 0.5557 - val_accuracy: 0.7722\n",
      "Epoch 6/30\n",
      "9720/9720 [==============================] - 8s 778us/sample - loss: 0.4040 - accuracy: 0.8372 - val_loss: 0.4438 - val_accuracy: 0.8259\n",
      "Epoch 7/30\n",
      "9720/9720 [==============================] - 8s 795us/sample - loss: 0.2800 - accuracy: 0.8895 - val_loss: 0.3136 - val_accuracy: 0.8704\n",
      "Epoch 8/30\n",
      "9720/9720 [==============================] - 8s 780us/sample - loss: 0.2124 - accuracy: 0.9225 - val_loss: 0.3166 - val_accuracy: 0.8880\n",
      "Epoch 9/30\n",
      "9720/9720 [==============================] - 8s 775us/sample - loss: 0.1745 - accuracy: 0.9404 - val_loss: 0.2888 - val_accuracy: 0.8981\n",
      "Epoch 10/30\n",
      "9720/9720 [==============================] - 7s 770us/sample - loss: 0.1359 - accuracy: 0.9565 - val_loss: 0.2457 - val_accuracy: 0.9204\n",
      "Epoch 11/30\n",
      "9720/9720 [==============================] - 7s 769us/sample - loss: 0.1121 - accuracy: 0.9629 - val_loss: 0.2375 - val_accuracy: 0.9139\n",
      "Epoch 12/30\n",
      "9720/9720 [==============================] - 8s 777us/sample - loss: 0.0927 - accuracy: 0.9709 - val_loss: 0.2391 - val_accuracy: 0.9185\n",
      "Epoch 13/30\n",
      "9720/9720 [==============================] - 8s 782us/sample - loss: 0.0727 - accuracy: 0.9759 - val_loss: 0.2911 - val_accuracy: 0.9278\n",
      "Epoch 14/30\n",
      "9720/9720 [==============================] - 7s 766us/sample - loss: 0.0564 - accuracy: 0.9823 - val_loss: 0.3299 - val_accuracy: 0.9111\n",
      "Epoch 15/30\n",
      "9720/9720 [==============================] - 7s 761us/sample - loss: 0.0624 - accuracy: 0.9793 - val_loss: 0.2923 - val_accuracy: 0.9352\n",
      "Epoch 16/30\n",
      "9720/9720 [==============================] - 7s 762us/sample - loss: 0.0474 - accuracy: 0.9866 - val_loss: 0.2400 - val_accuracy: 0.9250\n",
      "Epoch 17/30\n",
      "9720/9720 [==============================] - 8s 772us/sample - loss: 0.0533 - accuracy: 0.9846 - val_loss: 0.2286 - val_accuracy: 0.9315\n",
      "Epoch 18/30\n",
      "9720/9720 [==============================] - 8s 791us/sample - loss: 0.0557 - accuracy: 0.9829 - val_loss: 0.2812 - val_accuracy: 0.9306\n",
      "Epoch 19/30\n",
      "9720/9720 [==============================] - 7s 766us/sample - loss: 0.0348 - accuracy: 0.9895 - val_loss: 0.2510 - val_accuracy: 0.9426\n",
      "Epoch 20/30\n",
      "9720/9720 [==============================] - 7s 764us/sample - loss: 0.0362 - accuracy: 0.9897 - val_loss: 0.2658 - val_accuracy: 0.9407\n",
      "Epoch 21/30\n",
      "9720/9720 [==============================] - 8s 781us/sample - loss: 0.0377 - accuracy: 0.9900 - val_loss: 0.2160 - val_accuracy: 0.9389\n",
      "Epoch 22/30\n",
      "9720/9720 [==============================] - 8s 780us/sample - loss: 0.0313 - accuracy: 0.9905 - val_loss: 0.2326 - val_accuracy: 0.9444\n",
      "Epoch 23/30\n",
      "9720/9720 [==============================] - 7s 765us/sample - loss: 0.0170 - accuracy: 0.9951 - val_loss: 0.2541 - val_accuracy: 0.9500\n",
      "Epoch 24/30\n",
      "9720/9720 [==============================] - 7s 761us/sample - loss: 0.0222 - accuracy: 0.9930 - val_loss: 0.2420 - val_accuracy: 0.9546\n",
      "Epoch 25/30\n",
      "9720/9720 [==============================] - 8s 786us/sample - loss: 0.0376 - accuracy: 0.9894 - val_loss: 0.2280 - val_accuracy: 0.9426\n",
      "Epoch 26/30\n",
      "9720/9720 [==============================] - 8s 781us/sample - loss: 0.0253 - accuracy: 0.9922 - val_loss: 0.2180 - val_accuracy: 0.9417\n",
      "Epoch 27/30\n",
      "9720/9720 [==============================] - 7s 767us/sample - loss: 0.0346 - accuracy: 0.9908 - val_loss: 0.2758 - val_accuracy: 0.9398\n",
      "Epoch 28/30\n",
      "9720/9720 [==============================] - 8s 778us/sample - loss: 0.0218 - accuracy: 0.9923 - val_loss: 0.2339 - val_accuracy: 0.9500\n",
      "Epoch 29/30\n",
      "9720/9720 [==============================] - 8s 795us/sample - loss: 0.0335 - accuracy: 0.9913 - val_loss: 0.1855 - val_accuracy: 0.9546\n",
      "Epoch 30/30\n",
      "9720/9720 [==============================] - 7s 764us/sample - loss: 0.0263 - accuracy: 0.9921 - val_loss: 0.2007 - val_accuracy: 0.9593\n"
     ]
    }
   ],
   "source": [
    "history = model_convolution.fit(train_data_array[:train_unms], train_label_array[:train_unms], epochs=epochs, \n",
    "                     validation_data=(train_data_array[train_unms:], train_label_array[train_unms:]),shuffle=True,batch_size = batch_size)"
   ]
  },
  {
   "cell_type": "code",
   "execution_count": 14,
   "metadata": {},
   "outputs": [
    {
     "name": "stdout",
     "output_type": "stream",
     "text": [
      "WARNING:tensorflow:From /opt/conda/lib/python3.6/site-packages/tensorflow_core/python/ops/resource_variable_ops.py:1781: calling BaseResourceVariable.__init__ (from tensorflow.python.ops.resource_variable_ops) with constraint is deprecated and will be removed in a future version.\n",
      "Instructions for updating:\n",
      "If using Keras pass *_constraint arguments to layers.\n",
      "INFO:tensorflow:Assets written to: /root/notebooks/0858611-2/tooth_xray/model/700_700/image_generate_all_rotate/model_weight/assets\n"
     ]
    }
   ],
   "source": [
    "modelpredict = my_convolution_model(input_shape, classes)\n",
    "\n",
    "weights = model_convolution.get_weights()\n",
    "modelpredict.set_weights(weights)\n",
    "modelpredict.save('/root/notebooks/0858611-2/tooth_xray/model/700_700/image_generate_all_rotate/model_weight')"
   ]
  },
  {
   "cell_type": "code",
   "execution_count": 16,
   "metadata": {},
   "outputs": [
    {
     "name": "stdout",
     "output_type": "stream",
     "text": [
      "1080/1 - 2s - loss: 0.1041 - accuracy: 0.9593\n"
     ]
    },
    {
     "data": {
      "image/png": "[encoded data removed]",
      "text/plain": [
       "<Figure size 432x288 with 1 Axes>"
      ]
     },
     "metadata": {
      "needs_background": "light"
     },
     "output_type": "display_data"
    }
   ],
   "source": [
    "import matplotlib.pyplot as plt\n",
    "\n",
    "plt.plot(history.history['accuracy'], label='accuracy')\n",
    "plt.plot(history.history['val_accuracy'], label = 'val_accuracy')\n",
    "plt.xlabel('Epoch')\n",
    "plt.ylabel('Accuracy')\n",
    "plt.ylim([0.5, 1])\n",
    "plt.legend(loc='lower right')\n",
    "\n",
    "test_loss, test_acc = model_convolution.evaluate(train_data_array[train_unms:],  train_label_array[train_unms:], verbose=2)"
   ]
  },
  {
   "cell_type": "code",
   "execution_count": 17,
   "metadata": {},
   "outputs": [
    {
     "name": "stdout",
     "output_type": "stream",
     "text": [
      "1080/1 - 1s - loss: 0.1041 - accuracy: 0.9593\n"
     ]
    },
    {
     "data": {
      "text/plain": [
       "[0.20067767298400954, 0.9592593]"
      ]
     },
     "execution_count": 17,
     "metadata": {},
     "output_type": "execute_result"
    }
   ],
   "source": [
    "model_convolution.evaluate(train_data_array[train_unms:],  train_label_array[train_unms:], verbose=2)"
   ]
  },
  {
   "cell_type": "code",
   "execution_count": null,
   "metadata": {},
   "outputs": [],
   "source": []
  },
  {
   "cell_type": "code",
   "execution_count": 20,
   "metadata": {},
   "outputs": [],
   "source": [
    "#prediction "
   ]
  },
  {
   "cell_type": "code",
   "execution_count": 21,
   "metadata": {},
   "outputs": [],
   "source": [
    "from sklearn.metrics import confusion_matrix\n",
    "import pandas as pd\n",
    "\n",
    "def recall_accuracy_rate(test_data_array,test_label_array,model):\n",
    "    model_predict =[]\n",
    "    for img in test_data_array:\n",
    "        reshape = img.reshape(1,256,256,1)\n",
    "        image = tf.cast(reshape, tf.float32)\n",
    "        model_predict.append(np.argmax(model.predict(image)))\n",
    "        \n",
    "    matrix = confusion_matrix(test_label_array, model_predict)\n",
    "    matrix_split = np.split(matrix,3,axis=1)\n",
    "    print('column:* is prediction result')\n",
    "    print('row*: is real class')\n",
    "    dict = {\n",
    "            \"class:0\":matrix_split[0].reshape(3),\n",
    "            \"class:1\":matrix_split[1].reshape(3),\n",
    "            \"class:2\":matrix_split[2].reshape(3)\n",
    "           }\n",
    "    \n",
    "    predict_table = pd.DataFrame(dict)\n",
    "    return predict_table,matrix"
   ]
  },
  {
   "cell_type": "code",
   "execution_count": 22,
   "metadata": {},
   "outputs": [],
   "source": [
    "def precision(label, confusion_matrix):\n",
    "    col = confusion_matrix[:, label]\n",
    "    return confusion_matrix[label, label] / col.sum()\n",
    "    \n",
    "def recall(label, confusion_matrix):\n",
    "    row = confusion_matrix[label, :]\n",
    "    return confusion_matrix[label, label] / row.sum()"
   ]
  },
  {
   "cell_type": "code",
   "execution_count": null,
   "metadata": {},
   "outputs": [],
   "source": []
  },
  {
   "cell_type": "code",
   "execution_count": 23,
   "metadata": {},
   "outputs": [
    {
     "name": "stdout",
     "output_type": "stream",
     "text": [
      "column:* is prediction result\n",
      "row*: is real class\n",
      "The class:0 precision is 66.9544% in 3244 prediction and recall is 59.6703% in 3640 sample\n",
      "\n",
      "The class:1 precision is 22.0930% in 1720 prediction and recall is 33.9286% in 1120 sample\n",
      "\n",
      "The class:2 precision is 26.8293% in 656 prediction and recall is 20.4651% in 860 sample\n",
      "\n"
     ]
    }
   ],
   "source": [
    "#testing data\n",
    "predict_table1,matrix1 = recall_accuracy_rate(test_data_array,test_label_array,modelpredict)\n",
    "for i in range(len(predict_table1.columns)):\n",
    "    p = precision(i,matrix1)\n",
    "    r = recall(i,matrix1) \n",
    "    print('The {} precision is {:.4f}% in {} prediction and recall is {:.4f}% in {} sample'\n",
    "          .format(predict_table1.columns[i],p*100,matrix1[:,i].sum(),r*100,matrix1[i, :].sum()))\n",
    "    print()"
   ]
  },
  {
   "cell_type": "code",
   "execution_count": 24,
   "metadata": {},
   "outputs": [
    {
     "data": {
      "text/html": [
       "<div>\n",
       "<style scoped>\n",
       "    .dataframe tbody tr th:only-of-type {\n",
       "        vertical-align: middle;\n",
       "    }\n",
       "\n",
       "    .dataframe tbody tr th {\n",
       "        vertical-align: top;\n",
       "    }\n",
       "\n",
       "    .dataframe thead th {\n",
       "        text-align: right;\n",
       "    }\n",
       "</style>\n",
       "<table border=\"1\" class=\"dataframe\">\n",
       "  <thead>\n",
       "    <tr style=\"text-align: right;\">\n",
       "      <th></th>\n",
       "      <th>class:0</th>\n",
       "      <th>class:1</th>\n",
       "      <th>class:2</th>\n",
       "    </tr>\n",
       "  </thead>\n",
       "  <tbody>\n",
       "    <tr>\n",
       "      <th>0</th>\n",
       "      <td>2172</td>\n",
       "      <td>1056</td>\n",
       "      <td>412</td>\n",
       "    </tr>\n",
       "    <tr>\n",
       "      <th>1</th>\n",
       "      <td>672</td>\n",
       "      <td>380</td>\n",
       "      <td>68</td>\n",
       "    </tr>\n",
       "    <tr>\n",
       "      <th>2</th>\n",
       "      <td>400</td>\n",
       "      <td>284</td>\n",
       "      <td>176</td>\n",
       "    </tr>\n",
       "  </tbody>\n",
       "</table>\n",
       "</div>"
      ],
      "text/plain": [
       "   class:0  class:1  class:2\n",
       "0     2172     1056      412\n",
       "1      672      380       68\n",
       "2      400      284      176"
      ]
     },
     "execution_count": 24,
     "metadata": {},
     "output_type": "execute_result"
    }
   ],
   "source": [
    "predict_table1.head()"
   ]
  },
  {
   "cell_type": "code",
   "execution_count": 2,
   "metadata": {},
   "outputs": [],
   "source": [
    "import cv2\n",
    "import matplotlib.pyplot as plt"
   ]
  },
  {
   "cell_type": "code",
   "execution_count": null,
   "metadata": {},
   "outputs": [],
   "source": []
  },
  {
   "cell_type": "code",
   "execution_count": null,
   "metadata": {},
   "outputs": [],
   "source": []
  },
  {
   "cell_type": "code",
   "execution_count": null,
   "metadata": {},
   "outputs": [],
   "source": []
  }
 ],
 "metadata": {
  "kernelspec": {
   "display_name": "Python 3",
   "language": "python",
   "name": "python3"
  },
  "language_info": {
   "codemirror_mode": {
    "name": "ipython",
    "version": 3
   },
   "file_extension": ".py",
   "mimetype": "text/x-python",
   "name": "python",
   "nbconvert_exporter": "python",
   "pygments_lexer": "ipython3",
   "version": "3.6.7"
  },
  "widgets": {
   "application/vnd.jupyter.widget-state+json": {
    "state": {},
    "version_major": 2,
    "version_minor": 0
   }
  }
 },
 "nbformat": 4,
 "nbformat_minor": 4
}
