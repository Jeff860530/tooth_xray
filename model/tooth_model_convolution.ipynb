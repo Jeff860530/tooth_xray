{
 "cells": [
  {
   "cell_type": "code",
   "execution_count": 1,
   "metadata": {},
   "outputs": [
    {
     "name": "stdout",
     "output_type": "stream",
     "text": [
      "Num GPUs Available:  2\n"
     ]
    }
   ],
   "source": [
    "import tensorflow as tf\n",
    "print(\"Num GPUs Available: \", len(tf.config.experimental.list_physical_devices('GPU')))"
   ]
  },
  {
   "cell_type": "code",
   "execution_count": 2,
   "metadata": {},
   "outputs": [],
   "source": [
    "import json \n",
    "json_dir = '/root/notebooks/0858611-2/tooth_xray/model/all_tooth_data_set/mapping.json'\n",
    "with open(json_dir) as json_file:\n",
    "    json_data = json.load(json_file)\n",
    "    "
   ]
  },
  {
   "cell_type": "code",
   "execution_count": 3,
   "metadata": {},
   "outputs": [],
   "source": [
    "def get_level(mean):\n",
    "    if mean>=0 and mean<=2:\n",
    "        return 'normal'\n",
    "    elif mean>=3 and mean<=4:\n",
    "        return 'medium'\n",
    "    elif mean>4:\n",
    "        return 'serious'\n",
    "    else:\n",
    "        return 'over_range'"
   ]
  },
  {
   "cell_type": "code",
   "execution_count": 4,
   "metadata": {},
   "outputs": [
    {
     "name": "stdout",
     "output_type": "stream",
     "text": [
      "Dataset/Images/037621_12_.png None\n",
      "Dataset/Images/037621_13_.png None\n",
      "Dataset/Images/037621_26_.png None\n",
      "Dataset/Images/037621_25_.png None\n",
      "Dataset/Images/039462_14_.png None\n",
      "Dataset/Images/039462_22_.png None\n",
      "Dataset/Images/039462_21_.png None\n"
     ]
    }
   ],
   "source": [
    "from statistics import mean\n",
    "import pandas as pd\n",
    "img_path = []\n",
    "img_cal = []\n",
    "img_cal_mean = []\n",
    "img_cal_level = []\n",
    "\n",
    "for key in json_data:\n",
    "    try:\n",
    "        new_path = key.replace(\"Dataset/Images\", \"/root/notebooks/0858611-2/tooth_xray/model/all_tooth_data_set/Images\")\n",
    "        mean_cal = int(mean(json_data[key]))\n",
    "        img_cal_level.append(get_level(mean_cal))\n",
    "        img_cal_mean.append(str(mean_cal))\n",
    "        img_path.append(new_path)\n",
    "        img_cal.append(json_data[key])\n",
    "    except:\n",
    "        print(key,json_data[key])\n",
    "        pass\n",
    "    "
   ]
  },
  {
   "cell_type": "code",
   "execution_count": 5,
   "metadata": {},
   "outputs": [
    {
     "name": "stdout",
     "output_type": "stream",
     "text": [
      "1506\n",
      "1506\n",
      "1506\n",
      "1506\n",
      "699\n",
      "346\n",
      "109\n"
     ]
    }
   ],
   "source": [
    "print(len(img_path))\n",
    "print(len(img_cal))\n",
    "print(len(img_cal_mean))\n",
    "print(len(img_cal_level))\n",
    "print(img_cal_level.count('normal'))\n",
    "print(img_cal_level.count('medium'))\n",
    "print(img_cal_level.count('serious'))"
   ]
  },
  {
   "cell_type": "code",
   "execution_count": 6,
   "metadata": {},
   "outputs": [
    {
     "name": "stdout",
     "output_type": "stream",
     "text": [
      "                                          image_path img_cal img_cal_mean  \\\n",
      "0  /root/notebooks/0858611-2/tooth_xray/model/all...  [5, 3]            4   \n",
      "1  /root/notebooks/0858611-2/tooth_xray/model/all...  [3, 4]            3   \n",
      "2  /root/notebooks/0858611-2/tooth_xray/model/all...  [7, 9]            8   \n",
      "3  /root/notebooks/0858611-2/tooth_xray/model/all...  [4, 5]            4   \n",
      "4  /root/notebooks/0858611-2/tooth_xray/model/all...  [4, 3]            3   \n",
      "\n",
      "  img_cal_level  \n",
      "0        medium  \n",
      "1        medium  \n",
      "2       serious  \n",
      "3        medium  \n",
      "4        medium  \n"
     ]
    }
   ],
   "source": [
    "import pandas as pd\n",
    "\n",
    "dict = {\"image_path\": img_path,  \n",
    "        \"img_cal\": img_cal,\n",
    "        \"img_cal_mean\":img_cal_mean,\n",
    "        \"img_cal_level\":img_cal_level\n",
    "       }\n",
    "\n",
    "tooth_dataframe = pd.DataFrame(dict)\n",
    "print(tooth_dataframe.head())"
   ]
  },
  {
   "cell_type": "code",
   "execution_count": 7,
   "metadata": {},
   "outputs": [
    {
     "name": "stdout",
     "output_type": "stream",
     "text": [
      "                                          image_path img_cal img_cal_mean  \\\n",
      "0  /root/notebooks/0858611-2/tooth_xray/model/all...  [5, 3]            4   \n",
      "1  /root/notebooks/0858611-2/tooth_xray/model/all...  [3, 4]            3   \n",
      "2  /root/notebooks/0858611-2/tooth_xray/model/all...  [7, 9]            8   \n",
      "3  /root/notebooks/0858611-2/tooth_xray/model/all...  [4, 5]            4   \n",
      "4  /root/notebooks/0858611-2/tooth_xray/model/all...  [4, 3]            3   \n",
      "\n",
      "  img_cal_level  \n",
      "0        medium  \n",
      "1        medium  \n",
      "2       serious  \n",
      "3        medium  \n",
      "4        medium  \n"
     ]
    }
   ],
   "source": [
    "tooth_dataframe = tooth_dataframe[tooth_dataframe.img_cal_level != 'over_range']\n",
    "\n",
    "normal_dataframe = tooth_dataframe[tooth_dataframe.img_cal_level == 'normal']\n",
    "medium_dataframe = tooth_dataframe[tooth_dataframe.img_cal_level == 'medium']\n",
    "serious_dataframe = tooth_dataframe[tooth_dataframe.img_cal_level == 'serious']\n",
    "print(tooth_dataframe[:5])"
   ]
  },
  {
   "cell_type": "code",
   "execution_count": 8,
   "metadata": {},
   "outputs": [
    {
     "name": "stdout",
     "output_type": "stream",
     "text": [
      "(1154, 256, 256, 3)\n",
      "(1154,)\n"
     ]
    }
   ],
   "source": [
    "#img to array and resize \n",
    "import cv2\n",
    "import numpy as np\n",
    "\n",
    "def imgpath_list_to_array_list(imgpath_list,imgsize=(256,256)):\n",
    "    array_list = []\n",
    "    for img_path in imgpath_list:\n",
    "        img = cv2.imread(img_path)\n",
    "        img = cv2.resize(img,imgsize)\n",
    "        #img = (img-127.5)/127.5\n",
    "        array_list.append(img)\n",
    "    return np.array(array_list)\n",
    "\n",
    "def label_list_to_num(train_label):\n",
    "    label_array = []\n",
    "    for symptom in train_label:\n",
    "        if symptom == 'normal':\n",
    "            label_array.append(0)\n",
    "        if symptom == 'medium':\n",
    "            label_array.append(1)\n",
    "        if symptom == 'serious':\n",
    "            label_array.append(2)\n",
    "    return np.array(label_array)\n",
    "\n",
    "train_data_array = imgpath_list_to_array_list(tooth_dataframe.image_path)\n",
    "train_label_array = label_list_to_num(tooth_dataframe.img_cal_level)\n",
    "\n",
    "normal_data_array = imgpath_list_to_array_list(normal_dataframe.image_path)\n",
    "normal_label_array = label_list_to_num(normal_dataframe.img_cal_level)\n",
    "medium_data_array = imgpath_list_to_array_list(medium_dataframe.image_path)\n",
    "medium_label_array= label_list_to_num(medium_dataframe.img_cal_level)\n",
    "serious_data_array = imgpath_list_to_array_list(serious_dataframe.image_path)\n",
    "serious_label_array = label_list_to_num(serious_dataframe.img_cal_level)\n",
    "\n",
    "\n",
    "print(train_data_array.shape)\n",
    "print(train_label_array.shape)"
   ]
  },
  {
   "cell_type": "code",
   "execution_count": 9,
   "metadata": {},
   "outputs": [],
   "source": [
    "# for i in range(100):\n",
    "#     maxtest = normal_data_array[i].reshape(256*256*3,1)\n",
    "#     print(max(maxtest))\n",
    "#     print(min(maxtest))"
   ]
  },
  {
   "cell_type": "code",
   "execution_count": 10,
   "metadata": {},
   "outputs": [
    {
     "name": "stdout",
     "output_type": "stream",
     "text": [
      "Model: \"sequential\"\n",
      "_________________________________________________________________\n",
      "Layer (type)                 Output Shape              Param #   \n",
      "=================================================================\n",
      "conv2d (Conv2D)              (None, 254, 254, 32)      896       \n",
      "_________________________________________________________________\n",
      "max_pooling2d (MaxPooling2D) (None, 127, 127, 32)      0         \n",
      "_________________________________________________________________\n",
      "conv2d_1 (Conv2D)            (None, 125, 125, 64)      18496     \n",
      "_________________________________________________________________\n",
      "max_pooling2d_1 (MaxPooling2 (None, 62, 62, 64)        0         \n",
      "_________________________________________________________________\n",
      "conv2d_2 (Conv2D)            (None, 60, 60, 128)       73856     \n",
      "_________________________________________________________________\n",
      "max_pooling2d_2 (MaxPooling2 (None, 30, 30, 128)       0         \n",
      "_________________________________________________________________\n",
      "flatten (Flatten)            (None, 115200)            0         \n",
      "_________________________________________________________________\n",
      "dense (Dense)                (None, 2048)              235931648 \n",
      "_________________________________________________________________\n",
      "dropout (Dropout)            (None, 2048)              0         \n",
      "_________________________________________________________________\n",
      "dense_1 (Dense)              (None, 512)               1049088   \n",
      "_________________________________________________________________\n",
      "dropout_1 (Dropout)          (None, 512)               0         \n",
      "_________________________________________________________________\n",
      "dense_2 (Dense)              (None, 64)                32832     \n",
      "_________________________________________________________________\n",
      "dense_3 (Dense)              (None, 3)                 195       \n",
      "=================================================================\n",
      "Total params: 237,107,011\n",
      "Trainable params: 237,107,011\n",
      "Non-trainable params: 0\n",
      "_________________________________________________________________\n"
     ]
    }
   ],
   "source": [
    "import tensorflow as tf\n",
    "\n",
    "from tensorflow.keras import datasets, layers, models\n",
    "import matplotlib.pyplot as plt\n",
    "\n",
    "model1 = models.Sequential()\n",
    "model1.add(layers.Conv2D(32, (3, 3), activation='relu', input_shape=(256,256, 3)))\n",
    "model1.add(layers.MaxPooling2D((2, 2)))\n",
    "model1.add(layers.Conv2D(64, (3, 3), activation='relu'))\n",
    "model1.add(layers.MaxPooling2D((2, 2)))\n",
    "model1.add(layers.Conv2D(128, (3, 3), activation='relu'))\n",
    "model1.add(layers.MaxPooling2D((2, 2)))\n",
    "model1.add(layers.Flatten())\n",
    "model1.add(layers.Dense(2048, activation='relu'))\n",
    "model1.add(layers.Dropout(0.3))\n",
    "model1.add(layers.Dense(512, activation='relu'))\n",
    "model1.add(layers.Dropout(0.3))\n",
    "model1.add(layers.Dense(64, activation='relu'))\n",
    "model1.add(layers.Dense(3))\n",
    "model1.summary()"
   ]
  },
  {
   "cell_type": "code",
   "execution_count": 11,
   "metadata": {},
   "outputs": [],
   "source": [
    "model1.compile(optimizer='adam',\n",
    "              loss=tf.keras.losses.SparseCategoricalCrossentropy(from_logits=True),\n",
    "              metrics=['accuracy'])"
   ]
  },
  {
   "cell_type": "code",
   "execution_count": 12,
   "metadata": {},
   "outputs": [
    {
     "name": "stdout",
     "output_type": "stream",
     "text": [
      "Train on 1000 samples, validate on 154 samples\n",
      "Epoch 1/30\n",
      "1000/1000 [==============================] - 6s 6ms/sample - loss: 66.2643 - accuracy: 0.4850 - val_loss: 1.0001 - val_accuracy: 0.6883\n",
      "Epoch 2/30\n",
      "1000/1000 [==============================] - 1s 1ms/sample - loss: 0.9254 - accuracy: 0.5930 - val_loss: 0.9834 - val_accuracy: 0.6753\n",
      "Epoch 3/30\n",
      "1000/1000 [==============================] - 1s 1ms/sample - loss: 0.8673 - accuracy: 0.6000 - val_loss: 0.9727 - val_accuracy: 0.6818\n",
      "Epoch 4/30\n",
      "1000/1000 [==============================] - 1s 1ms/sample - loss: 0.8124 - accuracy: 0.6250 - val_loss: 0.9609 - val_accuracy: 0.6818\n",
      "Epoch 5/30\n",
      "1000/1000 [==============================] - 1s 1ms/sample - loss: 0.6887 - accuracy: 0.6900 - val_loss: 0.9964 - val_accuracy: 0.6948\n",
      "Epoch 6/30\n",
      "1000/1000 [==============================] - 1s 1ms/sample - loss: 0.5736 - accuracy: 0.7650 - val_loss: 1.0426 - val_accuracy: 0.6429\n",
      "Epoch 7/30\n",
      "1000/1000 [==============================] - 1s 1ms/sample - loss: 0.4213 - accuracy: 0.8320 - val_loss: 1.3980 - val_accuracy: 0.6234\n",
      "Epoch 8/30\n",
      "1000/1000 [==============================] - 1s 1ms/sample - loss: 0.3096 - accuracy: 0.8800 - val_loss: 1.6633 - val_accuracy: 0.5844\n",
      "Epoch 9/30\n",
      "1000/1000 [==============================] - 1s 1ms/sample - loss: 0.3011 - accuracy: 0.8950 - val_loss: 2.1440 - val_accuracy: 0.6299\n",
      "Epoch 10/30\n",
      "1000/1000 [==============================] - 1s 1ms/sample - loss: 0.2590 - accuracy: 0.9120 - val_loss: 1.6580 - val_accuracy: 0.5325\n",
      "Epoch 11/30\n",
      "1000/1000 [==============================] - 1s 1ms/sample - loss: 0.1900 - accuracy: 0.9310 - val_loss: 1.5962 - val_accuracy: 0.6169\n",
      "Epoch 12/30\n",
      "1000/1000 [==============================] - 1s 1ms/sample - loss: 0.1572 - accuracy: 0.9450 - val_loss: 2.3665 - val_accuracy: 0.5519\n",
      "Epoch 13/30\n",
      "1000/1000 [==============================] - 2s 2ms/sample - loss: 0.1705 - accuracy: 0.9500 - val_loss: 2.1919 - val_accuracy: 0.6039\n",
      "Epoch 14/30\n",
      "1000/1000 [==============================] - 2s 2ms/sample - loss: 0.1131 - accuracy: 0.9650 - val_loss: 2.4472 - val_accuracy: 0.5649\n",
      "Epoch 15/30\n",
      "1000/1000 [==============================] - 2s 2ms/sample - loss: 0.1914 - accuracy: 0.9420 - val_loss: 2.2188 - val_accuracy: 0.5325\n",
      "Epoch 16/30\n",
      "1000/1000 [==============================] - 1s 1ms/sample - loss: 0.1073 - accuracy: 0.9650 - val_loss: 2.7041 - val_accuracy: 0.5455\n",
      "Epoch 17/30\n",
      "1000/1000 [==============================] - 2s 2ms/sample - loss: 0.1536 - accuracy: 0.9560 - val_loss: 2.5969 - val_accuracy: 0.5649\n",
      "Epoch 18/30\n",
      "1000/1000 [==============================] - 1s 1ms/sample - loss: 0.0875 - accuracy: 0.9740 - val_loss: 2.2346 - val_accuracy: 0.5584\n",
      "Epoch 19/30\n",
      "1000/1000 [==============================] - 2s 2ms/sample - loss: 0.0649 - accuracy: 0.9780 - val_loss: 3.3576 - val_accuracy: 0.4935\n",
      "Epoch 20/30\n",
      "1000/1000 [==============================] - 2s 2ms/sample - loss: 0.0350 - accuracy: 0.9880 - val_loss: 3.1459 - val_accuracy: 0.5130\n",
      "Epoch 21/30\n",
      "1000/1000 [==============================] - 2s 2ms/sample - loss: 0.0476 - accuracy: 0.9830 - val_loss: 3.7368 - val_accuracy: 0.4675\n",
      "Epoch 22/30\n",
      "1000/1000 [==============================] - 1s 1ms/sample - loss: 0.0992 - accuracy: 0.9760 - val_loss: 3.0880 - val_accuracy: 0.5195\n",
      "Epoch 23/30\n",
      "1000/1000 [==============================] - 1s 1ms/sample - loss: 0.1054 - accuracy: 0.9760 - val_loss: 2.4535 - val_accuracy: 0.5390\n",
      "Epoch 24/30\n",
      "1000/1000 [==============================] - 1s 1ms/sample - loss: 0.0710 - accuracy: 0.9700 - val_loss: 2.8889 - val_accuracy: 0.5455\n",
      "Epoch 25/30\n",
      "1000/1000 [==============================] - 1s 1ms/sample - loss: 0.0568 - accuracy: 0.9900 - val_loss: 2.5672 - val_accuracy: 0.5130\n",
      "Epoch 26/30\n",
      "1000/1000 [==============================] - 1s 1ms/sample - loss: 0.0487 - accuracy: 0.9850 - val_loss: 2.9937 - val_accuracy: 0.5195\n",
      "Epoch 27/30\n",
      "1000/1000 [==============================] - 2s 2ms/sample - loss: 0.0410 - accuracy: 0.9860 - val_loss: 3.3080 - val_accuracy: 0.5325\n",
      "Epoch 28/30\n",
      "1000/1000 [==============================] - 2s 2ms/sample - loss: 0.0839 - accuracy: 0.9800 - val_loss: 3.5928 - val_accuracy: 0.5519\n",
      "Epoch 29/30\n",
      "1000/1000 [==============================] - 1s 1ms/sample - loss: 0.0482 - accuracy: 0.9900 - val_loss: 3.7428 - val_accuracy: 0.5065\n",
      "Epoch 30/30\n",
      "1000/1000 [==============================] - 2s 2ms/sample - loss: 0.0441 - accuracy: 0.9880 - val_loss: 3.3507 - val_accuracy: 0.5390\n"
     ]
    }
   ],
   "source": [
    "history = model1.fit(train_data_array[:1000], train_label_array[:1000], epochs=30, \n",
    "                    validation_data=(train_data_array[1000:], train_label_array[1000:]),shuffle=True)"
   ]
  },
  {
   "cell_type": "code",
   "execution_count": 13,
   "metadata": {},
   "outputs": [
    {
     "name": "stdout",
     "output_type": "stream",
     "text": [
      "154/1 - 0s - loss: 3.1751 - accuracy: 0.5390\n"
     ]
    },
    {
     "data": {
      "image/png": "[encoded data removed]",
      "text/plain": [
       "<Figure size 432x288 with 1 Axes>"
      ]
     },
     "metadata": {
      "needs_background": "light"
     },
     "output_type": "display_data"
    }
   ],
   "source": [
    "plt.plot(history.history['accuracy'], label='accuracy')\n",
    "plt.plot(history.history['val_accuracy'], label = 'val_accuracy')\n",
    "plt.xlabel('Epoch')\n",
    "plt.ylabel('Accuracy')\n",
    "plt.ylim([0.5, 1])\n",
    "plt.legend(loc='lower right')\n",
    "\n",
    "test_loss, test_acc = model1.evaluate(train_data_array[1000:],  train_label_array[1000:], verbose=2)"
   ]
  },
  {
   "cell_type": "code",
   "execution_count": 14,
   "metadata": {},
   "outputs": [
    {
     "name": "stdout",
     "output_type": "stream",
     "text": [
      "154/1 - 0s - loss: 3.1751 - accuracy: 0.5390\n"
     ]
    },
    {
     "data": {
      "text/plain": [
       "[3.3506722233512183, 0.53896105]"
      ]
     },
     "execution_count": 14,
     "metadata": {},
     "output_type": "execute_result"
    }
   ],
   "source": [
    "model1.evaluate(train_data_array[1000:],  train_label_array[1000:], verbose=2)"
   ]
  },
  {
   "cell_type": "code",
   "execution_count": 15,
   "metadata": {},
   "outputs": [
    {
     "name": "stdout",
     "output_type": "stream",
     "text": [
      "following is recall rate\n",
      "\n",
      "# Evaluate on normal_data\n",
      "699/1 - 0s - loss: 1.6293 - accuracy: 0.9514\n",
      "\n",
      "# Evaluate on medium_data\n",
      "346/1 - 0s - loss: 0.7144 - accuracy: 0.9538\n",
      "\n",
      "# Evaluate on serious_data\n",
      "109/1 - 0s - loss: 4.6267 - accuracy: 0.7431\n"
     ]
    },
    {
     "data": {
      "text/plain": [
       "[2.436886237618095, 0.74311924]"
      ]
     },
     "execution_count": 15,
     "metadata": {},
     "output_type": "execute_result"
    }
   ],
   "source": [
    "print('following is recall rate')\n",
    "print('\\n# Evaluate on normal_data')\n",
    "model1.evaluate(normal_data_array,normal_label_array, verbose=2)\n",
    "\n",
    "print('\\n# Evaluate on medium_data')\n",
    "model1.evaluate(medium_data_array,medium_label_array, verbose=2)\n",
    "\n",
    "print('\\n# Evaluate on serious_data')\n",
    "model1.evaluate(serious_data_array,serious_label_array, verbose=2)"
   ]
  },
  {
   "cell_type": "code",
   "execution_count": 16,
   "metadata": {},
   "outputs": [],
   "source": [
    "#recall rate"
   ]
  },
  {
   "cell_type": "code",
   "execution_count": 17,
   "metadata": {},
   "outputs": [],
   "source": [
    "model_predict =[]\n",
    "for img in train_data_array:\n",
    "    reshape = img.reshape(1,256,256,3)\n",
    "    image = tf.cast(reshape, tf.float32)\n",
    "    model_predict.append(np.argmax(model1.predict(image)))"
   ]
  },
  {
   "cell_type": "code",
   "execution_count": 18,
   "metadata": {},
   "outputs": [],
   "source": [
    "# def recall_rate(model_predict_array,test_label_array):\n",
    "#     target_set = set(train_label_array)\n",
    "#     correct = []\n",
    "#     for index,actually_label in enumerate(test_label_array):\n",
    "#         if model_predict_array[index] == actually_label:\n",
    "#             correct.append(actually_label)\n",
    "            \n",
    "#     for target in target_set:\n",
    "#         print('The target {} recall rate is {} %'.format(target,correct.count(target)/list(test_label_array).count(target))) \n",
    "#         print('The target {} training accuracy is {} %'.format(target,correct.count(target)/list(model_predict_array).count(target)))"
   ]
  },
  {
   "cell_type": "code",
   "execution_count": 19,
   "metadata": {},
   "outputs": [],
   "source": [
    "#recall_rate(model_predict,train_label_array)"
   ]
  },
  {
   "cell_type": "code",
   "execution_count": 29,
   "metadata": {},
   "outputs": [
    {
     "name": "stdout",
     "output_type": "stream",
     "text": [
      "[[665  32   2]\n",
      " [ 15 330   1]\n",
      " [ 18  10  81]]\n",
      "[array([[665],\n",
      "       [ 15],\n",
      "       [ 18]]), array([[ 32],\n",
      "       [330],\n",
      "       [ 10]]), array([[ 2],\n",
      "       [ 1],\n",
      "       [81]])]\n"
     ]
    }
   ],
   "source": [
    "from sklearn.metrics import confusion_matrix\n",
    "matrix = confusion_matrix(train_label_array, model_predict)\n",
    "print(matrix)\n",
    "matrix_split = np.split(matrix,3,axis=1)\n",
    "print(matrix_split)"
   ]
  },
  {
   "cell_type": "code",
   "execution_count": 33,
   "metadata": {},
   "outputs": [
    {
     "name": "stdout",
     "output_type": "stream",
     "text": [
      "(3, 1)\n"
     ]
    }
   ],
   "source": [
    "print(matrix_split[0].shape)"
   ]
  },
  {
   "cell_type": "code",
   "execution_count": 36,
   "metadata": {},
   "outputs": [
    {
     "name": "stdout",
     "output_type": "stream",
     "text": [
      "   class:0  class:1  class:2\n",
      "0      665       32        2\n",
      "1       15      330        1\n",
      "2       18       10       81\n"
     ]
    }
   ],
   "source": [
    "import pandas as pd\n",
    "\n",
    "dict = {#\"\": img_path,\n",
    "        \"class:0\":matrix_split[0].reshape(3),\n",
    "        \"class:1\":matrix_split[1].reshape(3),\n",
    "        \"class:2\":matrix_split[2].reshape(3)\n",
    "       }\n",
    "\n",
    "predict_table = pd.DataFrame(dict)\n",
    "print(predict_table.head())"
   ]
  },
  {
   "cell_type": "code",
   "execution_count": null,
   "metadata": {},
   "outputs": [],
   "source": []
  }
 ],
 "metadata": {
  "kernelspec": {
   "display_name": "Python 3",
   "language": "python",
   "name": "python3"
  },
  "language_info": {
   "codemirror_mode": {
    "name": "ipython",
    "version": 3
   },
   "file_extension": ".py",
   "mimetype": "text/x-python",
   "name": "python",
   "nbconvert_exporter": "python",
   "pygments_lexer": "ipython3",
   "version": "3.6.7"
  },
  "widgets": {
   "application/vnd.jupyter.widget-state+json": {
    "state": {},
    "version_major": 2,
    "version_minor": 0
   }
  }
 },
 "nbformat": 4,
 "nbformat_minor": 4
}
