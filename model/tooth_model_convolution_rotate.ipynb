{
 "cells": [
  {
   "cell_type": "code",
   "execution_count": 1,
   "metadata": {},
   "outputs": [
    {
     "name": "stdout",
     "output_type": "stream",
     "text": [
      "Num GPUs Available:  2\n"
     ]
    }
   ],
   "source": [
    "import tensorflow as tf\n",
    "print(\"Num GPUs Available: \", len(tf.config.experimental.list_physical_devices('GPU')))"
   ]
  },
  {
   "cell_type": "code",
   "execution_count": 2,
   "metadata": {},
   "outputs": [
    {
     "name": "stdout",
     "output_type": "stream",
     "text": [
      "                                              Image_path  label\n",
      "1492   /root/notebooks/0858611-2/tooth_xray/model/700...      1\n",
      "10198  /root/notebooks/0858611-2/tooth_xray/model/700...      1\n",
      "7759   /root/notebooks/0858611-2/tooth_xray/model/700...      1\n",
      "15     /root/notebooks/0858611-2/tooth_xray/model/700...      1\n",
      "4067   /root/notebooks/0858611-2/tooth_xray/model/700...      1\n"
     ]
    }
   ],
   "source": [
    "import pandas as pd\n",
    "csv_path = '/root/notebooks/0858611-2/tooth_xray/model/700_700/image_generate_all_rotate/output.csv'\n",
    "tooth_dataframe = pd.read_csv (csv_path)\n",
    "tooth_dataframe = tooth_dataframe.sort_values(by=['Image_path'][-35:])\n",
    "print (tooth_dataframe.head())"
   ]
  },
  {
   "cell_type": "code",
   "execution_count": 3,
   "metadata": {},
   "outputs": [],
   "source": [
    "img_path_list = tooth_dataframe.Image_path\n",
    "img_label_list = tooth_dataframe.label"
   ]
  },
  {
   "cell_type": "code",
   "execution_count": 4,
   "metadata": {},
   "outputs": [
    {
     "name": "stdout",
     "output_type": "stream",
     "text": [
      "6867\n",
      "3949\n",
      "1933\n"
     ]
    }
   ],
   "source": [
    "normal_dataframe = tooth_dataframe[tooth_dataframe.label == 0]\n",
    "medium_dataframe = tooth_dataframe[tooth_dataframe.label == 1]\n",
    "serious_dataframe = tooth_dataframe[tooth_dataframe.label == 2]\n",
    "print(len(normal_dataframe))\n",
    "print(len(medium_dataframe))\n",
    "print(len(serious_dataframe))\n",
    " "
   ]
  },
  {
   "cell_type": "code",
   "execution_count": 5,
   "metadata": {},
   "outputs": [
    {
     "name": "stdout",
     "output_type": "stream",
     "text": [
      "(1933, 2)\n"
     ]
    }
   ],
   "source": [
    "import numpy as np\n",
    "a = np.array(serious_dataframe)\n",
    "print(a.shape)"
   ]
  },
  {
   "cell_type": "code",
   "execution_count": 6,
   "metadata": {},
   "outputs": [
    {
     "name": "stdout",
     "output_type": "stream",
     "text": [
      "(12749, 256, 256, 1)\n",
      "(12749,)\n"
     ]
    }
   ],
   "source": [
    "#img to array and resize \n",
    "import cv2\n",
    "import numpy as np\n",
    "import matplotlib.pyplot as plt\n",
    "imgsize = (256,256)\n",
    "\n",
    "def imgpath_list_to_array_list(imgpath_list,imgsize=(256,256)):\n",
    "    array_list = []\n",
    "    for img_path in imgpath_list:\n",
    "        img = cv2.imread(img_path,0)\n",
    "        img = cv2.resize(img,imgsize)\n",
    "        #img = img[:,:,0]\n",
    "        #img = (img-127.5)/127.5\n",
    "        array_list.append(img.reshape(256,256,1))\n",
    "    return np.array(array_list)\n",
    "\n",
    "# def label_list_to_num(train_label):\n",
    "#     label_array = []\n",
    "#     for symptom in train_label:\n",
    "#         if symptom == 'normal':\n",
    "#             label_array.append(0)\n",
    "#         if symptom == 'medium':\n",
    "#             label_array.append(1)\n",
    "#         if symptom == 'serious':\n",
    "#             label_array.append(2)\n",
    "#     return np.array(label_array)\n",
    "\n",
    "train_data_array = imgpath_list_to_array_list(tooth_dataframe.Image_path)\n",
    "train_label_array = np.array(tooth_dataframe.label)\n",
    "\n",
    "normal_data_array = imgpath_list_to_array_list(normal_dataframe.Image_path)\n",
    "normal_label_array = np.array(normal_dataframe.label)\n",
    "medium_data_array = imgpath_list_to_array_list(medium_dataframe.Image_path)\n",
    "medium_label_array= np.array(medium_dataframe.label)\n",
    "serious_data_array = imgpath_list_to_array_list(serious_dataframe.Image_path)\n",
    "serious_label_array = np.array(serious_dataframe.label)\n",
    "\n",
    "\n",
    "print(train_data_array.shape)\n",
    "print(train_label_array.shape)\n"
   ]
  },
  {
   "cell_type": "code",
   "execution_count": 7,
   "metadata": {},
   "outputs": [
    {
     "name": "stdout",
     "output_type": "stream",
     "text": [
      "12749\n"
     ]
    }
   ],
   "source": [
    "print(len(train_label_array))"
   ]
  },
  {
   "cell_type": "code",
   "execution_count": null,
   "metadata": {},
   "outputs": [],
   "source": []
  },
  {
   "cell_type": "code",
   "execution_count": null,
   "metadata": {},
   "outputs": [],
   "source": []
  },
  {
   "cell_type": "code",
   "execution_count": 9,
   "metadata": {},
   "outputs": [
    {
     "name": "stdout",
     "output_type": "stream",
     "text": [
      "INFO:tensorflow:Reduce to /job:localhost/replica:0/task:0/device:CPU:0 then broadcast to ('/job:localhost/replica:0/task:0/device:CPU:0',).\n",
      "INFO:tensorflow:Reduce to /job:localhost/replica:0/task:0/device:CPU:0 then broadcast to ('/job:localhost/replica:0/task:0/device:CPU:0',).\n"
     ]
    }
   ],
   "source": [
    "from tensorflow.keras import Model\n",
    "from tensorflow.keras import datasets, layers, models\n",
    "from tensorflow.keras.layers import Conv2D, MaxPooling2D, Flatten, Dense, Input,Dropout\n",
    "\n",
    "\n",
    "def my_convolution_model(input_shape, classes):\n",
    "    inputs=Input(input_shape)\n",
    "    x = Conv2D(32, (3, 3), activation='relu')(inputs)\n",
    "    x = MaxPooling2D((2, 2))(x)\n",
    "    x = Conv2D(64, (3, 3), activation='relu')(x)\n",
    "    x = MaxPooling2D((2, 2))(x)\n",
    "    x = Conv2D(128, (3, 3), activation='relu')(x)\n",
    "    x = MaxPooling2D((2, 2))(x)\n",
    "    x = Conv2D(256, (3, 3), activation='relu')(x)\n",
    "    x = MaxPooling2D((2, 2))(x)\n",
    "    x = Flatten()(x)\n",
    "    x = Dense(2048, activation='relu')(x)\n",
    "    x = Dropout(0.3)(x)\n",
    "    x = Dense(512, activation='relu')(x)\n",
    "    x = Dropout(0.3)(x)\n",
    "    x = Dense(64, activation='relu')(x)\n",
    "    x = Dropout(0.3)(x)\n",
    "    x = Dense(classes)(x)\n",
    "    model = Model(inputs, x)\n",
    "    model.compile(optimizer='adam',\n",
    "          loss=tf.keras.losses.SparseCategoricalCrossentropy(from_logits=True),\n",
    "          metrics=['accuracy'])\n",
    "    return model\n",
    "\n",
    "input_shape= (256,256,1)\n",
    "classes    = 3\n",
    "batch_size = 128\n",
    "epochs     = 30\n",
    "\n",
    "mirrored_strategy = tf.distribute.MirroredStrategy(devices=[\"/gpu:0\", \"/gpu:1\"])\n",
    "with mirrored_strategy.scope():\n",
    "    model_convolution = my_convolution_model(input_shape, classes)"
   ]
  },
  {
   "cell_type": "code",
   "execution_count": 10,
   "metadata": {},
   "outputs": [
    {
     "name": "stdout",
     "output_type": "stream",
     "text": [
      "Model: \"model\"\n",
      "_________________________________________________________________\n",
      "Layer (type)                 Output Shape              Param #   \n",
      "=================================================================\n",
      "input_1 (InputLayer)         [(None, 256, 256, 1)]     0         \n",
      "_________________________________________________________________\n",
      "conv2d (Conv2D)              (None, 254, 254, 32)      320       \n",
      "_________________________________________________________________\n",
      "max_pooling2d (MaxPooling2D) (None, 127, 127, 32)      0         \n",
      "_________________________________________________________________\n",
      "conv2d_1 (Conv2D)            (None, 125, 125, 64)      18496     \n",
      "_________________________________________________________________\n",
      "max_pooling2d_1 (MaxPooling2 (None, 62, 62, 64)        0         \n",
      "_________________________________________________________________\n",
      "conv2d_2 (Conv2D)            (None, 60, 60, 128)       73856     \n",
      "_________________________________________________________________\n",
      "max_pooling2d_2 (MaxPooling2 (None, 30, 30, 128)       0         \n",
      "_________________________________________________________________\n",
      "conv2d_3 (Conv2D)            (None, 28, 28, 256)       295168    \n",
      "_________________________________________________________________\n",
      "max_pooling2d_3 (MaxPooling2 (None, 14, 14, 256)       0         \n",
      "_________________________________________________________________\n",
      "flatten (Flatten)            (None, 50176)             0         \n",
      "_________________________________________________________________\n",
      "dense (Dense)                (None, 2048)              102762496 \n",
      "_________________________________________________________________\n",
      "dropout (Dropout)            (None, 2048)              0         \n",
      "_________________________________________________________________\n",
      "dense_1 (Dense)              (None, 512)               1049088   \n",
      "_________________________________________________________________\n",
      "dropout_1 (Dropout)          (None, 512)               0         \n",
      "_________________________________________________________________\n",
      "dense_2 (Dense)              (None, 64)                32832     \n",
      "_________________________________________________________________\n",
      "dropout_2 (Dropout)          (None, 64)                0         \n",
      "_________________________________________________________________\n",
      "dense_3 (Dense)              (None, 3)                 195       \n",
      "=================================================================\n",
      "Total params: 104,232,451\n",
      "Trainable params: 104,232,451\n",
      "Non-trainable params: 0\n",
      "_________________________________________________________________\n"
     ]
    }
   ],
   "source": [
    "model_convolution.summary()"
   ]
  },
  {
   "cell_type": "code",
   "execution_count": 11,
   "metadata": {},
   "outputs": [
    {
     "name": "stdout",
     "output_type": "stream",
     "text": [
      "Have 12749 data, 11474 for training , 892 for validation, 383 for testing\n"
     ]
    }
   ],
   "source": [
    "data_to_train_rate = 0.9\n",
    "data_to_validation_rate = 0.07\n",
    "data_to_test_rate =0.03\n",
    "train_unms = int(len(train_label_array)*data_to_train_rate)\n",
    "validation_nums = int(len(train_label_array)*data_to_validation_rate)\n",
    "print('Have {} data, {} for training , {} for validation, {} for testing'\n",
    "      .format(len(train_label_array),train_unms,validation_nums,len(train_label_array)-train_unms-validation_nums))"
   ]
  },
  {
   "cell_type": "code",
   "execution_count": 12,
   "metadata": {},
   "outputs": [
    {
     "name": "stdout",
     "output_type": "stream",
     "text": [
      "Train on 11474 samples, validate on 892 samples\n",
      "Epoch 1/30\n",
      "INFO:tensorflow:batch_all_reduce: 16 all-reduces with algorithm = nccl, num_packs = 1, agg_small_grads_max_bytes = 0 and agg_small_grads_max_group = 10\n",
      "INFO:tensorflow:Reduce to /job:localhost/replica:0/task:0/device:CPU:0 then broadcast to ('/job:localhost/replica:0/task:0/device:CPU:0',).\n",
      "INFO:tensorflow:Reduce to /job:localhost/replica:0/task:0/device:CPU:0 then broadcast to ('/job:localhost/replica:0/task:0/device:CPU:0',).\n",
      "INFO:tensorflow:Reduce to /job:localhost/replica:0/task:0/device:CPU:0 then broadcast to ('/job:localhost/replica:0/task:0/device:CPU:0',).\n",
      "INFO:tensorflow:Reduce to /job:localhost/replica:0/task:0/device:CPU:0 then broadcast to ('/job:localhost/replica:0/task:0/device:CPU:0',).\n",
      "INFO:tensorflow:batch_all_reduce: 16 all-reduces with algorithm = nccl, num_packs = 1, agg_small_grads_max_bytes = 0 and agg_small_grads_max_group = 10\n",
      "INFO:tensorflow:Reduce to /job:localhost/replica:0/task:0/device:CPU:0 then broadcast to ('/job:localhost/replica:0/task:0/device:CPU:0',).\n",
      "INFO:tensorflow:Reduce to /job:localhost/replica:0/task:0/device:CPU:0 then broadcast to ('/job:localhost/replica:0/task:0/device:CPU:0',).\n",
      "INFO:tensorflow:Reduce to /job:localhost/replica:0/task:0/device:CPU:0 then broadcast to ('/job:localhost/replica:0/task:0/device:CPU:0',).\n",
      "INFO:tensorflow:Reduce to /job:localhost/replica:0/task:0/device:CPU:0 then broadcast to ('/job:localhost/replica:0/task:0/device:CPU:0',).\n",
      "11474/11474 [==============================] - 23s 2ms/sample - loss: 3.4608 - accuracy: 0.5075 - val_loss: 0.8527 - val_accuracy: 0.6670\n",
      "Epoch 2/30\n",
      "11474/11474 [==============================] - 9s 809us/sample - loss: 0.9133 - accuracy: 0.5701 - val_loss: 0.8965 - val_accuracy: 0.6244\n",
      "Epoch 3/30\n",
      "11474/11474 [==============================] - 9s 799us/sample - loss: 0.7598 - accuracy: 0.6587 - val_loss: 1.0276 - val_accuracy: 0.5930\n",
      "Epoch 4/30\n",
      "11474/11474 [==============================] - 9s 798us/sample - loss: 0.5568 - accuracy: 0.7604 - val_loss: 1.1584 - val_accuracy: 0.5415\n",
      "Epoch 5/30\n",
      "11474/11474 [==============================] - 9s 800us/sample - loss: 0.3636 - accuracy: 0.8544 - val_loss: 1.4119 - val_accuracy: 0.6020\n",
      "Epoch 6/30\n",
      "11474/11474 [==============================] - 9s 787us/sample - loss: 0.2369 - accuracy: 0.9089 - val_loss: 1.9458 - val_accuracy: 0.5123\n",
      "Epoch 7/30\n",
      "11474/11474 [==============================] - 9s 793us/sample - loss: 0.1751 - accuracy: 0.9372 - val_loss: 1.9019 - val_accuracy: 0.5583\n",
      "Epoch 8/30\n",
      "11474/11474 [==============================] - 9s 794us/sample - loss: 0.1181 - accuracy: 0.9603 - val_loss: 2.0979 - val_accuracy: 0.5830\n",
      "Epoch 9/30\n",
      "11474/11474 [==============================] - 9s 792us/sample - loss: 0.0997 - accuracy: 0.9686 - val_loss: 2.6099 - val_accuracy: 0.4933\n",
      "Epoch 10/30\n",
      "11474/11474 [==============================] - 9s 766us/sample - loss: 0.0749 - accuracy: 0.9758 - val_loss: 2.9661 - val_accuracy: 0.5785\n",
      "Epoch 11/30\n",
      "11474/11474 [==============================] - 9s 777us/sample - loss: 0.0618 - accuracy: 0.9805 - val_loss: 2.9474 - val_accuracy: 0.5448\n",
      "Epoch 12/30\n",
      "11474/11474 [==============================] - 9s 785us/sample - loss: 0.0583 - accuracy: 0.9841 - val_loss: 3.0130 - val_accuracy: 0.5482\n",
      "Epoch 13/30\n",
      "11474/11474 [==============================] - 9s 772us/sample - loss: 0.0527 - accuracy: 0.9836 - val_loss: 3.2224 - val_accuracy: 0.4798\n",
      "Epoch 14/30\n",
      "11474/11474 [==============================] - 9s 779us/sample - loss: 0.0571 - accuracy: 0.9830 - val_loss: 3.0281 - val_accuracy: 0.5841\n",
      "Epoch 15/30\n",
      "11474/11474 [==============================] - 9s 790us/sample - loss: 0.0293 - accuracy: 0.9908 - val_loss: 3.5987 - val_accuracy: 0.5460\n",
      "Epoch 16/30\n",
      "11474/11474 [==============================] - 9s 779us/sample - loss: 0.0243 - accuracy: 0.9923 - val_loss: 4.2735 - val_accuracy: 0.5291\n",
      "Epoch 17/30\n",
      "11474/11474 [==============================] - 9s 781us/sample - loss: 0.0359 - accuracy: 0.9890 - val_loss: 3.3185 - val_accuracy: 0.5392\n",
      "Epoch 18/30\n",
      "11474/11474 [==============================] - 9s 786us/sample - loss: 0.0272 - accuracy: 0.9927 - val_loss: 3.7594 - val_accuracy: 0.5583\n",
      "Epoch 19/30\n",
      "11474/11474 [==============================] - 9s 762us/sample - loss: 0.0255 - accuracy: 0.9933 - val_loss: 4.0731 - val_accuracy: 0.4966\n",
      "Epoch 20/30\n",
      "11474/11474 [==============================] - 9s 767us/sample - loss: 0.0206 - accuracy: 0.9942 - val_loss: 3.7831 - val_accuracy: 0.4966\n",
      "Epoch 21/30\n",
      "11474/11474 [==============================] - 9s 788us/sample - loss: 0.0239 - accuracy: 0.9934 - val_loss: 4.1640 - val_accuracy: 0.5303\n",
      "Epoch 22/30\n",
      "11474/11474 [==============================] - 9s 768us/sample - loss: 0.0201 - accuracy: 0.9944 - val_loss: 3.4796 - val_accuracy: 0.5191\n",
      "Epoch 23/30\n",
      "11474/11474 [==============================] - 9s 760us/sample - loss: 0.0221 - accuracy: 0.9944 - val_loss: 3.9287 - val_accuracy: 0.5258\n",
      "Epoch 24/30\n",
      "11474/11474 [==============================] - 9s 766us/sample - loss: 0.0207 - accuracy: 0.9936 - val_loss: 4.6821 - val_accuracy: 0.5504\n",
      "Epoch 25/30\n",
      "11474/11474 [==============================] - 9s 777us/sample - loss: 0.0262 - accuracy: 0.9924 - val_loss: 3.7916 - val_accuracy: 0.4720\n",
      "Epoch 26/30\n",
      "11474/11474 [==============================] - 9s 785us/sample - loss: 0.0287 - accuracy: 0.9915 - val_loss: 4.1623 - val_accuracy: 0.5740\n",
      "Epoch 27/30\n",
      "11474/11474 [==============================] - 9s 763us/sample - loss: 0.0287 - accuracy: 0.9915 - val_loss: 3.4335 - val_accuracy: 0.5617\n",
      "Epoch 28/30\n",
      "11474/11474 [==============================] - 9s 758us/sample - loss: 0.0107 - accuracy: 0.9975 - val_loss: 4.8740 - val_accuracy: 0.5482\n",
      "Epoch 29/30\n",
      "11474/11474 [==============================] - 9s 774us/sample - loss: 0.0263 - accuracy: 0.9933 - val_loss: 3.4261 - val_accuracy: 0.5135\n",
      "Epoch 30/30\n",
      "11474/11474 [==============================] - 9s 778us/sample - loss: 0.0232 - accuracy: 0.9934 - val_loss: 4.5485 - val_accuracy: 0.5045\n"
     ]
    }
   ],
   "source": [
    "history = model_convolution.fit(train_data_array[:train_unms], train_label_array[:train_unms], epochs=epochs, \n",
    "                     validation_data=(train_data_array[train_unms:train_unms+validation_nums], train_label_array[train_unms:train_unms+validation_nums]),shuffle=True,batch_size = batch_size)"
   ]
  },
  {
   "cell_type": "code",
   "execution_count": 13,
   "metadata": {},
   "outputs": [],
   "source": [
    "modelpredict = my_convolution_model(input_shape, classes)\n",
    "\n",
    "weights = model_convolution.get_weights()\n",
    "modelpredict.set_weights(weights)"
   ]
  },
  {
   "cell_type": "code",
   "execution_count": 14,
   "metadata": {},
   "outputs": [
    {
     "name": "stdout",
     "output_type": "stream",
     "text": [
      "892/1 - 1s - loss: 4.5601 - accuracy: 0.5045\n"
     ]
    },
    {
     "data": {
      "image/png": "[encoded data removed]",
      "text/plain": [
       "<Figure size 432x288 with 1 Axes>"
      ]
     },
     "metadata": {
      "needs_background": "light"
     },
     "output_type": "display_data"
    }
   ],
   "source": [
    "import matplotlib.pyplot as plt\n",
    "\n",
    "plt.plot(history.history['accuracy'], label='accuracy')\n",
    "plt.plot(history.history['val_accuracy'], label = 'val_accuracy')\n",
    "plt.xlabel('Epoch')\n",
    "plt.ylabel('Accuracy')\n",
    "plt.ylim([0.5, 1])\n",
    "plt.legend(loc='lower right')\n",
    "\n",
    "test_loss, test_acc = model_convolution.evaluate(train_data_array[train_unms:train_unms+validation_nums],  train_label_array[train_unms:train_unms+validation_nums], verbose=2)"
   ]
  },
  {
   "cell_type": "code",
   "execution_count": 15,
   "metadata": {},
   "outputs": [
    {
     "name": "stdout",
     "output_type": "stream",
     "text": [
      "892/1 - 1s - loss: 4.5601 - accuracy: 0.5045\n"
     ]
    },
    {
     "data": {
      "text/plain": [
       "[4.548465223055784, 0.5044843]"
      ]
     },
     "execution_count": 15,
     "metadata": {},
     "output_type": "execute_result"
    }
   ],
   "source": [
    "model_convolution.evaluate(train_data_array[train_unms:train_unms+validation_nums],  train_label_array[train_unms:train_unms+validation_nums], verbose=2)"
   ]
  },
  {
   "cell_type": "code",
   "execution_count": 16,
   "metadata": {},
   "outputs": [
    {
     "name": "stdout",
     "output_type": "stream",
     "text": [
      "following is recall rate\n",
      "\n",
      "# Evaluate on normal_data\n",
      "6867/1 - 2s - loss: 0.4138 - accuracy: 0.9522\n",
      "\n",
      "# Evaluate on medium_data\n",
      "3949/1 - 2s - loss: 6.7038 - accuracy: 0.9301\n",
      "\n",
      "# Evaluate on serious_data\n",
      "1933/1 - 1s - loss: 1.2801 - accuracy: 0.9912\n"
     ]
    },
    {
     "data": {
      "text/plain": [
       "[0.05626199889659697, 0.9912054]"
      ]
     },
     "execution_count": 16,
     "metadata": {},
     "output_type": "execute_result"
    }
   ],
   "source": [
    "print('following is recall rate')\n",
    "print('\\n# Evaluate on normal_data')\n",
    "model_convolution.evaluate(normal_data_array,normal_label_array, verbose=2)\n",
    "\n",
    "print('\\n# Evaluate on medium_data')\n",
    "model_convolution.evaluate(medium_data_array,medium_label_array, verbose=2)\n",
    "\n",
    "print('\\n# Evaluate on serious_data')\n",
    "model_convolution.evaluate(serious_data_array,serious_label_array, verbose=2)"
   ]
  },
  {
   "cell_type": "code",
   "execution_count": 17,
   "metadata": {},
   "outputs": [],
   "source": [
    "#prediction "
   ]
  },
  {
   "cell_type": "code",
   "execution_count": 18,
   "metadata": {},
   "outputs": [],
   "source": [
    "from sklearn.metrics import confusion_matrix\n",
    "import pandas as pd\n",
    "\n",
    "def recall_accuracy_rate(test_data_array,test_label_array,model):\n",
    "    model_predict =[]\n",
    "    for img in test_data_array:\n",
    "        reshape = img.reshape(1,256,256,1)\n",
    "        image = tf.cast(reshape, tf.float32)\n",
    "        model_predict.append(np.argmax(model.predict(image)))\n",
    "        \n",
    "    matrix = confusion_matrix(test_label_array, model_predict)\n",
    "    matrix_split = np.split(matrix,3,axis=1)\n",
    "    print('column:* is prediction result')\n",
    "    print('row*: is real class')\n",
    "    dict = {\n",
    "            \"class:0\":matrix_split[0].reshape(3),\n",
    "            \"class:1\":matrix_split[1].reshape(3),\n",
    "            \"class:2\":matrix_split[2].reshape(3)\n",
    "           }\n",
    "    \n",
    "    predict_table = pd.DataFrame(dict)\n",
    "    return predict_table,matrix"
   ]
  },
  {
   "cell_type": "code",
   "execution_count": 19,
   "metadata": {},
   "outputs": [],
   "source": [
    "def precision(label, confusion_matrix):\n",
    "    col = confusion_matrix[:, label]\n",
    "    return confusion_matrix[label, label] / col.sum()\n",
    "    \n",
    "def recall(label, confusion_matrix):\n",
    "    row = confusion_matrix[label, :]\n",
    "    return confusion_matrix[label, label] / row.sum()"
   ]
  },
  {
   "cell_type": "code",
   "execution_count": null,
   "metadata": {},
   "outputs": [],
   "source": []
  },
  {
   "cell_type": "code",
   "execution_count": 20,
   "metadata": {},
   "outputs": [
    {
     "name": "stdout",
     "output_type": "stream",
     "text": [
      "column:* is prediction result\n",
      "row*: is real class\n",
      "The class:0 precision is 67.3179% in 563 prediction and recall is 62.0295% in 611 sample\n",
      "\n",
      "The class:1 precision is 26.1062% in 226 prediction and recall is 23.0469% in 256 sample\n",
      "\n",
      "The class:2 precision is 11.6505% in 103 prediction and recall is 48.0000% in 25 sample\n",
      "\n"
     ]
    }
   ],
   "source": [
    "#validation data\n",
    "predict_table,matrix = recall_accuracy_rate(train_data_array[train_unms:train_unms+validation_nums],train_label_array[train_unms:train_unms+validation_nums],modelpredict)\n",
    "for i in range(len(predict_table.columns)):\n",
    "    p = precision(i,matrix)\n",
    "    r = recall(i,matrix) \n",
    "    print('The {} precision is {:.4f}% in {} prediction and recall is {:.4f}% in {} sample'\n",
    "          .format(predict_table.columns[i],p*100,matrix[:,i].sum(),r*100,matrix[i, :].sum()))\n",
    "    print()"
   ]
  },
  {
   "cell_type": "code",
   "execution_count": 21,
   "metadata": {},
   "outputs": [
    {
     "data": {
      "text/html": [
       "<div>\n",
       "<style scoped>\n",
       "    .dataframe tbody tr th:only-of-type {\n",
       "        vertical-align: middle;\n",
       "    }\n",
       "\n",
       "    .dataframe tbody tr th {\n",
       "        vertical-align: top;\n",
       "    }\n",
       "\n",
       "    .dataframe thead th {\n",
       "        text-align: right;\n",
       "    }\n",
       "</style>\n",
       "<table border=\"1\" class=\"dataframe\">\n",
       "  <thead>\n",
       "    <tr style=\"text-align: right;\">\n",
       "      <th></th>\n",
       "      <th>class:0</th>\n",
       "      <th>class:1</th>\n",
       "      <th>class:2</th>\n",
       "    </tr>\n",
       "  </thead>\n",
       "  <tbody>\n",
       "    <tr>\n",
       "      <th>0</th>\n",
       "      <td>379</td>\n",
       "      <td>167</td>\n",
       "      <td>65</td>\n",
       "    </tr>\n",
       "    <tr>\n",
       "      <th>1</th>\n",
       "      <td>171</td>\n",
       "      <td>59</td>\n",
       "      <td>26</td>\n",
       "    </tr>\n",
       "    <tr>\n",
       "      <th>2</th>\n",
       "      <td>13</td>\n",
       "      <td>0</td>\n",
       "      <td>12</td>\n",
       "    </tr>\n",
       "  </tbody>\n",
       "</table>\n",
       "</div>"
      ],
      "text/plain": [
       "   class:0  class:1  class:2\n",
       "0      379      167       65\n",
       "1      171       59       26\n",
       "2       13        0       12"
      ]
     },
     "execution_count": 21,
     "metadata": {},
     "output_type": "execute_result"
    }
   ],
   "source": [
    "predict_table.head()"
   ]
  },
  {
   "cell_type": "code",
   "execution_count": 22,
   "metadata": {},
   "outputs": [
    {
     "name": "stdout",
     "output_type": "stream",
     "text": [
      "column:* is prediction result\n",
      "row*: is real class\n",
      "The class:0 precision is 71.9231% in 260 prediction and recall is 66.7857% in 280 sample\n",
      "\n",
      "The class:1 precision is 16.4835% in 91 prediction and recall is 16.1290% in 93 sample\n",
      "\n",
      "The class:2 precision is 28.1250% in 32 prediction and recall is 90.0000% in 10 sample\n",
      "\n"
     ]
    }
   ],
   "source": [
    "#testing data\n",
    "predict_table1,matrix1 = recall_accuracy_rate(train_data_array[train_unms+validation_nums:],train_label_array[train_unms+validation_nums:],modelpredict)\n",
    "for i in range(len(predict_table1.columns)):\n",
    "    p = precision(i,matrix1)\n",
    "    r = recall(i,matrix1) \n",
    "    print('The {} precision is {:.4f}% in {} prediction and recall is {:.4f}% in {} sample'\n",
    "          .format(predict_table1.columns[i],p*100,matrix1[:,i].sum(),r*100,matrix1[i, :].sum()))\n",
    "    print()"
   ]
  },
  {
   "cell_type": "code",
   "execution_count": 23,
   "metadata": {},
   "outputs": [
    {
     "data": {
      "text/html": [
       "<div>\n",
       "<style scoped>\n",
       "    .dataframe tbody tr th:only-of-type {\n",
       "        vertical-align: middle;\n",
       "    }\n",
       "\n",
       "    .dataframe tbody tr th {\n",
       "        vertical-align: top;\n",
       "    }\n",
       "\n",
       "    .dataframe thead th {\n",
       "        text-align: right;\n",
       "    }\n",
       "</style>\n",
       "<table border=\"1\" class=\"dataframe\">\n",
       "  <thead>\n",
       "    <tr style=\"text-align: right;\">\n",
       "      <th></th>\n",
       "      <th>class:0</th>\n",
       "      <th>class:1</th>\n",
       "      <th>class:2</th>\n",
       "    </tr>\n",
       "  </thead>\n",
       "  <tbody>\n",
       "    <tr>\n",
       "      <th>0</th>\n",
       "      <td>187</td>\n",
       "      <td>76</td>\n",
       "      <td>17</td>\n",
       "    </tr>\n",
       "    <tr>\n",
       "      <th>1</th>\n",
       "      <td>72</td>\n",
       "      <td>15</td>\n",
       "      <td>6</td>\n",
       "    </tr>\n",
       "    <tr>\n",
       "      <th>2</th>\n",
       "      <td>1</td>\n",
       "      <td>0</td>\n",
       "      <td>9</td>\n",
       "    </tr>\n",
       "  </tbody>\n",
       "</table>\n",
       "</div>"
      ],
      "text/plain": [
       "   class:0  class:1  class:2\n",
       "0      187       76       17\n",
       "1       72       15        6\n",
       "2        1        0        9"
      ]
     },
     "execution_count": 23,
     "metadata": {},
     "output_type": "execute_result"
    }
   ],
   "source": [
    "predict_table1.head()"
   ]
  },
  {
   "cell_type": "code",
   "execution_count": 24,
   "metadata": {},
   "outputs": [],
   "source": []
  },
  {
   "cell_type": "code",
   "execution_count": null,
   "metadata": {},
   "outputs": [],
   "source": []
  },
  {
   "cell_type": "code",
   "execution_count": null,
   "metadata": {},
   "outputs": [],
   "source": []
  }
 ],
 "metadata": {
  "kernelspec": {
   "display_name": "Python 3",
   "language": "python",
   "name": "python3"
  },
  "language_info": {
   "codemirror_mode": {
    "name": "ipython",
    "version": 3
   },
   "file_extension": ".py",
   "mimetype": "text/x-python",
   "name": "python",
   "nbconvert_exporter": "python",
   "pygments_lexer": "ipython3",
   "version": "3.6.7"
  },
  "widgets": {
   "application/vnd.jupyter.widget-state+json": {
    "state": {},
    "version_major": 2,
    "version_minor": 0
   }
  }
 },
 "nbformat": 4,
 "nbformat_minor": 4
}
