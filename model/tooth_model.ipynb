{
 "cells": [
  {
   "cell_type": "code",
   "execution_count": 51,
   "metadata": {},
   "outputs": [],
   "source": [
    "# import csv\n",
    "# import os\n",
    "# import random\n",
    "\n",
    "# img_dir = '/root/notebooks/0858611-2/dental/model/tooth_data/'\n",
    "# img_file_list = [img for img in os.listdir(img_dir) ]\n",
    "# with open('/root/notebooks/0858611-2/dental/model/data.csv', 'w', newline='') as csvfile:\n",
    "\n",
    "#     writer = csv.writer(csvfile)\n",
    "#     seqcal = ['1','2','3']\n",
    "#     seqsymptom = ['E','M','H']\n",
    "\n",
    "#     writer.writerow(['Image Index', 'CAL', 'symptom'])\n",
    "#     for index,img in enumerate(img_file_list[:-2]):\n",
    "#         cal = random.choice(seqcal)\n",
    "#         symptom = random.choice(seqsymptom)\n",
    "#         writer.writerow([img ,cal,symptom ])"
   ]
  },
  {
   "cell_type": "code",
   "execution_count": null,
   "metadata": {},
   "outputs": [],
   "source": [
    "import torch\n",
    "device = torch.device(\"cuda:2\")\n",
    "print(device)"
   ]
  },
  {
   "cell_type": "code",
   "execution_count": null,
   "metadata": {},
   "outputs": [],
   "source": []
  },
  {
   "cell_type": "code",
   "execution_count": 88,
   "metadata": {},
   "outputs": [
    {
     "name": "stdout",
     "output_type": "stream",
     "text": [
      ".ipynb_checkpoints\n",
      "data.csv\n",
      "max_img_hight: 645\n",
      "max_img_width: 522\n"
     ]
    }
   ],
   "source": [
    "import csv\n",
    "import os\n",
    "import matplotlib.pyplot as plt\n",
    "\n",
    "img_dir = '/root/notebooks/0858611-2/dental/model/tooth_data/'\n",
    "img_file_list = os.listdir(img_dir)\n",
    "img_shape_list = []\n",
    "img_hight = []\n",
    "img_width = []\n",
    "#print(img_file_list)\n",
    "for img_path in img_file_list:\n",
    "    try:\n",
    "        img = cv2.imread(img_dir+'/'+img_path)\n",
    "        #print(img.shape)\n",
    "        img_shape_list.append(img.shape)\n",
    "        img_hight.append(img.shape[0])\n",
    "        img_width.append(img.shape[1])\n",
    "    except:\n",
    "        print(img_path)\n",
    "print('max_img_hight:',max(img_hight))\n",
    "print('max_img_width:',max(img_width))"
   ]
  },
  {
   "cell_type": "code",
   "execution_count": 84,
   "metadata": {},
   "outputs": [],
   "source": [
    "import random\n",
    "sort_by_hight  = sorted(img_shape_list, key=lambda x: x[0])\n",
    "sort_by_width  = sorted(img_shape_list, key=lambda x: x[1])"
   ]
  },
  {
   "cell_type": "code",
   "execution_count": 85,
   "metadata": {},
   "outputs": [
    {
     "name": "stdout",
     "output_type": "stream",
     "text": [
      "[(334, 124, 3), (362, 171, 3), (481, 198, 3), (483, 208, 3), (492, 277, 3), (495, 247, 3), (502, 240, 3), (502, 174, 3), (519, 359, 3), (522, 313, 3), (523, 245, 3), (525, 371, 3), (525, 191, 3), (528, 441, 3), (529, 238, 3), (535, 419, 3), (542, 319, 3), (543, 274, 3), (553, 304, 3), (568, 397, 3), (570, 225, 3), (572, 256, 3), (574, 329, 3), (578, 485, 3), (579, 354, 3), (581, 267, 3), (583, 404, 3), (588, 317, 3), (590, 254, 3), (608, 368, 3), (610, 473, 3), (611, 283, 3), (625, 522, 3), (629, 312, 3), (645, 179, 3)]\n"
     ]
    }
   ],
   "source": [
    "print(sort_by_hight)"
   ]
  },
  {
   "cell_type": "code",
   "execution_count": 86,
   "metadata": {},
   "outputs": [
    {
     "name": "stdout",
     "output_type": "stream",
     "text": [
      "[(334, 124, 3), (362, 171, 3), (502, 174, 3), (645, 179, 3), (525, 191, 3), (481, 198, 3), (483, 208, 3), (570, 225, 3), (529, 238, 3), (502, 240, 3), (523, 245, 3), (495, 247, 3), (590, 254, 3), (572, 256, 3), (581, 267, 3), (543, 274, 3), (492, 277, 3), (611, 283, 3), (553, 304, 3), (629, 312, 3), (522, 313, 3), (588, 317, 3), (542, 319, 3), (574, 329, 3), (579, 354, 3), (519, 359, 3), (608, 368, 3), (525, 371, 3), (568, 397, 3), (583, 404, 3), (535, 419, 3), (528, 441, 3), (610, 473, 3), (578, 485, 3), (625, 522, 3)]\n"
     ]
    }
   ],
   "source": [
    "print(sort_by_width)"
   ]
  },
  {
   "cell_type": "code",
   "execution_count": null,
   "metadata": {},
   "outputs": [],
   "source": []
  },
  {
   "cell_type": "code",
   "execution_count": null,
   "metadata": {},
   "outputs": [],
   "source": []
  },
  {
   "cell_type": "code",
   "execution_count": null,
   "metadata": {},
   "outputs": [],
   "source": []
  },
  {
   "cell_type": "code",
   "execution_count": null,
   "metadata": {},
   "outputs": [],
   "source": []
  }
 ],
 "metadata": {
  "kernelspec": {
   "display_name": "Python 3",
   "language": "python",
   "name": "python3"
  },
  "language_info": {
   "codemirror_mode": {
    "name": "ipython",
    "version": 3
   },
   "file_extension": ".py",
   "mimetype": "text/x-python",
   "name": "python",
   "nbconvert_exporter": "python",
   "pygments_lexer": "ipython3",
   "version": "3.6.7"
  },
  "widgets": {
   "application/vnd.jupyter.widget-state+json": {
    "state": {},
    "version_major": 2,
    "version_minor": 0
   }
  }
 },
 "nbformat": 4,
 "nbformat_minor": 4
}
