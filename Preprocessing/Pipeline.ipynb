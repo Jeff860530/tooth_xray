{
 "cells": [
  {
   "cell_type": "code",
   "execution_count": 1,
   "metadata": {},
   "outputs": [],
   "source": [
    "from tqdm import tqdm_notebook as tqdm\n",
    "from scipy.spatial import distance\n",
    "from datetime import datetime\n",
    "from math import cos, sin\n",
    "\n",
    "import matplotlib.pyplot as plt\n",
    "import pandas as pd\n",
    "import numpy as np\n",
    "import json\n",
    "import glob\n",
    "import math\n",
    "import cv2\n",
    "import abc\n",
    "import os\n"
   ]
  },
  {
   "cell_type": "markdown",
   "metadata": {},
   "source": [
    "# Image Behavior Definition"
   ]
  },
  {
   "cell_type": "code",
   "execution_count": 2,
   "metadata": {},
   "outputs": [],
   "source": [
    "class Dental_Crop:\n",
    "        \n",
    "        @staticmethod\n",
    "        def polygon(image, points):\n",
    "                regular_point = points - points.min(axis=0)\n",
    "                rect = cv2.boundingRect(points)\n",
    "                x, y, w, h = rect\n",
    "                croped = image[y:y+h, x:x+w].copy() \n",
    "                mask = np.zeros(croped.shape, np.uint8)\n",
    "                cv2.drawContours(mask, [regular_point], -1, (255, 255, 255), -1, cv2.LINE_AA)\n",
    "                polygon_tooth = cv2.bitwise_and(croped, croped, mask=mask)\n",
    "                return polygon_tooth\n",
    "        \n",
    "        \n",
    "        @staticmethod\n",
    "        def quarter_polygon(image, points, right=True):\n",
    "                regular_point = points - points.min(axis=0)\n",
    "                \n",
    "                if right == True:\n",
    "                    points = get_quarter_points(points, right)\n",
    "                \n",
    "                rect = cv2.boundingRect(points)\n",
    "                x, y, w, h = rect\n",
    "                croped = image[y:y+h, x:x+w].copy() \n",
    "                mask = np.zeros(croped.shape, np.uint8)\n",
    "                cv2.drawContours(mask, [regular_point], -1, (255, 255, 255), -1, cv2.LINE_AA)\n",
    "                polygon_tooth = cv2.bitwise_and(croped, croped, mask=mask)\n",
    "                return polygon_tooth\n",
    "        \n",
    "        @staticmethod\n",
    "        def rectangle(image, points):\n",
    "                rect = cv2.boundingRect(points)\n",
    "                x, y, w, h = rect\n",
    "                croped = image[y:y+h, x:x+w].copy() \n",
    "                return croped"
   ]
  },
  {
   "cell_type": "code",
   "execution_count": 3,
   "metadata": {},
   "outputs": [],
   "source": [
    "class Dental_Rotation:\n",
    "        \n",
    "        @staticmethod\n",
    "        def rotate(image, points, image_center, rotate_angle, max_rect=True):\n",
    "                rotate_image = rotate(image, rotate_angle, image_center, max_rect)\n",
    "                return rotate_image\n",
    "            \n",
    "        @staticmethod\n",
    "        def centralize(image, points, max_rect=True):\n",
    "                rotate_angle = get_rotate_degree(image, points)\n",
    "                rotate_image = rotate(image, rotate_angle, max_rect)\n",
    "                return rotate_image\n"
   ]
  },
  {
   "cell_type": "code",
   "execution_count": 4,
   "metadata": {},
   "outputs": [],
   "source": [
    "class border_preprocessing:\n",
    "       \n",
    "        @staticmethod\n",
    "        def trim_border(image):\n",
    "                if not np.sum(image[0]):     \n",
    "                        return border_preprocessing.trim_border(image[1:])\n",
    "\n",
    "                elif not np.sum(image[-1]):  \n",
    "                        return border_preprocessing.trim_border(image[:-2])\n",
    "\n",
    "                elif not np.sum(image[:,0]):\n",
    "                        return border_preprocessing.trim_border(image[:,1:]) \n",
    "\n",
    "                elif not np.sum(image[:,-1]):\n",
    "                        return border_preprocessing.trim_border(image[:,:-2])    \n",
    "                return image\n",
    "        \n",
    "        @staticmethod\n",
    "        def padding(image, padding_height = 700, padding_width = 400):\n",
    "                mask_size = (padding_height, padding_width)\n",
    "                tooth_h, tooth_w = image.shape\n",
    "                mask = np.zeros(mask_size)\n",
    "                yoff = round((mask_size[0]-tooth_h)/2)\n",
    "                xoff = round((mask_size[1]-tooth_w)/2)\n",
    "                result = mask.copy()\n",
    "                result[yoff:yoff+tooth_h, xoff:xoff+tooth_w] = image\n",
    "                return result\n",
    "            "
   ]
  },
  {
   "cell_type": "code",
   "execution_count": 5,
   "metadata": {},
   "outputs": [],
   "source": [
    "def init_directory(directory): \n",
    "        if not os.path.exists(directory):\n",
    "                os.makedirs(directory)\n",
    "def pd_dict_2_pd_dataframe(pd_json):\n",
    "        table = pd.DataFrame(columns=[\"id\", \"left\", \"right\"])\n",
    "\n",
    "        for key in pd_json:\n",
    "                front = pd_json[key][\"lingual\"][\"CAL\"]\n",
    "                back  = pd_json[key][\"buccal\"][\"CAL\"]\n",
    "                left  = min(front[0], back[0])\n",
    "                right = min(front[2], back[2])\n",
    "                table = table.append({\n",
    "                        \"id\": key,\n",
    "                        \"left\": left,\n",
    "                        \"right\": right\n",
    "                }, ignore_index=True)\n",
    "\n",
    "        table.set_index(\"id\" , inplace=True) \n",
    "        return table\n",
    "\n",
    "def get_table_file(patient_id):\n",
    "        table_infos = [ i for i in glob.iglob(\"Data/*/*.json\")]\n",
    "        for table_name in table_infos:\n",
    "                if patient_id in table_name:\n",
    "                        pd_json   = json.load(open(table_name, \"r\"))\n",
    "                        pd_table = pd_dict_2_pd_dataframe(pd_json)\n",
    "                        return pd_table\n",
    "                    \n",
    "def get_PD_pair(pd_table, label_name):\n",
    "        \n",
    "        number, side = label_name.split(\"_\") \n",
    "        result = pd_table.loc[[number]].values[0]\n",
    "        \n",
    "        if side == \"LR\":\n",
    "                return (result[0], result[1])\n",
    "        elif side == \"L\" or side == \"LH\" or side == \"HL\": \n",
    "                return (result[0], -99)\n",
    "        elif side == \"R\" or side == \"RH\" or side == \"HR\":\n",
    "                return (-99, result[1])\n",
    "\n",
    "def rotate(image, angle, image_center, max_bound_rect=True):\n",
    "        \n",
    "        height, width = image.shape[:2] # image shape has 3 dimensions\n",
    "        rotation_mat = cv2.getRotationMatrix2D(image_center, angle, 1)\n",
    "        \n",
    "        if not max_bound_rect:\n",
    "                rotated_image = cv2.warpAffine(image, rotation_mat, (width, height))\n",
    "                return rotated_image\n",
    "            \n",
    "        # rotation calculates the cos and sin, taking absolutes of those.\n",
    "        abs_cos = abs(rotation_mat[0,0]) \n",
    "        abs_sin = abs(rotation_mat[0,1])\n",
    "\n",
    "        # find the new width and height bounds\n",
    "        bound_w = int(height * abs_sin + width * abs_cos)\n",
    "        bound_h = int(height * abs_cos + width * abs_sin)\n",
    "\n",
    "        rotation_mat[0, 2] += bound_w/2 - image_center[0]\n",
    "        rotation_mat[1, 2] += bound_h/2 - image_center[1]\n",
    "\n",
    "        # rotate image with the new bounds and translated rotation matrix\n",
    "        rotated_image = cv2.warpAffine(image, rotation_mat, (bound_w, bound_h))\n",
    "        return rotated_image\n",
    "\n",
    "def recognize_line(line):\n",
    "        sort_up_and_down = lambda line: [line[1], line[0]] if line[1][1] < line[0][1] else line\n",
    "        check_clockwise  = lambda line: True if line[0][0] > line[1][0] else False    # up >>>> down\n",
    "        line = sort_up_and_down(line)\n",
    "        clockwise = check_clockwise(line)\n",
    "        return line, clockwise\n",
    "    \n",
    "def get_line_angle(line, clockwise):\n",
    "        vector = line[1] - line[0]\n",
    "        length = np.linalg.norm(vector)\n",
    "        cos    = np.dot(vector, [0, 1]) / length\n",
    "        angle = math.acos(cos) *180 / math.pi\n",
    "        return angle if clockwise == True else -angle\n",
    "\n",
    "def get_rotate_degree(points):\n",
    "        points = sorted(points ,key=lambda point:point[1])\n",
    "        up_center_point   = [(points[0][0]+points[1][0])/2,(points[0][1]+points[1][1])/2]\n",
    "        down_center_point = [(points[2][0]+points[3][0])/2,(points[2][1]+points[3][1])/2]\n",
    "        midline = [up_center_point,down_center_point]\n",
    "        midline = np.array(midline)\n",
    "        midline , midline_direction = recognize_line(midline)\n",
    "        midline_angle = get_line_angle(midline, midline_direction)\n",
    "        \n",
    "        clock = lambda x: \"clockwise\" if x == True else \"counterclockwise\"\n",
    "        return midline_angle"
   ]
  },
  {
   "cell_type": "code",
   "execution_count": 6,
   "metadata": {},
   "outputs": [],
   "source": [
    "class Image_Pipeline:\n",
    "        def __init__(self, output_dir, input_dir, **kwargs):\n",
    "                self.output_dir = output_dir\n",
    "                self.input_dir  = input_dir\n",
    "                \n",
    "                for name, value in kwargs.items():\n",
    "                    setattr(self, name, value)\n",
    "                \n",
    "        def run(self):\n",
    "            raise NotImplementedError"
   ]
  },
  {
   "cell_type": "markdown",
   "metadata": {},
   "source": [
    "# CAL Pipeline ( To Do : Table to Dict , and need to decouple ! )"
   ]
  },
  {
   "cell_type": "code",
   "execution_count": 7,
   "metadata": {},
   "outputs": [],
   "source": [
    "class CAL_Pipeline(Image_Pipeline):\n",
    "        def __init__(self, output_dir, input_dir, **kwargs):\n",
    "                super(CAL_Pipeline, self).__init__(output_dir, input_dir, **kwargs) \n",
    "                if not hasattr(self, \"rotate_range\"):\n",
    "                        raise AttributeError\n",
    "                \n",
    "                if not hasattr(self, \"enhance\"):\n",
    "                        raise AttributeError\n",
    "        \n",
    "        def run(self):\n",
    "                jsons = [ i for i in glob.iglob(\"%s/*/*/*.json\" % self.input_dir)]\n",
    "                images = [ i.replace(\"json\", \"png\") for i in jsons]\n",
    "\n",
    "                mapping_dict = {}\n",
    "                no_table, no_side = set(), set()\n",
    "                init_directory(self.output_dir)\n",
    "                \n",
    "                \n",
    "                for data, image in tqdm(zip(jsons, images)):\n",
    "                        tooth_img  = cv2.imread(image, 0)\n",
    "                        tooth_data = json.load(open(data, \"r\"))[\"shapes\"]\n",
    "                        patient_id = image.split(\"\\\\\")[1]\n",
    "                        pd_table   = get_table_file(patient_id)\n",
    "            \n",
    "                        if pd_table is None:\n",
    "                                no_table.add(patient_id)\n",
    "                                continue\n",
    "\n",
    "                        for tooth in tooth_data:\n",
    "                                pd_pair  = get_PD_pair(pd_table, tooth[\"label\"])\n",
    "                                points   = np.array(tooth[\"points\"]).astype(int)\n",
    "                                points   = np.where(points < 0, 0, points)\n",
    "                                \n",
    "                                rect = cv2.boundingRect(points)\n",
    "                                x, y, w, h = rect\n",
    "                                mask = np.zeros(tooth_img.shape, np.uint8)\n",
    "                                mask[y:y+h, x:x+w] = 255\n",
    "                                rotate_center = ( (2*x+w)//2, (2*y+h)//2 )\n",
    "                                \n",
    "                                zero_degree = int(get_rotate_degree(points))\n",
    "                                deg_lowbound, deg_upperbound, step = self.rotate_range\n",
    "                                \n",
    "                                deg_lowbound -= zero_degree\n",
    "                                deg_upperbound -= zero_degree\n",
    "                                \n",
    "                                for idx, degree in enumerate(range(deg_lowbound, deg_upperbound, step), 1):\n",
    "                                        rect = cv2.boundingRect(points)\n",
    "                                        \n",
    "                                        ro_mask = Dental_Rotation.rotate(mask, points, rotate_center, degree, max_rect=False)\n",
    "                                        ro_tooth = cv2.bitwise_and(tooth_img, tooth_img, mask=ro_mask)\n",
    "                                        ro_tooth = rotate(ro_tooth, -degree, rotate_center)\n",
    "                                        ro_tooth = border_preprocessing.trim_border(ro_tooth)\n",
    "                                        \n",
    "                                        tooth_h, tooth_w = ro_tooth.shape\n",
    "                                        \n",
    "                                        if pd_pair == None:\n",
    "                                                no_side.add(data)\n",
    "                                                continue\n",
    "                                        \n",
    "                                        if self.enhance:\n",
    "                                                ro_tooth = cv2.equalizeHist(ro_tooth.astype(\"uint8\"))\n",
    "                                        \n",
    "                                        number, side = tooth[\"label\"].split(\"_\")\n",
    "\n",
    "                                        if int(number) <= 16:\n",
    "                                                ro_tooth = cv2.flip(ro_tooth, 0)\n",
    "\n",
    "                                        filename = datetime.utcnow().isoformat(sep='-', timespec='milliseconds').replace(\".\", \"-\").replace(\":\", \"-\")[-12:]\n",
    "                                        filename = '%s/%s_%s_%s_%d.png' % (self.output_dir, filename, image.split(\"\\\\\")[2], number, degree + zero_degree)   \n",
    "                                        \n",
    "                                        mapping_dict[filename] = pd_pair\n",
    "                                        if not cv2.imwrite(filename, ro_tooth):\n",
    "                                             raise Exception(\"Could not write image\")\n",
    "                                    \n",
    "                json.dump(mapping_dict, open(\"%s/mapping.json\" % self.output_dir, 'w'), indent=4)\n",
    "\n",
    "                with open(\"%s/loss_table\" % self.output_dir, \"w\") as f:\n",
    "                        no_table = list(no_table)\n",
    "                        no_table = \"\\n\".join(no_table)\n",
    "                        f.write(no_table)\n",
    "\n",
    "                with open(\"%s/loss_side\" % self.output_dir, \"w\") as f:\n",
    "                        no_side = list(no_side)\n",
    "                        no_side = \"\\n\".join(no_side)\n",
    "                        f.write(no_side)\n"
   ]
  },
  {
   "cell_type": "markdown",
   "metadata": {},
   "source": [
    "# PBL Pipeline"
   ]
  },
  {
   "cell_type": "code",
   "execution_count": 8,
   "metadata": {},
   "outputs": [],
   "source": [
    "class PBL_situation:\n",
    "        def __init__(self, PBLTable_path, DataPath):\n",
    "                self.PBLTable_path = PBLTable_path\n",
    "                self.DataPath      = DataPath\n",
    "                \n",
    "        def clean_invalid_value(self):\n",
    "                self.PBL_Table = pd.read_csv(self.PBLTable_path, sep=\",\")\n",
    "                dir_name = [ \"%s/\" % self.DataPath + i.split(\" \")[0] for i in list(self.PBL_Table[\"sub_dir_name\"]) ]\n",
    "                self.PBL_Table[\"dir_name\"] = dir_name\n",
    "                self.PBL_Table = self.PBL_Table[[\"dir_name\", \"sub_dir_name\", \"image_name\", \"tooth_num\", \"state\"]]\n",
    "                self.PBL_Table = self.PBL_Table[~self.PBL_Table[\"tooth_num\"].isnull() & ~self.PBL_Table[\"state\"].isnull()]\n",
    "                self.PBL_Table = self.PBL_Table.astype(\"str\")\n",
    "                self.PBL_Table = self.PBL_Table.replace( {'state' : { '2': -999, '0'  : 0          }} )\n",
    "                self.PBL_Table = self.PBL_Table.replace( {'state' : { 'III' : 3, 'II' : 2, 'I' : 1 }} )\n",
    "                self.PBL_Table = self.PBL_Table.replace( {'state' : { 'iii' : 3, 'ii' : 2, 'i' : 1 }} )\n",
    "                self._PBL_directory = np.unique(self.PBL_Table[\"dir_name\"])\n",
    "                return self\n",
    "            \n",
    "        def MD_transfer_LR(self):\n",
    "                pathes = []\n",
    "                for idx, row in self.PBL_Table.iterrows():\n",
    "                        tooth_num = row[\"tooth_num\"][:-1]\n",
    "                        if not tooth_num.isdigit():\n",
    "                                self.PBL_Table.drop(idx, inplace=True)\n",
    "                                continue\n",
    "                        else:\n",
    "\n",
    "                                if  9 <= int(tooth_num) <= 24: # L--> M, R-->D\n",
    "                                        if \"M\" in row[\"tooth_num\"]:\n",
    "                                                self.PBL_Table.loc[ idx ,\"tooth_num\"] = tooth_num + \"L\"\n",
    "                                        if \"D\" in row[\"tooth_num\"]:\n",
    "                                                self.PBL_Table.loc[ idx ,\"tooth_num\"] = tooth_num + \"R\"\n",
    "\n",
    "                                elif 1 <= int(tooth_num) <= 8 or 24 < int(tooth_num) <= 32:\n",
    "                                        if \"M\" in row[\"tooth_num\"]:\n",
    "                                                self.PBL_Table.loc[ idx ,\"tooth_num\"] = tooth_num + \"R\"\n",
    "                                        if \"D\" in row[\"tooth_num\"]:\n",
    "                                                self.PBL_Table.loc[ idx ,\"tooth_num\"] = tooth_num + \"L\"\n",
    "\n",
    "                                else:\n",
    "                                        print(row)\n",
    "                                        raise ValueError\n",
    "\n",
    "                        path = \"%s/%s/%s.PNG\" % (row[\"dir_name\"], row[\"sub_dir_name\"], row[\"image_name\"])\n",
    "                        pathes.append(path)\n",
    "\n",
    "                self.PBL_Table[\"path\"] = pathes\n",
    "                \n",
    "                self._Simple_PBL_Table = self.PBL_Table.loc[:, [\"path\", \"tooth_num\", \"state\"]]\n",
    "                self._Simple_PBL_Table = self._Simple_PBL_Table[~self._Simple_PBL_Table[\"tooth_num\"].isnull()]\n",
    "                return self\n",
    "        \n",
    "        \n",
    "        def table_2_dict(self):\n",
    "                raise NotImplementedError\n",
    "                \n",
    "        def run(self):\n",
    "                self.clean_invalid_value().MD_transfer_LR().table_2_dict()\n",
    "                return self\n",
    "\n",
    "            \n",
    "        @property\n",
    "        def label_dict(self):\n",
    "                return self._label_dict\n",
    "        \n",
    "        @property\n",
    "        def Simple_PBL_Table(self):\n",
    "                return self._Simple_PBL_Table\n",
    "        \n",
    "        @property\n",
    "        def PBL_directory(self):\n",
    "                return self._PBL_directory"
   ]
  },
  {
   "cell_type": "code",
   "execution_count": 9,
   "metadata": {},
   "outputs": [],
   "source": [
    "class PBL_situation_original(PBL_situation):\n",
    "        def __init__(self, PBLTable_path, DataPath, **kwargs):\n",
    "                super(PBL_situation_original, self).__init__(PBLTable_path, DataPath, **kwargs) \n",
    "        \n",
    "        def table_2_dict(self):\n",
    "                image_groups = self._Simple_PBL_Table.groupby(\"path\")\n",
    "                self._label_dict = {}\n",
    "\n",
    "                for group in image_groups.groups:\n",
    "                        if group not in self._label_dict:\n",
    "                                self._label_dict[group] = {}\n",
    "\n",
    "                        for idx, item in image_groups.get_group(group).iterrows():\n",
    "                                tooth_num = item[\"tooth_num\"][:-1]\n",
    "                                if tooth_num not in self._label_dict[group]:\n",
    "                                        self._label_dict[group][tooth_num] = [-99, -99]\n",
    "\n",
    "                                if item[\"tooth_num\"][-1] == \"L\":\n",
    "                                        self._label_dict[group][tooth_num][0] = item[\"state\"]\n",
    "\n",
    "                                elif item[\"tooth_num\"][-1] == \"R\":\n",
    "                                        self._label_dict[group][tooth_num][1] = item[\"state\"]\n",
    "\n",
    "                                else:\n",
    "                                        print(item[\"tooth_num\"])\n",
    "                                        raise ValueError \n",
    "                return self "
   ]
  },
  {
   "cell_type": "code",
   "execution_count": 10,
   "metadata": {},
   "outputs": [],
   "source": [
    "class PBL_situation_Attend_Hole(PBL_situation):\n",
    "        def __init__(self, PBLTable_path, DataPath, **kwargs):\n",
    "                super(PBL_situation_Attend_Hole, self).__init__(PBLTable_path, DataPath, **kwargs) \n",
    "                \n",
    "        def attend_hole(self, tooth_array):\n",
    "                tooth_dict = {}\n",
    "                length = len(tooth_array)\n",
    "                for idx in range(0, length):\n",
    "                        curr_num, curr_value = tooth_array[ idx ]\n",
    "\n",
    "                        if str(curr_num) not in tooth_dict:\n",
    "                                tooth_dict[str(curr_num)] = [-99, -99]\n",
    "\n",
    "                        if idx + 1 == length:\n",
    "                                prev_num, prev_value = tooth_array[ idx - 1 ]\n",
    "                                if curr_num != prev_num:\n",
    "                                        tooth_dict[str(curr_num)][0] = max(curr_value, prev_value)\n",
    "                                else:\n",
    "                                        tooth_dict[str(curr_num)][1] = curr_value\n",
    "                                break\n",
    "\n",
    "                        next_num, next_value = tooth_array[ idx + 1 ]\n",
    "\n",
    "                        if curr_num == next_num:\n",
    "\n",
    "                                if idx > 0: \n",
    "                                        prev_num, prev_value = tooth_array[ idx - 1 ] \n",
    "                                        if curr_num != prev_num:\n",
    "                                                tooth_dict[str(curr_num)][0] = max(curr_value, prev_value)\n",
    "                                else:\n",
    "                                        tooth_dict[str(curr_num)][0] = curr_value\n",
    "\n",
    "                        else:  \n",
    "                                tooth_dict[str(curr_num)][1] = max(curr_value, next_value)\n",
    "                return tooth_dict\n",
    "            \n",
    "        def table_2_dict(self):\n",
    "                image_groups = self._Simple_PBL_Table.groupby(\"path\")\n",
    "                self._label_dict = {}\n",
    "\n",
    "                for group in image_groups.groups:\n",
    "                        if group not in self._label_dict:\n",
    "                                self._label_dict[group] = {}\n",
    "\n",
    "                        temp_info = {}\n",
    "\n",
    "                        for idx, item in image_groups.get_group(group).iterrows():\n",
    "\n",
    "                                tooth_num = item[\"tooth_num\"][:-1]\n",
    "                                if item[\"tooth_num\"][-1] == \"L\":\n",
    "                                        temp_info[item[\"tooth_num\"]] = item[\"state\"]\n",
    "\n",
    "\n",
    "                                elif item[\"tooth_num\"][-1] == \"R\":\n",
    "                                        temp_info[item[\"tooth_num\"]] = item[\"state\"]  \n",
    "\n",
    "                                else:\n",
    "                                        print(item[\"tooth_num\"])\n",
    "                                        raise ValueError \n",
    "\n",
    "\n",
    "                        temp_info_array = [ [ int(k[:-1]), v ] for k, v in temp_info.items()] \n",
    "                        temp_dict = self.attend_hole(temp_info_array)\n",
    "\n",
    "                        for idx, item in image_groups.get_group(group).iterrows():\n",
    "                                tooth_num = item[\"tooth_num\"][:-1]\n",
    "                                self._label_dict[group][tooth_num] = temp_dict[tooth_num]\n",
    "                return self "
   ]
  },
  {
   "cell_type": "code",
   "execution_count": 14,
   "metadata": {},
   "outputs": [],
   "source": [
    "class PBL_Pipeline(Image_Pipeline):\n",
    "        def __init__(self, output_dir, input_dir, **kwargs):\n",
    "                super(PBL_Pipeline, self).__init__(output_dir, input_dir, **kwargs) \n",
    "                if not hasattr(self, \"rotate_range\"):\n",
    "                        raise AttributeError\n",
    "                \n",
    "                if not hasattr(self, \"enhance\"):\n",
    "                        raise AttributeError\n",
    "                \n",
    "                \n",
    "                self.PBL_Info = PBL_situation_Attend_Hole(\"PBL_Table.csv\", \"Label\").run() if self.attend else\\\n",
    "                                PBL_situation_original   (\"PBL_Table.csv\", \"Label\").run()\n",
    "                        \n",
    "                self.jsons = [ i for directory in self.PBL_Info.PBL_directory for i in glob.iglob(\"%s/*/*.json\" % directory) ]\n",
    "                self.images = [ i.replace(\"json\", \"PNG\").replace(\"\\\\\", \"/\") for i in self.jsons ]\n",
    "                \n",
    "        def run(self):\n",
    "                mapping_dict = {}\n",
    "                no_table, no_side = set(), set()\n",
    "                init_directory(self.output_dir)\n",
    "                \n",
    "                \n",
    "                for data, image in tqdm(zip(self.jsons, self.images)):\n",
    "                        \n",
    "                        tooth_img  = cv2.imread(image.replace(\"Label\", \"Data_Segmentation\") if self.segmentation else image, 0)\n",
    "                        tooth_data = json.load(open(data, \"r\"))[\"shapes\"]\n",
    "                        \n",
    "                        if tooth_img is None:\n",
    "                                print(\"%s is non-exist\" % image.replace(\"Label\", \"Data_Segmentation\") if self.segmentation else image)\n",
    "                                continue\n",
    "                        \n",
    "                        if image not in self.PBL_Info.label_dict:\n",
    "                                no_table.add(image)\n",
    "                                continue\n",
    "\n",
    "                        for tooth in tooth_data:\n",
    "                                points   = np.array(tooth[\"points\"]).astype(int)\n",
    "                                points   = np.where(points < 0, 0, points)\n",
    "                                rect = cv2.boundingRect(points)\n",
    "                                x, y, w, h = rect\n",
    "                                mask = np.zeros(tooth_img.shape, np.uint8)\n",
    "                                mask[y:y+h, x:x+w] = 255\n",
    "                                rotate_center = ( (2*x+w)//2, (2*y+h)//2 )\n",
    "                                \n",
    "                                zero_degree = int(get_rotate_degree(points))\n",
    "                                deg_lowbound, deg_upperbound, step = self.rotate_range\n",
    "                                \n",
    "                                deg_lowbound -= zero_degree\n",
    "                                deg_upperbound -= zero_degree\n",
    "                                \n",
    "                                for idx, degree in enumerate(range(deg_lowbound, deg_upperbound, step), 1):\n",
    "                                        rect = cv2.boundingRect(points)\n",
    "                                        \n",
    "                                        ro_mask = Dental_Rotation.rotate(mask, points, rotate_center, degree, max_rect=False)\n",
    "                                        ro_tooth = cv2.bitwise_and(tooth_img, tooth_img, mask=ro_mask)\n",
    "                                        ro_tooth = rotate(ro_tooth, -degree, rotate_center)\n",
    "                                        ro_tooth = border_preprocessing.trim_border(ro_tooth)\n",
    "                                        \n",
    "                                        tooth_h, tooth_w = ro_tooth.shape\n",
    "                                        number, side = tooth[\"label\"].split(\"_\")\n",
    "                                        \n",
    "                                        if number not in self.PBL_Info.label_dict[image]:\n",
    "                                                no_side.add(data)\n",
    "                                                continue\n",
    "                                                \n",
    "                                        if self.enhance:\n",
    "                                                ro_tooth = cv2.equalizeHist(ro_tooth.astype(\"uint8\"))\n",
    "\n",
    "                                        if int(number) <= 16:\n",
    "                                                ro_tooth = cv2.flip(ro_tooth, 0)\n",
    "\n",
    "                                        filename = datetime.utcnow().isoformat(sep='-', timespec='milliseconds').replace(\".\", \"-\").replace(\":\", \"-\")[-12:]\n",
    "                                        filename = '%s/%s_%s_%s_%d.png' % (self.output_dir, filename, image.split(\"/\")[2], number, degree + zero_degree)   \n",
    "                                        \n",
    "                                        mapping_dict[filename] = self.PBL_Info.label_dict[image][number]\n",
    "                                        if not cv2.imwrite(filename, ro_tooth):\n",
    "                                                 raise Exception(\"Could not write image\")\n",
    "                                \n",
    "                \n",
    "                json.dump(mapping_dict, open(\"%s/mapping.json\" % self.output_dir, 'w'), indent=4)\n",
    "\n",
    "                with open(\"%s/loss_table\" % self.output_dir, \"w\") as f:\n",
    "                        no_table = list(no_table)\n",
    "                        no_table = \"\\n\".join(no_table)\n",
    "                        f.write(no_table)\n",
    "\n",
    "                with open(\"%s/loss_side\" % self.output_dir, \"w\") as f:\n",
    "                        no_side = list(no_side)\n",
    "                        no_side = \"\\n\".join(no_side)\n",
    "                        f.write(no_side)\n"
   ]
  },
  {
   "cell_type": "markdown",
   "metadata": {},
   "source": [
    "# Generating Data"
   ]
  },
  {
   "cell_type": "code",
   "execution_count": 15,
   "metadata": {},
   "outputs": [
    {
     "data": {
      "application/vnd.jupyter.widget-view+json": {
       "model_id": "1f29a27bc8be42c2b2452b332172dcc3",
       "version_major": 2,
       "version_minor": 0
      },
      "text/plain": [
       "HBox(children=(IntProgress(value=1, bar_style='info', max=1), HTML(value='')))"
      ]
     },
     "metadata": {},
     "output_type": "display_data"
    },
    {
     "name": "stdout",
     "output_type": "stream",
     "text": [
      "\n"
     ]
    }
   ],
   "source": [
    "parameters = [  \n",
    "                \n",
    "#                 {\n",
    "#                         \"output_dir\"  : \"Dental_Data/PBL/10_seg_attend\",\n",
    "#                         \"input_dir\"   : \"Label\",\n",
    "#                         \"rotate_range\": (-10, 10, 1),\n",
    "#                         \"enhance\"     : False,\n",
    "#                         \"segmentation\": True,\n",
    "#                         \"attend\":       True\n",
    "#                 },\n",
    "            \n",
    "    \n",
    "                {\n",
    "                        \"output_dir\"  : \"Dental_Data/PBL/10_seg\",\n",
    "                        \"input_dir\"   : \"Label\",\n",
    "                        \"rotate_range\": (-10, 10, 1),\n",
    "                        \"enhance\"     : True,\n",
    "                        \"segmentation\": True,\n",
    "                        \"attend\":       False\n",
    "                },\n",
    "                \n",
    "#                 {\n",
    "#                         \"output_dir\"  : \"Dental_Data/CAL/10\",\n",
    "#                         \"input_dir\"   : \"Label\",\n",
    "#                         \"rotate_range\": (-10, 10, 1),\n",
    "#                         \"enhance\"     : False\n",
    "#                 },\n",
    "            \n",
    "    \n",
    "#                 {\n",
    "#                         \"output_dir\"  : \"Dental_Data/CAL/10_enhance\",\n",
    "#                         \"input_dir\"   : \"Label\",\n",
    "#                         \"rotate_range\": (-10, 10, 1),\n",
    "#                         \"enhance\"     : True\n",
    "#                 },\n",
    "    \n",
    "]\n",
    "    \n",
    "for parameter in parameters:\n",
    "    \n",
    "        if \"PBL\" in parameter[\"output_dir\"]:\n",
    "                PBL_Pipeline(**parameter).run()\n",
    "                \n",
    "        if \"CAL\" in parameter[\"output_dir\"]:\n",
    "                CAL_Pipeline(**parameter).run()"
   ]
  },
  {
   "cell_type": "code",
   "execution_count": null,
   "metadata": {},
   "outputs": [],
   "source": []
  }
 ],
 "metadata": {
  "kernelspec": {
   "display_name": "Python 3",
   "language": "python",
   "name": "python3"
  },
  "language_info": {
   "codemirror_mode": {
    "name": "ipython",
    "version": 3
   },
   "file_extension": ".py",
   "mimetype": "text/x-python",
   "name": "python",
   "nbconvert_exporter": "python",
   "pygments_lexer": "ipython3",
   "version": "3.7.4"
  },
  "widgets": {
   "application/vnd.jupyter.widget-state+json": {
    "state": {
     "031e2c07687f4313b213c1e409eb3cd7": {
      "model_module": "@jupyter-widgets/base",
      "model_module_version": "1.2.0",
      "model_name": "LayoutModel",
      "state": {}
     },
     "039970439f194a84906bdea3b1a0bd95": {
      "model_module": "@jupyter-widgets/controls",
      "model_module_version": "1.5.0",
      "model_name": "ProgressStyleModel",
      "state": {
       "description_width": "initial"
      }
     },
     "08a2598554cc4384b0de1d29c2fed37e": {
      "model_module": "@jupyter-widgets/base",
      "model_module_version": "1.2.0",
      "model_name": "LayoutModel",
      "state": {}
     },
     "097d205530594512b4b8d5751916df9e": {
      "model_module": "@jupyter-widgets/controls",
      "model_module_version": "1.5.0",
      "model_name": "ProgressStyleModel",
      "state": {
       "description_width": "initial"
      }
     },
     "0c60b50cd7b848a79b0463d3b192fd65": {
      "model_module": "@jupyter-widgets/controls",
      "model_module_version": "1.5.0",
      "model_name": "HBoxModel",
      "state": {
       "children": [
        "IPY_MODEL_2d80bc12d9ff45c78c36c831dfecc026",
        "IPY_MODEL_e96943a110e149889c952aaf39686566"
       ],
       "layout": "IPY_MODEL_291fa6cfd7f048928d6560329ccbf9cb"
      }
     },
     "0c7c1a68f7114b05b87f37ba631def87": {
      "model_module": "@jupyter-widgets/base",
      "model_module_version": "1.2.0",
      "model_name": "LayoutModel",
      "state": {}
     },
     "0dcc45559a564358961b15ccf893eda1": {
      "model_module": "@jupyter-widgets/controls",
      "model_module_version": "1.5.0",
      "model_name": "IntProgressModel",
      "state": {
       "bar_style": "success",
       "layout": "IPY_MODEL_9b85b095e0be4ed79700f9ac54b5e3e4",
       "max": 1,
       "style": "IPY_MODEL_039970439f194a84906bdea3b1a0bd95",
       "value": 1
      }
     },
     "0decb603d3cd480a83982ab8bf715b60": {
      "model_module": "@jupyter-widgets/base",
      "model_module_version": "1.2.0",
      "model_name": "LayoutModel",
      "state": {}
     },
     "10267ee604c2420699d3cacf4c7fc692": {
      "model_module": "@jupyter-widgets/controls",
      "model_module_version": "1.5.0",
      "model_name": "IntProgressModel",
      "state": {
       "bar_style": "success",
       "layout": "IPY_MODEL_ea0a5cf3b68b4d10a039fb2f7c2c10cf",
       "max": 1,
       "style": "IPY_MODEL_2e447652332747f9a6a51bd90e999754",
       "value": 1
      }
     },
     "10ac4d8ccf2c46bca12fb727930acb4f": {
      "model_module": "@jupyter-widgets/controls",
      "model_module_version": "1.5.0",
      "model_name": "ProgressStyleModel",
      "state": {
       "description_width": "initial"
      }
     },
     "113ab6d3946347bcbc4b1a1236dc4247": {
      "model_module": "@jupyter-widgets/controls",
      "model_module_version": "1.5.0",
      "model_name": "HTMLModel",
      "state": {
       "layout": "IPY_MODEL_ca169099e5c34434b7b7a3ae54a43048",
       "style": "IPY_MODEL_fbf84f9fd2f444d58c06ce47fb28d940",
       "value": " 1334/? [2:36:08&lt;00:00,  7.02s/it]"
      }
     },
     "132443c96e074d9a9ddae48811b4e517": {
      "model_module": "@jupyter-widgets/controls",
      "model_module_version": "1.5.0",
      "model_name": "DescriptionStyleModel",
      "state": {
       "description_width": ""
      }
     },
     "141cd83f84c64ab8b2312f69b999ae91": {
      "model_module": "@jupyter-widgets/base",
      "model_module_version": "1.2.0",
      "model_name": "LayoutModel",
      "state": {}
     },
     "15c7ffa1b69a4919ab9a0acfdb7b3180": {
      "model_module": "@jupyter-widgets/controls",
      "model_module_version": "1.5.0",
      "model_name": "IntProgressModel",
      "state": {
       "bar_style": "danger",
       "layout": "IPY_MODEL_45f0a4b9e8f44f188d2bad7d18fb49c8",
       "max": 1,
       "style": "IPY_MODEL_5cf234e46fcd4e27bf9c51bd12716d4a",
       "value": 1
      }
     },
     "16008833e9af47928cfbdbc8e789a875": {
      "model_module": "@jupyter-widgets/controls",
      "model_module_version": "1.5.0",
      "model_name": "IntProgressModel",
      "state": {
       "bar_style": "success",
       "layout": "IPY_MODEL_50127a4d9b1048308bb8c4aaceecdf16",
       "max": 1,
       "style": "IPY_MODEL_7c63c6d3d7bb42d588be9a53d8267526",
       "value": 1
      }
     },
     "1912740689c24e6fb611c94c1fc06ec3": {
      "model_module": "@jupyter-widgets/controls",
      "model_module_version": "1.5.0",
      "model_name": "HBoxModel",
      "state": {
       "children": [
        "IPY_MODEL_543a0239c8df4a26bff204a8fdc7ef52",
        "IPY_MODEL_b61bbf7ea3804b2b97833266015bc8c5"
       ],
       "layout": "IPY_MODEL_379dc48d2dae4cb5ae4e8bea4af9c148"
      }
     },
     "1bcdda7e6bdf4d9cab325fdafde5aaad": {
      "model_module": "@jupyter-widgets/controls",
      "model_module_version": "1.5.0",
      "model_name": "DescriptionStyleModel",
      "state": {
       "description_width": ""
      }
     },
     "1c2e32184e764155aee3c4bdb9398f4f": {
      "model_module": "@jupyter-widgets/base",
      "model_module_version": "1.2.0",
      "model_name": "LayoutModel",
      "state": {}
     },
     "1dbb9e24f820442292d14933c861e00f": {
      "model_module": "@jupyter-widgets/base",
      "model_module_version": "1.2.0",
      "model_name": "LayoutModel",
      "state": {}
     },
     "1de529454daa4bbe80c761295cbf12f4": {
      "model_module": "@jupyter-widgets/controls",
      "model_module_version": "1.5.0",
      "model_name": "HTMLModel",
      "state": {
       "layout": "IPY_MODEL_27ffc11335454f2d87ab1e7e884d83c1",
       "style": "IPY_MODEL_6804c3b1c3dc40e6807e1dca1ada74ef",
       "value": " 1966/? [38:17&lt;00:00,  1.17s/it]"
      }
     },
     "1ee7524a5af1418eae37c98053b48dec": {
      "model_module": "@jupyter-widgets/base",
      "model_module_version": "1.2.0",
      "model_name": "LayoutModel",
      "state": {}
     },
     "1f29a27bc8be42c2b2452b332172dcc3": {
      "model_module": "@jupyter-widgets/controls",
      "model_module_version": "1.5.0",
      "model_name": "HBoxModel",
      "state": {
       "children": [
        "IPY_MODEL_424e456ae8da4b668ccf2b9b77ddd7a9",
        "IPY_MODEL_ef6014e90b5745b69821132f419d4af6"
       ],
       "layout": "IPY_MODEL_3e296dc9b34c4472aefe01f2d9f52d6d"
      }
     },
     "20a39846981448798d49a748d66d9d5a": {
      "model_module": "@jupyter-widgets/controls",
      "model_module_version": "1.5.0",
      "model_name": "ProgressStyleModel",
      "state": {
       "description_width": "initial"
      }
     },
     "214eb01042fc42eb800e425630fc6d78": {
      "model_module": "@jupyter-widgets/base",
      "model_module_version": "1.2.0",
      "model_name": "LayoutModel",
      "state": {}
     },
     "2169802701b34aeaaf0eebf2ea4ffcae": {
      "model_module": "@jupyter-widgets/base",
      "model_module_version": "1.2.0",
      "model_name": "LayoutModel",
      "state": {}
     },
     "2245f8329c15455a8b456e0a3ed01db7": {
      "model_module": "@jupyter-widgets/controls",
      "model_module_version": "1.5.0",
      "model_name": "HTMLModel",
      "state": {
       "layout": "IPY_MODEL_7102ff24b14444d5a473808bd8ecde56",
       "style": "IPY_MODEL_a46cb31d108a4c87a7ec839fa0dfc887",
       "value": " 1097/? [09:29&lt;00:00,  1.93it/s]"
      }
     },
     "250a7daa3380445f98628424a985d7e8": {
      "model_module": "@jupyter-widgets/controls",
      "model_module_version": "1.5.0",
      "model_name": "HTMLModel",
      "state": {
       "layout": "IPY_MODEL_34edd789af90457f9a4ebbd9fbd0e00b",
       "style": "IPY_MODEL_132443c96e074d9a9ddae48811b4e517",
       "value": " 1334/? [09:43&lt;00:00,  2.29it/s]"
      }
     },
     "27d78b02bfe8439d8b9b2b73ea8193da": {
      "model_module": "@jupyter-widgets/controls",
      "model_module_version": "1.5.0",
      "model_name": "ProgressStyleModel",
      "state": {
       "description_width": "initial"
      }
     },
     "27ffc11335454f2d87ab1e7e884d83c1": {
      "model_module": "@jupyter-widgets/base",
      "model_module_version": "1.2.0",
      "model_name": "LayoutModel",
      "state": {}
     },
     "282eff64e8904cbca22f684acb5d76cc": {
      "model_module": "@jupyter-widgets/controls",
      "model_module_version": "1.5.0",
      "model_name": "HBoxModel",
      "state": {
       "children": [
        "IPY_MODEL_bde2ba512c38402ca890e466d0fdf513",
        "IPY_MODEL_6fae37901ee2436fb921dfd593630bba"
       ],
       "layout": "IPY_MODEL_536cbc4eb85b45c393b1700e5e60086f"
      }
     },
     "291fa6cfd7f048928d6560329ccbf9cb": {
      "model_module": "@jupyter-widgets/base",
      "model_module_version": "1.2.0",
      "model_name": "LayoutModel",
      "state": {}
     },
     "2c46ecbf9fc441918f50e59636d32ed7": {
      "model_module": "@jupyter-widgets/controls",
      "model_module_version": "1.5.0",
      "model_name": "HBoxModel",
      "state": {
       "children": [
        "IPY_MODEL_9284ba60f27f4dffae115b6dbec840cd",
        "IPY_MODEL_c4945eb362b64b6883566eabb6d3ca32"
       ],
       "layout": "IPY_MODEL_a117d03ee4f344cfb9aecb7044578a99"
      }
     },
     "2cee3e3517cf412baa735eeefcbffe8c": {
      "model_module": "@jupyter-widgets/base",
      "model_module_version": "1.2.0",
      "model_name": "LayoutModel",
      "state": {}
     },
     "2d0da3e64ff845aa90dc0358b357749f": {
      "model_module": "@jupyter-widgets/controls",
      "model_module_version": "1.5.0",
      "model_name": "DescriptionStyleModel",
      "state": {
       "description_width": ""
      }
     },
     "2d80bc12d9ff45c78c36c831dfecc026": {
      "model_module": "@jupyter-widgets/controls",
      "model_module_version": "1.5.0",
      "model_name": "IntProgressModel",
      "state": {
       "bar_style": "success",
       "layout": "IPY_MODEL_0c7c1a68f7114b05b87f37ba631def87",
       "max": 1,
       "style": "IPY_MODEL_d7206dc0e79e40cfb80e8ba18a1c8fbb",
       "value": 1
      }
     },
     "2e447652332747f9a6a51bd90e999754": {
      "model_module": "@jupyter-widgets/controls",
      "model_module_version": "1.5.0",
      "model_name": "ProgressStyleModel",
      "state": {
       "description_width": "initial"
      }
     },
     "30469ce7ad254637bb466aa331e46635": {
      "model_module": "@jupyter-widgets/base",
      "model_module_version": "1.2.0",
      "model_name": "LayoutModel",
      "state": {}
     },
     "304e06c7c8e44bf6bf5c6d5d55f8685c": {
      "model_module": "@jupyter-widgets/base",
      "model_module_version": "1.2.0",
      "model_name": "LayoutModel",
      "state": {}
     },
     "31e9be71aa474f8fb924a245fe693bdf": {
      "model_module": "@jupyter-widgets/base",
      "model_module_version": "1.2.0",
      "model_name": "LayoutModel",
      "state": {}
     },
     "3237f9291e744082905ee5e67da84901": {
      "model_module": "@jupyter-widgets/controls",
      "model_module_version": "1.5.0",
      "model_name": "IntProgressModel",
      "state": {
       "bar_style": "danger",
       "layout": "IPY_MODEL_95f04c32d7f946a5b142a3f983426f0b",
       "max": 1,
       "style": "IPY_MODEL_10ac4d8ccf2c46bca12fb727930acb4f"
      }
     },
     "33e503da1a114dd088e80e6481228ec6": {
      "model_module": "@jupyter-widgets/base",
      "model_module_version": "1.2.0",
      "model_name": "LayoutModel",
      "state": {}
     },
     "34edd789af90457f9a4ebbd9fbd0e00b": {
      "model_module": "@jupyter-widgets/base",
      "model_module_version": "1.2.0",
      "model_name": "LayoutModel",
      "state": {}
     },
     "367040f391034f4fa831248bfe66620f": {
      "model_module": "@jupyter-widgets/base",
      "model_module_version": "1.2.0",
      "model_name": "LayoutModel",
      "state": {}
     },
     "379dc48d2dae4cb5ae4e8bea4af9c148": {
      "model_module": "@jupyter-widgets/base",
      "model_module_version": "1.2.0",
      "model_name": "LayoutModel",
      "state": {}
     },
     "387c5a7153374bdea6023884a301e3f8": {
      "model_module": "@jupyter-widgets/base",
      "model_module_version": "1.2.0",
      "model_name": "LayoutModel",
      "state": {}
     },
     "39795d8108d74c758114857cda91edbb": {
      "model_module": "@jupyter-widgets/controls",
      "model_module_version": "1.5.0",
      "model_name": "HTMLModel",
      "state": {
       "layout": "IPY_MODEL_8b0a6ae1d3dd408aa3758b9f6254f44c",
       "style": "IPY_MODEL_621ecbacda6844c782c53a8a9509d097",
       "value": " 1334/? [01:03&lt;00:00, 21.01it/s]"
      }
     },
     "398802c10b7242a4a564e50dbf105f7a": {
      "model_module": "@jupyter-widgets/controls",
      "model_module_version": "1.5.0",
      "model_name": "IntProgressModel",
      "state": {
       "bar_style": "danger",
       "layout": "IPY_MODEL_e173949fb14c4e6f8fadb04bf920dc24",
       "max": 1,
       "style": "IPY_MODEL_27d78b02bfe8439d8b9b2b73ea8193da"
      }
     },
     "3e296dc9b34c4472aefe01f2d9f52d6d": {
      "model_module": "@jupyter-widgets/base",
      "model_module_version": "1.2.0",
      "model_name": "LayoutModel",
      "state": {}
     },
     "3fbf49883e5c475a95e82e95e80958cc": {
      "model_module": "@jupyter-widgets/base",
      "model_module_version": "1.2.0",
      "model_name": "LayoutModel",
      "state": {}
     },
     "424e456ae8da4b668ccf2b9b77ddd7a9": {
      "model_module": "@jupyter-widgets/controls",
      "model_module_version": "1.5.0",
      "model_name": "IntProgressModel",
      "state": {
       "bar_style": "success",
       "layout": "IPY_MODEL_4ef60444fef742e0b45ef164fde3401b",
       "max": 1,
       "style": "IPY_MODEL_eda48863e8094b81b9354b7a819c0d86",
       "value": 1
      }
     },
     "447d15f35bd046a0baf88118640257db": {
      "model_module": "@jupyter-widgets/controls",
      "model_module_version": "1.5.0",
      "model_name": "HBoxModel",
      "state": {
       "children": [
        "IPY_MODEL_6cf0e58cb8b944abaac33e1143062932",
        "IPY_MODEL_bd8410fdb8164906a08fc8c00d6f9de2"
       ],
       "layout": "IPY_MODEL_3fbf49883e5c475a95e82e95e80958cc"
      }
     },
     "45f0a4b9e8f44f188d2bad7d18fb49c8": {
      "model_module": "@jupyter-widgets/base",
      "model_module_version": "1.2.0",
      "model_name": "LayoutModel",
      "state": {}
     },
     "473487f43b734668a28e6c507c7e4ddf": {
      "model_module": "@jupyter-widgets/controls",
      "model_module_version": "1.5.0",
      "model_name": "ProgressStyleModel",
      "state": {
       "description_width": "initial"
      }
     },
     "48e15ec98d804d0b8f2959d2af71d971": {
      "model_module": "@jupyter-widgets/controls",
      "model_module_version": "1.5.0",
      "model_name": "ProgressStyleModel",
      "state": {
       "description_width": "initial"
      }
     },
     "491f3bb35fe04765bca4ad3a5c9deb8c": {
      "model_module": "@jupyter-widgets/controls",
      "model_module_version": "1.5.0",
      "model_name": "HBoxModel",
      "state": {
       "children": [
        "IPY_MODEL_da18a3b20e384d38a86309cbfe1ea439",
        "IPY_MODEL_84862fe6aa714368a8f00b97ab8c4d24"
       ],
       "layout": "IPY_MODEL_895d6fa68d984909b8e1a4898cefb70b"
      }
     },
     "49afbb31f9474a07a06ad579a5d4aac3": {
      "model_module": "@jupyter-widgets/base",
      "model_module_version": "1.2.0",
      "model_name": "LayoutModel",
      "state": {}
     },
     "4e9e91b8c63d40349d6b883c6aac4ffc": {
      "model_module": "@jupyter-widgets/controls",
      "model_module_version": "1.5.0",
      "model_name": "ProgressStyleModel",
      "state": {
       "description_width": "initial"
      }
     },
     "4ef60444fef742e0b45ef164fde3401b": {
      "model_module": "@jupyter-widgets/base",
      "model_module_version": "1.2.0",
      "model_name": "LayoutModel",
      "state": {}
     },
     "50127a4d9b1048308bb8c4aaceecdf16": {
      "model_module": "@jupyter-widgets/base",
      "model_module_version": "1.2.0",
      "model_name": "LayoutModel",
      "state": {}
     },
     "506fc7382777469f87c4c5b54bb44435": {
      "model_module": "@jupyter-widgets/controls",
      "model_module_version": "1.5.0",
      "model_name": "HTMLModel",
      "state": {
       "layout": "IPY_MODEL_49afbb31f9474a07a06ad579a5d4aac3",
       "style": "IPY_MODEL_f27016c8d4d84ccaa72967e4f6ed701d",
       "value": " 1334/? [33:59&lt;00:00,  1.53s/it]"
      }
     },
     "50fdeef4d6cb49cd8082bab1300e4c80": {
      "model_module": "@jupyter-widgets/base",
      "model_module_version": "1.2.0",
      "model_name": "LayoutModel",
      "state": {}
     },
     "5307410cd5304204818fb4c7e3715f8d": {
      "model_module": "@jupyter-widgets/base",
      "model_module_version": "1.2.0",
      "model_name": "LayoutModel",
      "state": {}
     },
     "536cbc4eb85b45c393b1700e5e60086f": {
      "model_module": "@jupyter-widgets/base",
      "model_module_version": "1.2.0",
      "model_name": "LayoutModel",
      "state": {}
     },
     "53be45385d0e4e9086c131a72aab54d7": {
      "model_module": "@jupyter-widgets/base",
      "model_module_version": "1.2.0",
      "model_name": "LayoutModel",
      "state": {}
     },
     "543a0239c8df4a26bff204a8fdc7ef52": {
      "model_module": "@jupyter-widgets/controls",
      "model_module_version": "1.5.0",
      "model_name": "IntProgressModel",
      "state": {
       "bar_style": "danger",
       "layout": "IPY_MODEL_387c5a7153374bdea6023884a301e3f8",
       "max": 1,
       "style": "IPY_MODEL_e4fa8e28fb9a41229f9e719fb75fffdb"
      }
     },
     "54cfda5a51c141d78154a02fb8bd1730": {
      "model_module": "@jupyter-widgets/base",
      "model_module_version": "1.2.0",
      "model_name": "LayoutModel",
      "state": {}
     },
     "58559ba105024c9ba87a3fc97caf8d68": {
      "model_module": "@jupyter-widgets/base",
      "model_module_version": "1.2.0",
      "model_name": "LayoutModel",
      "state": {}
     },
     "5b50c6c55c41476a9812f0541d8b17d6": {
      "model_module": "@jupyter-widgets/base",
      "model_module_version": "1.2.0",
      "model_name": "LayoutModel",
      "state": {}
     },
     "5cf234e46fcd4e27bf9c51bd12716d4a": {
      "model_module": "@jupyter-widgets/controls",
      "model_module_version": "1.5.0",
      "model_name": "ProgressStyleModel",
      "state": {
       "description_width": "initial"
      }
     },
     "621ecbacda6844c782c53a8a9509d097": {
      "model_module": "@jupyter-widgets/controls",
      "model_module_version": "1.5.0",
      "model_name": "DescriptionStyleModel",
      "state": {
       "description_width": ""
      }
     },
     "629eb2d1efd84ea38f91a03dfc6a5323": {
      "model_module": "@jupyter-widgets/controls",
      "model_module_version": "1.5.0",
      "model_name": "DescriptionStyleModel",
      "state": {
       "description_width": ""
      }
     },
     "665395be92ab44bcb85fb9284dc91aab": {
      "model_module": "@jupyter-widgets/base",
      "model_module_version": "1.2.0",
      "model_name": "LayoutModel",
      "state": {}
     },
     "6804c3b1c3dc40e6807e1dca1ada74ef": {
      "model_module": "@jupyter-widgets/controls",
      "model_module_version": "1.5.0",
      "model_name": "DescriptionStyleModel",
      "state": {
       "description_width": ""
      }
     },
     "6aa97aac4c054a96a065c806efcc678e": {
      "model_module": "@jupyter-widgets/controls",
      "model_module_version": "1.5.0",
      "model_name": "ProgressStyleModel",
      "state": {
       "description_width": "initial"
      }
     },
     "6c220668b2364801b907b4c1c5b46552": {
      "model_module": "@jupyter-widgets/controls",
      "model_module_version": "1.5.0",
      "model_name": "IntProgressModel",
      "state": {
       "bar_style": "success",
       "layout": "IPY_MODEL_30469ce7ad254637bb466aa331e46635",
       "max": 1,
       "style": "IPY_MODEL_b6d6078cbbc6468b9e7649009f9bc1df",
       "value": 1
      }
     },
     "6cf0e58cb8b944abaac33e1143062932": {
      "model_module": "@jupyter-widgets/controls",
      "model_module_version": "1.5.0",
      "model_name": "IntProgressModel",
      "state": {
       "bar_style": "success",
       "layout": "IPY_MODEL_6dcf2af7b7a44592803f0b3ee0772383",
       "max": 1,
       "style": "IPY_MODEL_f12faedd278e4ec7ba3ea3ba070d3414",
       "value": 1
      }
     },
     "6d579dd52653410c92593f13b09a2c2d": {
      "model_module": "@jupyter-widgets/controls",
      "model_module_version": "1.5.0",
      "model_name": "ProgressStyleModel",
      "state": {
       "description_width": "initial"
      }
     },
     "6dcf2af7b7a44592803f0b3ee0772383": {
      "model_module": "@jupyter-widgets/base",
      "model_module_version": "1.2.0",
      "model_name": "LayoutModel",
      "state": {}
     },
     "6fae37901ee2436fb921dfd593630bba": {
      "model_module": "@jupyter-widgets/controls",
      "model_module_version": "1.5.0",
      "model_name": "HTMLModel",
      "state": {
       "layout": "IPY_MODEL_214eb01042fc42eb800e425630fc6d78",
       "style": "IPY_MODEL_ba9b692817674d0bb36173f8c4289e3e",
       "value": " 1099/? [31:12&lt;00:00,  1.70s/it]"
      }
     },
     "7102ff24b14444d5a473808bd8ecde56": {
      "model_module": "@jupyter-widgets/base",
      "model_module_version": "1.2.0",
      "model_name": "LayoutModel",
      "state": {}
     },
     "714cde46a14748cfa513d910d90aa40e": {
      "model_module": "@jupyter-widgets/controls",
      "model_module_version": "1.5.0",
      "model_name": "HTMLModel",
      "state": {
       "layout": "IPY_MODEL_f229854d827b40d3ad0a75c10e15767d",
       "style": "IPY_MODEL_d1293b8863e24f8181afcc03626e4917",
       "value": " 1334/? [01:16&lt;00:00, 17.33it/s]"
      }
     },
     "76df568e1f794a31851247716c4bb6cc": {
      "model_module": "@jupyter-widgets/controls",
      "model_module_version": "1.5.0",
      "model_name": "DescriptionStyleModel",
      "state": {
       "description_width": ""
      }
     },
     "79f4d3a4d9c349fea2055c3d50849799": {
      "model_module": "@jupyter-widgets/base",
      "model_module_version": "1.2.0",
      "model_name": "LayoutModel",
      "state": {}
     },
     "7afaca48de5d4dff81292ab14f48a8ff": {
      "model_module": "@jupyter-widgets/base",
      "model_module_version": "1.2.0",
      "model_name": "LayoutModel",
      "state": {}
     },
     "7c63c6d3d7bb42d588be9a53d8267526": {
      "model_module": "@jupyter-widgets/controls",
      "model_module_version": "1.5.0",
      "model_name": "ProgressStyleModel",
      "state": {
       "description_width": "initial"
      }
     },
     "7c68c65cefe145e288280194f369364e": {
      "model_module": "@jupyter-widgets/controls",
      "model_module_version": "1.5.0",
      "model_name": "HBoxModel",
      "state": {
       "children": [
        "IPY_MODEL_d9e1ff60219544f684e02f6ad2f035f5",
        "IPY_MODEL_113ab6d3946347bcbc4b1a1236dc4247"
       ],
       "layout": "IPY_MODEL_50fdeef4d6cb49cd8082bab1300e4c80"
      }
     },
     "7e09f3d5632b4252888c9c7ad4af27d9": {
      "model_module": "@jupyter-widgets/base",
      "model_module_version": "1.2.0",
      "model_name": "LayoutModel",
      "state": {}
     },
     "7e34e33d8e674d2ea4f5859782640f9a": {
      "model_module": "@jupyter-widgets/base",
      "model_module_version": "1.2.0",
      "model_name": "LayoutModel",
      "state": {}
     },
     "801e7080ed184220bc9a099e8f3ee792": {
      "model_module": "@jupyter-widgets/controls",
      "model_module_version": "1.5.0",
      "model_name": "HTMLModel",
      "state": {
       "layout": "IPY_MODEL_2169802701b34aeaaf0eebf2ea4ffcae",
       "style": "IPY_MODEL_2d0da3e64ff845aa90dc0358b357749f",
       "value": " 1966/? [36:18&lt;00:00,  1.11s/it]"
      }
     },
     "80e2b78410414410920dbd799ac63b41": {
      "model_module": "@jupyter-widgets/controls",
      "model_module_version": "1.5.0",
      "model_name": "IntProgressModel",
      "state": {
       "bar_style": "danger",
       "layout": "IPY_MODEL_58559ba105024c9ba87a3fc97caf8d68",
       "max": 1,
       "style": "IPY_MODEL_4e9e91b8c63d40349d6b883c6aac4ffc",
       "value": 1
      }
     },
     "810823a37a874f2582bc7b338057d4b3": {
      "model_module": "@jupyter-widgets/controls",
      "model_module_version": "1.5.0",
      "model_name": "HTMLModel",
      "state": {
       "layout": "IPY_MODEL_304e06c7c8e44bf6bf5c6d5d55f8685c",
       "style": "IPY_MODEL_8211fd6cd6494f5f93e1ee0bd2d25548",
       "value": " 690/? [04:47&lt;00:00,  2.40it/s]"
      }
     },
     "8211fd6cd6494f5f93e1ee0bd2d25548": {
      "model_module": "@jupyter-widgets/controls",
      "model_module_version": "1.5.0",
      "model_name": "DescriptionStyleModel",
      "state": {
       "description_width": ""
      }
     },
     "84862fe6aa714368a8f00b97ab8c4d24": {
      "model_module": "@jupyter-widgets/controls",
      "model_module_version": "1.5.0",
      "model_name": "HTMLModel",
      "state": {
       "layout": "IPY_MODEL_665395be92ab44bcb85fb9284dc91aab",
       "style": "IPY_MODEL_974df232f48e49fcb7233f87bf3b7926",
       "value": " 1334/? [24:36&lt;00:00,  1.11s/it]"
      }
     },
     "895d6fa68d984909b8e1a4898cefb70b": {
      "model_module": "@jupyter-widgets/base",
      "model_module_version": "1.2.0",
      "model_name": "LayoutModel",
      "state": {}
     },
     "8b0a6ae1d3dd408aa3758b9f6254f44c": {
      "model_module": "@jupyter-widgets/base",
      "model_module_version": "1.2.0",
      "model_name": "LayoutModel",
      "state": {}
     },
     "8eb78565f42545d98cfb18a1cd8fc508": {
      "model_module": "@jupyter-widgets/controls",
      "model_module_version": "1.5.0",
      "model_name": "ProgressStyleModel",
      "state": {
       "description_width": "initial"
      }
     },
     "8f99064cccc245539338a8c7795fdcc5": {
      "model_module": "@jupyter-widgets/controls",
      "model_module_version": "1.5.0",
      "model_name": "HBoxModel",
      "state": {
       "children": [
        "IPY_MODEL_16008833e9af47928cfbdbc8e789a875",
        "IPY_MODEL_250a7daa3380445f98628424a985d7e8"
       ],
       "layout": "IPY_MODEL_53be45385d0e4e9086c131a72aab54d7"
      }
     },
     "91ac7fe5c6df4de3a84687b700af7d27": {
      "model_module": "@jupyter-widgets/base",
      "model_module_version": "1.2.0",
      "model_name": "LayoutModel",
      "state": {}
     },
     "9284ba60f27f4dffae115b6dbec840cd": {
      "model_module": "@jupyter-widgets/controls",
      "model_module_version": "1.5.0",
      "model_name": "IntProgressModel",
      "state": {
       "bar_style": "success",
       "layout": "IPY_MODEL_cb61bfabc26f4462a2656042606e67bc",
       "max": 1,
       "style": "IPY_MODEL_6d579dd52653410c92593f13b09a2c2d",
       "value": 1
      }
     },
     "95f04c32d7f946a5b142a3f983426f0b": {
      "model_module": "@jupyter-widgets/base",
      "model_module_version": "1.2.0",
      "model_name": "LayoutModel",
      "state": {}
     },
     "95f4ce8d60de49cb83c3f9ee48605c22": {
      "model_module": "@jupyter-widgets/base",
      "model_module_version": "1.2.0",
      "model_name": "LayoutModel",
      "state": {}
     },
     "974df232f48e49fcb7233f87bf3b7926": {
      "model_module": "@jupyter-widgets/controls",
      "model_module_version": "1.5.0",
      "model_name": "DescriptionStyleModel",
      "state": {
       "description_width": ""
      }
     },
     "997f2707a7ca4776a152c2588d1d4647": {
      "model_module": "@jupyter-widgets/controls",
      "model_module_version": "1.5.0",
      "model_name": "HBoxModel",
      "state": {
       "children": [
        "IPY_MODEL_a23fad7b4f5948b1991b070c7389b992",
        "IPY_MODEL_506fc7382777469f87c4c5b54bb44435"
       ],
       "layout": "IPY_MODEL_31e9be71aa474f8fb924a245fe693bdf"
      }
     },
     "9a3a50f79db044e29ad551a2839d7076": {
      "model_module": "@jupyter-widgets/base",
      "model_module_version": "1.2.0",
      "model_name": "LayoutModel",
      "state": {}
     },
     "9b85b095e0be4ed79700f9ac54b5e3e4": {
      "model_module": "@jupyter-widgets/base",
      "model_module_version": "1.2.0",
      "model_name": "LayoutModel",
      "state": {}
     },
     "a117d03ee4f344cfb9aecb7044578a99": {
      "model_module": "@jupyter-widgets/base",
      "model_module_version": "1.2.0",
      "model_name": "LayoutModel",
      "state": {}
     },
     "a23fad7b4f5948b1991b070c7389b992": {
      "model_module": "@jupyter-widgets/controls",
      "model_module_version": "1.5.0",
      "model_name": "IntProgressModel",
      "state": {
       "bar_style": "success",
       "layout": "IPY_MODEL_1c2e32184e764155aee3c4bdb9398f4f",
       "max": 1,
       "style": "IPY_MODEL_097d205530594512b4b8d5751916df9e",
       "value": 1
      }
     },
     "a278f2c38ec1483f9af8ef8ade37604f": {
      "model_module": "@jupyter-widgets/controls",
      "model_module_version": "1.5.0",
      "model_name": "HBoxModel",
      "state": {
       "children": [
        "IPY_MODEL_80e2b78410414410920dbd799ac63b41",
        "IPY_MODEL_810823a37a874f2582bc7b338057d4b3"
       ],
       "layout": "IPY_MODEL_1dbb9e24f820442292d14933c861e00f"
      }
     },
     "a46cb31d108a4c87a7ec839fa0dfc887": {
      "model_module": "@jupyter-widgets/controls",
      "model_module_version": "1.5.0",
      "model_name": "DescriptionStyleModel",
      "state": {
       "description_width": ""
      }
     },
     "a9ffb269d9d84c829db4f043a30d9838": {
      "model_module": "@jupyter-widgets/controls",
      "model_module_version": "1.5.0",
      "model_name": "HBoxModel",
      "state": {
       "children": [
        "IPY_MODEL_6c220668b2364801b907b4c1c5b46552",
        "IPY_MODEL_bbf334b18ad64645824e44ef4a8bc850"
       ],
       "layout": "IPY_MODEL_141cd83f84c64ab8b2312f69b999ae91"
      }
     },
     "ab01d556c1334031aca19ac64a9a87cd": {
      "model_module": "@jupyter-widgets/controls",
      "model_module_version": "1.5.0",
      "model_name": "HBoxModel",
      "state": {
       "children": [
        "IPY_MODEL_ad3b597bcf0f4a55980236c0efd63534",
        "IPY_MODEL_2245f8329c15455a8b456e0a3ed01db7"
       ],
       "layout": "IPY_MODEL_7e09f3d5632b4252888c9c7ad4af27d9"
      }
     },
     "ac6d39c373224417ba8e6a41a5419752": {
      "model_module": "@jupyter-widgets/controls",
      "model_module_version": "1.5.0",
      "model_name": "HTMLModel",
      "state": {
       "layout": "IPY_MODEL_95f4ce8d60de49cb83c3f9ee48605c22",
       "style": "IPY_MODEL_d06b0520b5ef4e339d64dd1bb309c8df",
       "value": " 1334/? [29:07&lt;00:00,  1.31s/it]"
      }
     },
     "ad3b597bcf0f4a55980236c0efd63534": {
      "model_module": "@jupyter-widgets/controls",
      "model_module_version": "1.5.0",
      "model_name": "IntProgressModel",
      "state": {
       "bar_style": "danger",
       "layout": "IPY_MODEL_031e2c07687f4313b213c1e409eb3cd7",
       "max": 1,
       "style": "IPY_MODEL_48e15ec98d804d0b8f2959d2af71d971",
       "value": 1
      }
     },
     "ad6fcc99708444f58f651a874fe53769": {
      "model_module": "@jupyter-widgets/controls",
      "model_module_version": "1.5.0",
      "model_name": "HBoxModel",
      "state": {
       "children": [
        "IPY_MODEL_10267ee604c2420699d3cacf4c7fc692",
        "IPY_MODEL_714cde46a14748cfa513d910d90aa40e"
       ],
       "layout": "IPY_MODEL_dfd16cf9339f4869b92878960c7df640"
      }
     },
     "ae695599e8e84fcfa6fa41793480d6b4": {
      "model_module": "@jupyter-widgets/controls",
      "model_module_version": "1.5.0",
      "model_name": "HBoxModel",
      "state": {
       "children": [
        "IPY_MODEL_398802c10b7242a4a564e50dbf105f7a",
        "IPY_MODEL_cb073e18807442c9accc565ca5e03a2b"
       ],
       "layout": "IPY_MODEL_e9b781a90c2c403a86fb86ec72b80c6a"
      }
     },
     "b02ee55309de42ac875cd7c46c15ca0d": {
      "model_module": "@jupyter-widgets/controls",
      "model_module_version": "1.5.0",
      "model_name": "HBoxModel",
      "state": {
       "children": [
        "IPY_MODEL_db59ed40fff14493b724acde6d8cba0b",
        "IPY_MODEL_ac6d39c373224417ba8e6a41a5419752"
       ],
       "layout": "IPY_MODEL_5b50c6c55c41476a9812f0541d8b17d6"
      }
     },
     "b17b96227ffd4da0aca0806a2f6678cd": {
      "model_module": "@jupyter-widgets/controls",
      "model_module_version": "1.5.0",
      "model_name": "DescriptionStyleModel",
      "state": {
       "description_width": ""
      }
     },
     "b491d338b04b4cc6aee8362878a51496": {
      "model_module": "@jupyter-widgets/controls",
      "model_module_version": "1.5.0",
      "model_name": "HBoxModel",
      "state": {
       "children": [
        "IPY_MODEL_f050ce118d894b859f5db522751c4db6",
        "IPY_MODEL_801e7080ed184220bc9a099e8f3ee792"
       ],
       "layout": "IPY_MODEL_08a2598554cc4384b0de1d29c2fed37e"
      }
     },
     "b61bbf7ea3804b2b97833266015bc8c5": {
      "model_module": "@jupyter-widgets/controls",
      "model_module_version": "1.5.0",
      "model_name": "HTMLModel",
      "state": {
       "layout": "IPY_MODEL_ba7541a85e9f472199537b1662443431",
       "style": "IPY_MODEL_f6ff7f5409544e989becd01c0cff0d80",
       "value": " 0/? [05:21&lt;?, ?it/s]"
      }
     },
     "b6d6078cbbc6468b9e7649009f9bc1df": {
      "model_module": "@jupyter-widgets/controls",
      "model_module_version": "1.5.0",
      "model_name": "ProgressStyleModel",
      "state": {
       "description_width": "initial"
      }
     },
     "ba7541a85e9f472199537b1662443431": {
      "model_module": "@jupyter-widgets/base",
      "model_module_version": "1.2.0",
      "model_name": "LayoutModel",
      "state": {}
     },
     "ba9b692817674d0bb36173f8c4289e3e": {
      "model_module": "@jupyter-widgets/controls",
      "model_module_version": "1.5.0",
      "model_name": "DescriptionStyleModel",
      "state": {
       "description_width": ""
      }
     },
     "bbf334b18ad64645824e44ef4a8bc850": {
      "model_module": "@jupyter-widgets/controls",
      "model_module_version": "1.5.0",
      "model_name": "HTMLModel",
      "state": {
       "layout": "IPY_MODEL_0decb603d3cd480a83982ab8bf715b60",
       "style": "IPY_MODEL_b17b96227ffd4da0aca0806a2f6678cd",
       "value": " 1334/? [02:29&lt;00:00,  8.94it/s]"
      }
     },
     "bd8410fdb8164906a08fc8c00d6f9de2": {
      "model_module": "@jupyter-widgets/controls",
      "model_module_version": "1.5.0",
      "model_name": "HTMLModel",
      "state": {
       "layout": "IPY_MODEL_367040f391034f4fa831248bfe66620f",
       "style": "IPY_MODEL_db6137da45524569ac0a0d3443fe6c15",
       "value": " 1334/? [02:16&lt;00:00,  9.76it/s]"
      }
     },
     "bde2ba512c38402ca890e466d0fdf513": {
      "model_module": "@jupyter-widgets/controls",
      "model_module_version": "1.5.0",
      "model_name": "IntProgressModel",
      "state": {
       "bar_style": "danger",
       "layout": "IPY_MODEL_1ee7524a5af1418eae37c98053b48dec",
       "max": 1,
       "style": "IPY_MODEL_20a39846981448798d49a748d66d9d5a",
       "value": 1
      }
     },
     "c4945eb362b64b6883566eabb6d3ca32": {
      "model_module": "@jupyter-widgets/controls",
      "model_module_version": "1.5.0",
      "model_name": "HTMLModel",
      "state": {
       "layout": "IPY_MODEL_54cfda5a51c141d78154a02fb8bd1730",
       "style": "IPY_MODEL_1bcdda7e6bdf4d9cab325fdafde5aaad",
       "value": " 1334/? [01:39&lt;00:00, 13.36it/s]"
      }
     },
     "c502afb2e5784dde9b5a53b13f687d5b": {
      "model_module": "@jupyter-widgets/controls",
      "model_module_version": "1.5.0",
      "model_name": "DescriptionStyleModel",
      "state": {
       "description_width": ""
      }
     },
     "ca169099e5c34434b7b7a3ae54a43048": {
      "model_module": "@jupyter-widgets/base",
      "model_module_version": "1.2.0",
      "model_name": "LayoutModel",
      "state": {}
     },
     "ca66d848800a4f5ca52c1bb7602ec31d": {
      "model_module": "@jupyter-widgets/controls",
      "model_module_version": "1.5.0",
      "model_name": "HTMLModel",
      "state": {
       "layout": "IPY_MODEL_ee67a14d395543628344faa2dd2d6d65",
       "style": "IPY_MODEL_c502afb2e5784dde9b5a53b13f687d5b",
       "value": " 1102/? [44:34&lt;00:00,  2.43s/it]"
      }
     },
     "cb073e18807442c9accc565ca5e03a2b": {
      "model_module": "@jupyter-widgets/controls",
      "model_module_version": "1.5.0",
      "model_name": "HTMLModel",
      "state": {
       "layout": "IPY_MODEL_79f4d3a4d9c349fea2055c3d50849799",
       "style": "IPY_MODEL_76df568e1f794a31851247716c4bb6cc",
       "value": " 0/? [01:07&lt;?, ?it/s]"
      }
     },
     "cb14addcaeff45acba0f552d0990dc92": {
      "model_module": "@jupyter-widgets/base",
      "model_module_version": "1.2.0",
      "model_name": "LayoutModel",
      "state": {}
     },
     "cb40957551794852be8131eedcbca723": {
      "model_module": "@jupyter-widgets/controls",
      "model_module_version": "1.5.0",
      "model_name": "IntProgressModel",
      "state": {
       "bar_style": "success",
       "layout": "IPY_MODEL_91ac7fe5c6df4de3a84687b700af7d27",
       "max": 1,
       "style": "IPY_MODEL_8eb78565f42545d98cfb18a1cd8fc508",
       "value": 1
      }
     },
     "cb61bfabc26f4462a2656042606e67bc": {
      "model_module": "@jupyter-widgets/base",
      "model_module_version": "1.2.0",
      "model_name": "LayoutModel",
      "state": {}
     },
     "ce7a43e708b947ec9bf325fe3d38587f": {
      "model_module": "@jupyter-widgets/controls",
      "model_module_version": "1.5.0",
      "model_name": "HTMLModel",
      "state": {
       "layout": "IPY_MODEL_7e34e33d8e674d2ea4f5859782640f9a",
       "style": "IPY_MODEL_fce1eefa338544cc906d8dce682d4d65",
       "value": " 0/? [01:12&lt;?, ?it/s]"
      }
     },
     "cf41caa1cb8f4b089fe2d82f8c33370c": {
      "model_module": "@jupyter-widgets/controls",
      "model_module_version": "1.5.0",
      "model_name": "HBoxModel",
      "state": {
       "children": [
        "IPY_MODEL_0dcc45559a564358961b15ccf893eda1",
        "IPY_MODEL_1de529454daa4bbe80c761295cbf12f4"
       ],
       "layout": "IPY_MODEL_5307410cd5304204818fb4c7e3715f8d"
      }
     },
     "d06b0520b5ef4e339d64dd1bb309c8df": {
      "model_module": "@jupyter-widgets/controls",
      "model_module_version": "1.5.0",
      "model_name": "DescriptionStyleModel",
      "state": {
       "description_width": ""
      }
     },
     "d1293b8863e24f8181afcc03626e4917": {
      "model_module": "@jupyter-widgets/controls",
      "model_module_version": "1.5.0",
      "model_name": "DescriptionStyleModel",
      "state": {
       "description_width": ""
      }
     },
     "d1ceb0e28ca8413c8801ab8740071118": {
      "model_module": "@jupyter-widgets/controls",
      "model_module_version": "1.5.0",
      "model_name": "ProgressStyleModel",
      "state": {
       "description_width": "initial"
      }
     },
     "d7206dc0e79e40cfb80e8ba18a1c8fbb": {
      "model_module": "@jupyter-widgets/controls",
      "model_module_version": "1.5.0",
      "model_name": "ProgressStyleModel",
      "state": {
       "description_width": "initial"
      }
     },
     "d9e1ff60219544f684e02f6ad2f035f5": {
      "model_module": "@jupyter-widgets/controls",
      "model_module_version": "1.5.0",
      "model_name": "IntProgressModel",
      "state": {
       "bar_style": "success",
       "layout": "IPY_MODEL_2cee3e3517cf412baa735eeefcbffe8c",
       "max": 1,
       "style": "IPY_MODEL_6aa97aac4c054a96a065c806efcc678e",
       "value": 1
      }
     },
     "da18a3b20e384d38a86309cbfe1ea439": {
      "model_module": "@jupyter-widgets/controls",
      "model_module_version": "1.5.0",
      "model_name": "IntProgressModel",
      "state": {
       "bar_style": "success",
       "layout": "IPY_MODEL_cb14addcaeff45acba0f552d0990dc92",
       "max": 1,
       "style": "IPY_MODEL_d1ceb0e28ca8413c8801ab8740071118",
       "value": 1
      }
     },
     "db59ed40fff14493b724acde6d8cba0b": {
      "model_module": "@jupyter-widgets/controls",
      "model_module_version": "1.5.0",
      "model_name": "IntProgressModel",
      "state": {
       "bar_style": "success",
       "layout": "IPY_MODEL_7afaca48de5d4dff81292ab14f48a8ff",
       "max": 1,
       "style": "IPY_MODEL_473487f43b734668a28e6c507c7e4ddf",
       "value": 1
      }
     },
     "db6137da45524569ac0a0d3443fe6c15": {
      "model_module": "@jupyter-widgets/controls",
      "model_module_version": "1.5.0",
      "model_name": "DescriptionStyleModel",
      "state": {
       "description_width": ""
      }
     },
     "dfd16cf9339f4869b92878960c7df640": {
      "model_module": "@jupyter-widgets/base",
      "model_module_version": "1.2.0",
      "model_name": "LayoutModel",
      "state": {}
     },
     "e0c27a94c3844c42acb5a76152e9e5c5": {
      "model_module": "@jupyter-widgets/base",
      "model_module_version": "1.2.0",
      "model_name": "LayoutModel",
      "state": {}
     },
     "e173949fb14c4e6f8fadb04bf920dc24": {
      "model_module": "@jupyter-widgets/base",
      "model_module_version": "1.2.0",
      "model_name": "LayoutModel",
      "state": {}
     },
     "e30c91517b4f49e08739e44612ee2f51": {
      "model_module": "@jupyter-widgets/controls",
      "model_module_version": "1.5.0",
      "model_name": "DescriptionStyleModel",
      "state": {
       "description_width": ""
      }
     },
     "e4fa8e28fb9a41229f9e719fb75fffdb": {
      "model_module": "@jupyter-widgets/controls",
      "model_module_version": "1.5.0",
      "model_name": "ProgressStyleModel",
      "state": {
       "description_width": "initial"
      }
     },
     "e74a1b9363054f42a6909151481d2b27": {
      "model_module": "@jupyter-widgets/controls",
      "model_module_version": "1.5.0",
      "model_name": "ProgressStyleModel",
      "state": {
       "description_width": "initial"
      }
     },
     "e96943a110e149889c952aaf39686566": {
      "model_module": "@jupyter-widgets/controls",
      "model_module_version": "1.5.0",
      "model_name": "HTMLModel",
      "state": {
       "layout": "IPY_MODEL_33e503da1a114dd088e80e6481228ec6",
       "style": "IPY_MODEL_e30c91517b4f49e08739e44612ee2f51",
       "value": " 1334/? [24:47&lt;00:00,  1.12s/it]"
      }
     },
     "e9b781a90c2c403a86fb86ec72b80c6a": {
      "model_module": "@jupyter-widgets/base",
      "model_module_version": "1.2.0",
      "model_name": "LayoutModel",
      "state": {}
     },
     "e9c0b657263e4f31a7db2e4b48213261": {
      "model_module": "@jupyter-widgets/controls",
      "model_module_version": "1.5.0",
      "model_name": "HBoxModel",
      "state": {
       "children": [
        "IPY_MODEL_cb40957551794852be8131eedcbca723",
        "IPY_MODEL_39795d8108d74c758114857cda91edbb"
       ],
       "layout": "IPY_MODEL_fd45e798859d4c93849375c4130efbca"
      }
     },
     "ea0a5cf3b68b4d10a039fb2f7c2c10cf": {
      "model_module": "@jupyter-widgets/base",
      "model_module_version": "1.2.0",
      "model_name": "LayoutModel",
      "state": {}
     },
     "eab69e088dba4646951dbc7150856b0c": {
      "model_module": "@jupyter-widgets/controls",
      "model_module_version": "1.5.0",
      "model_name": "HBoxModel",
      "state": {
       "children": [
        "IPY_MODEL_3237f9291e744082905ee5e67da84901",
        "IPY_MODEL_ce7a43e708b947ec9bf325fe3d38587f"
       ],
       "layout": "IPY_MODEL_9a3a50f79db044e29ad551a2839d7076"
      }
     },
     "eda48863e8094b81b9354b7a819c0d86": {
      "model_module": "@jupyter-widgets/controls",
      "model_module_version": "1.5.0",
      "model_name": "ProgressStyleModel",
      "state": {
       "description_width": "initial"
      }
     },
     "ee67a14d395543628344faa2dd2d6d65": {
      "model_module": "@jupyter-widgets/base",
      "model_module_version": "1.2.0",
      "model_name": "LayoutModel",
      "state": {}
     },
     "ef6014e90b5745b69821132f419d4af6": {
      "model_module": "@jupyter-widgets/controls",
      "model_module_version": "1.5.0",
      "model_name": "HTMLModel",
      "state": {
       "layout": "IPY_MODEL_f4cb900c2fca47df8347e2cac3fdb6c0",
       "style": "IPY_MODEL_629eb2d1efd84ea38f91a03dfc6a5323",
       "value": " 1334/? [25:23&lt;00:00,  1.14s/it]"
      }
     },
     "f050ce118d894b859f5db522751c4db6": {
      "model_module": "@jupyter-widgets/controls",
      "model_module_version": "1.5.0",
      "model_name": "IntProgressModel",
      "state": {
       "bar_style": "success",
       "layout": "IPY_MODEL_f17e9e21a15c4d9ba8991ffc573c78bb",
       "max": 1,
       "style": "IPY_MODEL_e74a1b9363054f42a6909151481d2b27",
       "value": 1
      }
     },
     "f12faedd278e4ec7ba3ea3ba070d3414": {
      "model_module": "@jupyter-widgets/controls",
      "model_module_version": "1.5.0",
      "model_name": "ProgressStyleModel",
      "state": {
       "description_width": "initial"
      }
     },
     "f17e9e21a15c4d9ba8991ffc573c78bb": {
      "model_module": "@jupyter-widgets/base",
      "model_module_version": "1.2.0",
      "model_name": "LayoutModel",
      "state": {}
     },
     "f229854d827b40d3ad0a75c10e15767d": {
      "model_module": "@jupyter-widgets/base",
      "model_module_version": "1.2.0",
      "model_name": "LayoutModel",
      "state": {}
     },
     "f27016c8d4d84ccaa72967e4f6ed701d": {
      "model_module": "@jupyter-widgets/controls",
      "model_module_version": "1.5.0",
      "model_name": "DescriptionStyleModel",
      "state": {
       "description_width": ""
      }
     },
     "f4cb900c2fca47df8347e2cac3fdb6c0": {
      "model_module": "@jupyter-widgets/base",
      "model_module_version": "1.2.0",
      "model_name": "LayoutModel",
      "state": {}
     },
     "f6ff7f5409544e989becd01c0cff0d80": {
      "model_module": "@jupyter-widgets/controls",
      "model_module_version": "1.5.0",
      "model_name": "DescriptionStyleModel",
      "state": {
       "description_width": ""
      }
     },
     "f98deef6cc544442a0e9e4fd85a06255": {
      "model_module": "@jupyter-widgets/controls",
      "model_module_version": "1.5.0",
      "model_name": "HBoxModel",
      "state": {
       "children": [
        "IPY_MODEL_15c7ffa1b69a4919ab9a0acfdb7b3180",
        "IPY_MODEL_ca66d848800a4f5ca52c1bb7602ec31d"
       ],
       "layout": "IPY_MODEL_e0c27a94c3844c42acb5a76152e9e5c5"
      }
     },
     "fbf84f9fd2f444d58c06ce47fb28d940": {
      "model_module": "@jupyter-widgets/controls",
      "model_module_version": "1.5.0",
      "model_name": "DescriptionStyleModel",
      "state": {
       "description_width": ""
      }
     },
     "fce1eefa338544cc906d8dce682d4d65": {
      "model_module": "@jupyter-widgets/controls",
      "model_module_version": "1.5.0",
      "model_name": "DescriptionStyleModel",
      "state": {
       "description_width": ""
      }
     },
     "fd45e798859d4c93849375c4130efbca": {
      "model_module": "@jupyter-widgets/base",
      "model_module_version": "1.2.0",
      "model_name": "LayoutModel",
      "state": {}
     }
    },
    "version_major": 2,
    "version_minor": 0
   }
  }
 },
 "nbformat": 4,
 "nbformat_minor": 2
}
